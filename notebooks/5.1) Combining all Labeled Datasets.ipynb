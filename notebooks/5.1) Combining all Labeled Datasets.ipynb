{
 "cells": [
  {
   "cell_type": "markdown",
   "metadata": {},
   "source": [
    "## Combining all Labelled Dataset into a single Corpus"
   ]
  },
  {
   "cell_type": "markdown",
   "metadata": {},
   "source": [
    "### Import Libraries"
   ]
  },
  {
   "cell_type": "code",
   "execution_count": 18,
   "metadata": {},
   "outputs": [],
   "source": [
    "import pandas as pd\n",
    "import ast\n",
    "import warnings\n",
    "from tqdm.notebook import tqdm\n",
    "warnings.filterwarnings('ignore')\n",
    "tqdm.pandas()"
   ]
  },
  {
   "cell_type": "markdown",
   "metadata": {},
   "source": [
    "Code to change progress bar color to dark from tqdm."
   ]
  },
  {
   "cell_type": "code",
   "execution_count": 2,
   "metadata": {},
   "outputs": [
    {
     "data": {
      "text/html": [
       "<style>\n",
       ".cell-output-ipywidget-background {\n",
       "    background-color: transparent !important;\n",
       "}\n",
       ":root {\n",
       "    --jp-widgets-color: var(--vscode-editor-foreground);\n",
       "    --jp-widgets-font-size: var(--vscode-editor-font-size);\n",
       "}  \n"
      ],
      "text/plain": [
       "<IPython.core.display.HTML object>"
      ]
     },
     "metadata": {},
     "output_type": "display_data"
    }
   ],
   "source": [
    "%%html\n",
    "<style>\n",
    ".cell-output-ipywidget-background {\n",
    "    background-color: transparent !important;\n",
    "}\n",
    ":root {\n",
    "    --jp-widgets-color: var(--vscode-editor-foreground);\n",
    "    --jp-widgets-font-size: var(--vscode-editor-font-size);\n",
    "}  "
   ]
  },
  {
   "cell_type": "code",
   "execution_count": 3,
   "metadata": {},
   "outputs": [
    {
     "data": {
      "application/vnd.jupyter.widget-view+json": {
       "model_id": "915274aa595249d4887f2ac4175f520c",
       "version_major": 2,
       "version_minor": 0
      },
      "text/plain": [
       "Loading data: 0it [00:00, ?it/s]"
      ]
     },
     "metadata": {},
     "output_type": "display_data"
    },
    {
     "data": {
      "text/html": [
       "<div>\n",
       "<style scoped>\n",
       "    .dataframe tbody tr th:only-of-type {\n",
       "        vertical-align: middle;\n",
       "    }\n",
       "\n",
       "    .dataframe tbody tr th {\n",
       "        vertical-align: top;\n",
       "    }\n",
       "\n",
       "    .dataframe thead th {\n",
       "        text-align: right;\n",
       "    }\n",
       "</style>\n",
       "<table border=\"1\" class=\"dataframe\">\n",
       "  <thead>\n",
       "    <tr style=\"text-align: right;\">\n",
       "      <th></th>\n",
       "      <th>label</th>\n",
       "      <th>date</th>\n",
       "      <th>upvotes</th>\n",
       "      <th>num_comments</th>\n",
       "      <th>combined_text</th>\n",
       "      <th>tokenized_text</th>\n",
       "      <th>alphanum_text</th>\n",
       "      <th>stopword_removed_text</th>\n",
       "      <th>stemmed_text</th>\n",
       "      <th>non_stopword_removed_stemmed_text</th>\n",
       "      <th>combined_stemmed_text</th>\n",
       "      <th>combined_non_stopword_removed_stemmed_text</th>\n",
       "    </tr>\n",
       "  </thead>\n",
       "  <tbody>\n",
       "    <tr>\n",
       "      <th>0</th>\n",
       "      <td>0.0</td>\n",
       "      <td>2014-07-14 03:35:09</td>\n",
       "      <td>4.0</td>\n",
       "      <td>0.0</td>\n",
       "      <td>Deep thoughts underdog Only when we start cons...</td>\n",
       "      <td>['deep', 'thoughts', 'underdog', 'only', 'when...</td>\n",
       "      <td>['deep', 'thoughts', 'underdog', 'only', 'when...</td>\n",
       "      <td>['deep', 'thoughts', 'underdog', 'start', '99'...</td>\n",
       "      <td>['deep', 'thought', 'underdog', 'start', '99',...</td>\n",
       "      <td>['deep', 'thought', 'underdog', 'onli', 'when'...</td>\n",
       "      <td>deep thought underdog start 99 underdog start ...</td>\n",
       "      <td>deep thought underdog onli when we start consi...</td>\n",
       "    </tr>\n",
       "    <tr>\n",
       "      <th>1</th>\n",
       "      <td>0.0</td>\n",
       "      <td>2014-09-13 00:31:19</td>\n",
       "      <td>4.0</td>\n",
       "      <td>1.0</td>\n",
       "      <td>I like this sub, there's only two posts yet I ...</td>\n",
       "      <td>['i', 'like', 'this', 'sub', ',', \"there's\", '...</td>\n",
       "      <td>['i', 'like', 'this', 'sub', 'only', 'two', 'p...</td>\n",
       "      <td>['posts', 'coming', 'human', 'morality', 'joke...</td>\n",
       "      <td>['post', 'come', 'human', 'moral', 'joke', 'lo...</td>\n",
       "      <td>['i', 'like', 'thi', 'sub', 'onli', 'two', 'po...</td>\n",
       "      <td>post come human moral joke long abscenc hope d...</td>\n",
       "      <td>i like thi sub onli two post yet i keep come b...</td>\n",
       "    </tr>\n",
       "    <tr>\n",
       "      <th>2</th>\n",
       "      <td>0.0</td>\n",
       "      <td>2014-11-20 04:31:58</td>\n",
       "      <td>6.0</td>\n",
       "      <td>1.0</td>\n",
       "      <td>Rebirth! Hello. \\nI am the new guy in charge h...</td>\n",
       "      <td>['rebirth', '!', 'hello', '.', 'i', 'am', 'the...</td>\n",
       "      <td>['rebirth', 'hello', 'i', 'am', 'the', 'new', ...</td>\n",
       "      <td>['rebirth', 'guy', 'charge', 'thegood', 'ofc',...</td>\n",
       "      <td>['rebirth', 'guy', 'charg', 'thegood', 'ofc', ...</td>\n",
       "      <td>['rebirth', 'hello', 'i', 'am', 'the', 'new', ...</td>\n",
       "      <td>rebirth guy charg thegood ofc bring weirdpinea...</td>\n",
       "      <td>rebirth hello i am the new guy in charg here b...</td>\n",
       "    </tr>\n",
       "    <tr>\n",
       "      <th>3</th>\n",
       "      <td>0.0</td>\n",
       "      <td>2014-11-20 19:38:05</td>\n",
       "      <td>25.0</td>\n",
       "      <td>2.0</td>\n",
       "      <td>\"I want to be like water. I want to slip throu...</td>\n",
       "      <td>['\"', 'i', 'want', 'to', 'be', 'like', 'water'...</td>\n",
       "      <td>['i', 'want', 'to', 'be', 'like', 'water', 'i'...</td>\n",
       "      <td>['water', 'slip', 'fingers', 'hold', 'ship', '...</td>\n",
       "      <td>['water', 'slip', 'finger', 'hold', 'ship', 'm...</td>\n",
       "      <td>['i', 'want', 'to', 'be', 'like', 'water', 'i'...</td>\n",
       "      <td>water slip finger hold ship michel william</td>\n",
       "      <td>i want to be like water i want to slip through...</td>\n",
       "    </tr>\n",
       "    <tr>\n",
       "      <th>5</th>\n",
       "      <td>0.0</td>\n",
       "      <td>2014-11-22 19:17:39</td>\n",
       "      <td>8.0</td>\n",
       "      <td>23.0</td>\n",
       "      <td>What is the limit of the knowledge and power a...</td>\n",
       "      <td>['what', 'is', 'the', 'limit', 'of', 'the', 'k...</td>\n",
       "      <td>['what', 'is', 'the', 'limit', 'of', 'the', 'k...</td>\n",
       "      <td>['limit', 'knowledge', 'power', 'human', 'pers...</td>\n",
       "      <td>['limit', 'knowledg', 'power', 'human', 'perso...</td>\n",
       "      <td>['what', 'is', 'the', 'limit', 'of', 'the', 'k...</td>\n",
       "      <td>limit knowledg power human person infinit grow</td>\n",
       "      <td>what is the limit of the knowledg and power a ...</td>\n",
       "    </tr>\n",
       "  </tbody>\n",
       "</table>\n",
       "</div>"
      ],
      "text/plain": [
       "   label                 date  upvotes  num_comments  \\\n",
       "0    0.0  2014-07-14 03:35:09      4.0           0.0   \n",
       "1    0.0  2014-09-13 00:31:19      4.0           1.0   \n",
       "2    0.0  2014-11-20 04:31:58      6.0           1.0   \n",
       "3    0.0  2014-11-20 19:38:05     25.0           2.0   \n",
       "5    0.0  2014-11-22 19:17:39      8.0          23.0   \n",
       "\n",
       "                                       combined_text  \\\n",
       "0  Deep thoughts underdog Only when we start cons...   \n",
       "1  I like this sub, there's only two posts yet I ...   \n",
       "2  Rebirth! Hello. \\nI am the new guy in charge h...   \n",
       "3  \"I want to be like water. I want to slip throu...   \n",
       "5  What is the limit of the knowledge and power a...   \n",
       "\n",
       "                                      tokenized_text  \\\n",
       "0  ['deep', 'thoughts', 'underdog', 'only', 'when...   \n",
       "1  ['i', 'like', 'this', 'sub', ',', \"there's\", '...   \n",
       "2  ['rebirth', '!', 'hello', '.', 'i', 'am', 'the...   \n",
       "3  ['\"', 'i', 'want', 'to', 'be', 'like', 'water'...   \n",
       "5  ['what', 'is', 'the', 'limit', 'of', 'the', 'k...   \n",
       "\n",
       "                                       alphanum_text  \\\n",
       "0  ['deep', 'thoughts', 'underdog', 'only', 'when...   \n",
       "1  ['i', 'like', 'this', 'sub', 'only', 'two', 'p...   \n",
       "2  ['rebirth', 'hello', 'i', 'am', 'the', 'new', ...   \n",
       "3  ['i', 'want', 'to', 'be', 'like', 'water', 'i'...   \n",
       "5  ['what', 'is', 'the', 'limit', 'of', 'the', 'k...   \n",
       "\n",
       "                               stopword_removed_text  \\\n",
       "0  ['deep', 'thoughts', 'underdog', 'start', '99'...   \n",
       "1  ['posts', 'coming', 'human', 'morality', 'joke...   \n",
       "2  ['rebirth', 'guy', 'charge', 'thegood', 'ofc',...   \n",
       "3  ['water', 'slip', 'fingers', 'hold', 'ship', '...   \n",
       "5  ['limit', 'knowledge', 'power', 'human', 'pers...   \n",
       "\n",
       "                                        stemmed_text  \\\n",
       "0  ['deep', 'thought', 'underdog', 'start', '99',...   \n",
       "1  ['post', 'come', 'human', 'moral', 'joke', 'lo...   \n",
       "2  ['rebirth', 'guy', 'charg', 'thegood', 'ofc', ...   \n",
       "3  ['water', 'slip', 'finger', 'hold', 'ship', 'm...   \n",
       "5  ['limit', 'knowledg', 'power', 'human', 'perso...   \n",
       "\n",
       "                   non_stopword_removed_stemmed_text  \\\n",
       "0  ['deep', 'thought', 'underdog', 'onli', 'when'...   \n",
       "1  ['i', 'like', 'thi', 'sub', 'onli', 'two', 'po...   \n",
       "2  ['rebirth', 'hello', 'i', 'am', 'the', 'new', ...   \n",
       "3  ['i', 'want', 'to', 'be', 'like', 'water', 'i'...   \n",
       "5  ['what', 'is', 'the', 'limit', 'of', 'the', 'k...   \n",
       "\n",
       "                               combined_stemmed_text  \\\n",
       "0  deep thought underdog start 99 underdog start ...   \n",
       "1  post come human moral joke long abscenc hope d...   \n",
       "2  rebirth guy charg thegood ofc bring weirdpinea...   \n",
       "3         water slip finger hold ship michel william   \n",
       "5     limit knowledg power human person infinit grow   \n",
       "\n",
       "          combined_non_stopword_removed_stemmed_text  \n",
       "0  deep thought underdog onli when we start consi...  \n",
       "1  i like thi sub onli two post yet i keep come b...  \n",
       "2  rebirth hello i am the new guy in charg here b...  \n",
       "3  i want to be like water i want to slip through...  \n",
       "5  what is the limit of the knowledg and power a ...  "
      ]
     },
     "execution_count": 3,
     "metadata": {},
     "output_type": "execute_result"
    }
   ],
   "source": [
    "rdd_df = pd.DataFrame(pd.concat([chunk for chunk in tqdm(pd.read_csv('../data/reddit_depression_dataset_cleaned.csv', chunksize=1000, index_col=0), desc='Loading data')]))\n",
    "rdd_df.head()"
   ]
  },
  {
   "cell_type": "code",
   "execution_count": 5,
   "metadata": {},
   "outputs": [
    {
     "data": {
      "application/vnd.jupyter.widget-view+json": {
       "model_id": "0fd695522363431a8441cd401211e8a7",
       "version_major": 2,
       "version_minor": 0
      },
      "text/plain": [
       "Loading data: 0it [00:00, ?it/s]"
      ]
     },
     "metadata": {},
     "output_type": "display_data"
    },
    {
     "data": {
      "text/html": [
       "<div>\n",
       "<style scoped>\n",
       "    .dataframe tbody tr th:only-of-type {\n",
       "        vertical-align: middle;\n",
       "    }\n",
       "\n",
       "    .dataframe tbody tr th {\n",
       "        vertical-align: top;\n",
       "    }\n",
       "\n",
       "    .dataframe thead th {\n",
       "        text-align: right;\n",
       "    }\n",
       "</style>\n",
       "<table border=\"1\" class=\"dataframe\">\n",
       "  <thead>\n",
       "    <tr style=\"text-align: right;\">\n",
       "      <th></th>\n",
       "      <th>date</th>\n",
       "      <th>stemmed_text</th>\n",
       "      <th>predicted_label</th>\n",
       "    </tr>\n",
       "  </thead>\n",
       "  <tbody>\n",
       "    <tr>\n",
       "      <th>0</th>\n",
       "      <td>2009-04-06 22:19:45</td>\n",
       "      <td>['awww', 'bummer', 'shoulda', 'david', 'carr',...</td>\n",
       "      <td>0</td>\n",
       "    </tr>\n",
       "    <tr>\n",
       "      <th>1</th>\n",
       "      <td>2009-04-06 22:19:49</td>\n",
       "      <td>['upset', 'updat', 'facebook', 'text', 'result...</td>\n",
       "      <td>0</td>\n",
       "    </tr>\n",
       "    <tr>\n",
       "      <th>2</th>\n",
       "      <td>2009-04-06 22:19:53</td>\n",
       "      <td>['dive', 'time', 'ball', 'manag', 'save', '50'...</td>\n",
       "      <td>0</td>\n",
       "    </tr>\n",
       "    <tr>\n",
       "      <th>3</th>\n",
       "      <td>2009-04-06 22:19:57</td>\n",
       "      <td>['bodi', 'feel', 'itchi']</td>\n",
       "      <td>0</td>\n",
       "    </tr>\n",
       "    <tr>\n",
       "      <th>4</th>\n",
       "      <td>2009-04-06 22:19:57</td>\n",
       "      <td>['behav', 'mad']</td>\n",
       "      <td>0</td>\n",
       "    </tr>\n",
       "  </tbody>\n",
       "</table>\n",
       "</div>"
      ],
      "text/plain": [
       "                  date                                       stemmed_text  \\\n",
       "0  2009-04-06 22:19:45  ['awww', 'bummer', 'shoulda', 'david', 'carr',...   \n",
       "1  2009-04-06 22:19:49  ['upset', 'updat', 'facebook', 'text', 'result...   \n",
       "2  2009-04-06 22:19:53  ['dive', 'time', 'ball', 'manag', 'save', '50'...   \n",
       "3  2009-04-06 22:19:57                          ['bodi', 'feel', 'itchi']   \n",
       "4  2009-04-06 22:19:57                                   ['behav', 'mad']   \n",
       "\n",
       "   predicted_label  \n",
       "0                0  \n",
       "1                0  \n",
       "2                0  \n",
       "3                0  \n",
       "4                0  "
      ]
     },
     "execution_count": 5,
     "metadata": {},
     "output_type": "execute_result"
    }
   ],
   "source": [
    "osm_df = pd.DataFrame(pd.concat([chunk for chunk in tqdm(pd.read_csv('../data/1.6_million_dataset_labelled_LogReg.csv', chunksize=1000), desc='Loading data')]))\n",
    "osm_df.head()"
   ]
  },
  {
   "cell_type": "code",
   "execution_count": 6,
   "metadata": {},
   "outputs": [
    {
     "data": {
      "application/vnd.jupyter.widget-view+json": {
       "model_id": "c598ada193cf4d3090a69a15e3fdc9e3",
       "version_major": 2,
       "version_minor": 0
      },
      "text/plain": [
       "Loading data: 0it [00:00, ?it/s]"
      ]
     },
     "metadata": {},
     "output_type": "display_data"
    },
    {
     "data": {
      "text/html": [
       "<div>\n",
       "<style scoped>\n",
       "    .dataframe tbody tr th:only-of-type {\n",
       "        vertical-align: middle;\n",
       "    }\n",
       "\n",
       "    .dataframe tbody tr th {\n",
       "        vertical-align: top;\n",
       "    }\n",
       "\n",
       "    .dataframe thead th {\n",
       "        text-align: right;\n",
       "    }\n",
       "</style>\n",
       "<table border=\"1\" class=\"dataframe\">\n",
       "  <thead>\n",
       "    <tr style=\"text-align: right;\">\n",
       "      <th></th>\n",
       "      <th>Date</th>\n",
       "      <th>location</th>\n",
       "      <th>followers</th>\n",
       "      <th>engagement</th>\n",
       "      <th>stemmed_tweet</th>\n",
       "      <th>predicted_label</th>\n",
       "    </tr>\n",
       "  </thead>\n",
       "  <tbody>\n",
       "    <tr>\n",
       "      <th>0</th>\n",
       "      <td>2023-02-15 13:48:52+00:00</td>\n",
       "      <td>Haringey</td>\n",
       "      <td>317</td>\n",
       "      <td>0.022082</td>\n",
       "      <td>['peopl', 'ocd', 'experi', 'intens', 'neg', 'r...</td>\n",
       "      <td>1</td>\n",
       "    </tr>\n",
       "    <tr>\n",
       "      <th>1</th>\n",
       "      <td>2023-02-09 22:37:56+00:00</td>\n",
       "      <td>unknown</td>\n",
       "      <td>9</td>\n",
       "      <td>0.000000</td>\n",
       "      <td>['erika', 'iocdf', 'grassroot', 'advoc', 'love...</td>\n",
       "      <td>0</td>\n",
       "    </tr>\n",
       "    <tr>\n",
       "      <th>2</th>\n",
       "      <td>2022-10-20 11:30:07+00:00</td>\n",
       "      <td>Gloucester</td>\n",
       "      <td>905</td>\n",
       "      <td>0.000000</td>\n",
       "      <td>['light', 'week', 'ocd', 'awar', 'week', 'want...</td>\n",
       "      <td>1</td>\n",
       "    </tr>\n",
       "    <tr>\n",
       "      <th>3</th>\n",
       "      <td>2022-10-18 19:42:14+00:00</td>\n",
       "      <td>Boston, MA</td>\n",
       "      <td>19257</td>\n",
       "      <td>0.000467</td>\n",
       "      <td>['gif', 'view', 'giphi', 'hope', 'campaign', '...</td>\n",
       "      <td>0</td>\n",
       "    </tr>\n",
       "    <tr>\n",
       "      <th>4</th>\n",
       "      <td>2022-10-18 19:42:13+00:00</td>\n",
       "      <td>Boston, MA</td>\n",
       "      <td>19257</td>\n",
       "      <td>0.000727</td>\n",
       "      <td>['ocdweek', 'event', 'activ', 'livestream', 'l...</td>\n",
       "      <td>0</td>\n",
       "    </tr>\n",
       "  </tbody>\n",
       "</table>\n",
       "</div>"
      ],
      "text/plain": [
       "                        Date    location  followers  engagement  \\\n",
       "0  2023-02-15 13:48:52+00:00   Haringey         317    0.022082   \n",
       "1  2023-02-09 22:37:56+00:00     unknown          9    0.000000   \n",
       "2  2022-10-20 11:30:07+00:00  Gloucester        905    0.000000   \n",
       "3  2022-10-18 19:42:14+00:00  Boston, MA      19257    0.000467   \n",
       "4  2022-10-18 19:42:13+00:00  Boston, MA      19257    0.000727   \n",
       "\n",
       "                                       stemmed_tweet  predicted_label  \n",
       "0  ['peopl', 'ocd', 'experi', 'intens', 'neg', 'r...                1  \n",
       "1  ['erika', 'iocdf', 'grassroot', 'advoc', 'love...                0  \n",
       "2  ['light', 'week', 'ocd', 'awar', 'week', 'want...                1  \n",
       "3  ['gif', 'view', 'giphi', 'hope', 'campaign', '...                0  \n",
       "4  ['ocdweek', 'event', 'activ', 'livestream', 'l...                0  "
      ]
     },
     "execution_count": 6,
     "metadata": {},
     "output_type": "execute_result"
    }
   ],
   "source": [
    "mhd_df = pd.DataFrame(pd.concat([chunk for chunk in tqdm(pd.read_csv('../data/mental_health_dataset_labelled_LogReg.csv', chunksize=1000), desc='Loading data')]))\n",
    "mhd_df.head()"
   ]
  },
  {
   "cell_type": "markdown",
   "metadata": {},
   "source": [
    "### Data Processing"
   ]
  },
  {
   "cell_type": "code",
   "execution_count": 7,
   "metadata": {},
   "outputs": [
    {
     "data": {
      "text/html": [
       "<div>\n",
       "<style scoped>\n",
       "    .dataframe tbody tr th:only-of-type {\n",
       "        vertical-align: middle;\n",
       "    }\n",
       "\n",
       "    .dataframe tbody tr th {\n",
       "        vertical-align: top;\n",
       "    }\n",
       "\n",
       "    .dataframe thead th {\n",
       "        text-align: right;\n",
       "    }\n",
       "</style>\n",
       "<table border=\"1\" class=\"dataframe\">\n",
       "  <thead>\n",
       "    <tr style=\"text-align: right;\">\n",
       "      <th></th>\n",
       "      <th>date</th>\n",
       "      <th>stemmed_text</th>\n",
       "      <th>label</th>\n",
       "    </tr>\n",
       "  </thead>\n",
       "  <tbody>\n",
       "    <tr>\n",
       "      <th>0</th>\n",
       "      <td>2009-04-06 22:19:45</td>\n",
       "      <td>['awww', 'bummer', 'shoulda', 'david', 'carr',...</td>\n",
       "      <td>0</td>\n",
       "    </tr>\n",
       "    <tr>\n",
       "      <th>1</th>\n",
       "      <td>2009-04-06 22:19:49</td>\n",
       "      <td>['upset', 'updat', 'facebook', 'text', 'result...</td>\n",
       "      <td>0</td>\n",
       "    </tr>\n",
       "    <tr>\n",
       "      <th>2</th>\n",
       "      <td>2009-04-06 22:19:53</td>\n",
       "      <td>['dive', 'time', 'ball', 'manag', 'save', '50'...</td>\n",
       "      <td>0</td>\n",
       "    </tr>\n",
       "    <tr>\n",
       "      <th>3</th>\n",
       "      <td>2009-04-06 22:19:57</td>\n",
       "      <td>['bodi', 'feel', 'itchi']</td>\n",
       "      <td>0</td>\n",
       "    </tr>\n",
       "    <tr>\n",
       "      <th>4</th>\n",
       "      <td>2009-04-06 22:19:57</td>\n",
       "      <td>['behav', 'mad']</td>\n",
       "      <td>0</td>\n",
       "    </tr>\n",
       "  </tbody>\n",
       "</table>\n",
       "</div>"
      ],
      "text/plain": [
       "                  date                                       stemmed_text  \\\n",
       "0  2009-04-06 22:19:45  ['awww', 'bummer', 'shoulda', 'david', 'carr',...   \n",
       "1  2009-04-06 22:19:49  ['upset', 'updat', 'facebook', 'text', 'result...   \n",
       "2  2009-04-06 22:19:53  ['dive', 'time', 'ball', 'manag', 'save', '50'...   \n",
       "3  2009-04-06 22:19:57                          ['bodi', 'feel', 'itchi']   \n",
       "4  2009-04-06 22:19:57                                   ['behav', 'mad']   \n",
       "\n",
       "   label  \n",
       "0      0  \n",
       "1      0  \n",
       "2      0  \n",
       "3      0  \n",
       "4      0  "
      ]
     },
     "execution_count": 7,
     "metadata": {},
     "output_type": "execute_result"
    }
   ],
   "source": [
    "osm_df.rename(columns={'predicted_label': 'label'}, inplace=True)\n",
    "osm_df.head()"
   ]
  },
  {
   "cell_type": "code",
   "execution_count": 9,
   "metadata": {},
   "outputs": [
    {
     "data": {
      "text/html": [
       "<div>\n",
       "<style scoped>\n",
       "    .dataframe tbody tr th:only-of-type {\n",
       "        vertical-align: middle;\n",
       "    }\n",
       "\n",
       "    .dataframe tbody tr th {\n",
       "        vertical-align: top;\n",
       "    }\n",
       "\n",
       "    .dataframe thead th {\n",
       "        text-align: right;\n",
       "    }\n",
       "</style>\n",
       "<table border=\"1\" class=\"dataframe\">\n",
       "  <thead>\n",
       "    <tr style=\"text-align: right;\">\n",
       "      <th></th>\n",
       "      <th>date</th>\n",
       "      <th>location</th>\n",
       "      <th>followers</th>\n",
       "      <th>engagement</th>\n",
       "      <th>stemmed_text</th>\n",
       "      <th>label</th>\n",
       "    </tr>\n",
       "  </thead>\n",
       "  <tbody>\n",
       "    <tr>\n",
       "      <th>0</th>\n",
       "      <td>2023-02-15 13:48:52+00:00</td>\n",
       "      <td>Haringey</td>\n",
       "      <td>317</td>\n",
       "      <td>0.022082</td>\n",
       "      <td>['peopl', 'ocd', 'experi', 'intens', 'neg', 'r...</td>\n",
       "      <td>1</td>\n",
       "    </tr>\n",
       "    <tr>\n",
       "      <th>1</th>\n",
       "      <td>2023-02-09 22:37:56+00:00</td>\n",
       "      <td>unknown</td>\n",
       "      <td>9</td>\n",
       "      <td>0.000000</td>\n",
       "      <td>['erika', 'iocdf', 'grassroot', 'advoc', 'love...</td>\n",
       "      <td>0</td>\n",
       "    </tr>\n",
       "    <tr>\n",
       "      <th>2</th>\n",
       "      <td>2022-10-20 11:30:07+00:00</td>\n",
       "      <td>Gloucester</td>\n",
       "      <td>905</td>\n",
       "      <td>0.000000</td>\n",
       "      <td>['light', 'week', 'ocd', 'awar', 'week', 'want...</td>\n",
       "      <td>1</td>\n",
       "    </tr>\n",
       "    <tr>\n",
       "      <th>3</th>\n",
       "      <td>2022-10-18 19:42:14+00:00</td>\n",
       "      <td>Boston, MA</td>\n",
       "      <td>19257</td>\n",
       "      <td>0.000467</td>\n",
       "      <td>['gif', 'view', 'giphi', 'hope', 'campaign', '...</td>\n",
       "      <td>0</td>\n",
       "    </tr>\n",
       "    <tr>\n",
       "      <th>4</th>\n",
       "      <td>2022-10-18 19:42:13+00:00</td>\n",
       "      <td>Boston, MA</td>\n",
       "      <td>19257</td>\n",
       "      <td>0.000727</td>\n",
       "      <td>['ocdweek', 'event', 'activ', 'livestream', 'l...</td>\n",
       "      <td>0</td>\n",
       "    </tr>\n",
       "  </tbody>\n",
       "</table>\n",
       "</div>"
      ],
      "text/plain": [
       "                        date    location  followers  engagement  \\\n",
       "0  2023-02-15 13:48:52+00:00   Haringey         317    0.022082   \n",
       "1  2023-02-09 22:37:56+00:00     unknown          9    0.000000   \n",
       "2  2022-10-20 11:30:07+00:00  Gloucester        905    0.000000   \n",
       "3  2022-10-18 19:42:14+00:00  Boston, MA      19257    0.000467   \n",
       "4  2022-10-18 19:42:13+00:00  Boston, MA      19257    0.000727   \n",
       "\n",
       "                                        stemmed_text  label  \n",
       "0  ['peopl', 'ocd', 'experi', 'intens', 'neg', 'r...      1  \n",
       "1  ['erika', 'iocdf', 'grassroot', 'advoc', 'love...      0  \n",
       "2  ['light', 'week', 'ocd', 'awar', 'week', 'want...      1  \n",
       "3  ['gif', 'view', 'giphi', 'hope', 'campaign', '...      0  \n",
       "4  ['ocdweek', 'event', 'activ', 'livestream', 'l...      0  "
      ]
     },
     "execution_count": 9,
     "metadata": {},
     "output_type": "execute_result"
    }
   ],
   "source": [
    "mhd_df.rename(columns={'Date': 'date', 'stemmed_tweet': 'stemmed_text', 'predicted_label': 'label'}, inplace=True)\n",
    "mhd_df.head()"
   ]
  },
  {
   "cell_type": "code",
   "execution_count": 15,
   "metadata": {},
   "outputs": [
    {
     "name": "stdout",
     "output_type": "stream",
     "text": [
      "RDD DataFrame Shape: (1987011, 12)\n",
      "OSM DataFrame Shape: (1600000, 3)\n",
      "MHD DataFrame Shape: (724745, 6)\n",
      "(4311756, 3)\n"
     ]
    },
    {
     "data": {
      "text/html": [
       "<div>\n",
       "<style scoped>\n",
       "    .dataframe tbody tr th:only-of-type {\n",
       "        vertical-align: middle;\n",
       "    }\n",
       "\n",
       "    .dataframe tbody tr th {\n",
       "        vertical-align: top;\n",
       "    }\n",
       "\n",
       "    .dataframe thead th {\n",
       "        text-align: right;\n",
       "    }\n",
       "</style>\n",
       "<table border=\"1\" class=\"dataframe\">\n",
       "  <thead>\n",
       "    <tr style=\"text-align: right;\">\n",
       "      <th></th>\n",
       "      <th>date</th>\n",
       "      <th>stemmed_text</th>\n",
       "      <th>label</th>\n",
       "    </tr>\n",
       "  </thead>\n",
       "  <tbody>\n",
       "    <tr>\n",
       "      <th>0</th>\n",
       "      <td>2014-07-14 03:35:09</td>\n",
       "      <td>['deep', 'thought', 'underdog', 'start', '99',...</td>\n",
       "      <td>0.0</td>\n",
       "    </tr>\n",
       "    <tr>\n",
       "      <th>1</th>\n",
       "      <td>2014-09-13 00:31:19</td>\n",
       "      <td>['post', 'come', 'human', 'moral', 'joke', 'lo...</td>\n",
       "      <td>0.0</td>\n",
       "    </tr>\n",
       "    <tr>\n",
       "      <th>2</th>\n",
       "      <td>2014-11-20 04:31:58</td>\n",
       "      <td>['rebirth', 'guy', 'charg', 'thegood', 'ofc', ...</td>\n",
       "      <td>0.0</td>\n",
       "    </tr>\n",
       "    <tr>\n",
       "      <th>3</th>\n",
       "      <td>2014-11-20 19:38:05</td>\n",
       "      <td>['water', 'slip', 'finger', 'hold', 'ship', 'm...</td>\n",
       "      <td>0.0</td>\n",
       "    </tr>\n",
       "    <tr>\n",
       "      <th>4</th>\n",
       "      <td>2014-11-22 19:17:39</td>\n",
       "      <td>['limit', 'knowledg', 'power', 'human', 'perso...</td>\n",
       "      <td>0.0</td>\n",
       "    </tr>\n",
       "  </tbody>\n",
       "</table>\n",
       "</div>"
      ],
      "text/plain": [
       "                  date                                       stemmed_text  \\\n",
       "0  2014-07-14 03:35:09  ['deep', 'thought', 'underdog', 'start', '99',...   \n",
       "1  2014-09-13 00:31:19  ['post', 'come', 'human', 'moral', 'joke', 'lo...   \n",
       "2  2014-11-20 04:31:58  ['rebirth', 'guy', 'charg', 'thegood', 'ofc', ...   \n",
       "3  2014-11-20 19:38:05  ['water', 'slip', 'finger', 'hold', 'ship', 'm...   \n",
       "4  2014-11-22 19:17:39  ['limit', 'knowledg', 'power', 'human', 'perso...   \n",
       "\n",
       "   label  \n",
       "0    0.0  \n",
       "1    0.0  \n",
       "2    0.0  \n",
       "3    0.0  \n",
       "4    0.0  "
      ]
     },
     "execution_count": 15,
     "metadata": {},
     "output_type": "execute_result"
    }
   ],
   "source": [
    "corpus = pd.DataFrame(pd.concat([rdd_df[['date', 'stemmed_text', 'label']], osm_df[['date', 'stemmed_text', 'label']], mhd_df[['date', 'stemmed_text', 'label']]], ignore_index=True))\n",
    "corpus.reset_index(drop=True, inplace=True)\n",
    "print(\"RDD DataFrame Shape:\", rdd_df.shape)\n",
    "print(\"OSM DataFrame Shape:\", osm_df.shape)\n",
    "print(\"MHD DataFrame Shape:\", mhd_df.shape)\n",
    "print(corpus.shape)\n",
    "corpus.head()"
   ]
  },
  {
   "cell_type": "code",
   "execution_count": 16,
   "metadata": {},
   "outputs": [
    {
     "name": "stdout",
     "output_type": "stream",
     "text": [
      "(424032, 3)\n",
      "(3887724, 3)\n"
     ]
    }
   ],
   "source": [
    "print(corpus[corpus['label'] == 1].shape)\n",
    "print(corpus[corpus['label'] == 0].shape)"
   ]
  },
  {
   "cell_type": "code",
   "execution_count": 19,
   "metadata": {},
   "outputs": [
    {
     "data": {
      "application/vnd.jupyter.widget-view+json": {
       "model_id": "16e912436544496088c7319d61cb5ddf",
       "version_major": 2,
       "version_minor": 0
      },
      "text/plain": [
       "  0%|          | 0/4311756 [00:00<?, ?it/s]"
      ]
     },
     "metadata": {},
     "output_type": "display_data"
    },
    {
     "data": {
      "text/plain": [
       "list"
      ]
     },
     "execution_count": 19,
     "metadata": {},
     "output_type": "execute_result"
    }
   ],
   "source": [
    "corpus['stemmed_text'] = corpus['stemmed_text'].progress_apply(lambda x: ast.literal_eval(x))\n",
    "type(corpus['stemmed_text'][0])"
   ]
  },
  {
   "cell_type": "code",
   "execution_count": 20,
   "metadata": {},
   "outputs": [
    {
     "data": {
      "application/vnd.jupyter.widget-view+json": {
       "model_id": "364bbfad7d5248feacf9fee16ee6f9ef",
       "version_major": 2,
       "version_minor": 0
      },
      "text/plain": [
       "  0%|          | 0/4311756 [00:00<?, ?it/s]"
      ]
     },
     "metadata": {},
     "output_type": "display_data"
    },
    {
     "data": {
      "text/html": [
       "<div>\n",
       "<style scoped>\n",
       "    .dataframe tbody tr th:only-of-type {\n",
       "        vertical-align: middle;\n",
       "    }\n",
       "\n",
       "    .dataframe tbody tr th {\n",
       "        vertical-align: top;\n",
       "    }\n",
       "\n",
       "    .dataframe thead th {\n",
       "        text-align: right;\n",
       "    }\n",
       "</style>\n",
       "<table border=\"1\" class=\"dataframe\">\n",
       "  <thead>\n",
       "    <tr style=\"text-align: right;\">\n",
       "      <th></th>\n",
       "      <th>date</th>\n",
       "      <th>stemmed_text</th>\n",
       "      <th>label</th>\n",
       "      <th>text_frequency</th>\n",
       "    </tr>\n",
       "  </thead>\n",
       "  <tbody>\n",
       "    <tr>\n",
       "      <th>0</th>\n",
       "      <td>2014-07-14 03:35:09</td>\n",
       "      <td>[deep, thought, underdog, start, 99, underdog,...</td>\n",
       "      <td>0.0</td>\n",
       "      <td>8</td>\n",
       "    </tr>\n",
       "    <tr>\n",
       "      <th>1</th>\n",
       "      <td>2014-09-13 00:31:19</td>\n",
       "      <td>[post, come, human, moral, joke, long, abscenc...</td>\n",
       "      <td>0.0</td>\n",
       "      <td>11</td>\n",
       "    </tr>\n",
       "    <tr>\n",
       "      <th>2</th>\n",
       "      <td>2014-11-20 04:31:58</td>\n",
       "      <td>[rebirth, guy, charg, thegood, ofc, bring, wei...</td>\n",
       "      <td>0.0</td>\n",
       "      <td>11</td>\n",
       "    </tr>\n",
       "    <tr>\n",
       "      <th>3</th>\n",
       "      <td>2014-11-20 19:38:05</td>\n",
       "      <td>[water, slip, finger, hold, ship, michel, will...</td>\n",
       "      <td>0.0</td>\n",
       "      <td>7</td>\n",
       "    </tr>\n",
       "    <tr>\n",
       "      <th>4</th>\n",
       "      <td>2014-11-22 19:17:39</td>\n",
       "      <td>[limit, knowledg, power, human, person, infini...</td>\n",
       "      <td>0.0</td>\n",
       "      <td>7</td>\n",
       "    </tr>\n",
       "  </tbody>\n",
       "</table>\n",
       "</div>"
      ],
      "text/plain": [
       "                  date                                       stemmed_text  \\\n",
       "0  2014-07-14 03:35:09  [deep, thought, underdog, start, 99, underdog,...   \n",
       "1  2014-09-13 00:31:19  [post, come, human, moral, joke, long, abscenc...   \n",
       "2  2014-11-20 04:31:58  [rebirth, guy, charg, thegood, ofc, bring, wei...   \n",
       "3  2014-11-20 19:38:05  [water, slip, finger, hold, ship, michel, will...   \n",
       "4  2014-11-22 19:17:39  [limit, knowledg, power, human, person, infini...   \n",
       "\n",
       "   label  text_frequency  \n",
       "0    0.0               8  \n",
       "1    0.0              11  \n",
       "2    0.0              11  \n",
       "3    0.0               7  \n",
       "4    0.0               7  "
      ]
     },
     "execution_count": 20,
     "metadata": {},
     "output_type": "execute_result"
    }
   ],
   "source": [
    "corpus['text_frequency'] = corpus['stemmed_text'].progress_apply(lambda x: len(x))\n",
    "corpus.head()"
   ]
  },
  {
   "cell_type": "markdown",
   "metadata": {},
   "source": [
    "### Export Data"
   ]
  },
  {
   "cell_type": "code",
   "execution_count": 21,
   "metadata": {},
   "outputs": [],
   "source": [
    "corpus.to_csv('../data/labelled_corpus.csv', index=False)"
   ]
  }
 ],
 "metadata": {
  "kernelspec": {
   "display_name": "conda_env",
   "language": "python",
   "name": "python3"
  },
  "language_info": {
   "codemirror_mode": {
    "name": "ipython",
    "version": 3
   },
   "file_extension": ".py",
   "mimetype": "text/x-python",
   "name": "python",
   "nbconvert_exporter": "python",
   "pygments_lexer": "ipython3",
   "version": "3.11.10"
  }
 },
 "nbformat": 4,
 "nbformat_minor": 2
}
