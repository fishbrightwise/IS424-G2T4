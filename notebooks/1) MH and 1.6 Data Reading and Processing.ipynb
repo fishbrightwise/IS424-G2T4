{
 "cells": [
  {
   "cell_type": "markdown",
   "metadata": {},
   "source": [
    "#### Import Libraries"
   ]
  },
  {
   "cell_type": "code",
   "execution_count": 1,
   "metadata": {},
   "outputs": [],
   "source": [
    "import pandas as pd\n",
    "import numpy as np\n",
    "import matplotlib.pyplot as plt\n",
    "import ast\n",
    "import openpyxl\n",
    "import nltk"
   ]
  },
  {
   "cell_type": "markdown",
   "metadata": {},
   "source": [
    "#### Read Data"
   ]
  },
  {
   "cell_type": "code",
   "execution_count": 2,
   "metadata": {},
   "outputs": [
    {
     "data": {
      "text/html": [
       "<div>\n",
       "<style scoped>\n",
       "    .dataframe tbody tr th:only-of-type {\n",
       "        vertical-align: middle;\n",
       "    }\n",
       "\n",
       "    .dataframe tbody tr th {\n",
       "        vertical-align: top;\n",
       "    }\n",
       "\n",
       "    .dataframe thead th {\n",
       "        text-align: right;\n",
       "    }\n",
       "</style>\n",
       "<table border=\"1\" class=\"dataframe\">\n",
       "  <thead>\n",
       "    <tr style=\"text-align: right;\">\n",
       "      <th></th>\n",
       "      <th>ID</th>\n",
       "      <th>Date</th>\n",
       "      <th>url</th>\n",
       "      <th>username</th>\n",
       "      <th>source</th>\n",
       "      <th>location</th>\n",
       "      <th>tweet</th>\n",
       "      <th>likes</th>\n",
       "      <th>rt</th>\n",
       "      <th>followers</th>\n",
       "      <th>...</th>\n",
       "      <th>rt_pf</th>\n",
       "      <th>replies_pf</th>\n",
       "      <th>engagement</th>\n",
       "      <th>engagement_0</th>\n",
       "      <th>processed_tweet</th>\n",
       "      <th>year</th>\n",
       "      <th>tweet_emoji_punc</th>\n",
       "      <th>tokenised_tweet</th>\n",
       "      <th>sentiment_scores</th>\n",
       "      <th>compound_score</th>\n",
       "    </tr>\n",
       "  </thead>\n",
       "  <tbody>\n",
       "    <tr>\n",
       "      <th>0</th>\n",
       "      <td>1625854658601418753</td>\n",
       "      <td>2023-02-15 13:48:52+00:00</td>\n",
       "      <td>https://twitter.com/haringeyiapt/status/162585...</td>\n",
       "      <td>haringeyiapt</td>\n",
       "      <td>Twitter for iPhone</td>\n",
       "      <td>Haringey</td>\n",
       "      <td>People with OCD experience intensely negative,...</td>\n",
       "      <td>5</td>\n",
       "      <td>1</td>\n",
       "      <td>317</td>\n",
       "      <td>...</td>\n",
       "      <td>0.006309</td>\n",
       "      <td>0.000000</td>\n",
       "      <td>0.022082</td>\n",
       "      <td>0.031546</td>\n",
       "      <td>people ocd experience intensely negative repet...</td>\n",
       "      <td>2023</td>\n",
       "      <td>people ocd experience intensely negative , rep...</td>\n",
       "      <td>['people', 'ocd', 'experience', 'intensely', '...</td>\n",
       "      <td>{'neg': 0.242, 'neu': 0.645, 'pos': 0.113, 'co...</td>\n",
       "      <td>-0.8111</td>\n",
       "    </tr>\n",
       "    <tr>\n",
       "      <th>1</th>\n",
       "      <td>1623813475469344769</td>\n",
       "      <td>2023-02-09 22:37:56+00:00</td>\n",
       "      <td>https://twitter.com/scrupulOCD_KC/status/16238...</td>\n",
       "      <td>scrupulOCD_KC</td>\n",
       "      <td>Twitter for Android</td>\n",
       "      <td>unknown</td>\n",
       "      <td>Hello all I'm Erika an @IOCDF grassroots advoc...</td>\n",
       "      <td>0</td>\n",
       "      <td>0</td>\n",
       "      <td>9</td>\n",
       "      <td>...</td>\n",
       "      <td>0.000000</td>\n",
       "      <td>0.000000</td>\n",
       "      <td>0.000000</td>\n",
       "      <td>0.000000</td>\n",
       "      <td>hello erika iocdf grassroots advocate loves ro...</td>\n",
       "      <td>2023</td>\n",
       "      <td>hello 'm erika @ iocdf grassroots advocate lov...</td>\n",
       "      <td>['hello', 'erika', 'iocdf', 'grassroots', 'adv...</td>\n",
       "      <td>{'neg': 0.043, 'neu': 0.821, 'pos': 0.136, 'co...</td>\n",
       "      <td>0.6981</td>\n",
       "    </tr>\n",
       "    <tr>\n",
       "      <th>2</th>\n",
       "      <td>1583057973496406016</td>\n",
       "      <td>2022-10-20 11:30:07+00:00</td>\n",
       "      <td>https://twitter.com/FootstepsCandC/status/1583...</td>\n",
       "      <td>FootstepsCandC</td>\n",
       "      <td>SmarterQueue</td>\n",
       "      <td>Gloucester</td>\n",
       "      <td>In light of last week's OCD Awareness week, we...</td>\n",
       "      <td>0</td>\n",
       "      <td>0</td>\n",
       "      <td>905</td>\n",
       "      <td>...</td>\n",
       "      <td>0.000000</td>\n",
       "      <td>0.000000</td>\n",
       "      <td>0.000000</td>\n",
       "      <td>0.000000</td>\n",
       "      <td>light last week ocd awareness week wanted offe...</td>\n",
       "      <td>2022</td>\n",
       "      <td>light last week 's ocd awareness week , wanted...</td>\n",
       "      <td>['light', 'last', 'week', 'ocd', 'awareness', ...</td>\n",
       "      <td>{'neg': 0.0, 'neu': 0.925, 'pos': 0.075, 'comp...</td>\n",
       "      <td>0.3400</td>\n",
       "    </tr>\n",
       "    <tr>\n",
       "      <th>3</th>\n",
       "      <td>1582457044451627008</td>\n",
       "      <td>2022-10-18 19:42:14+00:00</td>\n",
       "      <td>https://twitter.com/IOCDF/status/1582457044451...</td>\n",
       "      <td>IOCDF</td>\n",
       "      <td>Twitter Web App</td>\n",
       "      <td>Boston, MA</td>\n",
       "      <td>The GIFS now have over 1.4 million views on GI...</td>\n",
       "      <td>5</td>\n",
       "      <td>2</td>\n",
       "      <td>19257</td>\n",
       "      <td>...</td>\n",
       "      <td>0.000208</td>\n",
       "      <td>0.000000</td>\n",
       "      <td>0.000467</td>\n",
       "      <td>0.000519</td>\n",
       "      <td>gifs million views giphy hope campaign shifts ...</td>\n",
       "      <td>2022</td>\n",
       "      <td>gifs . million views giphy . hope campaign shi...</td>\n",
       "      <td>['gifs', 'million', 'views', 'giphy', 'hope', ...</td>\n",
       "      <td>{'neg': 0.0, 'neu': 0.848, 'pos': 0.152, 'comp...</td>\n",
       "      <td>0.7840</td>\n",
       "    </tr>\n",
       "    <tr>\n",
       "      <th>4</th>\n",
       "      <td>1582457038969262080</td>\n",
       "      <td>2022-10-18 19:42:13+00:00</td>\n",
       "      <td>https://twitter.com/IOCDF/status/1582457038969...</td>\n",
       "      <td>IOCDF</td>\n",
       "      <td>Twitter Web App</td>\n",
       "      <td>Boston, MA</td>\n",
       "      <td>The 2022 #OCDweek events, activities, and live...</td>\n",
       "      <td>7</td>\n",
       "      <td>2</td>\n",
       "      <td>19257</td>\n",
       "      <td>...</td>\n",
       "      <td>0.000208</td>\n",
       "      <td>0.000156</td>\n",
       "      <td>0.000727</td>\n",
       "      <td>0.000779</td>\n",
       "      <td>ocdweek events activities livestreams led amaz...</td>\n",
       "      <td>2022</td>\n",
       "      <td># ocdweek events , activities , livestreams l...</td>\n",
       "      <td>['ocdweek', 'events', 'activities', 'livestrea...</td>\n",
       "      <td>{'neg': 0.0, 'neu': 0.786, 'pos': 0.214, 'comp...</td>\n",
       "      <td>0.8689</td>\n",
       "    </tr>\n",
       "  </tbody>\n",
       "</table>\n",
       "<p>5 rows × 23 columns</p>\n",
       "</div>"
      ],
      "text/plain": [
       "                    ID                       Date  \\\n",
       "0  1625854658601418753  2023-02-15 13:48:52+00:00   \n",
       "1  1623813475469344769  2023-02-09 22:37:56+00:00   \n",
       "2  1583057973496406016  2022-10-20 11:30:07+00:00   \n",
       "3  1582457044451627008  2022-10-18 19:42:14+00:00   \n",
       "4  1582457038969262080  2022-10-18 19:42:13+00:00   \n",
       "\n",
       "                                                 url        username  \\\n",
       "0  https://twitter.com/haringeyiapt/status/162585...    haringeyiapt   \n",
       "1  https://twitter.com/scrupulOCD_KC/status/16238...   scrupulOCD_KC   \n",
       "2  https://twitter.com/FootstepsCandC/status/1583...  FootstepsCandC   \n",
       "3  https://twitter.com/IOCDF/status/1582457044451...           IOCDF   \n",
       "4  https://twitter.com/IOCDF/status/1582457038969...           IOCDF   \n",
       "\n",
       "                source    location  \\\n",
       "0   Twitter for iPhone   Haringey    \n",
       "1  Twitter for Android     unknown   \n",
       "2         SmarterQueue  Gloucester   \n",
       "3      Twitter Web App  Boston, MA   \n",
       "4      Twitter Web App  Boston, MA   \n",
       "\n",
       "                                               tweet  likes  rt  followers  \\\n",
       "0  People with OCD experience intensely negative,...      5   1        317   \n",
       "1  Hello all I'm Erika an @IOCDF grassroots advoc...      0   0          9   \n",
       "2  In light of last week's OCD Awareness week, we...      0   0        905   \n",
       "3  The GIFS now have over 1.4 million views on GI...      5   2      19257   \n",
       "4  The 2022 #OCDweek events, activities, and live...      7   2      19257   \n",
       "\n",
       "   ...     rt_pf replies_pf  engagement  engagement_0  \\\n",
       "0  ...  0.006309   0.000000    0.022082      0.031546   \n",
       "1  ...  0.000000   0.000000    0.000000      0.000000   \n",
       "2  ...  0.000000   0.000000    0.000000      0.000000   \n",
       "3  ...  0.000208   0.000000    0.000467      0.000519   \n",
       "4  ...  0.000208   0.000156    0.000727      0.000779   \n",
       "\n",
       "                                     processed_tweet  year  \\\n",
       "0  people ocd experience intensely negative repet...  2023   \n",
       "1  hello erika iocdf grassroots advocate loves ro...  2023   \n",
       "2  light last week ocd awareness week wanted offe...  2022   \n",
       "3  gifs million views giphy hope campaign shifts ...  2022   \n",
       "4  ocdweek events activities livestreams led amaz...  2022   \n",
       "\n",
       "                                    tweet_emoji_punc  \\\n",
       "0  people ocd experience intensely negative , rep...   \n",
       "1  hello 'm erika @ iocdf grassroots advocate lov...   \n",
       "2  light last week 's ocd awareness week , wanted...   \n",
       "3  gifs . million views giphy . hope campaign shi...   \n",
       "4   # ocdweek events , activities , livestreams l...   \n",
       "\n",
       "                                     tokenised_tweet  \\\n",
       "0  ['people', 'ocd', 'experience', 'intensely', '...   \n",
       "1  ['hello', 'erika', 'iocdf', 'grassroots', 'adv...   \n",
       "2  ['light', 'last', 'week', 'ocd', 'awareness', ...   \n",
       "3  ['gifs', 'million', 'views', 'giphy', 'hope', ...   \n",
       "4  ['ocdweek', 'events', 'activities', 'livestrea...   \n",
       "\n",
       "                                    sentiment_scores compound_score  \n",
       "0  {'neg': 0.242, 'neu': 0.645, 'pos': 0.113, 'co...        -0.8111  \n",
       "1  {'neg': 0.043, 'neu': 0.821, 'pos': 0.136, 'co...         0.6981  \n",
       "2  {'neg': 0.0, 'neu': 0.925, 'pos': 0.075, 'comp...         0.3400  \n",
       "3  {'neg': 0.0, 'neu': 0.848, 'pos': 0.152, 'comp...         0.7840  \n",
       "4  {'neg': 0.0, 'neu': 0.786, 'pos': 0.214, 'comp...         0.8689  \n",
       "\n",
       "[5 rows x 23 columns]"
      ]
     },
     "execution_count": 2,
     "metadata": {},
     "output_type": "execute_result"
    }
   ],
   "source": [
    "mh_scored_df = pd.read_csv('../data/MH_Campaign_Tweets_Sentiment_Scored_1723.csv')\n",
    "mh_scored_df.head()"
   ]
  },
  {
   "cell_type": "code",
   "execution_count": 3,
   "metadata": {},
   "outputs": [
    {
     "data": {
      "text/plain": [
       "(724745, 23)"
      ]
     },
     "execution_count": 3,
     "metadata": {},
     "output_type": "execute_result"
    }
   ],
   "source": [
    "mh_scored_df.shape"
   ]
  },
  {
   "cell_type": "code",
   "execution_count": 4,
   "metadata": {},
   "outputs": [
    {
     "data": {
      "text/html": [
       "<div>\n",
       "<style scoped>\n",
       "    .dataframe tbody tr th:only-of-type {\n",
       "        vertical-align: middle;\n",
       "    }\n",
       "\n",
       "    .dataframe tbody tr th {\n",
       "        vertical-align: top;\n",
       "    }\n",
       "\n",
       "    .dataframe thead th {\n",
       "        text-align: right;\n",
       "    }\n",
       "</style>\n",
       "<table border=\"1\" class=\"dataframe\">\n",
       "  <thead>\n",
       "    <tr style=\"text-align: right;\">\n",
       "      <th></th>\n",
       "      <th>target</th>\n",
       "      <th>ids</th>\n",
       "      <th>date</th>\n",
       "      <th>flag</th>\n",
       "      <th>user</th>\n",
       "      <th>text</th>\n",
       "    </tr>\n",
       "  </thead>\n",
       "  <tbody>\n",
       "    <tr>\n",
       "      <th>0</th>\n",
       "      <td>0</td>\n",
       "      <td>1467810369</td>\n",
       "      <td>Mon Apr 06 22:19:45 PDT 2009</td>\n",
       "      <td>NO_QUERY</td>\n",
       "      <td>_TheSpecialOne_</td>\n",
       "      <td>@switchfoot http://twitpic.com/2y1zl - Awww, t...</td>\n",
       "    </tr>\n",
       "    <tr>\n",
       "      <th>1</th>\n",
       "      <td>0</td>\n",
       "      <td>1467810672</td>\n",
       "      <td>Mon Apr 06 22:19:49 PDT 2009</td>\n",
       "      <td>NO_QUERY</td>\n",
       "      <td>scotthamilton</td>\n",
       "      <td>is upset that he can't update his Facebook by ...</td>\n",
       "    </tr>\n",
       "    <tr>\n",
       "      <th>2</th>\n",
       "      <td>0</td>\n",
       "      <td>1467810917</td>\n",
       "      <td>Mon Apr 06 22:19:53 PDT 2009</td>\n",
       "      <td>NO_QUERY</td>\n",
       "      <td>mattycus</td>\n",
       "      <td>@Kenichan I dived many times for the ball. Man...</td>\n",
       "    </tr>\n",
       "    <tr>\n",
       "      <th>3</th>\n",
       "      <td>0</td>\n",
       "      <td>1467811184</td>\n",
       "      <td>Mon Apr 06 22:19:57 PDT 2009</td>\n",
       "      <td>NO_QUERY</td>\n",
       "      <td>ElleCTF</td>\n",
       "      <td>my whole body feels itchy and like its on fire</td>\n",
       "    </tr>\n",
       "    <tr>\n",
       "      <th>4</th>\n",
       "      <td>0</td>\n",
       "      <td>1467811193</td>\n",
       "      <td>Mon Apr 06 22:19:57 PDT 2009</td>\n",
       "      <td>NO_QUERY</td>\n",
       "      <td>Karoli</td>\n",
       "      <td>@nationwideclass no, it's not behaving at all....</td>\n",
       "    </tr>\n",
       "  </tbody>\n",
       "</table>\n",
       "</div>"
      ],
      "text/plain": [
       "   target         ids                          date      flag  \\\n",
       "0       0  1467810369  Mon Apr 06 22:19:45 PDT 2009  NO_QUERY   \n",
       "1       0  1467810672  Mon Apr 06 22:19:49 PDT 2009  NO_QUERY   \n",
       "2       0  1467810917  Mon Apr 06 22:19:53 PDT 2009  NO_QUERY   \n",
       "3       0  1467811184  Mon Apr 06 22:19:57 PDT 2009  NO_QUERY   \n",
       "4       0  1467811193  Mon Apr 06 22:19:57 PDT 2009  NO_QUERY   \n",
       "\n",
       "              user                                               text  \n",
       "0  _TheSpecialOne_  @switchfoot http://twitpic.com/2y1zl - Awww, t...  \n",
       "1    scotthamilton  is upset that he can't update his Facebook by ...  \n",
       "2         mattycus  @Kenichan I dived many times for the ball. Man...  \n",
       "3          ElleCTF    my whole body feels itchy and like its on fire   \n",
       "4           Karoli  @nationwideclass no, it's not behaving at all....  "
      ]
     },
     "execution_count": 4,
     "metadata": {},
     "output_type": "execute_result"
    }
   ],
   "source": [
    "one_mil_six_df = pd.read_csv('../data/training.1600000.processed.noemoticon.csv', encoding='latin-1', index_col=0, names=['target', 'ids', 'date', 'flag', 'user', 'text'])\n",
    "one_mil_six_df.reset_index(inplace=True)\n",
    "one_mil_six_df.head()"
   ]
  },
  {
   "cell_type": "code",
   "execution_count": 5,
   "metadata": {},
   "outputs": [
    {
     "data": {
      "text/plain": [
       "(1600000, 6)"
      ]
     },
     "execution_count": 5,
     "metadata": {},
     "output_type": "execute_result"
    }
   ],
   "source": [
    "one_mil_six_df.shape"
   ]
  },
  {
   "cell_type": "code",
   "execution_count": 6,
   "metadata": {},
   "outputs": [
    {
     "data": {
      "text/plain": [
       "target\n",
       "0    800000\n",
       "4    800000\n",
       "Name: count, dtype: int64"
      ]
     },
     "execution_count": 6,
     "metadata": {},
     "output_type": "execute_result"
    }
   ],
   "source": [
    "one_mil_six_df['target'].value_counts()"
   ]
  },
  {
   "cell_type": "markdown",
   "metadata": {},
   "source": [
    "This equal split in positive and negative sentiment labels may not be idea for our project as not only does it lack the netural class, but it looks biased from its equal split, which may not reflect real life sentiments."
   ]
  },
  {
   "cell_type": "markdown",
   "metadata": {},
   "source": [
    "Thus, we may have to perform NLP on the 1.6 million tweets dataset using a model trained from the 2017-2023 dataset, or adopt one from a related work."
   ]
  },
  {
   "cell_type": "code",
   "execution_count": 7,
   "metadata": {},
   "outputs": [
    {
     "name": "stderr",
     "output_type": "stream",
     "text": [
      "/var/folders/1v/dvtq9m8d48z659z8qvy5rxdh0000gn/T/ipykernel_12318/693815174.py:1: DtypeWarning: Columns (0) have mixed types. Specify dtype option on import or set low_memory=False.\n",
      "  reddit_df = pd.read_csv('../data/reddit_depression_dataset.csv', index_col=0)\n"
     ]
    },
    {
     "data": {
      "text/html": [
       "<div>\n",
       "<style scoped>\n",
       "    .dataframe tbody tr th:only-of-type {\n",
       "        vertical-align: middle;\n",
       "    }\n",
       "\n",
       "    .dataframe tbody tr th {\n",
       "        vertical-align: top;\n",
       "    }\n",
       "\n",
       "    .dataframe thead th {\n",
       "        text-align: right;\n",
       "    }\n",
       "</style>\n",
       "<table border=\"1\" class=\"dataframe\">\n",
       "  <thead>\n",
       "    <tr style=\"text-align: right;\">\n",
       "      <th></th>\n",
       "      <th>subreddit</th>\n",
       "      <th>title</th>\n",
       "      <th>body</th>\n",
       "      <th>upvotes</th>\n",
       "      <th>created_utc</th>\n",
       "      <th>num_comments</th>\n",
       "      <th>label</th>\n",
       "    </tr>\n",
       "  </thead>\n",
       "  <tbody>\n",
       "    <tr>\n",
       "      <th>47951</th>\n",
       "      <td>DeepThoughts</td>\n",
       "      <td>Deep thoughts underdog</td>\n",
       "      <td>Only when we start considering ourselves, the ...</td>\n",
       "      <td>4.0</td>\n",
       "      <td>1.405309e+09</td>\n",
       "      <td>NaN</td>\n",
       "      <td>0.0</td>\n",
       "    </tr>\n",
       "    <tr>\n",
       "      <th>47952</th>\n",
       "      <td>DeepThoughts</td>\n",
       "      <td>I like this sub, there's only two posts yet I ...</td>\n",
       "      <td>Anyway: Human Morality is a joke so long as th...</td>\n",
       "      <td>4.0</td>\n",
       "      <td>1.410568e+09</td>\n",
       "      <td>1.0</td>\n",
       "      <td>0.0</td>\n",
       "    </tr>\n",
       "    <tr>\n",
       "      <th>47957</th>\n",
       "      <td>DeepThoughts</td>\n",
       "      <td>Rebirth!</td>\n",
       "      <td>Hello. \\nI am the new guy in charge here (Besi...</td>\n",
       "      <td>6.0</td>\n",
       "      <td>1.416458e+09</td>\n",
       "      <td>1.0</td>\n",
       "      <td>0.0</td>\n",
       "    </tr>\n",
       "    <tr>\n",
       "      <th>47959</th>\n",
       "      <td>DeepThoughts</td>\n",
       "      <td>\"I want to be like water. I want to slip throu...</td>\n",
       "      <td>NaN</td>\n",
       "      <td>25.0</td>\n",
       "      <td>1.416512e+09</td>\n",
       "      <td>2.0</td>\n",
       "      <td>0.0</td>\n",
       "    </tr>\n",
       "    <tr>\n",
       "      <th>47960</th>\n",
       "      <td>DeepThoughts</td>\n",
       "      <td>Who am I?</td>\n",
       "      <td>You could take any one cell in my body and kil...</td>\n",
       "      <td>5.0</td>\n",
       "      <td>1.416516e+09</td>\n",
       "      <td>4.0</td>\n",
       "      <td>0.0</td>\n",
       "    </tr>\n",
       "  </tbody>\n",
       "</table>\n",
       "</div>"
      ],
      "text/plain": [
       "          subreddit                                              title  \\\n",
       "47951  DeepThoughts                             Deep thoughts underdog   \n",
       "47952  DeepThoughts  I like this sub, there's only two posts yet I ...   \n",
       "47957  DeepThoughts                                           Rebirth!   \n",
       "47959  DeepThoughts  \"I want to be like water. I want to slip throu...   \n",
       "47960  DeepThoughts                                          Who am I?   \n",
       "\n",
       "                                                    body  upvotes  \\\n",
       "47951  Only when we start considering ourselves, the ...      4.0   \n",
       "47952  Anyway: Human Morality is a joke so long as th...      4.0   \n",
       "47957  Hello. \\nI am the new guy in charge here (Besi...      6.0   \n",
       "47959                                                NaN     25.0   \n",
       "47960  You could take any one cell in my body and kil...      5.0   \n",
       "\n",
       "        created_utc  num_comments  label  \n",
       "47951  1.405309e+09           NaN    0.0  \n",
       "47952  1.410568e+09           1.0    0.0  \n",
       "47957  1.416458e+09           1.0    0.0  \n",
       "47959  1.416512e+09           2.0    0.0  \n",
       "47960  1.416516e+09           4.0    0.0  "
      ]
     },
     "execution_count": 7,
     "metadata": {},
     "output_type": "execute_result"
    }
   ],
   "source": [
    "reddit_df = pd.read_csv('../data/reddit_depression_dataset.csv', index_col=0)\n",
    "reddit_df.head()"
   ]
  },
  {
   "cell_type": "code",
   "execution_count": 8,
   "metadata": {},
   "outputs": [
    {
     "data": {
      "text/plain": [
       "(2470778, 7)"
      ]
     },
     "execution_count": 8,
     "metadata": {},
     "output_type": "execute_result"
    }
   ],
   "source": [
    "reddit_df.shape"
   ]
  },
  {
   "cell_type": "markdown",
   "metadata": {},
   "source": [
    "#### Data Pre-processing"
   ]
  },
  {
   "cell_type": "code",
   "execution_count": 9,
   "metadata": {},
   "outputs": [
    {
     "data": {
      "text/html": [
       "<div>\n",
       "<style scoped>\n",
       "    .dataframe tbody tr th:only-of-type {\n",
       "        vertical-align: middle;\n",
       "    }\n",
       "\n",
       "    .dataframe tbody tr th {\n",
       "        vertical-align: top;\n",
       "    }\n",
       "\n",
       "    .dataframe thead th {\n",
       "        text-align: right;\n",
       "    }\n",
       "</style>\n",
       "<table border=\"1\" class=\"dataframe\">\n",
       "  <thead>\n",
       "    <tr style=\"text-align: right;\">\n",
       "      <th></th>\n",
       "      <th>ID</th>\n",
       "      <th>Date</th>\n",
       "      <th>url</th>\n",
       "      <th>username</th>\n",
       "      <th>source</th>\n",
       "      <th>location</th>\n",
       "      <th>tweet</th>\n",
       "      <th>likes</th>\n",
       "      <th>rt</th>\n",
       "      <th>followers</th>\n",
       "      <th>...</th>\n",
       "      <th>rt_pf</th>\n",
       "      <th>replies_pf</th>\n",
       "      <th>engagement</th>\n",
       "      <th>engagement_0</th>\n",
       "      <th>processed_tweet</th>\n",
       "      <th>year</th>\n",
       "      <th>tweet_emoji_punc</th>\n",
       "      <th>tokenised_tweet</th>\n",
       "      <th>sentiment_scores</th>\n",
       "      <th>compound_score</th>\n",
       "    </tr>\n",
       "  </thead>\n",
       "  <tbody>\n",
       "    <tr>\n",
       "      <th>0</th>\n",
       "      <td>1625854658601418753</td>\n",
       "      <td>2023-02-15 13:48:52+00:00</td>\n",
       "      <td>https://twitter.com/haringeyiapt/status/162585...</td>\n",
       "      <td>haringeyiapt</td>\n",
       "      <td>Twitter for iPhone</td>\n",
       "      <td>Haringey</td>\n",
       "      <td>People with OCD experience intensely negative,...</td>\n",
       "      <td>5</td>\n",
       "      <td>1</td>\n",
       "      <td>317</td>\n",
       "      <td>...</td>\n",
       "      <td>0.006309</td>\n",
       "      <td>0.000000</td>\n",
       "      <td>0.022082</td>\n",
       "      <td>0.031546</td>\n",
       "      <td>people ocd experience intensely negative repet...</td>\n",
       "      <td>2023</td>\n",
       "      <td>people ocd experience intensely negative , rep...</td>\n",
       "      <td>['people', 'ocd', 'experience', 'intensely', '...</td>\n",
       "      <td>{'neg': 0.242, 'neu': 0.645, 'pos': 0.113, 'co...</td>\n",
       "      <td>-0.8111</td>\n",
       "    </tr>\n",
       "    <tr>\n",
       "      <th>1</th>\n",
       "      <td>1623813475469344769</td>\n",
       "      <td>2023-02-09 22:37:56+00:00</td>\n",
       "      <td>https://twitter.com/scrupulOCD_KC/status/16238...</td>\n",
       "      <td>scrupulOCD_KC</td>\n",
       "      <td>Twitter for Android</td>\n",
       "      <td>unknown</td>\n",
       "      <td>Hello all I'm Erika an @IOCDF grassroots advoc...</td>\n",
       "      <td>0</td>\n",
       "      <td>0</td>\n",
       "      <td>9</td>\n",
       "      <td>...</td>\n",
       "      <td>0.000000</td>\n",
       "      <td>0.000000</td>\n",
       "      <td>0.000000</td>\n",
       "      <td>0.000000</td>\n",
       "      <td>hello erika iocdf grassroots advocate loves ro...</td>\n",
       "      <td>2023</td>\n",
       "      <td>hello 'm erika @ iocdf grassroots advocate lov...</td>\n",
       "      <td>['hello', 'erika', 'iocdf', 'grassroots', 'adv...</td>\n",
       "      <td>{'neg': 0.043, 'neu': 0.821, 'pos': 0.136, 'co...</td>\n",
       "      <td>0.6981</td>\n",
       "    </tr>\n",
       "    <tr>\n",
       "      <th>2</th>\n",
       "      <td>1583057973496406016</td>\n",
       "      <td>2022-10-20 11:30:07+00:00</td>\n",
       "      <td>https://twitter.com/FootstepsCandC/status/1583...</td>\n",
       "      <td>FootstepsCandC</td>\n",
       "      <td>SmarterQueue</td>\n",
       "      <td>Gloucester</td>\n",
       "      <td>In light of last week's OCD Awareness week, we...</td>\n",
       "      <td>0</td>\n",
       "      <td>0</td>\n",
       "      <td>905</td>\n",
       "      <td>...</td>\n",
       "      <td>0.000000</td>\n",
       "      <td>0.000000</td>\n",
       "      <td>0.000000</td>\n",
       "      <td>0.000000</td>\n",
       "      <td>light last week ocd awareness week wanted offe...</td>\n",
       "      <td>2022</td>\n",
       "      <td>light last week 's ocd awareness week , wanted...</td>\n",
       "      <td>['light', 'last', 'week', 'ocd', 'awareness', ...</td>\n",
       "      <td>{'neg': 0.0, 'neu': 0.925, 'pos': 0.075, 'comp...</td>\n",
       "      <td>0.3400</td>\n",
       "    </tr>\n",
       "    <tr>\n",
       "      <th>3</th>\n",
       "      <td>1582457044451627008</td>\n",
       "      <td>2022-10-18 19:42:14+00:00</td>\n",
       "      <td>https://twitter.com/IOCDF/status/1582457044451...</td>\n",
       "      <td>IOCDF</td>\n",
       "      <td>Twitter Web App</td>\n",
       "      <td>Boston, MA</td>\n",
       "      <td>The GIFS now have over 1.4 million views on GI...</td>\n",
       "      <td>5</td>\n",
       "      <td>2</td>\n",
       "      <td>19257</td>\n",
       "      <td>...</td>\n",
       "      <td>0.000208</td>\n",
       "      <td>0.000000</td>\n",
       "      <td>0.000467</td>\n",
       "      <td>0.000519</td>\n",
       "      <td>gifs million views giphy hope campaign shifts ...</td>\n",
       "      <td>2022</td>\n",
       "      <td>gifs . million views giphy . hope campaign shi...</td>\n",
       "      <td>['gifs', 'million', 'views', 'giphy', 'hope', ...</td>\n",
       "      <td>{'neg': 0.0, 'neu': 0.848, 'pos': 0.152, 'comp...</td>\n",
       "      <td>0.7840</td>\n",
       "    </tr>\n",
       "    <tr>\n",
       "      <th>4</th>\n",
       "      <td>1582457038969262080</td>\n",
       "      <td>2022-10-18 19:42:13+00:00</td>\n",
       "      <td>https://twitter.com/IOCDF/status/1582457038969...</td>\n",
       "      <td>IOCDF</td>\n",
       "      <td>Twitter Web App</td>\n",
       "      <td>Boston, MA</td>\n",
       "      <td>The 2022 #OCDweek events, activities, and live...</td>\n",
       "      <td>7</td>\n",
       "      <td>2</td>\n",
       "      <td>19257</td>\n",
       "      <td>...</td>\n",
       "      <td>0.000208</td>\n",
       "      <td>0.000156</td>\n",
       "      <td>0.000727</td>\n",
       "      <td>0.000779</td>\n",
       "      <td>ocdweek events activities livestreams led amaz...</td>\n",
       "      <td>2022</td>\n",
       "      <td># ocdweek events , activities , livestreams l...</td>\n",
       "      <td>['ocdweek', 'events', 'activities', 'livestrea...</td>\n",
       "      <td>{'neg': 0.0, 'neu': 0.786, 'pos': 0.214, 'comp...</td>\n",
       "      <td>0.8689</td>\n",
       "    </tr>\n",
       "  </tbody>\n",
       "</table>\n",
       "<p>5 rows × 23 columns</p>\n",
       "</div>"
      ],
      "text/plain": [
       "                    ID                       Date  \\\n",
       "0  1625854658601418753  2023-02-15 13:48:52+00:00   \n",
       "1  1623813475469344769  2023-02-09 22:37:56+00:00   \n",
       "2  1583057973496406016  2022-10-20 11:30:07+00:00   \n",
       "3  1582457044451627008  2022-10-18 19:42:14+00:00   \n",
       "4  1582457038969262080  2022-10-18 19:42:13+00:00   \n",
       "\n",
       "                                                 url        username  \\\n",
       "0  https://twitter.com/haringeyiapt/status/162585...    haringeyiapt   \n",
       "1  https://twitter.com/scrupulOCD_KC/status/16238...   scrupulOCD_KC   \n",
       "2  https://twitter.com/FootstepsCandC/status/1583...  FootstepsCandC   \n",
       "3  https://twitter.com/IOCDF/status/1582457044451...           IOCDF   \n",
       "4  https://twitter.com/IOCDF/status/1582457038969...           IOCDF   \n",
       "\n",
       "                source    location  \\\n",
       "0   Twitter for iPhone   Haringey    \n",
       "1  Twitter for Android     unknown   \n",
       "2         SmarterQueue  Gloucester   \n",
       "3      Twitter Web App  Boston, MA   \n",
       "4      Twitter Web App  Boston, MA   \n",
       "\n",
       "                                               tweet  likes  rt  followers  \\\n",
       "0  People with OCD experience intensely negative,...      5   1        317   \n",
       "1  Hello all I'm Erika an @IOCDF grassroots advoc...      0   0          9   \n",
       "2  In light of last week's OCD Awareness week, we...      0   0        905   \n",
       "3  The GIFS now have over 1.4 million views on GI...      5   2      19257   \n",
       "4  The 2022 #OCDweek events, activities, and live...      7   2      19257   \n",
       "\n",
       "   ...     rt_pf replies_pf  engagement  engagement_0  \\\n",
       "0  ...  0.006309   0.000000    0.022082      0.031546   \n",
       "1  ...  0.000000   0.000000    0.000000      0.000000   \n",
       "2  ...  0.000000   0.000000    0.000000      0.000000   \n",
       "3  ...  0.000208   0.000000    0.000467      0.000519   \n",
       "4  ...  0.000208   0.000156    0.000727      0.000779   \n",
       "\n",
       "                                     processed_tweet  year  \\\n",
       "0  people ocd experience intensely negative repet...  2023   \n",
       "1  hello erika iocdf grassroots advocate loves ro...  2023   \n",
       "2  light last week ocd awareness week wanted offe...  2022   \n",
       "3  gifs million views giphy hope campaign shifts ...  2022   \n",
       "4  ocdweek events activities livestreams led amaz...  2022   \n",
       "\n",
       "                                    tweet_emoji_punc  \\\n",
       "0  people ocd experience intensely negative , rep...   \n",
       "1  hello 'm erika @ iocdf grassroots advocate lov...   \n",
       "2  light last week 's ocd awareness week , wanted...   \n",
       "3  gifs . million views giphy . hope campaign shi...   \n",
       "4   # ocdweek events , activities , livestreams l...   \n",
       "\n",
       "                                     tokenised_tweet  \\\n",
       "0  ['people', 'ocd', 'experience', 'intensely', '...   \n",
       "1  ['hello', 'erika', 'iocdf', 'grassroots', 'adv...   \n",
       "2  ['light', 'last', 'week', 'ocd', 'awareness', ...   \n",
       "3  ['gifs', 'million', 'views', 'giphy', 'hope', ...   \n",
       "4  ['ocdweek', 'events', 'activities', 'livestrea...   \n",
       "\n",
       "                                    sentiment_scores compound_score  \n",
       "0  {'neg': 0.242, 'neu': 0.645, 'pos': 0.113, 'co...        -0.8111  \n",
       "1  {'neg': 0.043, 'neu': 0.821, 'pos': 0.136, 'co...         0.6981  \n",
       "2  {'neg': 0.0, 'neu': 0.925, 'pos': 0.075, 'comp...         0.3400  \n",
       "3  {'neg': 0.0, 'neu': 0.848, 'pos': 0.152, 'comp...         0.7840  \n",
       "4  {'neg': 0.0, 'neu': 0.786, 'pos': 0.214, 'comp...         0.8689  \n",
       "\n",
       "[5 rows x 23 columns]"
      ]
     },
     "execution_count": 9,
     "metadata": {},
     "output_type": "execute_result"
    }
   ],
   "source": [
    "mh_scored_df.head()"
   ]
  },
  {
   "cell_type": "code",
   "execution_count": 10,
   "metadata": {},
   "outputs": [
    {
     "data": {
      "text/plain": [
       "ID                    int64\n",
       "Date                 object\n",
       "url                  object\n",
       "username             object\n",
       "source               object\n",
       "location             object\n",
       "tweet                object\n",
       "likes                 int64\n",
       "rt                    int64\n",
       "followers             int64\n",
       "replies               int64\n",
       "campaign             object\n",
       "likes_pf            float64\n",
       "rt_pf               float64\n",
       "replies_pf          float64\n",
       "engagement          float64\n",
       "engagement_0        float64\n",
       "processed_tweet      object\n",
       "year                  int64\n",
       "tweet_emoji_punc     object\n",
       "tokenised_tweet      object\n",
       "sentiment_scores     object\n",
       "compound_score      float64\n",
       "dtype: object"
      ]
     },
     "execution_count": 10,
     "metadata": {},
     "output_type": "execute_result"
    }
   ],
   "source": [
    "mh_scored_df.dtypes"
   ]
  },
  {
   "cell_type": "code",
   "execution_count": 11,
   "metadata": {},
   "outputs": [
    {
     "data": {
      "text/plain": [
       "ID                  0\n",
       "Date                0\n",
       "url                 0\n",
       "username            0\n",
       "source              0\n",
       "location            2\n",
       "tweet               0\n",
       "likes               0\n",
       "rt                  0\n",
       "followers           0\n",
       "replies             0\n",
       "campaign            0\n",
       "likes_pf            0\n",
       "rt_pf               0\n",
       "replies_pf          0\n",
       "engagement          0\n",
       "engagement_0        0\n",
       "processed_tweet     0\n",
       "year                0\n",
       "tweet_emoji_punc    0\n",
       "tokenised_tweet     0\n",
       "sentiment_scores    0\n",
       "compound_score      0\n",
       "dtype: int64"
      ]
     },
     "execution_count": 11,
     "metadata": {},
     "output_type": "execute_result"
    }
   ],
   "source": [
    "mh_scored_df.isnull().sum()"
   ]
  },
  {
   "cell_type": "markdown",
   "metadata": {},
   "source": [
    "There are only 2 missing location values. Let's zoom into what they are exactly"
   ]
  },
  {
   "cell_type": "code",
   "execution_count": 12,
   "metadata": {},
   "outputs": [
    {
     "data": {
      "text/html": [
       "<div>\n",
       "<style scoped>\n",
       "    .dataframe tbody tr th:only-of-type {\n",
       "        vertical-align: middle;\n",
       "    }\n",
       "\n",
       "    .dataframe tbody tr th {\n",
       "        vertical-align: top;\n",
       "    }\n",
       "\n",
       "    .dataframe thead th {\n",
       "        text-align: right;\n",
       "    }\n",
       "</style>\n",
       "<table border=\"1\" class=\"dataframe\">\n",
       "  <thead>\n",
       "    <tr style=\"text-align: right;\">\n",
       "      <th></th>\n",
       "      <th>ID</th>\n",
       "      <th>Date</th>\n",
       "      <th>url</th>\n",
       "      <th>username</th>\n",
       "      <th>source</th>\n",
       "      <th>location</th>\n",
       "      <th>tweet</th>\n",
       "      <th>likes</th>\n",
       "      <th>rt</th>\n",
       "      <th>followers</th>\n",
       "      <th>...</th>\n",
       "      <th>rt_pf</th>\n",
       "      <th>replies_pf</th>\n",
       "      <th>engagement</th>\n",
       "      <th>engagement_0</th>\n",
       "      <th>processed_tweet</th>\n",
       "      <th>year</th>\n",
       "      <th>tweet_emoji_punc</th>\n",
       "      <th>tokenised_tweet</th>\n",
       "      <th>sentiment_scores</th>\n",
       "      <th>compound_score</th>\n",
       "    </tr>\n",
       "  </thead>\n",
       "  <tbody>\n",
       "    <tr>\n",
       "      <th>149763</th>\n",
       "      <td>1181969412020199429</td>\n",
       "      <td>2019-10-09 16:27:22+00:00</td>\n",
       "      <td>https://twitter.com/MNelsonEdD/status/11819694...</td>\n",
       "      <td>MNelsonEdD</td>\n",
       "      <td>Twitter for iPhone</td>\n",
       "      <td>NaN</td>\n",
       "      <td>October is Mental Health Awareness Month.  The...</td>\n",
       "      <td>8</td>\n",
       "      <td>2</td>\n",
       "      <td>310</td>\n",
       "      <td>...</td>\n",
       "      <td>0.012903</td>\n",
       "      <td>0.0</td>\n",
       "      <td>0.03871</td>\n",
       "      <td>0.051613</td>\n",
       "      <td>october mental health awareness month help eve...</td>\n",
       "      <td>2019</td>\n",
       "      <td>october mental health awareness month . help e...</td>\n",
       "      <td>['october', 'mental', 'health', 'awareness', '...</td>\n",
       "      <td>{'neg': 0.121, 'neu': 0.646, 'pos': 0.233, 'co...</td>\n",
       "      <td>0.6124</td>\n",
       "    </tr>\n",
       "    <tr>\n",
       "      <th>420817</th>\n",
       "      <td>1392582959253819395</td>\n",
       "      <td>2021-05-12 20:50:25+00:00</td>\n",
       "      <td>https://twitter.com/Craigcooke12/status/139258...</td>\n",
       "      <td>Craigcooke12</td>\n",
       "      <td>Twitter for iPhone</td>\n",
       "      <td>NaN</td>\n",
       "      <td>@anewton1989 10 months pal, stress 4 figure de...</td>\n",
       "      <td>6</td>\n",
       "      <td>0</td>\n",
       "      <td>238</td>\n",
       "      <td>...</td>\n",
       "      <td>0.000000</td>\n",
       "      <td>0.0</td>\n",
       "      <td>0.02521</td>\n",
       "      <td>0.050420</td>\n",
       "      <td>months pal stress figure debt caused top yr ol...</td>\n",
       "      <td>2021</td>\n",
       "      <td>@ anewton  months pal , stress  figure debt ca...</td>\n",
       "      <td>['months', 'pal', 'stress', 'figure', 'debt', ...</td>\n",
       "      <td>{'neg': 0.107, 'neu': 0.852, 'pos': 0.041, 'co...</td>\n",
       "      <td>-0.3071</td>\n",
       "    </tr>\n",
       "  </tbody>\n",
       "</table>\n",
       "<p>2 rows × 23 columns</p>\n",
       "</div>"
      ],
      "text/plain": [
       "                         ID                       Date  \\\n",
       "149763  1181969412020199429  2019-10-09 16:27:22+00:00   \n",
       "420817  1392582959253819395  2021-05-12 20:50:25+00:00   \n",
       "\n",
       "                                                      url      username  \\\n",
       "149763  https://twitter.com/MNelsonEdD/status/11819694...    MNelsonEdD   \n",
       "420817  https://twitter.com/Craigcooke12/status/139258...  Craigcooke12   \n",
       "\n",
       "                    source location  \\\n",
       "149763  Twitter for iPhone      NaN   \n",
       "420817  Twitter for iPhone      NaN   \n",
       "\n",
       "                                                    tweet  likes  rt  \\\n",
       "149763  October is Mental Health Awareness Month.  The...      8   2   \n",
       "420817  @anewton1989 10 months pal, stress 4 figure de...      6   0   \n",
       "\n",
       "        followers  ...     rt_pf replies_pf  engagement  engagement_0  \\\n",
       "149763        310  ...  0.012903        0.0     0.03871      0.051613   \n",
       "420817        238  ...  0.000000        0.0     0.02521      0.050420   \n",
       "\n",
       "                                          processed_tweet  year  \\\n",
       "149763  october mental health awareness month help eve...  2019   \n",
       "420817  months pal stress figure debt caused top yr ol...  2021   \n",
       "\n",
       "                                         tweet_emoji_punc  \\\n",
       "149763  october mental health awareness month . help e...   \n",
       "420817  @ anewton  months pal , stress  figure debt ca...   \n",
       "\n",
       "                                          tokenised_tweet  \\\n",
       "149763  ['october', 'mental', 'health', 'awareness', '...   \n",
       "420817  ['months', 'pal', 'stress', 'figure', 'debt', ...   \n",
       "\n",
       "                                         sentiment_scores compound_score  \n",
       "149763  {'neg': 0.121, 'neu': 0.646, 'pos': 0.233, 'co...         0.6124  \n",
       "420817  {'neg': 0.107, 'neu': 0.852, 'pos': 0.041, 'co...        -0.3071  \n",
       "\n",
       "[2 rows x 23 columns]"
      ]
     },
     "execution_count": 12,
     "metadata": {},
     "output_type": "execute_result"
    }
   ],
   "source": [
    "mh_scored_df[mh_scored_df['location'].isnull()]"
   ]
  },
  {
   "cell_type": "markdown",
   "metadata": {},
   "source": [
    "Here, the missing `location` values are an NaN forme."
   ]
  },
  {
   "cell_type": "code",
   "execution_count": 13,
   "metadata": {},
   "outputs": [
    {
     "data": {
      "text/plain": [
       "location\n",
       "unknown                         96392\n",
       "London, England                 29542\n",
       "United Kingdom                  29106\n",
       "UK                              22412\n",
       "London                          21116\n",
       "                                ...  \n",
       "Felixstowe / Ealing Broadway        1\n",
       "Meadow Lake, Saskatchewan           1\n",
       "Royal Borough                       1\n",
       "ireland. 24. she/her                1\n",
       "Instagram - C4PoleFitness           1\n",
       "Name: count, Length: 58060, dtype: int64"
      ]
     },
     "execution_count": 13,
     "metadata": {},
     "output_type": "execute_result"
    }
   ],
   "source": [
    "mh_scored_df['location'].value_counts()"
   ]
  },
  {
   "cell_type": "markdown",
   "metadata": {},
   "source": [
    "However, under `location`, there is a label 'unknown', which indicates the lack of a provided date. So, we can apply this label on the missing `location` values."
   ]
  },
  {
   "cell_type": "code",
   "execution_count": 14,
   "metadata": {},
   "outputs": [
    {
     "name": "stderr",
     "output_type": "stream",
     "text": [
      "/var/folders/1v/dvtq9m8d48z659z8qvy5rxdh0000gn/T/ipykernel_12318/962037427.py:1: FutureWarning: A value is trying to be set on a copy of a DataFrame or Series through chained assignment using an inplace method.\n",
      "The behavior will change in pandas 3.0. This inplace method will never work because the intermediate object on which we are setting values always behaves as a copy.\n",
      "\n",
      "For example, when doing 'df[col].method(value, inplace=True)', try using 'df.method({col: value}, inplace=True)' or df[col] = df[col].method(value) instead, to perform the operation inplace on the original object.\n",
      "\n",
      "\n",
      "  mh_scored_df['location'].fillna('unknown', inplace=True)\n"
     ]
    }
   ],
   "source": [
    "mh_scored_df['location'].fillna('unknown', inplace=True)"
   ]
  },
  {
   "cell_type": "code",
   "execution_count": 15,
   "metadata": {},
   "outputs": [
    {
     "data": {
      "text/plain": [
       "ID                  0\n",
       "Date                0\n",
       "url                 0\n",
       "username            0\n",
       "source              0\n",
       "location            0\n",
       "tweet               0\n",
       "likes               0\n",
       "rt                  0\n",
       "followers           0\n",
       "replies             0\n",
       "campaign            0\n",
       "likes_pf            0\n",
       "rt_pf               0\n",
       "replies_pf          0\n",
       "engagement          0\n",
       "engagement_0        0\n",
       "processed_tweet     0\n",
       "year                0\n",
       "tweet_emoji_punc    0\n",
       "tokenised_tweet     0\n",
       "sentiment_scores    0\n",
       "compound_score      0\n",
       "dtype: int64"
      ]
     },
     "execution_count": 15,
     "metadata": {},
     "output_type": "execute_result"
    }
   ],
   "source": [
    "mh_scored_df.isnull().sum()"
   ]
  },
  {
   "cell_type": "markdown",
   "metadata": {},
   "source": [
    "And we have solved the missing data issue for `mh_scored_df`."
   ]
  },
  {
   "cell_type": "code",
   "execution_count": 16,
   "metadata": {},
   "outputs": [
    {
     "data": {
      "text/plain": [
       "\"{'neg': 0.242, 'neu': 0.645, 'pos': 0.113, 'compound': -0.8111}\""
      ]
     },
     "execution_count": 16,
     "metadata": {},
     "output_type": "execute_result"
    }
   ],
   "source": [
    "mh_scored_df['sentiment_scores'][0]"
   ]
  },
  {
   "cell_type": "markdown",
   "metadata": {},
   "source": [
    "This is how `sentiment_scores` are categorised. <br>\n",
    "Instead of a final category label of whether it is positive, negative or neutral, it shows us the probability of the data instance being in each of the 3 categories."
   ]
  },
  {
   "cell_type": "code",
   "execution_count": 17,
   "metadata": {},
   "outputs": [
    {
     "data": {
      "text/plain": [
       "target\n",
       "0    800000\n",
       "4    800000\n",
       "Name: count, dtype: int64"
      ]
     },
     "execution_count": 17,
     "metadata": {},
     "output_type": "execute_result"
    }
   ],
   "source": [
    "one_mil_six_df['target'].value_counts()"
   ]
  },
  {
   "cell_type": "markdown",
   "metadata": {},
   "source": [
    "When checking through the `one_mill_six` dataset, their label attribute: `target` has divided up the 3 categories into numerical classes: <br>\n",
    "<ul>\n",
    "    <li>0 represents a negative sentiment class</li>\n",
    "    <li>2 represents a neutral sentiment class</li>\n",
    "    <li>4 represents a positive sentiment class</li>\n",
    "</ul><br>\n",
    "\n",
    "Although the data split in `one_mill_six` is not ideal due to its even split between positive and negative, without any neutral, we can still use their labelling convention to transform `sentiment_scores` from `mh_scored_df`."
   ]
  },
  {
   "cell_type": "code",
   "execution_count": 18,
   "metadata": {},
   "outputs": [
    {
     "data": {
      "text/plain": [
       "0         {'neg': 0.242, 'neu': 0.645, 'pos': 0.113, 'co...\n",
       "1         {'neg': 0.043, 'neu': 0.821, 'pos': 0.136, 'co...\n",
       "2         {'neg': 0.0, 'neu': 0.925, 'pos': 0.075, 'comp...\n",
       "3         {'neg': 0.0, 'neu': 0.848, 'pos': 0.152, 'comp...\n",
       "4         {'neg': 0.0, 'neu': 0.786, 'pos': 0.214, 'comp...\n",
       "                                ...                        \n",
       "724740    {'neg': 0.0, 'neu': 0.855, 'pos': 0.145, 'comp...\n",
       "724741    {'neg': 0.0, 'neu': 0.899, 'pos': 0.101, 'comp...\n",
       "724742    {'neg': 0.0, 'neu': 0.828, 'pos': 0.172, 'comp...\n",
       "724743    {'neg': 0.0, 'neu': 1.0, 'pos': 0.0, 'compound...\n",
       "724744    {'neg': 0.0, 'neu': 0.602, 'pos': 0.398, 'comp...\n",
       "Name: sentiment_scores, Length: 724745, dtype: object"
      ]
     },
     "execution_count": 18,
     "metadata": {},
     "output_type": "execute_result"
    }
   ],
   "source": [
    "sentiment_scores = mh_scored_df['sentiment_scores'].apply(lambda x: ast.literal_eval(x))\n",
    "sentiment_scores"
   ]
  },
  {
   "cell_type": "markdown",
   "metadata": {},
   "source": [
    "Here, we first convert the string attribute into an object."
   ]
  },
  {
   "cell_type": "code",
   "execution_count": 19,
   "metadata": {},
   "outputs": [
    {
     "data": {
      "text/plain": [
       "0         {'neg': 0.242, 'neu': 0.645, 'pos': 0.113}\n",
       "1         {'neg': 0.043, 'neu': 0.821, 'pos': 0.136}\n",
       "2           {'neg': 0.0, 'neu': 0.925, 'pos': 0.075}\n",
       "3           {'neg': 0.0, 'neu': 0.848, 'pos': 0.152}\n",
       "4           {'neg': 0.0, 'neu': 0.786, 'pos': 0.214}\n",
       "                             ...                    \n",
       "724740      {'neg': 0.0, 'neu': 0.855, 'pos': 0.145}\n",
       "724741      {'neg': 0.0, 'neu': 0.899, 'pos': 0.101}\n",
       "724742      {'neg': 0.0, 'neu': 0.828, 'pos': 0.172}\n",
       "724743          {'neg': 0.0, 'neu': 1.0, 'pos': 0.0}\n",
       "724744      {'neg': 0.0, 'neu': 0.602, 'pos': 0.398}\n",
       "Name: sentiment_scores, Length: 724745, dtype: object"
      ]
     },
     "execution_count": 19,
     "metadata": {},
     "output_type": "execute_result"
    }
   ],
   "source": [
    "sentiment_scores = sentiment_scores.apply(lambda y: {k: v for k, v in y.items() if k != 'compound'})\n",
    "sentiment_scores"
   ]
  },
  {
   "cell_type": "markdown",
   "metadata": {},
   "source": [
    "Then, we remove 'compound' from the object. We are only looking for the 3 categories."
   ]
  },
  {
   "cell_type": "code",
   "execution_count": 20,
   "metadata": {},
   "outputs": [
    {
     "data": {
      "text/plain": [
       "0         neu\n",
       "1         neu\n",
       "2         neu\n",
       "3         neu\n",
       "4         neu\n",
       "         ... \n",
       "724740    neu\n",
       "724741    neu\n",
       "724742    neu\n",
       "724743    neu\n",
       "724744    neu\n",
       "Name: sentiment_scores, Length: 724745, dtype: object"
      ]
     },
     "execution_count": 20,
     "metadata": {},
     "output_type": "execute_result"
    }
   ],
   "source": [
    "sentiment_scores = sentiment_scores.apply(lambda z : max(z, key=z.get))\n",
    "sentiment_scores"
   ]
  },
  {
   "cell_type": "markdown",
   "metadata": {},
   "source": [
    "Next, only keep the class of the highest probability."
   ]
  },
  {
   "cell_type": "code",
   "execution_count": 21,
   "metadata": {},
   "outputs": [
    {
     "data": {
      "text/plain": [
       "0         2\n",
       "1         2\n",
       "2         2\n",
       "3         2\n",
       "4         2\n",
       "         ..\n",
       "724740    2\n",
       "724741    2\n",
       "724742    2\n",
       "724743    2\n",
       "724744    2\n",
       "Name: sentiment_scores, Length: 724745, dtype: int64"
      ]
     },
     "execution_count": 21,
     "metadata": {},
     "output_type": "execute_result"
    }
   ],
   "source": [
    "sentiment_scores = sentiment_scores.apply(lambda z: 0 if z == 'neg' else (2 if z == 'neu' else 4))\n",
    "sentiment_scores"
   ]
  },
  {
   "cell_type": "markdown",
   "metadata": {},
   "source": [
    "And last, we convert it into the `one_mill_six` label format."
   ]
  },
  {
   "cell_type": "code",
   "execution_count": 22,
   "metadata": {},
   "outputs": [
    {
     "data": {
      "image/png": "[encoded data removed]",
      "text/plain": [
       "<Figure size 800x800 with 1 Axes>"
      ]
     },
     "metadata": {},
     "output_type": "display_data"
    }
   ],
   "source": [
    "sentiment_counts = sentiment_scores.value_counts()\n",
    "\n",
    "plt.figure(figsize=(8, 8))\n",
    "plt.pie(sentiment_counts, labels=sentiment_counts.index, autopct='%1.1f%%', startangle=140)\n",
    "plt.title('Distribution of Sentiment Scores')\n",
    "plt.show()"
   ]
  },
  {
   "cell_type": "markdown",
   "metadata": {},
   "source": [
    "From this pie chart, we notice that the dataset has a high majority of 'neutral' tweets."
   ]
  },
  {
   "cell_type": "code",
   "execution_count": 23,
   "metadata": {},
   "outputs": [
    {
     "data": {
      "text/html": [
       "<div>\n",
       "<style scoped>\n",
       "    .dataframe tbody tr th:only-of-type {\n",
       "        vertical-align: middle;\n",
       "    }\n",
       "\n",
       "    .dataframe tbody tr th {\n",
       "        vertical-align: top;\n",
       "    }\n",
       "\n",
       "    .dataframe thead th {\n",
       "        text-align: right;\n",
       "    }\n",
       "</style>\n",
       "<table border=\"1\" class=\"dataframe\">\n",
       "  <thead>\n",
       "    <tr style=\"text-align: right;\">\n",
       "      <th></th>\n",
       "      <th>ID</th>\n",
       "      <th>Date</th>\n",
       "      <th>url</th>\n",
       "      <th>username</th>\n",
       "      <th>source</th>\n",
       "      <th>location</th>\n",
       "      <th>tweet</th>\n",
       "      <th>likes</th>\n",
       "      <th>rt</th>\n",
       "      <th>followers</th>\n",
       "      <th>...</th>\n",
       "      <th>rt_pf</th>\n",
       "      <th>replies_pf</th>\n",
       "      <th>engagement</th>\n",
       "      <th>engagement_0</th>\n",
       "      <th>processed_tweet</th>\n",
       "      <th>year</th>\n",
       "      <th>tweet_emoji_punc</th>\n",
       "      <th>tokenised_tweet</th>\n",
       "      <th>sentiment_scores</th>\n",
       "      <th>compound_score</th>\n",
       "    </tr>\n",
       "  </thead>\n",
       "  <tbody>\n",
       "    <tr>\n",
       "      <th>0</th>\n",
       "      <td>1625854658601418753</td>\n",
       "      <td>2023-02-15 13:48:52+00:00</td>\n",
       "      <td>https://twitter.com/haringeyiapt/status/162585...</td>\n",
       "      <td>haringeyiapt</td>\n",
       "      <td>Twitter for iPhone</td>\n",
       "      <td>Haringey</td>\n",
       "      <td>People with OCD experience intensely negative,...</td>\n",
       "      <td>5</td>\n",
       "      <td>1</td>\n",
       "      <td>317</td>\n",
       "      <td>...</td>\n",
       "      <td>0.006309</td>\n",
       "      <td>0.000000</td>\n",
       "      <td>0.022082</td>\n",
       "      <td>0.031546</td>\n",
       "      <td>people ocd experience intensely negative repet...</td>\n",
       "      <td>2023</td>\n",
       "      <td>people ocd experience intensely negative , rep...</td>\n",
       "      <td>['people', 'ocd', 'experience', 'intensely', '...</td>\n",
       "      <td>2</td>\n",
       "      <td>-0.8111</td>\n",
       "    </tr>\n",
       "    <tr>\n",
       "      <th>1</th>\n",
       "      <td>1623813475469344769</td>\n",
       "      <td>2023-02-09 22:37:56+00:00</td>\n",
       "      <td>https://twitter.com/scrupulOCD_KC/status/16238...</td>\n",
       "      <td>scrupulOCD_KC</td>\n",
       "      <td>Twitter for Android</td>\n",
       "      <td>unknown</td>\n",
       "      <td>Hello all I'm Erika an @IOCDF grassroots advoc...</td>\n",
       "      <td>0</td>\n",
       "      <td>0</td>\n",
       "      <td>9</td>\n",
       "      <td>...</td>\n",
       "      <td>0.000000</td>\n",
       "      <td>0.000000</td>\n",
       "      <td>0.000000</td>\n",
       "      <td>0.000000</td>\n",
       "      <td>hello erika iocdf grassroots advocate loves ro...</td>\n",
       "      <td>2023</td>\n",
       "      <td>hello 'm erika @ iocdf grassroots advocate lov...</td>\n",
       "      <td>['hello', 'erika', 'iocdf', 'grassroots', 'adv...</td>\n",
       "      <td>2</td>\n",
       "      <td>0.6981</td>\n",
       "    </tr>\n",
       "    <tr>\n",
       "      <th>2</th>\n",
       "      <td>1583057973496406016</td>\n",
       "      <td>2022-10-20 11:30:07+00:00</td>\n",
       "      <td>https://twitter.com/FootstepsCandC/status/1583...</td>\n",
       "      <td>FootstepsCandC</td>\n",
       "      <td>SmarterQueue</td>\n",
       "      <td>Gloucester</td>\n",
       "      <td>In light of last week's OCD Awareness week, we...</td>\n",
       "      <td>0</td>\n",
       "      <td>0</td>\n",
       "      <td>905</td>\n",
       "      <td>...</td>\n",
       "      <td>0.000000</td>\n",
       "      <td>0.000000</td>\n",
       "      <td>0.000000</td>\n",
       "      <td>0.000000</td>\n",
       "      <td>light last week ocd awareness week wanted offe...</td>\n",
       "      <td>2022</td>\n",
       "      <td>light last week 's ocd awareness week , wanted...</td>\n",
       "      <td>['light', 'last', 'week', 'ocd', 'awareness', ...</td>\n",
       "      <td>2</td>\n",
       "      <td>0.3400</td>\n",
       "    </tr>\n",
       "    <tr>\n",
       "      <th>3</th>\n",
       "      <td>1582457044451627008</td>\n",
       "      <td>2022-10-18 19:42:14+00:00</td>\n",
       "      <td>https://twitter.com/IOCDF/status/1582457044451...</td>\n",
       "      <td>IOCDF</td>\n",
       "      <td>Twitter Web App</td>\n",
       "      <td>Boston, MA</td>\n",
       "      <td>The GIFS now have over 1.4 million views on GI...</td>\n",
       "      <td>5</td>\n",
       "      <td>2</td>\n",
       "      <td>19257</td>\n",
       "      <td>...</td>\n",
       "      <td>0.000208</td>\n",
       "      <td>0.000000</td>\n",
       "      <td>0.000467</td>\n",
       "      <td>0.000519</td>\n",
       "      <td>gifs million views giphy hope campaign shifts ...</td>\n",
       "      <td>2022</td>\n",
       "      <td>gifs . million views giphy . hope campaign shi...</td>\n",
       "      <td>['gifs', 'million', 'views', 'giphy', 'hope', ...</td>\n",
       "      <td>2</td>\n",
       "      <td>0.7840</td>\n",
       "    </tr>\n",
       "    <tr>\n",
       "      <th>4</th>\n",
       "      <td>1582457038969262080</td>\n",
       "      <td>2022-10-18 19:42:13+00:00</td>\n",
       "      <td>https://twitter.com/IOCDF/status/1582457038969...</td>\n",
       "      <td>IOCDF</td>\n",
       "      <td>Twitter Web App</td>\n",
       "      <td>Boston, MA</td>\n",
       "      <td>The 2022 #OCDweek events, activities, and live...</td>\n",
       "      <td>7</td>\n",
       "      <td>2</td>\n",
       "      <td>19257</td>\n",
       "      <td>...</td>\n",
       "      <td>0.000208</td>\n",
       "      <td>0.000156</td>\n",
       "      <td>0.000727</td>\n",
       "      <td>0.000779</td>\n",
       "      <td>ocdweek events activities livestreams led amaz...</td>\n",
       "      <td>2022</td>\n",
       "      <td># ocdweek events , activities , livestreams l...</td>\n",
       "      <td>['ocdweek', 'events', 'activities', 'livestrea...</td>\n",
       "      <td>2</td>\n",
       "      <td>0.8689</td>\n",
       "    </tr>\n",
       "  </tbody>\n",
       "</table>\n",
       "<p>5 rows × 23 columns</p>\n",
       "</div>"
      ],
      "text/plain": [
       "                    ID                       Date  \\\n",
       "0  1625854658601418753  2023-02-15 13:48:52+00:00   \n",
       "1  1623813475469344769  2023-02-09 22:37:56+00:00   \n",
       "2  1583057973496406016  2022-10-20 11:30:07+00:00   \n",
       "3  1582457044451627008  2022-10-18 19:42:14+00:00   \n",
       "4  1582457038969262080  2022-10-18 19:42:13+00:00   \n",
       "\n",
       "                                                 url        username  \\\n",
       "0  https://twitter.com/haringeyiapt/status/162585...    haringeyiapt   \n",
       "1  https://twitter.com/scrupulOCD_KC/status/16238...   scrupulOCD_KC   \n",
       "2  https://twitter.com/FootstepsCandC/status/1583...  FootstepsCandC   \n",
       "3  https://twitter.com/IOCDF/status/1582457044451...           IOCDF   \n",
       "4  https://twitter.com/IOCDF/status/1582457038969...           IOCDF   \n",
       "\n",
       "                source    location  \\\n",
       "0   Twitter for iPhone   Haringey    \n",
       "1  Twitter for Android     unknown   \n",
       "2         SmarterQueue  Gloucester   \n",
       "3      Twitter Web App  Boston, MA   \n",
       "4      Twitter Web App  Boston, MA   \n",
       "\n",
       "                                               tweet  likes  rt  followers  \\\n",
       "0  People with OCD experience intensely negative,...      5   1        317   \n",
       "1  Hello all I'm Erika an @IOCDF grassroots advoc...      0   0          9   \n",
       "2  In light of last week's OCD Awareness week, we...      0   0        905   \n",
       "3  The GIFS now have over 1.4 million views on GI...      5   2      19257   \n",
       "4  The 2022 #OCDweek events, activities, and live...      7   2      19257   \n",
       "\n",
       "   ...     rt_pf replies_pf  engagement  engagement_0  \\\n",
       "0  ...  0.006309   0.000000    0.022082      0.031546   \n",
       "1  ...  0.000000   0.000000    0.000000      0.000000   \n",
       "2  ...  0.000000   0.000000    0.000000      0.000000   \n",
       "3  ...  0.000208   0.000000    0.000467      0.000519   \n",
       "4  ...  0.000208   0.000156    0.000727      0.000779   \n",
       "\n",
       "                                     processed_tweet  year  \\\n",
       "0  people ocd experience intensely negative repet...  2023   \n",
       "1  hello erika iocdf grassroots advocate loves ro...  2023   \n",
       "2  light last week ocd awareness week wanted offe...  2022   \n",
       "3  gifs million views giphy hope campaign shifts ...  2022   \n",
       "4  ocdweek events activities livestreams led amaz...  2022   \n",
       "\n",
       "                                    tweet_emoji_punc  \\\n",
       "0  people ocd experience intensely negative , rep...   \n",
       "1  hello 'm erika @ iocdf grassroots advocate lov...   \n",
       "2  light last week 's ocd awareness week , wanted...   \n",
       "3  gifs . million views giphy . hope campaign shi...   \n",
       "4   # ocdweek events , activities , livestreams l...   \n",
       "\n",
       "                                     tokenised_tweet  sentiment_scores  \\\n",
       "0  ['people', 'ocd', 'experience', 'intensely', '...                 2   \n",
       "1  ['hello', 'erika', 'iocdf', 'grassroots', 'adv...                 2   \n",
       "2  ['light', 'last', 'week', 'ocd', 'awareness', ...                 2   \n",
       "3  ['gifs', 'million', 'views', 'giphy', 'hope', ...                 2   \n",
       "4  ['ocdweek', 'events', 'activities', 'livestrea...                 2   \n",
       "\n",
       "  compound_score  \n",
       "0        -0.8111  \n",
       "1         0.6981  \n",
       "2         0.3400  \n",
       "3         0.7840  \n",
       "4         0.8689  \n",
       "\n",
       "[5 rows x 23 columns]"
      ]
     },
     "execution_count": 23,
     "metadata": {},
     "output_type": "execute_result"
    }
   ],
   "source": [
    "mh_scored_df['sentiment_scores'] = sentiment_scores\n",
    "mh_scored_df.head()"
   ]
  },
  {
   "cell_type": "markdown",
   "metadata": {},
   "source": [
    "Converting the sentiment probabilty scores into a singular consensus sentiment score."
   ]
  },
  {
   "cell_type": "markdown",
   "metadata": {},
   "source": [
    "I do have to emphasise on a 'Neutral Sentiment' response, it does not mean that they are in between Positive and Negative, but instead that the text holds no skew on emotions."
   ]
  },
  {
   "cell_type": "markdown",
   "metadata": {},
   "source": [
    "Here, `sentiment_scores` are a categorical attribute for sentiment classes, while `compound_score` is a continious classification of sentiment."
   ]
  },
  {
   "cell_type": "code",
   "execution_count": 24,
   "metadata": {},
   "outputs": [
    {
     "name": "stdout",
     "output_type": "stream",
     "text": [
      "0.9999\n",
      "-0.9975\n"
     ]
    }
   ],
   "source": [
    "print(mh_scored_df['compound_score'].max())\n",
    "print(mh_scored_df['compound_score'].min())"
   ]
  },
  {
   "cell_type": "markdown",
   "metadata": {},
   "source": [
    "The range for `compound_score` is rounded to be -1 to +1,, where 0 < x <= 1 is a positive seniment, the close to 1 being the stronger the positivity, and -1 <= x < 0 is a negative sentiment, the close to -1 being a stronger negativity. An absolute 0 sentiment means no sentiment."
   ]
  },
  {
   "cell_type": "code",
   "execution_count": 25,
   "metadata": {},
   "outputs": [
    {
     "data": {
      "text/plain": [
       "100718"
      ]
     },
     "execution_count": 25,
     "metadata": {},
     "output_type": "execute_result"
    }
   ],
   "source": [
    "mh_scored_df[mh_scored_df['compound_score'] == 0]['ID'].count()"
   ]
  },
  {
   "cell_type": "markdown",
   "metadata": {},
   "source": [
    "As shown above, there are tweets that are exactly 0, meaning that they are truly neutral."
   ]
  },
  {
   "cell_type": "code",
   "execution_count": 26,
   "metadata": {},
   "outputs": [
    {
     "data": {
      "text/plain": [
       "0         Strong Negative\n",
       "1         Strong Positive\n",
       "2           Weak Positive\n",
       "3         Strong Positive\n",
       "4         Strong Positive\n",
       "               ...       \n",
       "724740      Weak Positive\n",
       "724741      Weak Positive\n",
       "724742      Weak Positive\n",
       "724743            Neutral\n",
       "724744    Strong Positive\n",
       "Name: compound_score, Length: 724745, dtype: object"
      ]
     },
     "execution_count": 26,
     "metadata": {},
     "output_type": "execute_result"
    }
   ],
   "source": [
    "compound_score = mh_scored_df['compound_score']\n",
    "compound_category = compound_score.apply(\n",
    "    lambda x: 'Strong Positive' if 1 >= x > 0.5 else\n",
    "              'Weak Positive' if 0.5 >= x > 0 else\n",
    "              'Neutral' if x == 0 else\n",
    "              'Weak Negative' if 0 > x >= -0.5 else\n",
    "              'Strong Negative'\n",
    ")\n",
    "compound_category"
   ]
  },
  {
   "cell_type": "markdown",
   "metadata": {},
   "source": [
    "We discretize the continious attribute `compound_score` into a new categorical attribute `compound_categories` to obtain the sentiment group that the tweet is in. <br>\n",
    "As this scoring follows the correlation matrix range, we will adpot the classification format from it too, grouping the data into 5 main categories as shown above."
   ]
  },
  {
   "cell_type": "code",
   "execution_count": 27,
   "metadata": {},
   "outputs": [
    {
     "data": {
      "image/png": "[encoded data removed]",
      "text/plain": [
       "<Figure size 800x800 with 1 Axes>"
      ]
     },
     "metadata": {},
     "output_type": "display_data"
    }
   ],
   "source": [
    "compound_counts = compound_category.value_counts()\n",
    "\n",
    "plt.figure(figsize=(8, 8))\n",
    "plt.pie(compound_counts, labels=compound_counts.index, autopct='%1.1f%%', startangle=140)\n",
    "plt.title('Distribution of Compound Scores')\n",
    "plt.show()"
   ]
  },
  {
   "cell_type": "markdown",
   "metadata": {},
   "source": [
    "When plotting the `compound_categories` onto a pie chart, we now see a stark difference between the `sentiment_scores` and `compound_categories`. <br>\n",
    "Where `sentiment_scores` have an overwhelming majority in 'neutral', the data here is more evenly split, with 'neutral' taking a back seat, and 'strong positive' being the majority at 47.2%."
   ]
  },
  {
   "cell_type": "code",
   "execution_count": 28,
   "metadata": {},
   "outputs": [
    {
     "data": {
      "text/html": [
       "<div>\n",
       "<style scoped>\n",
       "    .dataframe tbody tr th:only-of-type {\n",
       "        vertical-align: middle;\n",
       "    }\n",
       "\n",
       "    .dataframe tbody tr th {\n",
       "        vertical-align: top;\n",
       "    }\n",
       "\n",
       "    .dataframe thead th {\n",
       "        text-align: right;\n",
       "    }\n",
       "</style>\n",
       "<table border=\"1\" class=\"dataframe\">\n",
       "  <thead>\n",
       "    <tr style=\"text-align: right;\">\n",
       "      <th></th>\n",
       "      <th>ID</th>\n",
       "      <th>Date</th>\n",
       "      <th>url</th>\n",
       "      <th>username</th>\n",
       "      <th>source</th>\n",
       "      <th>location</th>\n",
       "      <th>tweet</th>\n",
       "      <th>likes</th>\n",
       "      <th>rt</th>\n",
       "      <th>followers</th>\n",
       "      <th>...</th>\n",
       "      <th>replies_pf</th>\n",
       "      <th>engagement</th>\n",
       "      <th>engagement_0</th>\n",
       "      <th>processed_tweet</th>\n",
       "      <th>year</th>\n",
       "      <th>tweet_emoji_punc</th>\n",
       "      <th>tokenised_tweet</th>\n",
       "      <th>sentiment_scores</th>\n",
       "      <th>compound_score</th>\n",
       "      <th>compound_category</th>\n",
       "    </tr>\n",
       "  </thead>\n",
       "  <tbody>\n",
       "    <tr>\n",
       "      <th>0</th>\n",
       "      <td>1625854658601418753</td>\n",
       "      <td>2023-02-15 13:48:52+00:00</td>\n",
       "      <td>https://twitter.com/haringeyiapt/status/162585...</td>\n",
       "      <td>haringeyiapt</td>\n",
       "      <td>Twitter for iPhone</td>\n",
       "      <td>Haringey</td>\n",
       "      <td>People with OCD experience intensely negative,...</td>\n",
       "      <td>5</td>\n",
       "      <td>1</td>\n",
       "      <td>317</td>\n",
       "      <td>...</td>\n",
       "      <td>0.000000</td>\n",
       "      <td>0.022082</td>\n",
       "      <td>0.031546</td>\n",
       "      <td>people ocd experience intensely negative repet...</td>\n",
       "      <td>2023</td>\n",
       "      <td>people ocd experience intensely negative , rep...</td>\n",
       "      <td>['people', 'ocd', 'experience', 'intensely', '...</td>\n",
       "      <td>2</td>\n",
       "      <td>-0.8111</td>\n",
       "      <td>Strong Negative</td>\n",
       "    </tr>\n",
       "    <tr>\n",
       "      <th>1</th>\n",
       "      <td>1623813475469344769</td>\n",
       "      <td>2023-02-09 22:37:56+00:00</td>\n",
       "      <td>https://twitter.com/scrupulOCD_KC/status/16238...</td>\n",
       "      <td>scrupulOCD_KC</td>\n",
       "      <td>Twitter for Android</td>\n",
       "      <td>unknown</td>\n",
       "      <td>Hello all I'm Erika an @IOCDF grassroots advoc...</td>\n",
       "      <td>0</td>\n",
       "      <td>0</td>\n",
       "      <td>9</td>\n",
       "      <td>...</td>\n",
       "      <td>0.000000</td>\n",
       "      <td>0.000000</td>\n",
       "      <td>0.000000</td>\n",
       "      <td>hello erika iocdf grassroots advocate loves ro...</td>\n",
       "      <td>2023</td>\n",
       "      <td>hello 'm erika @ iocdf grassroots advocate lov...</td>\n",
       "      <td>['hello', 'erika', 'iocdf', 'grassroots', 'adv...</td>\n",
       "      <td>2</td>\n",
       "      <td>0.6981</td>\n",
       "      <td>Strong Positive</td>\n",
       "    </tr>\n",
       "    <tr>\n",
       "      <th>2</th>\n",
       "      <td>1583057973496406016</td>\n",
       "      <td>2022-10-20 11:30:07+00:00</td>\n",
       "      <td>https://twitter.com/FootstepsCandC/status/1583...</td>\n",
       "      <td>FootstepsCandC</td>\n",
       "      <td>SmarterQueue</td>\n",
       "      <td>Gloucester</td>\n",
       "      <td>In light of last week's OCD Awareness week, we...</td>\n",
       "      <td>0</td>\n",
       "      <td>0</td>\n",
       "      <td>905</td>\n",
       "      <td>...</td>\n",
       "      <td>0.000000</td>\n",
       "      <td>0.000000</td>\n",
       "      <td>0.000000</td>\n",
       "      <td>light last week ocd awareness week wanted offe...</td>\n",
       "      <td>2022</td>\n",
       "      <td>light last week 's ocd awareness week , wanted...</td>\n",
       "      <td>['light', 'last', 'week', 'ocd', 'awareness', ...</td>\n",
       "      <td>2</td>\n",
       "      <td>0.3400</td>\n",
       "      <td>Weak Positive</td>\n",
       "    </tr>\n",
       "    <tr>\n",
       "      <th>3</th>\n",
       "      <td>1582457044451627008</td>\n",
       "      <td>2022-10-18 19:42:14+00:00</td>\n",
       "      <td>https://twitter.com/IOCDF/status/1582457044451...</td>\n",
       "      <td>IOCDF</td>\n",
       "      <td>Twitter Web App</td>\n",
       "      <td>Boston, MA</td>\n",
       "      <td>The GIFS now have over 1.4 million views on GI...</td>\n",
       "      <td>5</td>\n",
       "      <td>2</td>\n",
       "      <td>19257</td>\n",
       "      <td>...</td>\n",
       "      <td>0.000000</td>\n",
       "      <td>0.000467</td>\n",
       "      <td>0.000519</td>\n",
       "      <td>gifs million views giphy hope campaign shifts ...</td>\n",
       "      <td>2022</td>\n",
       "      <td>gifs . million views giphy . hope campaign shi...</td>\n",
       "      <td>['gifs', 'million', 'views', 'giphy', 'hope', ...</td>\n",
       "      <td>2</td>\n",
       "      <td>0.7840</td>\n",
       "      <td>Strong Positive</td>\n",
       "    </tr>\n",
       "    <tr>\n",
       "      <th>4</th>\n",
       "      <td>1582457038969262080</td>\n",
       "      <td>2022-10-18 19:42:13+00:00</td>\n",
       "      <td>https://twitter.com/IOCDF/status/1582457038969...</td>\n",
       "      <td>IOCDF</td>\n",
       "      <td>Twitter Web App</td>\n",
       "      <td>Boston, MA</td>\n",
       "      <td>The 2022 #OCDweek events, activities, and live...</td>\n",
       "      <td>7</td>\n",
       "      <td>2</td>\n",
       "      <td>19257</td>\n",
       "      <td>...</td>\n",
       "      <td>0.000156</td>\n",
       "      <td>0.000727</td>\n",
       "      <td>0.000779</td>\n",
       "      <td>ocdweek events activities livestreams led amaz...</td>\n",
       "      <td>2022</td>\n",
       "      <td># ocdweek events , activities , livestreams l...</td>\n",
       "      <td>['ocdweek', 'events', 'activities', 'livestrea...</td>\n",
       "      <td>2</td>\n",
       "      <td>0.8689</td>\n",
       "      <td>Strong Positive</td>\n",
       "    </tr>\n",
       "  </tbody>\n",
       "</table>\n",
       "<p>5 rows × 24 columns</p>\n",
       "</div>"
      ],
      "text/plain": [
       "                    ID                       Date  \\\n",
       "0  1625854658601418753  2023-02-15 13:48:52+00:00   \n",
       "1  1623813475469344769  2023-02-09 22:37:56+00:00   \n",
       "2  1583057973496406016  2022-10-20 11:30:07+00:00   \n",
       "3  1582457044451627008  2022-10-18 19:42:14+00:00   \n",
       "4  1582457038969262080  2022-10-18 19:42:13+00:00   \n",
       "\n",
       "                                                 url        username  \\\n",
       "0  https://twitter.com/haringeyiapt/status/162585...    haringeyiapt   \n",
       "1  https://twitter.com/scrupulOCD_KC/status/16238...   scrupulOCD_KC   \n",
       "2  https://twitter.com/FootstepsCandC/status/1583...  FootstepsCandC   \n",
       "3  https://twitter.com/IOCDF/status/1582457044451...           IOCDF   \n",
       "4  https://twitter.com/IOCDF/status/1582457038969...           IOCDF   \n",
       "\n",
       "                source    location  \\\n",
       "0   Twitter for iPhone   Haringey    \n",
       "1  Twitter for Android     unknown   \n",
       "2         SmarterQueue  Gloucester   \n",
       "3      Twitter Web App  Boston, MA   \n",
       "4      Twitter Web App  Boston, MA   \n",
       "\n",
       "                                               tweet  likes  rt  followers  \\\n",
       "0  People with OCD experience intensely negative,...      5   1        317   \n",
       "1  Hello all I'm Erika an @IOCDF grassroots advoc...      0   0          9   \n",
       "2  In light of last week's OCD Awareness week, we...      0   0        905   \n",
       "3  The GIFS now have over 1.4 million views on GI...      5   2      19257   \n",
       "4  The 2022 #OCDweek events, activities, and live...      7   2      19257   \n",
       "\n",
       "   ...  replies_pf engagement  engagement_0  \\\n",
       "0  ...    0.000000   0.022082      0.031546   \n",
       "1  ...    0.000000   0.000000      0.000000   \n",
       "2  ...    0.000000   0.000000      0.000000   \n",
       "3  ...    0.000000   0.000467      0.000519   \n",
       "4  ...    0.000156   0.000727      0.000779   \n",
       "\n",
       "                                     processed_tweet  year  \\\n",
       "0  people ocd experience intensely negative repet...  2023   \n",
       "1  hello erika iocdf grassroots advocate loves ro...  2023   \n",
       "2  light last week ocd awareness week wanted offe...  2022   \n",
       "3  gifs million views giphy hope campaign shifts ...  2022   \n",
       "4  ocdweek events activities livestreams led amaz...  2022   \n",
       "\n",
       "                                    tweet_emoji_punc  \\\n",
       "0  people ocd experience intensely negative , rep...   \n",
       "1  hello 'm erika @ iocdf grassroots advocate lov...   \n",
       "2  light last week 's ocd awareness week , wanted...   \n",
       "3  gifs . million views giphy . hope campaign shi...   \n",
       "4   # ocdweek events , activities , livestreams l...   \n",
       "\n",
       "                                     tokenised_tweet sentiment_scores  \\\n",
       "0  ['people', 'ocd', 'experience', 'intensely', '...                2   \n",
       "1  ['hello', 'erika', 'iocdf', 'grassroots', 'adv...                2   \n",
       "2  ['light', 'last', 'week', 'ocd', 'awareness', ...                2   \n",
       "3  ['gifs', 'million', 'views', 'giphy', 'hope', ...                2   \n",
       "4  ['ocdweek', 'events', 'activities', 'livestrea...                2   \n",
       "\n",
       "   compound_score compound_category  \n",
       "0         -0.8111   Strong Negative  \n",
       "1          0.6981   Strong Positive  \n",
       "2          0.3400     Weak Positive  \n",
       "3          0.7840   Strong Positive  \n",
       "4          0.8689   Strong Positive  \n",
       "\n",
       "[5 rows x 24 columns]"
      ]
     },
     "execution_count": 28,
     "metadata": {},
     "output_type": "execute_result"
    }
   ],
   "source": [
    "mh_scored_df['compound_category'] = compound_category\n",
    "mh_scored_df.head()"
   ]
  },
  {
   "cell_type": "code",
   "execution_count": 29,
   "metadata": {},
   "outputs": [
    {
     "name": "stdout",
     "output_type": "stream",
     "text": [
      "['people', 'ocd', 'experience', 'intensely', 'negative', 'repetitive', 'intrusive', 'thoughts', 'chronic', 'feeling', 'doubt', 'danger', 'calm', 'anxiety', 'people', 'ocd', 'often', 'repeat', 'action', 'known', 'compulsions', 'experience', 'therapy', 'help', 'ocdweek', 'ocd', 'https']\n",
      "<class 'str'>\n"
     ]
    }
   ],
   "source": [
    "print(mh_scored_df['tokenised_tweet'][0])\n",
    "print(type(mh_scored_df['tokenised_tweet'][0]))"
   ]
  },
  {
   "cell_type": "markdown",
   "metadata": {},
   "source": [
    "Similarly to `sentiment_scores`, the dataset has automatically converted it into string, instead of keeping it in its original array format. <br>\n",
    "Thus, we need to re-convert it back."
   ]
  },
  {
   "cell_type": "code",
   "execution_count": 30,
   "metadata": {},
   "outputs": [
    {
     "data": {
      "text/plain": [
       "0         [people, ocd, experience, intensely, negative,...\n",
       "1         [hello, erika, iocdf, grassroots, advocate, lo...\n",
       "2         [light, last, week, ocd, awareness, week, want...\n",
       "3         [gifs, million, views, giphy, hope, campaign, ...\n",
       "4         [ocdweek, events, activities, livestreams, led...\n",
       "                                ...                        \n",
       "724740       [join, uni, mental, health, day, march, https]\n",
       "724741    [twitter, accounts, reached, using, unimentalh...\n",
       "724742    [excited, unimentalhealthday, amp, begin, plan...\n",
       "724743    [lots, stuff, happening, coming, month, btw, u...\n",
       "724744    [vibemedia, interested, supporting, us, film, ...\n",
       "Name: tokenised_tweet, Length: 724745, dtype: object"
      ]
     },
     "execution_count": 30,
     "metadata": {},
     "output_type": "execute_result"
    }
   ],
   "source": [
    "token_tweet = mh_scored_df['tokenised_tweet'].apply(lambda x: ast.literal_eval(x))\n",
    "token_tweet"
   ]
  },
  {
   "cell_type": "code",
   "execution_count": 31,
   "metadata": {},
   "outputs": [
    {
     "data": {
      "text/plain": [
       "list"
      ]
     },
     "execution_count": 31,
     "metadata": {},
     "output_type": "execute_result"
    }
   ],
   "source": [
    "type(token_tweet[0])"
   ]
  },
  {
   "cell_type": "markdown",
   "metadata": {},
   "source": [
    "Now, the attribute is in its list/array format, and the data can be retrieved easily and properly."
   ]
  },
  {
   "cell_type": "code",
   "execution_count": 32,
   "metadata": {},
   "outputs": [],
   "source": [
    "mh_scored_df['tokenised_tweet'] = token_tweet"
   ]
  },
  {
   "cell_type": "code",
   "execution_count": 33,
   "metadata": {},
   "outputs": [
    {
     "data": {
      "text/html": [
       "<div>\n",
       "<style scoped>\n",
       "    .dataframe tbody tr th:only-of-type {\n",
       "        vertical-align: middle;\n",
       "    }\n",
       "\n",
       "    .dataframe tbody tr th {\n",
       "        vertical-align: top;\n",
       "    }\n",
       "\n",
       "    .dataframe thead th {\n",
       "        text-align: right;\n",
       "    }\n",
       "</style>\n",
       "<table border=\"1\" class=\"dataframe\">\n",
       "  <thead>\n",
       "    <tr style=\"text-align: right;\">\n",
       "      <th></th>\n",
       "      <th>ID</th>\n",
       "      <th>Date</th>\n",
       "      <th>url</th>\n",
       "      <th>username</th>\n",
       "      <th>source</th>\n",
       "      <th>location</th>\n",
       "      <th>tweet</th>\n",
       "      <th>likes</th>\n",
       "      <th>rt</th>\n",
       "      <th>followers</th>\n",
       "      <th>...</th>\n",
       "      <th>replies_pf</th>\n",
       "      <th>engagement</th>\n",
       "      <th>engagement_0</th>\n",
       "      <th>processed_tweet</th>\n",
       "      <th>year</th>\n",
       "      <th>tweet_emoji_punc</th>\n",
       "      <th>tokenised_tweet</th>\n",
       "      <th>sentiment_scores</th>\n",
       "      <th>compound_score</th>\n",
       "      <th>compound_category</th>\n",
       "    </tr>\n",
       "  </thead>\n",
       "  <tbody>\n",
       "    <tr>\n",
       "      <th>0</th>\n",
       "      <td>1625854658601418753</td>\n",
       "      <td>2023-02-15 13:48:52+00:00</td>\n",
       "      <td>https://twitter.com/haringeyiapt/status/162585...</td>\n",
       "      <td>haringeyiapt</td>\n",
       "      <td>Twitter for iPhone</td>\n",
       "      <td>Haringey</td>\n",
       "      <td>People with OCD experience intensely negative,...</td>\n",
       "      <td>5</td>\n",
       "      <td>1</td>\n",
       "      <td>317</td>\n",
       "      <td>...</td>\n",
       "      <td>0.000000</td>\n",
       "      <td>0.022082</td>\n",
       "      <td>0.031546</td>\n",
       "      <td>people ocd experience intensely negative repet...</td>\n",
       "      <td>2023</td>\n",
       "      <td>people ocd experience intensely negative , rep...</td>\n",
       "      <td>[people, ocd, experience, intensely, negative,...</td>\n",
       "      <td>2</td>\n",
       "      <td>-0.8111</td>\n",
       "      <td>Strong Negative</td>\n",
       "    </tr>\n",
       "    <tr>\n",
       "      <th>1</th>\n",
       "      <td>1623813475469344769</td>\n",
       "      <td>2023-02-09 22:37:56+00:00</td>\n",
       "      <td>https://twitter.com/scrupulOCD_KC/status/16238...</td>\n",
       "      <td>scrupulOCD_KC</td>\n",
       "      <td>Twitter for Android</td>\n",
       "      <td>unknown</td>\n",
       "      <td>Hello all I'm Erika an @IOCDF grassroots advoc...</td>\n",
       "      <td>0</td>\n",
       "      <td>0</td>\n",
       "      <td>9</td>\n",
       "      <td>...</td>\n",
       "      <td>0.000000</td>\n",
       "      <td>0.000000</td>\n",
       "      <td>0.000000</td>\n",
       "      <td>hello erika iocdf grassroots advocate loves ro...</td>\n",
       "      <td>2023</td>\n",
       "      <td>hello 'm erika @ iocdf grassroots advocate lov...</td>\n",
       "      <td>[hello, erika, iocdf, grassroots, advocate, lo...</td>\n",
       "      <td>2</td>\n",
       "      <td>0.6981</td>\n",
       "      <td>Strong Positive</td>\n",
       "    </tr>\n",
       "    <tr>\n",
       "      <th>2</th>\n",
       "      <td>1583057973496406016</td>\n",
       "      <td>2022-10-20 11:30:07+00:00</td>\n",
       "      <td>https://twitter.com/FootstepsCandC/status/1583...</td>\n",
       "      <td>FootstepsCandC</td>\n",
       "      <td>SmarterQueue</td>\n",
       "      <td>Gloucester</td>\n",
       "      <td>In light of last week's OCD Awareness week, we...</td>\n",
       "      <td>0</td>\n",
       "      <td>0</td>\n",
       "      <td>905</td>\n",
       "      <td>...</td>\n",
       "      <td>0.000000</td>\n",
       "      <td>0.000000</td>\n",
       "      <td>0.000000</td>\n",
       "      <td>light last week ocd awareness week wanted offe...</td>\n",
       "      <td>2022</td>\n",
       "      <td>light last week 's ocd awareness week , wanted...</td>\n",
       "      <td>[light, last, week, ocd, awareness, week, want...</td>\n",
       "      <td>2</td>\n",
       "      <td>0.3400</td>\n",
       "      <td>Weak Positive</td>\n",
       "    </tr>\n",
       "    <tr>\n",
       "      <th>3</th>\n",
       "      <td>1582457044451627008</td>\n",
       "      <td>2022-10-18 19:42:14+00:00</td>\n",
       "      <td>https://twitter.com/IOCDF/status/1582457044451...</td>\n",
       "      <td>IOCDF</td>\n",
       "      <td>Twitter Web App</td>\n",
       "      <td>Boston, MA</td>\n",
       "      <td>The GIFS now have over 1.4 million views on GI...</td>\n",
       "      <td>5</td>\n",
       "      <td>2</td>\n",
       "      <td>19257</td>\n",
       "      <td>...</td>\n",
       "      <td>0.000000</td>\n",
       "      <td>0.000467</td>\n",
       "      <td>0.000519</td>\n",
       "      <td>gifs million views giphy hope campaign shifts ...</td>\n",
       "      <td>2022</td>\n",
       "      <td>gifs . million views giphy . hope campaign shi...</td>\n",
       "      <td>[gifs, million, views, giphy, hope, campaign, ...</td>\n",
       "      <td>2</td>\n",
       "      <td>0.7840</td>\n",
       "      <td>Strong Positive</td>\n",
       "    </tr>\n",
       "    <tr>\n",
       "      <th>4</th>\n",
       "      <td>1582457038969262080</td>\n",
       "      <td>2022-10-18 19:42:13+00:00</td>\n",
       "      <td>https://twitter.com/IOCDF/status/1582457038969...</td>\n",
       "      <td>IOCDF</td>\n",
       "      <td>Twitter Web App</td>\n",
       "      <td>Boston, MA</td>\n",
       "      <td>The 2022 #OCDweek events, activities, and live...</td>\n",
       "      <td>7</td>\n",
       "      <td>2</td>\n",
       "      <td>19257</td>\n",
       "      <td>...</td>\n",
       "      <td>0.000156</td>\n",
       "      <td>0.000727</td>\n",
       "      <td>0.000779</td>\n",
       "      <td>ocdweek events activities livestreams led amaz...</td>\n",
       "      <td>2022</td>\n",
       "      <td># ocdweek events , activities , livestreams l...</td>\n",
       "      <td>[ocdweek, events, activities, livestreams, led...</td>\n",
       "      <td>2</td>\n",
       "      <td>0.8689</td>\n",
       "      <td>Strong Positive</td>\n",
       "    </tr>\n",
       "  </tbody>\n",
       "</table>\n",
       "<p>5 rows × 24 columns</p>\n",
       "</div>"
      ],
      "text/plain": [
       "                    ID                       Date  \\\n",
       "0  1625854658601418753  2023-02-15 13:48:52+00:00   \n",
       "1  1623813475469344769  2023-02-09 22:37:56+00:00   \n",
       "2  1583057973496406016  2022-10-20 11:30:07+00:00   \n",
       "3  1582457044451627008  2022-10-18 19:42:14+00:00   \n",
       "4  1582457038969262080  2022-10-18 19:42:13+00:00   \n",
       "\n",
       "                                                 url        username  \\\n",
       "0  https://twitter.com/haringeyiapt/status/162585...    haringeyiapt   \n",
       "1  https://twitter.com/scrupulOCD_KC/status/16238...   scrupulOCD_KC   \n",
       "2  https://twitter.com/FootstepsCandC/status/1583...  FootstepsCandC   \n",
       "3  https://twitter.com/IOCDF/status/1582457044451...           IOCDF   \n",
       "4  https://twitter.com/IOCDF/status/1582457038969...           IOCDF   \n",
       "\n",
       "                source    location  \\\n",
       "0   Twitter for iPhone   Haringey    \n",
       "1  Twitter for Android     unknown   \n",
       "2         SmarterQueue  Gloucester   \n",
       "3      Twitter Web App  Boston, MA   \n",
       "4      Twitter Web App  Boston, MA   \n",
       "\n",
       "                                               tweet  likes  rt  followers  \\\n",
       "0  People with OCD experience intensely negative,...      5   1        317   \n",
       "1  Hello all I'm Erika an @IOCDF grassroots advoc...      0   0          9   \n",
       "2  In light of last week's OCD Awareness week, we...      0   0        905   \n",
       "3  The GIFS now have over 1.4 million views on GI...      5   2      19257   \n",
       "4  The 2022 #OCDweek events, activities, and live...      7   2      19257   \n",
       "\n",
       "   ...  replies_pf engagement  engagement_0  \\\n",
       "0  ...    0.000000   0.022082      0.031546   \n",
       "1  ...    0.000000   0.000000      0.000000   \n",
       "2  ...    0.000000   0.000000      0.000000   \n",
       "3  ...    0.000000   0.000467      0.000519   \n",
       "4  ...    0.000156   0.000727      0.000779   \n",
       "\n",
       "                                     processed_tweet  year  \\\n",
       "0  people ocd experience intensely negative repet...  2023   \n",
       "1  hello erika iocdf grassroots advocate loves ro...  2023   \n",
       "2  light last week ocd awareness week wanted offe...  2022   \n",
       "3  gifs million views giphy hope campaign shifts ...  2022   \n",
       "4  ocdweek events activities livestreams led amaz...  2022   \n",
       "\n",
       "                                    tweet_emoji_punc  \\\n",
       "0  people ocd experience intensely negative , rep...   \n",
       "1  hello 'm erika @ iocdf grassroots advocate lov...   \n",
       "2  light last week 's ocd awareness week , wanted...   \n",
       "3  gifs . million views giphy . hope campaign shi...   \n",
       "4   # ocdweek events , activities , livestreams l...   \n",
       "\n",
       "                                     tokenised_tweet sentiment_scores  \\\n",
       "0  [people, ocd, experience, intensely, negative,...                2   \n",
       "1  [hello, erika, iocdf, grassroots, advocate, lo...                2   \n",
       "2  [light, last, week, ocd, awareness, week, want...                2   \n",
       "3  [gifs, million, views, giphy, hope, campaign, ...                2   \n",
       "4  [ocdweek, events, activities, livestreams, led...                2   \n",
       "\n",
       "   compound_score compound_category  \n",
       "0         -0.8111   Strong Negative  \n",
       "1          0.6981   Strong Positive  \n",
       "2          0.3400     Weak Positive  \n",
       "3          0.7840   Strong Positive  \n",
       "4          0.8689   Strong Positive  \n",
       "\n",
       "[5 rows x 24 columns]"
      ]
     },
     "execution_count": 33,
     "metadata": {},
     "output_type": "execute_result"
    }
   ],
   "source": [
    "mh_scored_df.head()"
   ]
  },
  {
   "cell_type": "code",
   "execution_count": 34,
   "metadata": {},
   "outputs": [
    {
     "data": {
      "text/plain": [
       "campaign\n",
       "MHAW    555360\n",
       "ED       99179\n",
       "EDAW     46047\n",
       "UMHD     21104\n",
       "OCD       3055\n",
       "Name: count, dtype: int64"
      ]
     },
     "execution_count": 34,
     "metadata": {},
     "output_type": "execute_result"
    }
   ],
   "source": [
    "mh_scored_df['campaign'].value_counts()"
   ]
  },
  {
   "cell_type": "markdown",
   "metadata": {},
   "source": [
    "The attribute `campaign` comprises of 5 distinct categories of Mental Health Campaigns:\n",
    "<ul>\n",
    "    <li>MHAW: Mental Heath Awareness Week</li>\n",
    "    <li>ED: Eating Disorders</li>\n",
    "    <li>EDAW: Eating Disorder Awareness Week</li>\n",
    "    <li>UMHD: University Mental Health Day</li>\n",
    "    <li>OCD: Obsessive Compulsive Disorder</li>\n",
    "</ul>"
   ]
  },
  {
   "cell_type": "markdown",
   "metadata": {},
   "source": [
    "These tweets relate to which Mental Health campaign that specific tweet is commenting on about."
   ]
  },
  {
   "cell_type": "code",
   "execution_count": 35,
   "metadata": {},
   "outputs": [
    {
     "data": {
      "text/html": [
       "<div>\n",
       "<style scoped>\n",
       "    .dataframe tbody tr th:only-of-type {\n",
       "        vertical-align: middle;\n",
       "    }\n",
       "\n",
       "    .dataframe tbody tr th {\n",
       "        vertical-align: top;\n",
       "    }\n",
       "\n",
       "    .dataframe thead th {\n",
       "        text-align: right;\n",
       "    }\n",
       "</style>\n",
       "<table border=\"1\" class=\"dataframe\">\n",
       "  <thead>\n",
       "    <tr style=\"text-align: right;\">\n",
       "      <th></th>\n",
       "      <th>target</th>\n",
       "      <th>ids</th>\n",
       "      <th>date</th>\n",
       "      <th>flag</th>\n",
       "      <th>user</th>\n",
       "      <th>text</th>\n",
       "    </tr>\n",
       "  </thead>\n",
       "  <tbody>\n",
       "    <tr>\n",
       "      <th>0</th>\n",
       "      <td>0</td>\n",
       "      <td>1467810369</td>\n",
       "      <td>Mon Apr 06 22:19:45 PDT 2009</td>\n",
       "      <td>NO_QUERY</td>\n",
       "      <td>_TheSpecialOne_</td>\n",
       "      <td>@switchfoot http://twitpic.com/2y1zl - Awww, t...</td>\n",
       "    </tr>\n",
       "    <tr>\n",
       "      <th>1</th>\n",
       "      <td>0</td>\n",
       "      <td>1467810672</td>\n",
       "      <td>Mon Apr 06 22:19:49 PDT 2009</td>\n",
       "      <td>NO_QUERY</td>\n",
       "      <td>scotthamilton</td>\n",
       "      <td>is upset that he can't update his Facebook by ...</td>\n",
       "    </tr>\n",
       "    <tr>\n",
       "      <th>2</th>\n",
       "      <td>0</td>\n",
       "      <td>1467810917</td>\n",
       "      <td>Mon Apr 06 22:19:53 PDT 2009</td>\n",
       "      <td>NO_QUERY</td>\n",
       "      <td>mattycus</td>\n",
       "      <td>@Kenichan I dived many times for the ball. Man...</td>\n",
       "    </tr>\n",
       "    <tr>\n",
       "      <th>3</th>\n",
       "      <td>0</td>\n",
       "      <td>1467811184</td>\n",
       "      <td>Mon Apr 06 22:19:57 PDT 2009</td>\n",
       "      <td>NO_QUERY</td>\n",
       "      <td>ElleCTF</td>\n",
       "      <td>my whole body feels itchy and like its on fire</td>\n",
       "    </tr>\n",
       "    <tr>\n",
       "      <th>4</th>\n",
       "      <td>0</td>\n",
       "      <td>1467811193</td>\n",
       "      <td>Mon Apr 06 22:19:57 PDT 2009</td>\n",
       "      <td>NO_QUERY</td>\n",
       "      <td>Karoli</td>\n",
       "      <td>@nationwideclass no, it's not behaving at all....</td>\n",
       "    </tr>\n",
       "  </tbody>\n",
       "</table>\n",
       "</div>"
      ],
      "text/plain": [
       "   target         ids                          date      flag  \\\n",
       "0       0  1467810369  Mon Apr 06 22:19:45 PDT 2009  NO_QUERY   \n",
       "1       0  1467810672  Mon Apr 06 22:19:49 PDT 2009  NO_QUERY   \n",
       "2       0  1467810917  Mon Apr 06 22:19:53 PDT 2009  NO_QUERY   \n",
       "3       0  1467811184  Mon Apr 06 22:19:57 PDT 2009  NO_QUERY   \n",
       "4       0  1467811193  Mon Apr 06 22:19:57 PDT 2009  NO_QUERY   \n",
       "\n",
       "              user                                               text  \n",
       "0  _TheSpecialOne_  @switchfoot http://twitpic.com/2y1zl - Awww, t...  \n",
       "1    scotthamilton  is upset that he can't update his Facebook by ...  \n",
       "2         mattycus  @Kenichan I dived many times for the ball. Man...  \n",
       "3          ElleCTF    my whole body feels itchy and like its on fire   \n",
       "4           Karoli  @nationwideclass no, it's not behaving at all....  "
      ]
     },
     "execution_count": 35,
     "metadata": {},
     "output_type": "execute_result"
    }
   ],
   "source": [
    "one_mil_six_df.head()"
   ]
  },
  {
   "cell_type": "markdown",
   "metadata": {},
   "source": [
    "Now we look at `one_mill_six` dataset."
   ]
  },
  {
   "cell_type": "code",
   "execution_count": 36,
   "metadata": {},
   "outputs": [
    {
     "data": {
      "text/plain": [
       "(1600000, 6)"
      ]
     },
     "execution_count": 36,
     "metadata": {},
     "output_type": "execute_result"
    }
   ],
   "source": [
    "one_mil_six_df.shape"
   ]
  },
  {
   "cell_type": "code",
   "execution_count": 37,
   "metadata": {},
   "outputs": [
    {
     "data": {
      "text/plain": [
       "target     int64\n",
       "ids        int64\n",
       "date      object\n",
       "flag      object\n",
       "user      object\n",
       "text      object\n",
       "dtype: object"
      ]
     },
     "execution_count": 37,
     "metadata": {},
     "output_type": "execute_result"
    }
   ],
   "source": [
    "one_mil_six_df.dtypes"
   ]
  },
  {
   "cell_type": "code",
   "execution_count": 38,
   "metadata": {},
   "outputs": [
    {
     "data": {
      "text/plain": [
       "target    0\n",
       "ids       0\n",
       "date      0\n",
       "flag      0\n",
       "user      0\n",
       "text      0\n",
       "dtype: int64"
      ]
     },
     "execution_count": 38,
     "metadata": {},
     "output_type": "execute_result"
    }
   ],
   "source": [
    "one_mil_six_df.isnull().sum()"
   ]
  },
  {
   "cell_type": "markdown",
   "metadata": {},
   "source": [
    "The data is in good shape, with no missing values."
   ]
  },
  {
   "cell_type": "code",
   "execution_count": 39,
   "metadata": {},
   "outputs": [
    {
     "data": {
      "text/plain": [
       "target\n",
       "0    800000\n",
       "4    800000\n",
       "Name: count, dtype: int64"
      ]
     },
     "execution_count": 39,
     "metadata": {},
     "output_type": "execute_result"
    }
   ],
   "source": [
    "one_mil_six_df['target'].value_counts()"
   ]
  },
  {
   "cell_type": "markdown",
   "metadata": {},
   "source": [
    "In the `target` attribute, we note that there is no \"Neutral\" class. Nevertheless, we will convert these into the standard labels for this project."
   ]
  },
  {
   "cell_type": "code",
   "execution_count": 40,
   "metadata": {},
   "outputs": [],
   "source": [
    "one_mil_six_df['target'] = one_mil_six_df['target'].apply(lambda x: 'Strong Positive' if 4 else 'Strong Negative')"
   ]
  },
  {
   "cell_type": "code",
   "execution_count": 41,
   "metadata": {},
   "outputs": [
    {
     "data": {
      "text/plain": [
       "subreddit        object\n",
       "title            object\n",
       "body             object\n",
       "upvotes         float64\n",
       "created_utc     float64\n",
       "num_comments    float64\n",
       "label           float64\n",
       "dtype: object"
      ]
     },
     "execution_count": 41,
     "metadata": {},
     "output_type": "execute_result"
    }
   ],
   "source": [
    "reddit_df.dtypes"
   ]
  },
  {
   "cell_type": "code",
   "execution_count": 42,
   "metadata": {},
   "outputs": [
    {
     "data": {
      "text/plain": [
       "subreddit           20\n",
       "title               23\n",
       "body            461051\n",
       "upvotes             64\n",
       "created_utc        106\n",
       "num_comments    113977\n",
       "label              106\n",
       "dtype: int64"
      ]
     },
     "execution_count": 42,
     "metadata": {},
     "output_type": "execute_result"
    }
   ],
   "source": [
    "reddit_df.isnull().sum()"
   ]
  },
  {
   "cell_type": "code",
   "execution_count": 43,
   "metadata": {},
   "outputs": [
    {
     "data": {
      "text/plain": [
       "subreddit            0\n",
       "title                3\n",
       "body            461029\n",
       "upvotes              0\n",
       "created_utc          0\n",
       "num_comments    113871\n",
       "label                0\n",
       "dtype: int64"
      ]
     },
     "execution_count": 43,
     "metadata": {},
     "output_type": "execute_result"
    }
   ],
   "source": [
    "reddit_df = reddit_df.dropna(subset=['label'])\n",
    "reddit_df.isnull().sum()"
   ]
  },
  {
   "cell_type": "code",
   "execution_count": 44,
   "metadata": {},
   "outputs": [
    {
     "data": {
      "text/html": [
       "<div>\n",
       "<style scoped>\n",
       "    .dataframe tbody tr th:only-of-type {\n",
       "        vertical-align: middle;\n",
       "    }\n",
       "\n",
       "    .dataframe tbody tr th {\n",
       "        vertical-align: top;\n",
       "    }\n",
       "\n",
       "    .dataframe thead th {\n",
       "        text-align: right;\n",
       "    }\n",
       "</style>\n",
       "<table border=\"1\" class=\"dataframe\">\n",
       "  <thead>\n",
       "    <tr style=\"text-align: right;\">\n",
       "      <th></th>\n",
       "      <th>subreddit</th>\n",
       "      <th>title</th>\n",
       "      <th>body</th>\n",
       "      <th>upvotes</th>\n",
       "      <th>created_utc</th>\n",
       "      <th>num_comments</th>\n",
       "      <th>label</th>\n",
       "    </tr>\n",
       "  </thead>\n",
       "  <tbody>\n",
       "    <tr>\n",
       "      <th>1448622</th>\n",
       "      <td>teenagers</td>\n",
       "      <td>NaN</td>\n",
       "      <td>NaN</td>\n",
       "      <td>9.0</td>\n",
       "      <td>1.543408e+09</td>\n",
       "      <td>NaN</td>\n",
       "      <td>0.0</td>\n",
       "    </tr>\n",
       "    <tr>\n",
       "      <th>8431040</th>\n",
       "      <td>SuicideWatch</td>\n",
       "      <td>NaN</td>\n",
       "      <td>College makes me want to kill myself, my boyfr...</td>\n",
       "      <td>5.0</td>\n",
       "      <td>1.444396e+09</td>\n",
       "      <td>2.0</td>\n",
       "      <td>1.0</td>\n",
       "    </tr>\n",
       "    <tr>\n",
       "      <th>8749541</th>\n",
       "      <td>SuicideWatch</td>\n",
       "      <td>NaN</td>\n",
       "      <td>I’ve been feeling pretty empty these past few ...</td>\n",
       "      <td>6.0</td>\n",
       "      <td>1.588879e+09</td>\n",
       "      <td>3.0</td>\n",
       "      <td>1.0</td>\n",
       "    </tr>\n",
       "  </tbody>\n",
       "</table>\n",
       "</div>"
      ],
      "text/plain": [
       "            subreddit title  \\\n",
       "1448622     teenagers   NaN   \n",
       "8431040  SuicideWatch   NaN   \n",
       "8749541  SuicideWatch   NaN   \n",
       "\n",
       "                                                      body  upvotes  \\\n",
       "1448622                                                NaN      9.0   \n",
       "8431040  College makes me want to kill myself, my boyfr...      5.0   \n",
       "8749541  I’ve been feeling pretty empty these past few ...      6.0   \n",
       "\n",
       "          created_utc  num_comments  label  \n",
       "1448622  1.543408e+09           NaN    0.0  \n",
       "8431040  1.444396e+09           2.0    1.0  \n",
       "8749541  1.588879e+09           3.0    1.0  "
      ]
     },
     "execution_count": 44,
     "metadata": {},
     "output_type": "execute_result"
    }
   ],
   "source": [
    "reddit_df[reddit_df['title'].isnull()]"
   ]
  },
  {
   "cell_type": "code",
   "execution_count": 45,
   "metadata": {},
   "outputs": [
    {
     "data": {
      "text/plain": [
       "subreddit            0\n",
       "title                2\n",
       "body            461028\n",
       "upvotes              0\n",
       "created_utc          0\n",
       "num_comments    113870\n",
       "label                0\n",
       "dtype: int64"
      ]
     },
     "execution_count": 45,
     "metadata": {},
     "output_type": "execute_result"
    }
   ],
   "source": [
    "reddit_df = reddit_df.drop(index=1448622)\n",
    "reddit_df.isnull().sum()"
   ]
  },
  {
   "cell_type": "code",
   "execution_count": 47,
   "metadata": {},
   "outputs": [
    {
     "data": {
      "text/html": [
       "<div>\n",
       "<style scoped>\n",
       "    .dataframe tbody tr th:only-of-type {\n",
       "        vertical-align: middle;\n",
       "    }\n",
       "\n",
       "    .dataframe tbody tr th {\n",
       "        vertical-align: top;\n",
       "    }\n",
       "\n",
       "    .dataframe thead th {\n",
       "        text-align: right;\n",
       "    }\n",
       "</style>\n",
       "<table border=\"1\" class=\"dataframe\">\n",
       "  <thead>\n",
       "    <tr style=\"text-align: right;\">\n",
       "      <th></th>\n",
       "      <th>subreddit</th>\n",
       "      <th>title</th>\n",
       "      <th>body</th>\n",
       "      <th>upvotes</th>\n",
       "      <th>created_utc</th>\n",
       "      <th>num_comments</th>\n",
       "      <th>label</th>\n",
       "      <th>date</th>\n",
       "    </tr>\n",
       "  </thead>\n",
       "  <tbody>\n",
       "    <tr>\n",
       "      <th>47951</th>\n",
       "      <td>DeepThoughts</td>\n",
       "      <td>Deep thoughts underdog</td>\n",
       "      <td>Only when we start considering ourselves, the ...</td>\n",
       "      <td>4.0</td>\n",
       "      <td>1.405309e+09</td>\n",
       "      <td>NaN</td>\n",
       "      <td>0.0</td>\n",
       "      <td>2014-07-14 03:35:09</td>\n",
       "    </tr>\n",
       "    <tr>\n",
       "      <th>47952</th>\n",
       "      <td>DeepThoughts</td>\n",
       "      <td>I like this sub, there's only two posts yet I ...</td>\n",
       "      <td>Anyway: Human Morality is a joke so long as th...</td>\n",
       "      <td>4.0</td>\n",
       "      <td>1.410568e+09</td>\n",
       "      <td>1.0</td>\n",
       "      <td>0.0</td>\n",
       "      <td>2014-09-13 00:31:19</td>\n",
       "    </tr>\n",
       "    <tr>\n",
       "      <th>47957</th>\n",
       "      <td>DeepThoughts</td>\n",
       "      <td>Rebirth!</td>\n",
       "      <td>Hello. \\nI am the new guy in charge here (Besi...</td>\n",
       "      <td>6.0</td>\n",
       "      <td>1.416458e+09</td>\n",
       "      <td>1.0</td>\n",
       "      <td>0.0</td>\n",
       "      <td>2014-11-20 04:31:58</td>\n",
       "    </tr>\n",
       "    <tr>\n",
       "      <th>47959</th>\n",
       "      <td>DeepThoughts</td>\n",
       "      <td>\"I want to be like water. I want to slip throu...</td>\n",
       "      <td>NaN</td>\n",
       "      <td>25.0</td>\n",
       "      <td>1.416512e+09</td>\n",
       "      <td>2.0</td>\n",
       "      <td>0.0</td>\n",
       "      <td>2014-11-20 19:38:05</td>\n",
       "    </tr>\n",
       "    <tr>\n",
       "      <th>47960</th>\n",
       "      <td>DeepThoughts</td>\n",
       "      <td>Who am I?</td>\n",
       "      <td>You could take any one cell in my body and kil...</td>\n",
       "      <td>5.0</td>\n",
       "      <td>1.416516e+09</td>\n",
       "      <td>4.0</td>\n",
       "      <td>0.0</td>\n",
       "      <td>2014-11-20 20:36:52</td>\n",
       "    </tr>\n",
       "  </tbody>\n",
       "</table>\n",
       "</div>"
      ],
      "text/plain": [
       "          subreddit                                              title  \\\n",
       "47951  DeepThoughts                             Deep thoughts underdog   \n",
       "47952  DeepThoughts  I like this sub, there's only two posts yet I ...   \n",
       "47957  DeepThoughts                                           Rebirth!   \n",
       "47959  DeepThoughts  \"I want to be like water. I want to slip throu...   \n",
       "47960  DeepThoughts                                          Who am I?   \n",
       "\n",
       "                                                    body  upvotes  \\\n",
       "47951  Only when we start considering ourselves, the ...      4.0   \n",
       "47952  Anyway: Human Morality is a joke so long as th...      4.0   \n",
       "47957  Hello. \\nI am the new guy in charge here (Besi...      6.0   \n",
       "47959                                                NaN     25.0   \n",
       "47960  You could take any one cell in my body and kil...      5.0   \n",
       "\n",
       "        created_utc  num_comments  label                date  \n",
       "47951  1.405309e+09           NaN    0.0 2014-07-14 03:35:09  \n",
       "47952  1.410568e+09           1.0    0.0 2014-09-13 00:31:19  \n",
       "47957  1.416458e+09           1.0    0.0 2014-11-20 04:31:58  \n",
       "47959  1.416512e+09           2.0    0.0 2014-11-20 19:38:05  \n",
       "47960  1.416516e+09           4.0    0.0 2014-11-20 20:36:52  "
      ]
     },
     "execution_count": 47,
     "metadata": {},
     "output_type": "execute_result"
    }
   ],
   "source": [
    "reddit_df['date'] = pd.to_datetime(reddit_df['created_utc'], unit='s')\n",
    "reddit_df.head()"
   ]
  },
  {
   "cell_type": "code",
   "execution_count": 49,
   "metadata": {},
   "outputs": [
    {
     "name": "stdout",
     "output_type": "stream",
     "text": [
      "Minimum Date: 2008-01-26 02:17:12\n",
      "Maximum Date: 2022-12-31 23:58:35\n"
     ]
    }
   ],
   "source": [
    "min_date = reddit_df['date'].min()\n",
    "max_date = reddit_df['date'].max()\n",
    "\n",
    "print(f\"Minimum Date: {min_date}\")\n",
    "print(f\"Maximum Date: {max_date}\")"
   ]
  },
  {
   "cell_type": "code",
   "execution_count": 53,
   "metadata": {},
   "outputs": [
    {
     "data": {
      "image/png": "[encoded data removed]",
      "text/plain": [
       "<Figure size 1200x600 with 1 Axes>"
      ]
     },
     "metadata": {},
     "output_type": "display_data"
    }
   ],
   "source": [
    "# Group by month and count the number of posts per month\n",
    "quarterly_counts = reddit_df['date'].dt.to_period('Q').value_counts().sort_index()\n",
    "\n",
    "# Plot the time series graph\n",
    "plt.figure(figsize=(12, 6))\n",
    "plt.plot(quarterly_counts.index.astype(str), quarterly_counts.values, marker='o', linestyle='-')\n",
    "plt.xlabel('Month')\n",
    "plt.ylabel('Number of Posts')\n",
    "plt.title('Frequency of Posts Over Time (Monthly)')\n",
    "plt.grid(True)\n",
    "plt.xticks(rotation=90)\n",
    "plt.show()"
   ]
  },
  {
   "cell_type": "code",
   "execution_count": 55,
   "metadata": {},
   "outputs": [
    {
     "data": {
      "image/png": "[encoded data removed]",
      "text/plain": [
       "<Figure size 1200x600 with 1 Axes>"
      ]
     },
     "metadata": {},
     "output_type": "display_data"
    }
   ],
   "source": [
    "# Group by date and calculate the average number of upvotes per day\n",
    "average_upvotes_per_day = reddit_df.groupby(reddit_df['date'].dt.to_period('Q'))['upvotes'].mean()\n",
    "\n",
    "# Plot the time series graph\n",
    "plt.figure(figsize=(12, 6))\n",
    "plt.plot(average_upvotes_per_day.index.astype(str), average_upvotes_per_day.values, marker='o', linestyle='-')\n",
    "plt.xlabel('Date')\n",
    "plt.ylabel('Average Number of Upvotes')\n",
    "plt.title('Average Number of Upvotes Over Time')\n",
    "plt.grid(True)\n",
    "plt.xticks(rotation=90)\n",
    "plt.show()"
   ]
  },
  {
   "cell_type": "code",
   "execution_count": 59,
   "metadata": {},
   "outputs": [
    {
     "name": "stderr",
     "output_type": "stream",
     "text": [
      "/var/folders/1v/dvtq9m8d48z659z8qvy5rxdh0000gn/T/ipykernel_12318/3295916601.py:2: UserWarning: Converting to PeriodArray/Index representation will drop timezone information.\n",
      "  average_compound_score_per_quarter = mh_scored_df.groupby(mh_scored_df['Date'].dt.to_period('Y'))['compound_score'].mean()\n"
     ]
    },
    {
     "data": {
      "image/png": "[encoded data removed]",
      "text/plain": [
       "<Figure size 1200x600 with 1 Axes>"
      ]
     },
     "metadata": {},
     "output_type": "display_data"
    }
   ],
   "source": [
    "# Group by date and calculate the average compound score per quarter\n",
    "average_compound_score_per_quarter = mh_scored_df.groupby(mh_scored_df['Date'].dt.to_period('Y'))['compound_score'].mean()\n",
    "\n",
    "# Plot the time series graph\n",
    "plt.figure(figsize=(12, 6))\n",
    "plt.plot(average_compound_score_per_quarter.index.astype(str), average_compound_score_per_quarter.values, marker='o', linestyle='-')\n",
    "plt.xlabel('Quarter')\n",
    "plt.ylabel('Average Compound Score')\n",
    "plt.title('Average Compound Score Over Time')\n",
    "plt.grid(True)\n",
    "plt.xticks(rotation=90)\n",
    "plt.show()"
   ]
  },
  {
   "cell_type": "markdown",
   "metadata": {},
   "source": [
    "#### Text Processing"
   ]
  },
  {
   "cell_type": "code",
   "execution_count": 21,
   "metadata": {},
   "outputs": [
    {
     "ename": "NameError",
     "evalue": "name 'one_mil_six_df' is not defined",
     "output_type": "error",
     "traceback": [
      "\u001b[0;31m---------------------------------------------------------------------------\u001b[0m",
      "\u001b[0;31mNameError\u001b[0m                                 Traceback (most recent call last)",
      "Cell \u001b[0;32mIn[21], line 30\u001b[0m\n\u001b[1;32m     27\u001b[0m     \u001b[38;5;28;01mreturn\u001b[39;00m stemmed_words\n\u001b[1;32m     29\u001b[0m \u001b[38;5;66;03m# Apply the function to the 'tweet' column\u001b[39;00m\n\u001b[0;32m---> 30\u001b[0m one_mil_six_df[\u001b[38;5;124m'\u001b[39m\u001b[38;5;124mtokenized_text\u001b[39m\u001b[38;5;124m'\u001b[39m] \u001b[38;5;241m=\u001b[39m \u001b[43mone_mil_six_df\u001b[49m[\u001b[38;5;124m'\u001b[39m\u001b[38;5;124mtext\u001b[39m\u001b[38;5;124m'\u001b[39m]\u001b[38;5;241m.\u001b[39mapply(process_text)\n\u001b[1;32m     31\u001b[0m one_mil_six_df\u001b[38;5;241m.\u001b[39mhead()\n",
      "\u001b[0;31mNameError\u001b[0m: name 'one_mil_six_df' is not defined"
     ]
    }
   ],
   "source": [
    "from nltk.corpus import stopwords\n",
    "from nltk.stem import PorterStemmer, WordNetLemmatizer\n",
    "from nltk.tokenize import word_tokenize\n",
    "\n",
    "# Download necessary NLTK data\n",
    "nltk.download('punkt', download_dir='./nltk_data', quiet=True)\n",
    "nltk.download('punkt_tab', download_dir='./nltk_data', quiet=True)\n",
    "nltk.download('stopwords', download_dir='./nltk_data', quiet=True)\n",
    "nltk.download('wordnet', download_dir='./nltk_data', quiet=True)\n",
    "nltk.data.path.append('./nltk_data')\n",
    "\n",
    "# Initialize stop words, stemmer, and lemmatizer\n",
    "stop_words = set(stopwords.words('english'))\n",
    "stemmer = PorterStemmer()\n",
    "lemmatizer = WordNetLemmatizer()\n",
    "\n",
    "# Define a function to process the text\n",
    "def process_text(text):\n",
    "    # Tokenize the text\n",
    "    tokens = word_tokenize(text)\n",
    "    # Remove stop words\n",
    "    tokens = [word for word in tokens if word.lower() not in stop_words]\n",
    "    # Remove non-alphabetic tokens\n",
    "    tokens = [word for word in tokens if word.isalpha()]\n",
    "    # Perform lemmatization\n",
    "    stemmed_words = [stemmer.stem(word) for word in tokens]\n",
    "    return stemmed_words\n",
    "\n",
    "# Apply the function to the 'tweet' column\n",
    "one_mil_six_df['tokenized_text'] = one_mil_six_df['text'].apply(process_text)\n",
    "one_mil_six_df.head()"
   ]
  },
  {
   "cell_type": "markdown",
   "metadata": {},
   "source": [
    "Here, we process the text through stop word removal, stemming and tokenization. <br>\n",
    "Also, it was observed that some of the texts do have non-alphabetic words, which can affect the sentiment during analysis. So we took that into account by only processing and keeping alphabetic words."
   ]
  },
  {
   "cell_type": "markdown",
   "metadata": {},
   "source": [
    "#### Feature Extraction/Selection"
   ]
  },
  {
   "cell_type": "code",
   "execution_count": 45,
   "metadata": {},
   "outputs": [
    {
     "data": {
      "text/html": [
       "<div>\n",
       "<style scoped>\n",
       "    .dataframe tbody tr th:only-of-type {\n",
       "        vertical-align: middle;\n",
       "    }\n",
       "\n",
       "    .dataframe tbody tr th {\n",
       "        vertical-align: top;\n",
       "    }\n",
       "\n",
       "    .dataframe thead th {\n",
       "        text-align: right;\n",
       "    }\n",
       "</style>\n",
       "<table border=\"1\" class=\"dataframe\">\n",
       "  <thead>\n",
       "    <tr style=\"text-align: right;\">\n",
       "      <th></th>\n",
       "      <th>ID</th>\n",
       "      <th>Date</th>\n",
       "      <th>url</th>\n",
       "      <th>username</th>\n",
       "      <th>source</th>\n",
       "      <th>location</th>\n",
       "      <th>tweet</th>\n",
       "      <th>likes</th>\n",
       "      <th>rt</th>\n",
       "      <th>followers</th>\n",
       "    </tr>\n",
       "  </thead>\n",
       "  <tbody>\n",
       "    <tr>\n",
       "      <th>0</th>\n",
       "      <td>1625854658601418753</td>\n",
       "      <td>2023-02-15 13:48:52+00:00</td>\n",
       "      <td>https://twitter.com/haringeyiapt/status/162585...</td>\n",
       "      <td>haringeyiapt</td>\n",
       "      <td>Twitter for iPhone</td>\n",
       "      <td>Haringey</td>\n",
       "      <td>People with OCD experience intensely negative,...</td>\n",
       "      <td>5</td>\n",
       "      <td>1</td>\n",
       "      <td>317</td>\n",
       "    </tr>\n",
       "    <tr>\n",
       "      <th>1</th>\n",
       "      <td>1623813475469344769</td>\n",
       "      <td>2023-02-09 22:37:56+00:00</td>\n",
       "      <td>https://twitter.com/scrupulOCD_KC/status/16238...</td>\n",
       "      <td>scrupulOCD_KC</td>\n",
       "      <td>Twitter for Android</td>\n",
       "      <td>unknown</td>\n",
       "      <td>Hello all I'm Erika an @IOCDF grassroots advoc...</td>\n",
       "      <td>0</td>\n",
       "      <td>0</td>\n",
       "      <td>9</td>\n",
       "    </tr>\n",
       "    <tr>\n",
       "      <th>2</th>\n",
       "      <td>1583057973496406016</td>\n",
       "      <td>2022-10-20 11:30:07+00:00</td>\n",
       "      <td>https://twitter.com/FootstepsCandC/status/1583...</td>\n",
       "      <td>FootstepsCandC</td>\n",
       "      <td>SmarterQueue</td>\n",
       "      <td>Gloucester</td>\n",
       "      <td>In light of last week's OCD Awareness week, we...</td>\n",
       "      <td>0</td>\n",
       "      <td>0</td>\n",
       "      <td>905</td>\n",
       "    </tr>\n",
       "    <tr>\n",
       "      <th>3</th>\n",
       "      <td>1582457044451627008</td>\n",
       "      <td>2022-10-18 19:42:14+00:00</td>\n",
       "      <td>https://twitter.com/IOCDF/status/1582457044451...</td>\n",
       "      <td>IOCDF</td>\n",
       "      <td>Twitter Web App</td>\n",
       "      <td>Boston, MA</td>\n",
       "      <td>The GIFS now have over 1.4 million views on GI...</td>\n",
       "      <td>5</td>\n",
       "      <td>2</td>\n",
       "      <td>19257</td>\n",
       "    </tr>\n",
       "    <tr>\n",
       "      <th>4</th>\n",
       "      <td>1582457038969262080</td>\n",
       "      <td>2022-10-18 19:42:13+00:00</td>\n",
       "      <td>https://twitter.com/IOCDF/status/1582457038969...</td>\n",
       "      <td>IOCDF</td>\n",
       "      <td>Twitter Web App</td>\n",
       "      <td>Boston, MA</td>\n",
       "      <td>The 2022 #OCDweek events, activities, and live...</td>\n",
       "      <td>7</td>\n",
       "      <td>2</td>\n",
       "      <td>19257</td>\n",
       "    </tr>\n",
       "  </tbody>\n",
       "</table>\n",
       "</div>"
      ],
      "text/plain": [
       "                    ID                       Date  \\\n",
       "0  1625854658601418753  2023-02-15 13:48:52+00:00   \n",
       "1  1623813475469344769  2023-02-09 22:37:56+00:00   \n",
       "2  1583057973496406016  2022-10-20 11:30:07+00:00   \n",
       "3  1582457044451627008  2022-10-18 19:42:14+00:00   \n",
       "4  1582457038969262080  2022-10-18 19:42:13+00:00   \n",
       "\n",
       "                                                 url        username  \\\n",
       "0  https://twitter.com/haringeyiapt/status/162585...    haringeyiapt   \n",
       "1  https://twitter.com/scrupulOCD_KC/status/16238...   scrupulOCD_KC   \n",
       "2  https://twitter.com/FootstepsCandC/status/1583...  FootstepsCandC   \n",
       "3  https://twitter.com/IOCDF/status/1582457044451...           IOCDF   \n",
       "4  https://twitter.com/IOCDF/status/1582457038969...           IOCDF   \n",
       "\n",
       "                source    location  \\\n",
       "0   Twitter for iPhone   Haringey    \n",
       "1  Twitter for Android     unknown   \n",
       "2         SmarterQueue  Gloucester   \n",
       "3      Twitter Web App  Boston, MA   \n",
       "4      Twitter Web App  Boston, MA   \n",
       "\n",
       "                                               tweet  likes  rt  followers  \n",
       "0  People with OCD experience intensely negative,...      5   1        317  \n",
       "1  Hello all I'm Erika an @IOCDF grassroots advoc...      0   0          9  \n",
       "2  In light of last week's OCD Awareness week, we...      0   0        905  \n",
       "3  The GIFS now have over 1.4 million views on GI...      5   2      19257  \n",
       "4  The 2022 #OCDweek events, activities, and live...      7   2      19257  "
      ]
     },
     "execution_count": 45,
     "metadata": {},
     "output_type": "execute_result"
    }
   ],
   "source": [
    "mh_scored_df.iloc[:, 0:10].head()"
   ]
  },
  {
   "cell_type": "markdown",
   "metadata": {},
   "source": [
    "So the breakdown of the first 10 attributes are as such:\n",
    "<ul>\n",
    "    <li>ID: Unique identifier for each tweet. This is not important to our project and will thus be omitted.</li>\n",
    "    <li>Date: Timestamp indicating when the tweet was posted. This will help us determine the time period that this sentiment was mmentioned.</li>\n",
    "    <li>url: Link to the specific tweet. This does not help us in our objective.</li>\n",
    "    <li>username: Twitter handle of the user who posted the tweet. This also does not help us.</li>\n",
    "    <li>source: The platform or device used to post the tweet (e.g., Twitter for iPhone, Twitter Web App). Could be useful, but not our project's objective.</li>\n",
    "    <li>location: Geographical location of the user who posted the tweet, if available. May be useful is mapping the general sentiment geologically.</li>\n",
    "    <li>tweet: The original content of the tweet. Since we have the tokenized values of this, we would not need this.</li>\n",
    "    <li>likes: The number of likes the tweet received. This value is useful in determinin how many like-minded people share this sentiment.</li>\n",
    "    <li>rt: The number of retweets the tweet received. Similarly, this also indicates how many people share this sentiment.</li>\n",
    "    <li>followers: The number of followers the user had at the time of posting. This could be an indicator of how many people this sentiment was shared to, which could correlate to the number of likes/reposts the sentiment gets.</li>\n",
    "</ul>"
   ]
  },
  {
   "cell_type": "code",
   "execution_count": 46,
   "metadata": {},
   "outputs": [
    {
     "data": {
      "text/html": [
       "<div>\n",
       "<style scoped>\n",
       "    .dataframe tbody tr th:only-of-type {\n",
       "        vertical-align: middle;\n",
       "    }\n",
       "\n",
       "    .dataframe tbody tr th {\n",
       "        vertical-align: top;\n",
       "    }\n",
       "\n",
       "    .dataframe thead th {\n",
       "        text-align: right;\n",
       "    }\n",
       "</style>\n",
       "<table border=\"1\" class=\"dataframe\">\n",
       "  <thead>\n",
       "    <tr style=\"text-align: right;\">\n",
       "      <th></th>\n",
       "      <th>replies</th>\n",
       "      <th>campaign</th>\n",
       "      <th>likes_pf</th>\n",
       "      <th>rt_pf</th>\n",
       "      <th>replies_pf</th>\n",
       "      <th>engagement</th>\n",
       "      <th>engagement_0</th>\n",
       "      <th>processed_tweet</th>\n",
       "      <th>year</th>\n",
       "      <th>tweet_emoji_punc</th>\n",
       "      <th>tokenised_tweet</th>\n",
       "      <th>sentiment_scores</th>\n",
       "      <th>compound_score</th>\n",
       "    </tr>\n",
       "  </thead>\n",
       "  <tbody>\n",
       "    <tr>\n",
       "      <th>0</th>\n",
       "      <td>0</td>\n",
       "      <td>OCD</td>\n",
       "      <td>0.015773</td>\n",
       "      <td>0.006309</td>\n",
       "      <td>0.000000</td>\n",
       "      <td>0.022082</td>\n",
       "      <td>0.031546</td>\n",
       "      <td>people ocd experience intensely negative repet...</td>\n",
       "      <td>2023</td>\n",
       "      <td>people ocd experience intensely negative , rep...</td>\n",
       "      <td>[people, ocd, experience, intensely, negative,...</td>\n",
       "      <td>2</td>\n",
       "      <td>-0.8111</td>\n",
       "    </tr>\n",
       "    <tr>\n",
       "      <th>1</th>\n",
       "      <td>0</td>\n",
       "      <td>OCD</td>\n",
       "      <td>0.000000</td>\n",
       "      <td>0.000000</td>\n",
       "      <td>0.000000</td>\n",
       "      <td>0.000000</td>\n",
       "      <td>0.000000</td>\n",
       "      <td>hello erika iocdf grassroots advocate loves ro...</td>\n",
       "      <td>2023</td>\n",
       "      <td>hello 'm erika @ iocdf grassroots advocate lov...</td>\n",
       "      <td>[hello, erika, iocdf, grassroots, advocate, lo...</td>\n",
       "      <td>2</td>\n",
       "      <td>0.6981</td>\n",
       "    </tr>\n",
       "    <tr>\n",
       "      <th>2</th>\n",
       "      <td>0</td>\n",
       "      <td>OCD</td>\n",
       "      <td>0.000000</td>\n",
       "      <td>0.000000</td>\n",
       "      <td>0.000000</td>\n",
       "      <td>0.000000</td>\n",
       "      <td>0.000000</td>\n",
       "      <td>light last week ocd awareness week wanted offe...</td>\n",
       "      <td>2022</td>\n",
       "      <td>light last week 's ocd awareness week , wanted...</td>\n",
       "      <td>[light, last, week, ocd, awareness, week, want...</td>\n",
       "      <td>2</td>\n",
       "      <td>0.3400</td>\n",
       "    </tr>\n",
       "    <tr>\n",
       "      <th>3</th>\n",
       "      <td>0</td>\n",
       "      <td>OCD</td>\n",
       "      <td>0.000260</td>\n",
       "      <td>0.000208</td>\n",
       "      <td>0.000000</td>\n",
       "      <td>0.000467</td>\n",
       "      <td>0.000519</td>\n",
       "      <td>gifs million views giphy hope campaign shifts ...</td>\n",
       "      <td>2022</td>\n",
       "      <td>gifs . million views giphy . hope campaign shi...</td>\n",
       "      <td>[gifs, million, views, giphy, hope, campaign, ...</td>\n",
       "      <td>2</td>\n",
       "      <td>0.7840</td>\n",
       "    </tr>\n",
       "    <tr>\n",
       "      <th>4</th>\n",
       "      <td>1</td>\n",
       "      <td>OCD</td>\n",
       "      <td>0.000364</td>\n",
       "      <td>0.000208</td>\n",
       "      <td>0.000156</td>\n",
       "      <td>0.000727</td>\n",
       "      <td>0.000779</td>\n",
       "      <td>ocdweek events activities livestreams led amaz...</td>\n",
       "      <td>2022</td>\n",
       "      <td># ocdweek events , activities , livestreams l...</td>\n",
       "      <td>[ocdweek, events, activities, livestreams, led...</td>\n",
       "      <td>2</td>\n",
       "      <td>0.8689</td>\n",
       "    </tr>\n",
       "  </tbody>\n",
       "</table>\n",
       "</div>"
      ],
      "text/plain": [
       "   replies campaign  likes_pf     rt_pf  replies_pf  engagement  engagement_0  \\\n",
       "0        0      OCD  0.015773  0.006309    0.000000    0.022082      0.031546   \n",
       "1        0      OCD  0.000000  0.000000    0.000000    0.000000      0.000000   \n",
       "2        0      OCD  0.000000  0.000000    0.000000    0.000000      0.000000   \n",
       "3        0      OCD  0.000260  0.000208    0.000000    0.000467      0.000519   \n",
       "4        1      OCD  0.000364  0.000208    0.000156    0.000727      0.000779   \n",
       "\n",
       "                                     processed_tweet  year  \\\n",
       "0  people ocd experience intensely negative repet...  2023   \n",
       "1  hello erika iocdf grassroots advocate loves ro...  2023   \n",
       "2  light last week ocd awareness week wanted offe...  2022   \n",
       "3  gifs million views giphy hope campaign shifts ...  2022   \n",
       "4  ocdweek events activities livestreams led amaz...  2022   \n",
       "\n",
       "                                    tweet_emoji_punc  \\\n",
       "0  people ocd experience intensely negative , rep...   \n",
       "1  hello 'm erika @ iocdf grassroots advocate lov...   \n",
       "2  light last week 's ocd awareness week , wanted...   \n",
       "3  gifs . million views giphy . hope campaign shi...   \n",
       "4   # ocdweek events , activities , livestreams l...   \n",
       "\n",
       "                                     tokenised_tweet  sentiment_scores  \\\n",
       "0  [people, ocd, experience, intensely, negative,...                 2   \n",
       "1  [hello, erika, iocdf, grassroots, advocate, lo...                 2   \n",
       "2  [light, last, week, ocd, awareness, week, want...                 2   \n",
       "3  [gifs, million, views, giphy, hope, campaign, ...                 2   \n",
       "4  [ocdweek, events, activities, livestreams, led...                 2   \n",
       "\n",
       "   compound_score  \n",
       "0         -0.8111  \n",
       "1          0.6981  \n",
       "2          0.3400  \n",
       "3          0.7840  \n",
       "4          0.8689  "
      ]
     },
     "execution_count": 46,
     "metadata": {},
     "output_type": "execute_result"
    }
   ],
   "source": [
    "mh_scored_df.iloc[:, 10:].head()"
   ]
  },
  {
   "cell_type": "markdown",
   "metadata": {},
   "source": [
    "The breakdown of the remaining attributes are as such:\n",
    "<ul>\n",
    "    <li>replies: The number of replies to the tweet. This could be useful to determine the popularity of the sentiment.</li>\n",
    "    <li>campaign: Likely a categorical label or identifier related to a specific campaign or topic associated with the tweet. More consideration is required before this attribute can be considered for use as our project's goal is to understand mental health trends based on sentiment, not just on tweet topics. So for now we do not include this.</li>\n",
    "    <li>likes_pf: A normalized value representing likes as a percentage of the user’s followers. This is a better range measurement of likes, as it scales the frequency against the highest and lowest counts.</li>\n",
    "    <li>rt_pf: A normalized value representing retweets as a percentage of the user’s followers. Same as rt_likes, but with retweets.</li>\n",
    "    <li>replies_pf: A normalized value representing replies as a percentage of the user’s followers. Same as rt_likes, but with replies.</li>\n",
    "    <li>engagement: A measure of overall engagement based on likes, retweets, and replies. This is an aggregation of the above 3 attrbutes. Due to this, we can use this instead of likes, retweets and replies, and their of counterparts.</li>\n",
    "    <li>engagement_0: A baseline engagement value. Due to its similarity to engagement, and to avoid multicolinearity, we will not use this attribute.</li>\n",
    "    <li>processed_tweet: A version of the tweet after processing for sentiment analysis or text cleaning. With the tokenized tweets attributes, this is not as useful anymore.</li>\n",
    "    <li>year: The year the tweet was posted. Since we have the fll datetime field earlier on, this is less helpful.</li>\n",
    "    <li>tweet_emoji_punc: The processed tweet with emoji and punctuation marks handled separately. Still less useful than the final tokenized tweets.</li>\n",
    "    <li>tokenised_tweet: The tweet after tokenization, i.e., splitting the tweet into individual words or tokens. This will be our main bag of words to conduct further sentiment analysis on.</li>\n",
    "\t<li>sentiment_scores: A numerical sentiment score (likely from a sentiment analysis model). Naturally, this will be our labelled data/dependent variable.</li>\n",
    "\t<li>compound_score: A compound sentiment score indicating the overall sentiment polarity, where negative values suggest negative sentiment and positive values suggest positive sentiment. This is also a crucial attribute to predict sentiment from tweets, and could be more useful that the categorical labels.</li>\n",
    "    <li>compound_categoy: The classification of the compound scores into strong/weak groups. This can be used over sentiment_scores in categorising, but both can be considered.</li>\n",
    "</ul>"
   ]
  },
  {
   "cell_type": "code",
   "execution_count": 58,
   "metadata": {},
   "outputs": [
    {
     "data": {
      "text/html": [
       "<div>\n",
       "<style scoped>\n",
       "    .dataframe tbody tr th:only-of-type {\n",
       "        vertical-align: middle;\n",
       "    }\n",
       "\n",
       "    .dataframe tbody tr th {\n",
       "        vertical-align: top;\n",
       "    }\n",
       "\n",
       "    .dataframe thead th {\n",
       "        text-align: right;\n",
       "    }\n",
       "</style>\n",
       "<table border=\"1\" class=\"dataframe\">\n",
       "  <thead>\n",
       "    <tr style=\"text-align: right;\">\n",
       "      <th></th>\n",
       "      <th>Date</th>\n",
       "      <th>location</th>\n",
       "      <th>followers</th>\n",
       "      <th>engagement</th>\n",
       "      <th>tokenised_tweet</th>\n",
       "      <th>sentiment_scores</th>\n",
       "      <th>compound_score</th>\n",
       "      <th>compound_category</th>\n",
       "    </tr>\n",
       "  </thead>\n",
       "  <tbody>\n",
       "    <tr>\n",
       "      <th>0</th>\n",
       "      <td>2023-02-15 13:48:52+00:00</td>\n",
       "      <td>Haringey</td>\n",
       "      <td>317</td>\n",
       "      <td>0.022082</td>\n",
       "      <td>[people, ocd, experience, intensely, negative,...</td>\n",
       "      <td>2</td>\n",
       "      <td>-0.8111</td>\n",
       "      <td>Strong Negative</td>\n",
       "    </tr>\n",
       "    <tr>\n",
       "      <th>1</th>\n",
       "      <td>2023-02-09 22:37:56+00:00</td>\n",
       "      <td>unknown</td>\n",
       "      <td>9</td>\n",
       "      <td>0.000000</td>\n",
       "      <td>[hello, erika, iocdf, grassroots, advocate, lo...</td>\n",
       "      <td>2</td>\n",
       "      <td>0.6981</td>\n",
       "      <td>Strong Positive</td>\n",
       "    </tr>\n",
       "    <tr>\n",
       "      <th>2</th>\n",
       "      <td>2022-10-20 11:30:07+00:00</td>\n",
       "      <td>Gloucester</td>\n",
       "      <td>905</td>\n",
       "      <td>0.000000</td>\n",
       "      <td>[light, last, week, ocd, awareness, week, want...</td>\n",
       "      <td>2</td>\n",
       "      <td>0.3400</td>\n",
       "      <td>Weak Positive</td>\n",
       "    </tr>\n",
       "    <tr>\n",
       "      <th>3</th>\n",
       "      <td>2022-10-18 19:42:14+00:00</td>\n",
       "      <td>Boston, MA</td>\n",
       "      <td>19257</td>\n",
       "      <td>0.000467</td>\n",
       "      <td>[gifs, million, views, giphy, hope, campaign, ...</td>\n",
       "      <td>2</td>\n",
       "      <td>0.7840</td>\n",
       "      <td>Strong Positive</td>\n",
       "    </tr>\n",
       "    <tr>\n",
       "      <th>4</th>\n",
       "      <td>2022-10-18 19:42:13+00:00</td>\n",
       "      <td>Boston, MA</td>\n",
       "      <td>19257</td>\n",
       "      <td>0.000727</td>\n",
       "      <td>[ocdweek, events, activities, livestreams, led...</td>\n",
       "      <td>2</td>\n",
       "      <td>0.8689</td>\n",
       "      <td>Strong Positive</td>\n",
       "    </tr>\n",
       "  </tbody>\n",
       "</table>\n",
       "</div>"
      ],
      "text/plain": [
       "                        Date    location  followers  engagement  \\\n",
       "0  2023-02-15 13:48:52+00:00   Haringey         317    0.022082   \n",
       "1  2023-02-09 22:37:56+00:00     unknown          9    0.000000   \n",
       "2  2022-10-20 11:30:07+00:00  Gloucester        905    0.000000   \n",
       "3  2022-10-18 19:42:14+00:00  Boston, MA      19257    0.000467   \n",
       "4  2022-10-18 19:42:13+00:00  Boston, MA      19257    0.000727   \n",
       "\n",
       "                                     tokenised_tweet  sentiment_scores  \\\n",
       "0  [people, ocd, experience, intensely, negative,...                 2   \n",
       "1  [hello, erika, iocdf, grassroots, advocate, lo...                 2   \n",
       "2  [light, last, week, ocd, awareness, week, want...                 2   \n",
       "3  [gifs, million, views, giphy, hope, campaign, ...                 2   \n",
       "4  [ocdweek, events, activities, livestreams, led...                 2   \n",
       "\n",
       "   compound_score compound_category  \n",
       "0         -0.8111   Strong Negative  \n",
       "1          0.6981   Strong Positive  \n",
       "2          0.3400     Weak Positive  \n",
       "3          0.7840   Strong Positive  \n",
       "4          0.8689   Strong Positive  "
      ]
     },
     "execution_count": 58,
     "metadata": {},
     "output_type": "execute_result"
    }
   ],
   "source": [
    "new_mh_scored_df = mh_scored_df[['Date', 'location', 'followers', 'engagement', 'tokenised_tweet', 'sentiment_scores', 'compound_score', 'compound_category']]\n",
    "new_mh_scored_df.head()"
   ]
  },
  {
   "cell_type": "code",
   "execution_count": 59,
   "metadata": {},
   "outputs": [],
   "source": [
    "new_mh_scored_df.to_csv('../data/MH_PROJECT.csv', index=False)"
   ]
  },
  {
   "cell_type": "markdown",
   "metadata": {},
   "source": [
    "Exporting the cleaned, processed, and feature selected dataset."
   ]
  },
  {
   "cell_type": "code",
   "execution_count": 88,
   "metadata": {},
   "outputs": [
    {
     "data": {
      "text/html": [
       "<div>\n",
       "<style scoped>\n",
       "    .dataframe tbody tr th:only-of-type {\n",
       "        vertical-align: middle;\n",
       "    }\n",
       "\n",
       "    .dataframe tbody tr th {\n",
       "        vertical-align: top;\n",
       "    }\n",
       "\n",
       "    .dataframe thead th {\n",
       "        text-align: right;\n",
       "    }\n",
       "</style>\n",
       "<table border=\"1\" class=\"dataframe\">\n",
       "  <thead>\n",
       "    <tr style=\"text-align: right;\">\n",
       "      <th></th>\n",
       "      <th>target</th>\n",
       "      <th>ids</th>\n",
       "      <th>date</th>\n",
       "      <th>flag</th>\n",
       "      <th>user</th>\n",
       "      <th>text</th>\n",
       "      <th>tokenized_text</th>\n",
       "    </tr>\n",
       "  </thead>\n",
       "  <tbody>\n",
       "    <tr>\n",
       "      <th>0</th>\n",
       "      <td>0</td>\n",
       "      <td>1467810369</td>\n",
       "      <td>Mon Apr 06 22:19:45 PDT 2009</td>\n",
       "      <td>NO_QUERY</td>\n",
       "      <td>_TheSpecialOne_</td>\n",
       "      <td>@switchfoot http://twitpic.com/2y1zl - Awww, t...</td>\n",
       "      <td>[switchfoot, http, awww, bummer, shoulda, got,...</td>\n",
       "    </tr>\n",
       "    <tr>\n",
       "      <th>1</th>\n",
       "      <td>0</td>\n",
       "      <td>1467810672</td>\n",
       "      <td>Mon Apr 06 22:19:49 PDT 2009</td>\n",
       "      <td>NO_QUERY</td>\n",
       "      <td>scotthamilton</td>\n",
       "      <td>is upset that he can't update his Facebook by ...</td>\n",
       "      <td>[upset, ca, updat, facebook, text, might, cri,...</td>\n",
       "    </tr>\n",
       "    <tr>\n",
       "      <th>2</th>\n",
       "      <td>0</td>\n",
       "      <td>1467810917</td>\n",
       "      <td>Mon Apr 06 22:19:53 PDT 2009</td>\n",
       "      <td>NO_QUERY</td>\n",
       "      <td>mattycus</td>\n",
       "      <td>@Kenichan I dived many times for the ball. Man...</td>\n",
       "      <td>[kenichan, dive, mani, time, ball, manag, save...</td>\n",
       "    </tr>\n",
       "    <tr>\n",
       "      <th>3</th>\n",
       "      <td>0</td>\n",
       "      <td>1467811184</td>\n",
       "      <td>Mon Apr 06 22:19:57 PDT 2009</td>\n",
       "      <td>NO_QUERY</td>\n",
       "      <td>ElleCTF</td>\n",
       "      <td>my whole body feels itchy and like its on fire</td>\n",
       "      <td>[whole, bodi, feel, itchi, like, fire]</td>\n",
       "    </tr>\n",
       "    <tr>\n",
       "      <th>4</th>\n",
       "      <td>0</td>\n",
       "      <td>1467811193</td>\n",
       "      <td>Mon Apr 06 22:19:57 PDT 2009</td>\n",
       "      <td>NO_QUERY</td>\n",
       "      <td>Karoli</td>\n",
       "      <td>@nationwideclass no, it's not behaving at all....</td>\n",
       "      <td>[nationwideclass, behav, mad, ca, see]</td>\n",
       "    </tr>\n",
       "  </tbody>\n",
       "</table>\n",
       "</div>"
      ],
      "text/plain": [
       "   target         ids                          date      flag  \\\n",
       "0       0  1467810369  Mon Apr 06 22:19:45 PDT 2009  NO_QUERY   \n",
       "1       0  1467810672  Mon Apr 06 22:19:49 PDT 2009  NO_QUERY   \n",
       "2       0  1467810917  Mon Apr 06 22:19:53 PDT 2009  NO_QUERY   \n",
       "3       0  1467811184  Mon Apr 06 22:19:57 PDT 2009  NO_QUERY   \n",
       "4       0  1467811193  Mon Apr 06 22:19:57 PDT 2009  NO_QUERY   \n",
       "\n",
       "              user                                               text  \\\n",
       "0  _TheSpecialOne_  @switchfoot http://twitpic.com/2y1zl - Awww, t...   \n",
       "1    scotthamilton  is upset that he can't update his Facebook by ...   \n",
       "2         mattycus  @Kenichan I dived many times for the ball. Man...   \n",
       "3          ElleCTF    my whole body feels itchy and like its on fire    \n",
       "4           Karoli  @nationwideclass no, it's not behaving at all....   \n",
       "\n",
       "                                      tokenized_text  \n",
       "0  [switchfoot, http, awww, bummer, shoulda, got,...  \n",
       "1  [upset, ca, updat, facebook, text, might, cri,...  \n",
       "2  [kenichan, dive, mani, time, ball, manag, save...  \n",
       "3             [whole, bodi, feel, itchi, like, fire]  \n",
       "4             [nationwideclass, behav, mad, ca, see]  "
      ]
     },
     "execution_count": 88,
     "metadata": {},
     "output_type": "execute_result"
    }
   ],
   "source": [
    "one_mil_six_df.head()"
   ]
  },
  {
   "cell_type": "markdown",
   "metadata": {},
   "source": [
    "To explain each attribute:\n",
    "<ul>\n",
    "    <li>target: the polarity of the tweet (0 = negative, 2 = neutral, 4 = positive). This is crucial in determining the data class.</li>\n",
    "    <li>ids: The id of the tweet (2087). This is not important to the project's goals.</li>\n",
    "    <li>date: the date of the tweet (Sat May 16 23:58:44 UTC 2009). This will allow us to identify when the sentiment was made.</li>\n",
    "    <li>flag: The query (lyx). If there is no query, then this value is NO_QUERY. This attribute holds no weight to the objectives.</li>\n",
    "    <li>user: the user that tweeted (robotickilldozr). Same as the IDs, it is not important to the project's goals.</li>\n",
    "    <li>text: the text of the tweet (Lyx is cool). This is useful to determining the sentiment of the data.</li>\n",
    "    <li>tokenized_text: The processed text. This is a better attribute format for sentiment analysis, and will be used over the regular text.</li>\n",
    "</ul>"
   ]
  },
  {
   "cell_type": "code",
   "execution_count": 94,
   "metadata": {},
   "outputs": [
    {
     "data": {
      "text/html": [
       "<div>\n",
       "<style scoped>\n",
       "    .dataframe tbody tr th:only-of-type {\n",
       "        vertical-align: middle;\n",
       "    }\n",
       "\n",
       "    .dataframe tbody tr th {\n",
       "        vertical-align: top;\n",
       "    }\n",
       "\n",
       "    .dataframe thead th {\n",
       "        text-align: right;\n",
       "    }\n",
       "</style>\n",
       "<table border=\"1\" class=\"dataframe\">\n",
       "  <thead>\n",
       "    <tr style=\"text-align: right;\">\n",
       "      <th></th>\n",
       "      <th>target</th>\n",
       "      <th>date</th>\n",
       "      <th>tokenized_text</th>\n",
       "    </tr>\n",
       "  </thead>\n",
       "  <tbody>\n",
       "    <tr>\n",
       "      <th>0</th>\n",
       "      <td>Strong Positive</td>\n",
       "      <td>Mon Apr 06 22:19:45 PDT 2009</td>\n",
       "      <td>[switchfoot, http, awww, bummer, shoulda, got,...</td>\n",
       "    </tr>\n",
       "    <tr>\n",
       "      <th>1</th>\n",
       "      <td>Strong Positive</td>\n",
       "      <td>Mon Apr 06 22:19:49 PDT 2009</td>\n",
       "      <td>[upset, ca, updat, facebook, text, might, cri,...</td>\n",
       "    </tr>\n",
       "    <tr>\n",
       "      <th>2</th>\n",
       "      <td>Strong Positive</td>\n",
       "      <td>Mon Apr 06 22:19:53 PDT 2009</td>\n",
       "      <td>[kenichan, dive, mani, time, ball, manag, save...</td>\n",
       "    </tr>\n",
       "    <tr>\n",
       "      <th>3</th>\n",
       "      <td>Strong Positive</td>\n",
       "      <td>Mon Apr 06 22:19:57 PDT 2009</td>\n",
       "      <td>[whole, bodi, feel, itchi, like, fire]</td>\n",
       "    </tr>\n",
       "    <tr>\n",
       "      <th>4</th>\n",
       "      <td>Strong Positive</td>\n",
       "      <td>Mon Apr 06 22:19:57 PDT 2009</td>\n",
       "      <td>[nationwideclass, behav, mad, ca, see]</td>\n",
       "    </tr>\n",
       "  </tbody>\n",
       "</table>\n",
       "</div>"
      ],
      "text/plain": [
       "            target                          date  \\\n",
       "0  Strong Positive  Mon Apr 06 22:19:45 PDT 2009   \n",
       "1  Strong Positive  Mon Apr 06 22:19:49 PDT 2009   \n",
       "2  Strong Positive  Mon Apr 06 22:19:53 PDT 2009   \n",
       "3  Strong Positive  Mon Apr 06 22:19:57 PDT 2009   \n",
       "4  Strong Positive  Mon Apr 06 22:19:57 PDT 2009   \n",
       "\n",
       "                                      tokenized_text  \n",
       "0  [switchfoot, http, awww, bummer, shoulda, got,...  \n",
       "1  [upset, ca, updat, facebook, text, might, cri,...  \n",
       "2  [kenichan, dive, mani, time, ball, manag, save...  \n",
       "3             [whole, bodi, feel, itchi, like, fire]  \n",
       "4             [nationwideclass, behav, mad, ca, see]  "
      ]
     },
     "execution_count": 94,
     "metadata": {},
     "output_type": "execute_result"
    }
   ],
   "source": [
    "new_one_mil_six_df = one_mil_six_df[['target', 'date', 'tokenized_text']]\n",
    "new_one_mil_six_df.head()"
   ]
  },
  {
   "cell_type": "code",
   "execution_count": 95,
   "metadata": {},
   "outputs": [],
   "source": [
    "new_one_mil_six_df.to_csv('../data/ONE_MIL_SIX_PROJECT.csv', index=False)"
   ]
  },
  {
   "cell_type": "markdown",
   "metadata": {},
   "source": [
    "Some todos:\n",
    "- Plot a chart showing the progression of tweets over time, and the different sentiment levels of each time period."
   ]
  }
 ],
 "metadata": {
  "kernelspec": {
   "display_name": "venv",
   "language": "python",
   "name": "venv"
  },
  "language_info": {
   "codemirror_mode": {
    "name": "ipython",
    "version": 3
   },
   "file_extension": ".py",
   "mimetype": "text/x-python",
   "name": "python",
   "nbconvert_exporter": "python",
   "pygments_lexer": "ipython3",
   "version": "3.12.6"
  }
 },
 "nbformat": 4,
 "nbformat_minor": 2
}
