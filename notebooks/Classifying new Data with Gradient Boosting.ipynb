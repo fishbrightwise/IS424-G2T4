{
 "cells": [
  {
   "cell_type": "code",
   "execution_count": 65,
   "metadata": {},
   "outputs": [
    {
     "name": "stdout",
     "output_type": "stream",
     "text": [
      "              precision    recall  f1-score   support\n",
      "\n",
      "           0       0.95      0.97      0.96    398074\n",
      "           1       0.88      0.79      0.84     96082\n",
      "\n",
      "    accuracy                           0.94    494156\n",
      "   macro avg       0.92      0.88      0.90    494156\n",
      "weighted avg       0.94      0.94      0.94    494156\n",
      "\n",
      "Confusion Matrix:\n",
      " [[388044  10030]\n",
      " [ 19779  76303]]\n"
     ]
    }
   ],
   "source": [
    "import xgboost as xgb\n",
    "import scipy.sparse\n",
    "import pandas as pd\n",
    "\n",
    "# Load the preprocessed sparse data\n",
    "X_test = scipy.sparse.load_npz('./preprocessed_data/X_test_sparse.npz')\n",
    "y_test = pd.read_csv('./preprocessed_data/test_labels.csv')\n",
    "\n",
    "# Load the pretrained XGBoost model\n",
    "bst = xgb.Booster()\n",
    "bst.load_model('xgboost_model.json')\n",
    "\n",
    "# Convert the test data into DMatrix format (required by XGBoost)\n",
    "dtest = xgb.DMatrix(X_test)\n",
    "\n",
    "# Make predictions using the loaded model\n",
    "y_pred_prob = bst.predict(dtest)\n",
    "y_pred = (y_pred_prob > 0.5).astype(int)\n",
    "\n",
    "# Optionally, evaluate the model's performance if you have the true labels\n",
    "from sklearn.metrics import classification_report, confusion_matrix\n",
    "\n",
    "print(classification_report(y_test, y_pred))\n",
    "print(\"Confusion Matrix:\\n\", confusion_matrix(y_test, y_pred))\n"
   ]
  },
  {
   "cell_type": "code",
   "execution_count": 66,
   "metadata": {},
   "outputs": [
    {
     "name": "stdout",
     "output_type": "stream",
     "text": [
      "<class 'pandas.core.frame.DataFrame'>\n",
      "RangeIndex: 1600000 entries, 0 to 1599999\n",
      "Data columns (total 6 columns):\n",
      " #   Column  Non-Null Count    Dtype \n",
      "---  ------  --------------    ----- \n",
      " 0   target  1600000 non-null  int64 \n",
      " 1   id      1600000 non-null  int64 \n",
      " 2   date    1600000 non-null  object\n",
      " 3   flag    1600000 non-null  object\n",
      " 4   user    1600000 non-null  object\n",
      " 5   text    1600000 non-null  object\n",
      "dtypes: int64(2), object(4)\n",
      "memory usage: 73.2+ MB\n"
     ]
    },
    {
     "data": {
      "text/html": [
       "<div>\n",
       "<style scoped>\n",
       "    .dataframe tbody tr th:only-of-type {\n",
       "        vertical-align: middle;\n",
       "    }\n",
       "\n",
       "    .dataframe tbody tr th {\n",
       "        vertical-align: top;\n",
       "    }\n",
       "\n",
       "    .dataframe thead th {\n",
       "        text-align: right;\n",
       "    }\n",
       "</style>\n",
       "<table border=\"1\" class=\"dataframe\">\n",
       "  <thead>\n",
       "    <tr style=\"text-align: right;\">\n",
       "      <th></th>\n",
       "      <th>target</th>\n",
       "      <th>id</th>\n",
       "      <th>date</th>\n",
       "      <th>flag</th>\n",
       "      <th>user</th>\n",
       "      <th>text</th>\n",
       "    </tr>\n",
       "  </thead>\n",
       "  <tbody>\n",
       "    <tr>\n",
       "      <th>0</th>\n",
       "      <td>0</td>\n",
       "      <td>1467810369</td>\n",
       "      <td>Mon Apr 06 22:19:45 PDT 2009</td>\n",
       "      <td>NO_QUERY</td>\n",
       "      <td>_TheSpecialOne_</td>\n",
       "      <td>@switchfoot http://twitpic.com/2y1zl - Awww, that's a bummer.  You shoulda got David Carr of Third Day to do it. ;D</td>\n",
       "    </tr>\n",
       "    <tr>\n",
       "      <th>1</th>\n",
       "      <td>0</td>\n",
       "      <td>1467810672</td>\n",
       "      <td>Mon Apr 06 22:19:49 PDT 2009</td>\n",
       "      <td>NO_QUERY</td>\n",
       "      <td>scotthamilton</td>\n",
       "      <td>is upset that he can't update his Facebook by texting it... and might cry as a result  School today also. Blah!</td>\n",
       "    </tr>\n",
       "    <tr>\n",
       "      <th>2</th>\n",
       "      <td>0</td>\n",
       "      <td>1467810917</td>\n",
       "      <td>Mon Apr 06 22:19:53 PDT 2009</td>\n",
       "      <td>NO_QUERY</td>\n",
       "      <td>mattycus</td>\n",
       "      <td>@Kenichan I dived many times for the ball. Managed to save 50%  The rest go out of bounds</td>\n",
       "    </tr>\n",
       "    <tr>\n",
       "      <th>3</th>\n",
       "      <td>0</td>\n",
       "      <td>1467811184</td>\n",
       "      <td>Mon Apr 06 22:19:57 PDT 2009</td>\n",
       "      <td>NO_QUERY</td>\n",
       "      <td>ElleCTF</td>\n",
       "      <td>my whole body feels itchy and like its on fire</td>\n",
       "    </tr>\n",
       "    <tr>\n",
       "      <th>4</th>\n",
       "      <td>0</td>\n",
       "      <td>1467811193</td>\n",
       "      <td>Mon Apr 06 22:19:57 PDT 2009</td>\n",
       "      <td>NO_QUERY</td>\n",
       "      <td>Karoli</td>\n",
       "      <td>@nationwideclass no, it's not behaving at all. i'm mad. why am i here? because I can't see you all over there.</td>\n",
       "    </tr>\n",
       "  </tbody>\n",
       "</table>\n",
       "</div>"
      ],
      "text/plain": [
       "   target          id                          date      flag  \\\n",
       "0       0  1467810369  Mon Apr 06 22:19:45 PDT 2009  NO_QUERY   \n",
       "1       0  1467810672  Mon Apr 06 22:19:49 PDT 2009  NO_QUERY   \n",
       "2       0  1467810917  Mon Apr 06 22:19:53 PDT 2009  NO_QUERY   \n",
       "3       0  1467811184  Mon Apr 06 22:19:57 PDT 2009  NO_QUERY   \n",
       "4       0  1467811193  Mon Apr 06 22:19:57 PDT 2009  NO_QUERY   \n",
       "\n",
       "              user  \\\n",
       "0  _TheSpecialOne_   \n",
       "1    scotthamilton   \n",
       "2         mattycus   \n",
       "3          ElleCTF   \n",
       "4           Karoli   \n",
       "\n",
       "                                                                                                                  text  \n",
       "0  @switchfoot http://twitpic.com/2y1zl - Awww, that's a bummer.  You shoulda got David Carr of Third Day to do it. ;D  \n",
       "1      is upset that he can't update his Facebook by texting it... and might cry as a result  School today also. Blah!  \n",
       "2                            @Kenichan I dived many times for the ball. Managed to save 50%  The rest go out of bounds  \n",
       "3                                                                      my whole body feels itchy and like its on fire   \n",
       "4      @nationwideclass no, it's not behaving at all. i'm mad. why am i here? because I can't see you all over there.   "
      ]
     },
     "execution_count": 66,
     "metadata": {},
     "output_type": "execute_result"
    }
   ],
   "source": [
    "column_names = ['target', 'id', 'date', 'flag', 'user', 'text']\n",
    "\n",
    "df = pd.read_csv('./Datasets/training.1600000.processed.noemoticon.csv', encoding='latin-1', names=column_names)\n",
    "\n",
    "df.info()\n",
    "\n",
    "df.head()"
   ]
  },
  {
   "cell_type": "code",
   "execution_count": 67,
   "metadata": {},
   "outputs": [],
   "source": [
    "df['target'] = df['target'].map({0: 1, 4: 0, 2: 0})"
   ]
  },
  {
   "cell_type": "code",
   "execution_count": 68,
   "metadata": {},
   "outputs": [],
   "source": [
    "import re\n",
    "\n",
    "# Text cleaning function\n",
    "def clean_text(text):\n",
    "    # Remove URLs\n",
    "    text = re.sub(r'http\\S+|www\\S+|https\\S+', '', text, flags=re.MULTILINE)\n",
    "    # Remove user mentions and hashtags\n",
    "    text = re.sub(r'\\@\\w+|\\#', '', text)\n",
    "    # Remove punctuation and numbers\n",
    "    text = re.sub(r'[^\\w\\s]', '', text)\n",
    "    # Lowercase the text\n",
    "    text = text.lower()\n",
    "    return text\n",
    "\n",
    "# Apply the text cleaning function\n",
    "df['cleaned_text'] = df['text'].apply(clean_text)"
   ]
  },
  {
   "cell_type": "code",
   "execution_count": 69,
   "metadata": {},
   "outputs": [],
   "source": [
    "from sklearn.feature_extraction.text import TfidfVectorizer\n",
    "\n",
    "# Assuming 'vectorizer' was saved from the Reddit data preprocessing, load it\n",
    "# For demonstration, let's say it was saved as 'tfidf_vectorizer.pkl'\n",
    "\n",
    "import joblib\n",
    "vectorizer = joblib.load('./preprocessed_data/tfidf_vectorizer.pkl')\n",
    "\n",
    "# Transform the Twitter data text into TF-IDF features\n",
    "X_twitter = vectorizer.transform(df['cleaned_text'])"
   ]
  },
  {
   "cell_type": "code",
   "execution_count": 70,
   "metadata": {},
   "outputs": [],
   "source": [
    "# Make predictions on the Twitter dataset\n",
    "y_twitter_pred = bst.predict(xgb.DMatrix(X_twitter))\n",
    "y_twitter_pred_labels = [1 if pred > 0.5 else 0 for pred in y_twitter_pred]\n",
    "\n",
    "# Add the predicted labels to the DataFrame\n",
    "df['predicted_sentiment'] = y_twitter_pred_labels\n"
   ]
  },
  {
   "cell_type": "code",
   "execution_count": 71,
   "metadata": {},
   "outputs": [
    {
     "data": {
      "text/html": [
       "<div>\n",
       "<style scoped>\n",
       "    .dataframe tbody tr th:only-of-type {\n",
       "        vertical-align: middle;\n",
       "    }\n",
       "\n",
       "    .dataframe tbody tr th {\n",
       "        vertical-align: top;\n",
       "    }\n",
       "\n",
       "    .dataframe thead th {\n",
       "        text-align: right;\n",
       "    }\n",
       "</style>\n",
       "<table border=\"1\" class=\"dataframe\">\n",
       "  <thead>\n",
       "    <tr style=\"text-align: right;\">\n",
       "      <th></th>\n",
       "      <th>text</th>\n",
       "      <th>predicted_sentiment</th>\n",
       "    </tr>\n",
       "  </thead>\n",
       "  <tbody>\n",
       "    <tr>\n",
       "      <th>234</th>\n",
       "      <td>@ircmaxell - I think I need to find better anti-depressants.  I think this Paxil/Wellbutrin combo is losing its efficacy.</td>\n",
       "      <td>1</td>\n",
       "    </tr>\n",
       "    <tr>\n",
       "      <th>287</th>\n",
       "      <td>feels like she slept the day away.    Not looking forward to any more bouts with my gallbladder.  At least I have pills now for the pain.</td>\n",
       "      <td>1</td>\n",
       "    </tr>\n",
       "    <tr>\n",
       "      <th>341</th>\n",
       "      <td>@hyperbets i hope this doesn't last too long.  i feel miserable!</td>\n",
       "      <td>1</td>\n",
       "    </tr>\n",
       "    <tr>\n",
       "      <th>732</th>\n",
       "      <td>im so tired of work...i need a life....</td>\n",
       "      <td>1</td>\n",
       "    </tr>\n",
       "    <tr>\n",
       "      <th>1408</th>\n",
       "      <td>@RedGray Ah man- so sad, his cousin committed suicide yest and she was 8 months pregnant  - can you imagine... we been crying non stop...</td>\n",
       "      <td>1</td>\n",
       "    </tr>\n",
       "  </tbody>\n",
       "</table>\n",
       "</div>"
      ],
      "text/plain": [
       "                                                                                                                                            text  \\\n",
       "234                  @ircmaxell - I think I need to find better anti-depressants.  I think this Paxil/Wellbutrin combo is losing its efficacy.     \n",
       "287    feels like she slept the day away.    Not looking forward to any more bouts with my gallbladder.  At least I have pills now for the pain.   \n",
       "341                                                                             @hyperbets i hope this doesn't last too long.  i feel miserable!   \n",
       "732                                                                                                     im so tired of work...i need a life....    \n",
       "1408  @RedGray Ah man- so sad, his cousin committed suicide yest and she was 8 months pregnant  - can you imagine... we been crying non stop...    \n",
       "\n",
       "      predicted_sentiment  \n",
       "234                     1  \n",
       "287                     1  \n",
       "341                     1  \n",
       "732                     1  \n",
       "1408                    1  "
      ]
     },
     "execution_count": 71,
     "metadata": {},
     "output_type": "execute_result"
    }
   ],
   "source": [
    "# Filter for tweets classified as depressive\n",
    "depressive_tweets = df[df['predicted_sentiment'] == 1]\n",
    "\n",
    "# Display sample depressive tweets\n",
    "depressive_tweets[['text', 'predicted_sentiment']].head()"
   ]
  },
  {
   "cell_type": "code",
   "execution_count": 72,
   "metadata": {},
   "outputs": [
    {
     "data": {
      "text/plain": [
       "target                 2852\n",
       "id                     2852\n",
       "date                   2852\n",
       "flag                   2852\n",
       "user                   2852\n",
       "text                   2852\n",
       "cleaned_text           2852\n",
       "predicted_sentiment    2852\n",
       "dtype: int64"
      ]
     },
     "execution_count": 72,
     "metadata": {},
     "output_type": "execute_result"
    }
   ],
   "source": [
    "depressive_tweets.count()"
   ]
  },
  {
   "cell_type": "code",
   "execution_count": 73,
   "metadata": {},
   "outputs": [
    {
     "data": {
      "text/html": [
       "<div>\n",
       "<style scoped>\n",
       "    .dataframe tbody tr th:only-of-type {\n",
       "        vertical-align: middle;\n",
       "    }\n",
       "\n",
       "    .dataframe tbody tr th {\n",
       "        vertical-align: top;\n",
       "    }\n",
       "\n",
       "    .dataframe thead th {\n",
       "        text-align: right;\n",
       "    }\n",
       "</style>\n",
       "<table border=\"1\" class=\"dataframe\">\n",
       "  <thead>\n",
       "    <tr style=\"text-align: right;\">\n",
       "      <th></th>\n",
       "      <th>text</th>\n",
       "      <th>predicted_sentiment</th>\n",
       "    </tr>\n",
       "  </thead>\n",
       "  <tbody>\n",
       "    <tr>\n",
       "      <th>1585775</th>\n",
       "      <td>God I would kill to be going to transformers 2 tonight, so anyone going steer clear of me</td>\n",
       "      <td>1</td>\n",
       "    </tr>\n",
       "    <tr>\n",
       "      <th>1589685</th>\n",
       "      <td>@prissyharajuku:i hope so too! i wish i had someone to wake up to lls! awww.</td>\n",
       "      <td>1</td>\n",
       "    </tr>\n",
       "    <tr>\n",
       "      <th>1590835</th>\n",
       "      <td>@kemalispirli I feel what you feel, we have been living with PC  for years  But, there is a good point and it is called &amp;quot;Red Alert 3&amp;quot;</td>\n",
       "      <td>1</td>\n",
       "    </tr>\n",
       "    <tr>\n",
       "      <th>1594284</th>\n",
       "      <td>@AlWoods Nice.  It always feels good.  We don't want to get like Seattle. That's depressing.  They have suicide kits in their Happy Meals</td>\n",
       "      <td>1</td>\n",
       "    </tr>\n",
       "    <tr>\n",
       "      <th>1594340</th>\n",
       "      <td>@shellisxena HI Shelley, it's nice to meet you  I live in Meridian, ID. was last in Portland for seminar on treating depression naturally</td>\n",
       "      <td>1</td>\n",
       "    </tr>\n",
       "  </tbody>\n",
       "</table>\n",
       "</div>"
      ],
      "text/plain": [
       "                                                                                                                                                    text  \\\n",
       "1585775                                                       God I would kill to be going to transformers 2 tonight, so anyone going steer clear of me    \n",
       "1589685                                                                    @prissyharajuku:i hope so too! i wish i had someone to wake up to lls! awww.    \n",
       "1590835  @kemalispirli I feel what you feel, we have been living with PC  for years  But, there is a good point and it is called &quot;Red Alert 3&quot;   \n",
       "1594284       @AlWoods Nice.  It always feels good.  We don't want to get like Seattle. That's depressing.  They have suicide kits in their Happy Meals    \n",
       "1594340        @shellisxena HI Shelley, it's nice to meet you  I live in Meridian, ID. was last in Portland for seminar on treating depression naturally   \n",
       "\n",
       "         predicted_sentiment  \n",
       "1585775                    1  \n",
       "1589685                    1  \n",
       "1590835                    1  \n",
       "1594284                    1  \n",
       "1594340                    1  "
      ]
     },
     "execution_count": 73,
     "metadata": {},
     "output_type": "execute_result"
    }
   ],
   "source": [
    "depressive_tweets[['text', 'predicted_sentiment']].tail()"
   ]
  },
  {
   "cell_type": "code",
   "execution_count": 74,
   "metadata": {},
   "outputs": [
    {
     "data": {
      "text/plain": [
       "target                                                                                                                                           1\n",
       "id                                                                                                                                      1467872309\n",
       "date                                                                                                                  Mon Apr 06 22:35:51 PDT 2009\n",
       "flag                                                                                                                                      NO_QUERY\n",
       "user                                                                                                                                         dossy\n",
       "text                   @ircmaxell - I think I need to find better anti-depressants.  I think this Paxil/Wellbutrin combo is losing its efficacy.  \n",
       "cleaned_text                            i think i need to find better antidepressants  i think this paxilwellbutrin combo is losing its efficacy  \n",
       "predicted_sentiment                                                                                                                              1\n",
       "Name: 234, dtype: object"
      ]
     },
     "execution_count": 74,
     "metadata": {},
     "output_type": "execute_result"
    }
   ],
   "source": [
    "# Set display option to show the full text\n",
    "pd.set_option('display.max_colwidth', None)\n",
    "\n",
    "# See the texts for depressive tweets under specified indices in bulk\n",
    "#indices = [234, 287, 341, 732, 1408, 1585775, 1589685, 1590835, 1594284, 1594340]\n",
    "depressive_tweets.loc[234]\n"
   ]
  },
  {
   "cell_type": "code",
   "execution_count": 75,
   "metadata": {},
   "outputs": [
    {
     "name": "stderr",
     "output_type": "stream",
     "text": [
      "C:\\Users\\shaun\\AppData\\Local\\Temp\\ipykernel_10716\\1573547618.py:2: FutureWarning: Parsed string \"Mon Apr 06 22:19:45 PDT 2009\" included an un-recognized timezone \"PDT\". Dropping unrecognized timezones is deprecated; in a future version this will raise. Instead pass the string without the timezone, then use .tz_localize to convert to a recognized timezone.\n",
      "  df['date'] = pd.to_datetime(df['date'])\n"
     ]
    }
   ],
   "source": [
    "# Convert the date column to datetime format\n",
    "df['date'] = pd.to_datetime(df['date'])"
   ]
  },
  {
   "cell_type": "code",
   "execution_count": 76,
   "metadata": {},
   "outputs": [
    {
     "data": {
      "text/html": [
       "<div>\n",
       "<style scoped>\n",
       "    .dataframe tbody tr th:only-of-type {\n",
       "        vertical-align: middle;\n",
       "    }\n",
       "\n",
       "    .dataframe tbody tr th {\n",
       "        vertical-align: top;\n",
       "    }\n",
       "\n",
       "    .dataframe thead th {\n",
       "        text-align: right;\n",
       "    }\n",
       "</style>\n",
       "<table border=\"1\" class=\"dataframe\">\n",
       "  <thead>\n",
       "    <tr style=\"text-align: right;\">\n",
       "      <th></th>\n",
       "      <th>target</th>\n",
       "      <th>id</th>\n",
       "      <th>date</th>\n",
       "      <th>flag</th>\n",
       "      <th>user</th>\n",
       "      <th>text</th>\n",
       "      <th>cleaned_text</th>\n",
       "      <th>predicted_sentiment</th>\n",
       "    </tr>\n",
       "  </thead>\n",
       "  <tbody>\n",
       "    <tr>\n",
       "      <th>0</th>\n",
       "      <td>1</td>\n",
       "      <td>1467810369</td>\n",
       "      <td>2009-04-06 22:19:45</td>\n",
       "      <td>NO_QUERY</td>\n",
       "      <td>_TheSpecialOne_</td>\n",
       "      <td>@switchfoot http://twitpic.com/2y1zl - Awww, that's a bummer.  You shoulda got David Carr of Third Day to do it. ;D</td>\n",
       "      <td>a thats a bummer  you shoulda got david carr of third day to do it d</td>\n",
       "      <td>0</td>\n",
       "    </tr>\n",
       "    <tr>\n",
       "      <th>1</th>\n",
       "      <td>1</td>\n",
       "      <td>1467810672</td>\n",
       "      <td>2009-04-06 22:19:49</td>\n",
       "      <td>NO_QUERY</td>\n",
       "      <td>scotthamilton</td>\n",
       "      <td>is upset that he can't update his Facebook by texting it... and might cry as a result  School today also. Blah!</td>\n",
       "      <td>is upset that he cant update his facebook by texting it and might cry as a result  school today also blah</td>\n",
       "      <td>0</td>\n",
       "    </tr>\n",
       "    <tr>\n",
       "      <th>2</th>\n",
       "      <td>1</td>\n",
       "      <td>1467810917</td>\n",
       "      <td>2009-04-06 22:19:53</td>\n",
       "      <td>NO_QUERY</td>\n",
       "      <td>mattycus</td>\n",
       "      <td>@Kenichan I dived many times for the ball. Managed to save 50%  The rest go out of bounds</td>\n",
       "      <td>i dived many times for the ball managed to save 50  the rest go out of bounds</td>\n",
       "      <td>0</td>\n",
       "    </tr>\n",
       "    <tr>\n",
       "      <th>3</th>\n",
       "      <td>1</td>\n",
       "      <td>1467811184</td>\n",
       "      <td>2009-04-06 22:19:57</td>\n",
       "      <td>NO_QUERY</td>\n",
       "      <td>ElleCTF</td>\n",
       "      <td>my whole body feels itchy and like its on fire</td>\n",
       "      <td>my whole body feels itchy and like its on fire</td>\n",
       "      <td>0</td>\n",
       "    </tr>\n",
       "    <tr>\n",
       "      <th>4</th>\n",
       "      <td>1</td>\n",
       "      <td>1467811193</td>\n",
       "      <td>2009-04-06 22:19:57</td>\n",
       "      <td>NO_QUERY</td>\n",
       "      <td>Karoli</td>\n",
       "      <td>@nationwideclass no, it's not behaving at all. i'm mad. why am i here? because I can't see you all over there.</td>\n",
       "      <td>no its not behaving at all im mad why am i here because i cant see you all over there</td>\n",
       "      <td>0</td>\n",
       "    </tr>\n",
       "  </tbody>\n",
       "</table>\n",
       "</div>"
      ],
      "text/plain": [
       "   target          id                date      flag             user  \\\n",
       "0       1  1467810369 2009-04-06 22:19:45  NO_QUERY  _TheSpecialOne_   \n",
       "1       1  1467810672 2009-04-06 22:19:49  NO_QUERY    scotthamilton   \n",
       "2       1  1467810917 2009-04-06 22:19:53  NO_QUERY         mattycus   \n",
       "3       1  1467811184 2009-04-06 22:19:57  NO_QUERY          ElleCTF   \n",
       "4       1  1467811193 2009-04-06 22:19:57  NO_QUERY           Karoli   \n",
       "\n",
       "                                                                                                                  text  \\\n",
       "0  @switchfoot http://twitpic.com/2y1zl - Awww, that's a bummer.  You shoulda got David Carr of Third Day to do it. ;D   \n",
       "1      is upset that he can't update his Facebook by texting it... and might cry as a result  School today also. Blah!   \n",
       "2                            @Kenichan I dived many times for the ball. Managed to save 50%  The rest go out of bounds   \n",
       "3                                                                      my whole body feels itchy and like its on fire    \n",
       "4      @nationwideclass no, it's not behaving at all. i'm mad. why am i here? because I can't see you all over there.    \n",
       "\n",
       "                                                                                                cleaned_text  \\\n",
       "0                                       a thats a bummer  you shoulda got david carr of third day to do it d   \n",
       "1  is upset that he cant update his facebook by texting it and might cry as a result  school today also blah   \n",
       "2                              i dived many times for the ball managed to save 50  the rest go out of bounds   \n",
       "3                                                            my whole body feels itchy and like its on fire    \n",
       "4                     no its not behaving at all im mad why am i here because i cant see you all over there    \n",
       "\n",
       "   predicted_sentiment  \n",
       "0                    0  \n",
       "1                    0  \n",
       "2                    0  \n",
       "3                    0  \n",
       "4                    0  "
      ]
     },
     "execution_count": 76,
     "metadata": {},
     "output_type": "execute_result"
    }
   ],
   "source": [
    "df.head()"
   ]
  },
  {
   "cell_type": "code",
   "execution_count": 77,
   "metadata": {},
   "outputs": [
    {
     "name": "stderr",
     "output_type": "stream",
     "text": [
      "C:\\Users\\shaun\\AppData\\Local\\Temp\\ipykernel_10716\\910384950.py:1: FutureWarning: Parsed string \"Mon Apr 06 22:35:51 PDT 2009\" included an un-recognized timezone \"PDT\". Dropping unrecognized timezones is deprecated; in a future version this will raise. Instead pass the string without the timezone, then use .tz_localize to convert to a recognized timezone.\n",
      "  depressive_tweets['date'] = pd.to_datetime(depressive_tweets['date'])\n",
      "C:\\Users\\shaun\\AppData\\Local\\Temp\\ipykernel_10716\\910384950.py:1: SettingWithCopyWarning: \n",
      "A value is trying to be set on a copy of a slice from a DataFrame.\n",
      "Try using .loc[row_indexer,col_indexer] = value instead\n",
      "\n",
      "See the caveats in the documentation: https://pandas.pydata.org/pandas-docs/stable/user_guide/indexing.html#returning-a-view-versus-a-copy\n",
      "  depressive_tweets['date'] = pd.to_datetime(depressive_tweets['date'])\n"
     ]
    },
    {
     "data": {
      "text/html": [
       "<div>\n",
       "<style scoped>\n",
       "    .dataframe tbody tr th:only-of-type {\n",
       "        vertical-align: middle;\n",
       "    }\n",
       "\n",
       "    .dataframe tbody tr th {\n",
       "        vertical-align: top;\n",
       "    }\n",
       "\n",
       "    .dataframe thead th {\n",
       "        text-align: right;\n",
       "    }\n",
       "</style>\n",
       "<table border=\"1\" class=\"dataframe\">\n",
       "  <thead>\n",
       "    <tr style=\"text-align: right;\">\n",
       "      <th></th>\n",
       "      <th>target</th>\n",
       "      <th>id</th>\n",
       "      <th>date</th>\n",
       "      <th>flag</th>\n",
       "      <th>user</th>\n",
       "      <th>text</th>\n",
       "      <th>cleaned_text</th>\n",
       "      <th>predicted_sentiment</th>\n",
       "    </tr>\n",
       "  </thead>\n",
       "  <tbody>\n",
       "    <tr>\n",
       "      <th>234</th>\n",
       "      <td>1</td>\n",
       "      <td>1467872309</td>\n",
       "      <td>2009-04-06 22:35:51</td>\n",
       "      <td>NO_QUERY</td>\n",
       "      <td>dossy</td>\n",
       "      <td>@ircmaxell - I think I need to find better anti-depressants.  I think this Paxil/Wellbutrin combo is losing its efficacy.</td>\n",
       "      <td>i think i need to find better antidepressants  i think this paxilwellbutrin combo is losing its efficacy</td>\n",
       "      <td>1</td>\n",
       "    </tr>\n",
       "    <tr>\n",
       "      <th>287</th>\n",
       "      <td>1</td>\n",
       "      <td>1467882140</td>\n",
       "      <td>2009-04-06 22:38:32</td>\n",
       "      <td>NO_QUERY</td>\n",
       "      <td>nyracat</td>\n",
       "      <td>feels like she slept the day away.    Not looking forward to any more bouts with my gallbladder.  At least I have pills now for the pain.</td>\n",
       "      <td>feels like she slept the day away    not looking forward to any more bouts with my gallbladder  at least i have pills now for the pain</td>\n",
       "      <td>1</td>\n",
       "    </tr>\n",
       "    <tr>\n",
       "      <th>341</th>\n",
       "      <td>1</td>\n",
       "      <td>1467897316</td>\n",
       "      <td>2009-04-06 22:42:37</td>\n",
       "      <td>NO_QUERY</td>\n",
       "      <td>nicolegreen</td>\n",
       "      <td>@hyperbets i hope this doesn't last too long.  i feel miserable!</td>\n",
       "      <td>i hope this doesnt last too long  i feel miserable</td>\n",
       "      <td>1</td>\n",
       "    </tr>\n",
       "    <tr>\n",
       "      <th>732</th>\n",
       "      <td>1</td>\n",
       "      <td>1467994306</td>\n",
       "      <td>2009-04-06 23:10:03</td>\n",
       "      <td>NO_QUERY</td>\n",
       "      <td>katiehufford</td>\n",
       "      <td>im so tired of work...i need a life....</td>\n",
       "      <td>im so tired of worki need a life</td>\n",
       "      <td>1</td>\n",
       "    </tr>\n",
       "    <tr>\n",
       "      <th>1408</th>\n",
       "      <td>1</td>\n",
       "      <td>1468147058</td>\n",
       "      <td>2009-04-06 23:58:34</td>\n",
       "      <td>NO_QUERY</td>\n",
       "      <td>KristySS</td>\n",
       "      <td>@RedGray Ah man- so sad, his cousin committed suicide yest and she was 8 months pregnant  - can you imagine... we been crying non stop...</td>\n",
       "      <td>ah man so sad his cousin committed suicide yest and she was 8 months pregnant   can you imagine we been crying non stop</td>\n",
       "      <td>1</td>\n",
       "    </tr>\n",
       "  </tbody>\n",
       "</table>\n",
       "</div>"
      ],
      "text/plain": [
       "      target          id                date      flag          user  \\\n",
       "234        1  1467872309 2009-04-06 22:35:51  NO_QUERY         dossy   \n",
       "287        1  1467882140 2009-04-06 22:38:32  NO_QUERY       nyracat   \n",
       "341        1  1467897316 2009-04-06 22:42:37  NO_QUERY   nicolegreen   \n",
       "732        1  1467994306 2009-04-06 23:10:03  NO_QUERY  katiehufford   \n",
       "1408       1  1468147058 2009-04-06 23:58:34  NO_QUERY      KristySS   \n",
       "\n",
       "                                                                                                                                            text  \\\n",
       "234                  @ircmaxell - I think I need to find better anti-depressants.  I think this Paxil/Wellbutrin combo is losing its efficacy.     \n",
       "287    feels like she slept the day away.    Not looking forward to any more bouts with my gallbladder.  At least I have pills now for the pain.   \n",
       "341                                                                             @hyperbets i hope this doesn't last too long.  i feel miserable!   \n",
       "732                                                                                                     im so tired of work...i need a life....    \n",
       "1408  @RedGray Ah man- so sad, his cousin committed suicide yest and she was 8 months pregnant  - can you imagine... we been crying non stop...    \n",
       "\n",
       "                                                                                                                                cleaned_text  \\\n",
       "234                               i think i need to find better antidepressants  i think this paxilwellbutrin combo is losing its efficacy     \n",
       "287   feels like she slept the day away    not looking forward to any more bouts with my gallbladder  at least i have pills now for the pain   \n",
       "341                                                                                       i hope this doesnt last too long  i feel miserable   \n",
       "732                                                                                                        im so tired of worki need a life    \n",
       "1408                ah man so sad his cousin committed suicide yest and she was 8 months pregnant   can you imagine we been crying non stop    \n",
       "\n",
       "      predicted_sentiment  \n",
       "234                     1  \n",
       "287                     1  \n",
       "341                     1  \n",
       "732                     1  \n",
       "1408                    1  "
      ]
     },
     "execution_count": 77,
     "metadata": {},
     "output_type": "execute_result"
    }
   ],
   "source": [
    "depressive_tweets['date'] = pd.to_datetime(depressive_tweets['date'])\n",
    "depressive_tweets.head()"
   ]
  },
  {
   "cell_type": "code",
   "execution_count": 78,
   "metadata": {},
   "outputs": [],
   "source": [
    "# Group by date and count the number of depressive tweets per day\n",
    "depressive_tweet_counts = depressive_tweets.groupby(depressive_tweets['date'].dt.date).size()"
   ]
  },
  {
   "cell_type": "code",
   "execution_count": 79,
   "metadata": {},
   "outputs": [],
   "source": [
    "# Create a DataFrame with dates and counts\n",
    "depressive_tweet_counts_df = depressive_tweet_counts.reset_index(name='count')\n",
    "depressive_tweet_counts_df.columns = ['date', 'depressive_tweet_count']"
   ]
  },
  {
   "cell_type": "code",
   "execution_count": 80,
   "metadata": {},
   "outputs": [
    {
     "data": {
      "image/png": "[encoded data removed]",
      "text/plain": [
       "<Figure size 800x400 with 1 Axes>"
      ]
     },
     "metadata": {},
     "output_type": "display_data"
    }
   ],
   "source": [
    "import matplotlib.pyplot as plt\n",
    "\n",
    "# Plot the time series\n",
    "plt.figure(figsize=(8, 4))\n",
    "plt.plot(depressive_tweet_counts_df['date'], depressive_tweet_counts_df['depressive_tweet_count'], marker='o', linestyle='-')\n",
    "plt.xlabel('Date')\n",
    "plt.ylabel('Number of Depressive Tweets')\n",
    "plt.title('Daily Count of Depression-Classified Tweets Over Time')\n",
    "plt.xticks(rotation=45)\n",
    "plt.tight_layout()\n",
    "plt.show()"
   ]
  },
  {
   "cell_type": "code",
   "execution_count": 81,
   "metadata": {},
   "outputs": [
    {
     "name": "stdout",
     "output_type": "stream",
     "text": [
      "Peak date: 2009-06-01\n"
     ]
    }
   ],
   "source": [
    "# Find the date with the highest number of depressive tweets\n",
    "peak_date = depressive_tweet_counts_df.loc[depressive_tweet_counts_df['depressive_tweet_count'].idxmax(), 'date']\n",
    "print(\"Peak date:\", peak_date)"
   ]
  },
  {
   "cell_type": "code",
   "execution_count": 82,
   "metadata": {},
   "outputs": [],
   "source": [
    "# Filter for depressive tweets around the peak date (e.g., June 10, 2009)\n",
    "peak_period_tweets = df[(df['date'] >= pd.to_datetime('2009-05-31')) & \n",
    "                        (df['date'] <= pd.to_datetime('2009-06-2')) & \n",
    "                        (df['predicted_sentiment'] == 1)]"
   ]
  },
  {
   "cell_type": "code",
   "execution_count": 83,
   "metadata": {},
   "outputs": [
    {
     "data": {
      "text/html": [
       "<div>\n",
       "<style scoped>\n",
       "    .dataframe tbody tr th:only-of-type {\n",
       "        vertical-align: middle;\n",
       "    }\n",
       "\n",
       "    .dataframe tbody tr th {\n",
       "        vertical-align: top;\n",
       "    }\n",
       "\n",
       "    .dataframe thead th {\n",
       "        text-align: right;\n",
       "    }\n",
       "</style>\n",
       "<table border=\"1\" class=\"dataframe\">\n",
       "  <thead>\n",
       "    <tr style=\"text-align: right;\">\n",
       "      <th></th>\n",
       "      <th>date</th>\n",
       "      <th>text</th>\n",
       "      <th>predicted_sentiment</th>\n",
       "    </tr>\n",
       "  </thead>\n",
       "  <tbody>\n",
       "    <tr>\n",
       "      <th>230122</th>\n",
       "      <td>2009-05-31 00:04:30</td>\n",
       "      <td>@chr1zzy: aww   ....It was good to see you tonight, feel better.</td>\n",
       "      <td>1</td>\n",
       "    </tr>\n",
       "    <tr>\n",
       "      <th>230428</th>\n",
       "      <td>2009-05-31 00:17:13</td>\n",
       "      <td>I'm going to sleep... I feel like I'm getting sicker ass the days go on! Wth thought it's suppose to get better! Sigh...  I miss twin</td>\n",
       "      <td>1</td>\n",
       "    </tr>\n",
       "    <tr>\n",
       "      <th>231089</th>\n",
       "      <td>2009-05-31 00:48:54</td>\n",
       "      <td>Ok, I feel retarded...how can I leave a Skype voicemail, or does it have to be a call? I read how somewhere but can't find it again  tired</td>\n",
       "      <td>1</td>\n",
       "    </tr>\n",
       "    <tr>\n",
       "      <th>231091</th>\n",
       "      <td>2009-05-31 00:48:57</td>\n",
       "      <td>I now understand why people choose to run away. Why they choose to be homeless. And why they choose to commit suicide...</td>\n",
       "      <td>1</td>\n",
       "    </tr>\n",
       "    <tr>\n",
       "      <th>232914</th>\n",
       "      <td>2009-05-31 02:18:04</td>\n",
       "      <td>@FrankieTheSats aw  I hope he gets better soon! xxx</td>\n",
       "      <td>1</td>\n",
       "    </tr>\n",
       "  </tbody>\n",
       "</table>\n",
       "</div>"
      ],
      "text/plain": [
       "                      date  \\\n",
       "230122 2009-05-31 00:04:30   \n",
       "230428 2009-05-31 00:17:13   \n",
       "231089 2009-05-31 00:48:54   \n",
       "231091 2009-05-31 00:48:57   \n",
       "232914 2009-05-31 02:18:04   \n",
       "\n",
       "                                                                                                                                              text  \\\n",
       "230122                                                                            @chr1zzy: aww   ....It was good to see you tonight, feel better.   \n",
       "230428      I'm going to sleep... I feel like I'm getting sicker ass the days go on! Wth thought it's suppose to get better! Sigh...  I miss twin    \n",
       "231089  Ok, I feel retarded...how can I leave a Skype voicemail, or does it have to be a call? I read how somewhere but can't find it again  tired   \n",
       "231091                   I now understand why people choose to run away. Why they choose to be homeless. And why they choose to commit suicide...    \n",
       "232914                                                                                         @FrankieTheSats aw  I hope he gets better soon! xxx   \n",
       "\n",
       "        predicted_sentiment  \n",
       "230122                    1  \n",
       "230428                    1  \n",
       "231089                    1  \n",
       "231091                    1  \n",
       "232914                    1  "
      ]
     },
     "execution_count": 83,
     "metadata": {},
     "output_type": "execute_result"
    }
   ],
   "source": [
    "peak_period_tweets[['date', 'text', 'predicted_sentiment']].head()\n"
   ]
  },
  {
   "cell_type": "code",
   "execution_count": 84,
   "metadata": {},
   "outputs": [
    {
     "name": "stdout",
     "output_type": "stream",
     "text": [
      "Top words in depressive tweets during peak period: [('feel', 138), ('better', 84), ('just', 74), ('hope', 71), ('life', 49), ('soon', 45), ('wish', 45), ('tired', 43), ('tonight', 36), ('want', 36), ('work', 33), ('feeling', 29), ('anymore', 28), ('don', 27), ('like', 26), ('really', 25), ('sorry', 25), ('need', 24), ('hate', 23), ('today', 21)]\n"
     ]
    }
   ],
   "source": [
    "from sklearn.feature_extraction.text import CountVectorizer\n",
    "\n",
    "# Vectorize to get word counts\n",
    "vectorizer = CountVectorizer(stop_words='english', max_features=20)\n",
    "peak_text_counts = vectorizer.fit_transform(peak_period_tweets['text'])\n",
    "\n",
    "# Sum counts for each word\n",
    "word_counts = peak_text_counts.sum(axis=0)\n",
    "word_freq = [(word, word_counts[0, idx]) for word, idx in vectorizer.vocabulary_.items()]\n",
    "word_freq = sorted(word_freq, key=lambda x: x[1], reverse=True)\n",
    "\n",
    "print(\"Top words in depressive tweets during peak period:\", word_freq)"
   ]
  },
  {
   "cell_type": "code",
   "execution_count": 85,
   "metadata": {},
   "outputs": [
    {
     "name": "stdout",
     "output_type": "stream",
     "text": [
      "Topic 1: tired, soon, don, really, today, feeling, just, hate, wish, life\n",
      "Topic 2: soon, feeling, sorry, feel, really, don, just, anymore, tired, want\n",
      "Topic 3: hate, today, don, really, feeling, sorry, soon, hope, feel, better\n",
      "Topic 4: life, tired, really, work, hate, don, just, today, like, feel\n",
      "Topic 5: better, hope, soon, feeling, really, tired, need, just, work, tonight\n"
     ]
    }
   ],
   "source": [
    "from sklearn.decomposition import LatentDirichletAllocation\n",
    "\n",
    "# Use the CountVectorizer output for topic modeling\n",
    "lda = LatentDirichletAllocation(n_components=5, random_state=42)\n",
    "lda.fit(peak_text_counts)\n",
    "\n",
    "# Print the top words for each topic\n",
    "for i, topic in enumerate(lda.components_):\n",
    "    top_words = [vectorizer.get_feature_names_out()[index] for index in topic.argsort()[-10:]]\n",
    "    print(f\"Topic {i+1}: {', '.join(top_words)}\")"
   ]
  },
  {
   "cell_type": "code",
   "execution_count": 86,
   "metadata": {},
   "outputs": [
    {
     "name": "stdout",
     "output_type": "stream",
     "text": [
      "\n",
      "Topic 1 Sample Tweets:\n",
      "237616     I love That Im Scottish But i hate Me i just feel that sometimes Im worthless and i guess today is one of those days  Ugh\n",
      "1243601                                                           @Rosellyanna ooo right...well I hope it gets better soon  chin up \n",
      "269607                   Pointless exam time. Why did I bother? Having reallly stupid dreams latelyyy, I just want my friend backk. \n",
      "1233664                                     @GordonMJ I hope your feet feel better. At least you're not covered in garbage anymore. \n",
      "293229                                                                                 i am going to die i wish i had a boyfriend!! \n",
      "Name: text, dtype: object\n",
      "\n",
      "Topic 2 Sample Tweets:\n",
      "242551    @planethealer I have been living with severe pain recently and undergoing tests, Life is hard, but I don't want the alternative. \n",
      "233070                                                           I'm so tired ryu nice try today  I feel tired even lying down on my bed...\n",
      "276782                                                 tired from work. does not want to go back anymore  can't i just be rich instantly???\n",
      "281429                                                    @paulisawesome20 Me too  I'm at the point in my life where I feel like I HAVE to.\n",
      "280868                                                       @mileycyrus I feel the same way  Feeling sick sucks. I hope you get well soon!\n",
      "Name: text, dtype: object\n",
      "\n",
      "Topic 3 Sample Tweets:\n",
      "1175714    fml. hah. i feel even worse than yesterday. only thing to look forward to is THE SIMS 3 IN TWO DAYS \n",
      "238662                    not feeling very good today. i hope i feel much better for track and field tomorrow. \n",
      "271744                                @estefaniaaaxo hunny!! I'm sorry  call me tonight - we'll hang out again!\n",
      "284118                                                               Damn work!! I'm so tired and I feel sick. \n",
      "1182948                   @Ms_Cute wats up tiffy hope your ok..  if you need to talk you know where to find me \n",
      "Name: text, dtype: object\n",
      "\n",
      "Topic 4 Sample Tweets:\n",
      "242551     @planethealer I have been living with severe pain recently and undergoing tests, Life is hard, but I don't want the alternative. \n",
      "233403                                       fuck its only 7:30pm and it feels like this night will never end.  the longest night of my life\n",
      "299115                     Tired after only getting 4 hrs of sleep last night  .  But I have a few things I SOOOOO want to work on tonight. \n",
      "1222153                                                        @BRI_anna0 I too wish I wasn't awake right now..&amp;I hope you feel better. \n",
      "1181568                             And I thought I'd hate it here... It's actually fun. Makes me feel like I have a life away from twitter \n",
      "Name: text, dtype: object\n",
      "\n",
      "Topic 5 Sample Tweets:\n",
      "237899     have a horrible low feeling. feel like someone close has been lost. sorry, but not sociable until my serotonin levels are sorted.. \n",
      "278834                I thought after 3 days of antibiotics I was supposed to feel better not worse!!! Hiding in bed until my drs appointment \n",
      "291972     @chaseinaction wish I could make it out tonight! Too much work  Hope it goes fantastically and that I see you before you head back!\n",
      "302721                                       No time for revisions tonight. Just too tired.  but the question is... whoisjimmystone.com ??? ;)\n",
      "1272642                                                                   @TheHeatherette Sorry to hear that  but I hope you feel better soon \n",
      "Name: text, dtype: object\n"
     ]
    }
   ],
   "source": [
    "# Extract top words for each topic\n",
    "topic_words = []\n",
    "for topic in lda.components_:\n",
    "    top_words = [vectorizer.get_feature_names_out()[index] for index in topic.argsort()[-10:]]\n",
    "    topic_words.append(top_words)\n",
    "\n",
    "# Sample tweets from each topic (e.g., top 5 tweets per topic)\n",
    "for topic_num in range(5):\n",
    "    print(f\"\\nTopic {topic_num + 1} Sample Tweets:\")\n",
    "    topic_tweets = peak_period_tweets[peak_period_tweets['text'].apply(lambda x: any(word in x for word in topic_words[topic_num]))]\n",
    "    print(topic_tweets['text'].sample(5, random_state=42))"
   ]
  },
  {
   "cell_type": "code",
   "execution_count": 87,
   "metadata": {},
   "outputs": [
    {
     "name": "stderr",
     "output_type": "stream",
     "text": [
      "C:\\Users\\shaun\\AppData\\Local\\Temp\\ipykernel_10716\\4030948262.py:3: SettingWithCopyWarning: \n",
      "A value is trying to be set on a copy of a slice from a DataFrame.\n",
      "Try using .loc[row_indexer,col_indexer] = value instead\n",
      "\n",
      "See the caveats in the documentation: https://pandas.pydata.org/pandas-docs/stable/user_guide/indexing.html#returning-a-view-versus-a-copy\n",
      "  depressive_tweets['is_h1n1_related'] = depressive_tweets['text'].apply(lambda x: any(word in x for word in h1n1_keywords))\n"
     ]
    }
   ],
   "source": [
    "# Example keyword frequency comparison\n",
    "h1n1_keywords = ['flu', 'virus', 'pandemic']\n",
    "depressive_tweets['is_h1n1_related'] = depressive_tweets['text'].apply(lambda x: any(word in x for word in h1n1_keywords))\n",
    "\n",
    "# Set the index to the date column for resampling\n",
    "depressive_tweets.set_index('date', inplace=True)\n",
    "\n",
    "# Resample and count the number of H1N1 related tweets per day\n",
    "h1n1_related_counts = depressive_tweets[depressive_tweets['is_h1n1_related']].resample('D').size()\n"
   ]
  },
  {
   "cell_type": "code",
   "execution_count": 88,
   "metadata": {},
   "outputs": [
    {
     "data": {
      "text/html": [
       "<div>\n",
       "<style scoped>\n",
       "    .dataframe tbody tr th:only-of-type {\n",
       "        vertical-align: middle;\n",
       "    }\n",
       "\n",
       "    .dataframe tbody tr th {\n",
       "        vertical-align: top;\n",
       "    }\n",
       "\n",
       "    .dataframe thead th {\n",
       "        text-align: right;\n",
       "    }\n",
       "</style>\n",
       "<table border=\"1\" class=\"dataframe\">\n",
       "  <thead>\n",
       "    <tr style=\"text-align: right;\">\n",
       "      <th></th>\n",
       "      <th>text</th>\n",
       "      <th>is_h1n1_related</th>\n",
       "    </tr>\n",
       "    <tr>\n",
       "      <th>date</th>\n",
       "      <th></th>\n",
       "      <th></th>\n",
       "    </tr>\n",
       "  </thead>\n",
       "  <tbody>\n",
       "    <tr>\n",
       "      <th>2009-06-01 11:54:36</th>\n",
       "      <td>@grantswilson Feel better soon Grant! There are some ugly virus things going around. We had one cycling through our family for 2 weeks</td>\n",
       "      <td>True</td>\n",
       "    </tr>\n",
       "    <tr>\n",
       "      <th>2009-06-02 00:45:52</th>\n",
       "      <td>I'm exhausted and I don't feel good.  I can't handle another bout of the 'flu, please go away!!</td>\n",
       "      <td>True</td>\n",
       "    </tr>\n",
       "    <tr>\n",
       "      <th>2009-06-06 08:59:18</th>\n",
       "      <td>I might have the swine flu, so I'm just going to lay in bed all day. I feel terrible. Bye bye Internet (for the day)</td>\n",
       "      <td>True</td>\n",
       "    </tr>\n",
       "    <tr>\n",
       "      <th>2009-06-18 23:43:16</th>\n",
       "      <td>Going to bed! it was a long day but im just glad i dont got dat swine flu. i WISH i couldve gone to razmataz</td>\n",
       "      <td>True</td>\n",
       "    </tr>\n",
       "    <tr>\n",
       "      <th>2009-06-25 01:49:50</th>\n",
       "      <td>@supercopygurl lol heavy night I wish - no, woke up with full on flu  super-grumpy but getting meds today so I can kill it quick!</td>\n",
       "      <td>True</td>\n",
       "    </tr>\n",
       "  </tbody>\n",
       "</table>\n",
       "</div>"
      ],
      "text/plain": [
       "                                                                                                                                                        text  \\\n",
       "date                                                                                                                                                           \n",
       "2009-06-01 11:54:36  @grantswilson Feel better soon Grant! There are some ugly virus things going around. We had one cycling through our family for 2 weeks    \n",
       "2009-06-02 00:45:52                                         I'm exhausted and I don't feel good.  I can't handle another bout of the 'flu, please go away!!    \n",
       "2009-06-06 08:59:18                    I might have the swine flu, so I'm just going to lay in bed all day. I feel terrible. Bye bye Internet (for the day)    \n",
       "2009-06-18 23:43:16                            Going to bed! it was a long day but im just glad i dont got dat swine flu. i WISH i couldve gone to razmataz    \n",
       "2009-06-25 01:49:50        @supercopygurl lol heavy night I wish - no, woke up with full on flu  super-grumpy but getting meds today so I can kill it quick!   \n",
       "\n",
       "                     is_h1n1_related  \n",
       "date                                  \n",
       "2009-06-01 11:54:36             True  \n",
       "2009-06-02 00:45:52             True  \n",
       "2009-06-06 08:59:18             True  \n",
       "2009-06-18 23:43:16             True  \n",
       "2009-06-25 01:49:50             True  "
      ]
     },
     "execution_count": 88,
     "metadata": {},
     "output_type": "execute_result"
    }
   ],
   "source": [
    "# Filter for H1N1 related tweets\n",
    "h1n1_related_tweets = depressive_tweets[depressive_tweets['is_h1n1_related']]\n",
    "\n",
    "# Display the H1N1 related tweets\n",
    "h1n1_related_tweets[['text', 'is_h1n1_related']].head()"
   ]
  }
 ],
 "metadata": {
  "kernelspec": {
   "display_name": "Python 3",
   "language": "python",
   "name": "python3"
  },
  "language_info": {
   "codemirror_mode": {
    "name": "ipython",
    "version": 3
   },
   "file_extension": ".py",
   "mimetype": "text/x-python",
   "name": "python",
   "nbconvert_exporter": "python",
   "pygments_lexer": "ipython3",
   "version": "3.12.7"
  }
 },
 "nbformat": 4,
 "nbformat_minor": 2
}
