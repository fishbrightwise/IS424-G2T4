{
 "cells": [
  {
   "cell_type": "code",
   "execution_count": 1,
   "metadata": {},
   "outputs": [],
   "source": [
    "#use TF-IDF to convert text into matrix of TF-IDF features\n",
    "#multinomial naive bayes works well with frequency data\n",
    "#include non-text features (upvotes, date, num_comments) into the text vector to\n",
    "#create single input matrix for the model\n",
    "#split data into training and test sets\n",
    "#train then evaluate the model(accuracy, precision, recall, f1 score)\n",
    "\n",
    "#Feature engineering\n",
    "#maybe include N-grams\n",
    "#including date\n",
    "\n",
    "#hyperparameter tuning\n",
    "#alpha "
   ]
  },
  {
   "cell_type": "code",
   "execution_count": 2,
   "metadata": {},
   "outputs": [],
   "source": [
    "import numpy as np\n",
    "import pandas as pd\n",
    "import matplotlib.pyplot as plt\n",
    "import scipy \n",
    "import seaborn as sns\n",
    "from sklearn.model_selection import cross_val_score \n",
    "df=pd.read_csv('../data/reddit_depression_dataset_cleaned.csv')"
   ]
  },
  {
   "cell_type": "code",
   "execution_count": 3,
   "metadata": {},
   "outputs": [
    {
     "data": {
      "text/html": [
       "<div>\n",
       "<style scoped>\n",
       "    .dataframe tbody tr th:only-of-type {\n",
       "        vertical-align: middle;\n",
       "    }\n",
       "\n",
       "    .dataframe tbody tr th {\n",
       "        vertical-align: top;\n",
       "    }\n",
       "\n",
       "    .dataframe thead th {\n",
       "        text-align: right;\n",
       "    }\n",
       "</style>\n",
       "<table border=\"1\" class=\"dataframe\">\n",
       "  <thead>\n",
       "    <tr style=\"text-align: right;\">\n",
       "      <th></th>\n",
       "      <th>Unnamed: 0</th>\n",
       "      <th>label</th>\n",
       "      <th>date</th>\n",
       "      <th>upvotes</th>\n",
       "      <th>num_comments</th>\n",
       "      <th>combined_text</th>\n",
       "      <th>tokenized_text</th>\n",
       "      <th>alphanum_text</th>\n",
       "      <th>stopword_removed_text</th>\n",
       "      <th>stemmed_text</th>\n",
       "      <th>non_stopword_removed_stemmed_text</th>\n",
       "      <th>combined_stemmed_text</th>\n",
       "      <th>combined_non_stopword_removed_stemmed_text</th>\n",
       "    </tr>\n",
       "  </thead>\n",
       "  <tbody>\n",
       "    <tr>\n",
       "      <th>0</th>\n",
       "      <td>0</td>\n",
       "      <td>0.0</td>\n",
       "      <td>2014-07-14 03:35:09</td>\n",
       "      <td>4.0</td>\n",
       "      <td>0.0</td>\n",
       "      <td>Deep thoughts underdog Only when we start cons...</td>\n",
       "      <td>['deep', 'thoughts', 'underdog', 'only', 'when...</td>\n",
       "      <td>['deep', 'thoughts', 'underdog', 'only', 'when...</td>\n",
       "      <td>['deep', 'thoughts', 'underdog', 'start', '99'...</td>\n",
       "      <td>['deep', 'thought', 'underdog', 'start', '99',...</td>\n",
       "      <td>['deep', 'thought', 'underdog', 'onli', 'when'...</td>\n",
       "      <td>deep thought underdog start 99 underdog start ...</td>\n",
       "      <td>deep thought underdog onli when we start consi...</td>\n",
       "    </tr>\n",
       "    <tr>\n",
       "      <th>1</th>\n",
       "      <td>1</td>\n",
       "      <td>0.0</td>\n",
       "      <td>2014-09-13 00:31:19</td>\n",
       "      <td>4.0</td>\n",
       "      <td>1.0</td>\n",
       "      <td>I like this sub, there's only two posts yet I ...</td>\n",
       "      <td>['i', 'like', 'this', 'sub', ',', \"there's\", '...</td>\n",
       "      <td>['i', 'like', 'this', 'sub', 'only', 'two', 'p...</td>\n",
       "      <td>['posts', 'coming', 'human', 'morality', 'joke...</td>\n",
       "      <td>['post', 'come', 'human', 'moral', 'joke', 'lo...</td>\n",
       "      <td>['i', 'like', 'thi', 'sub', 'onli', 'two', 'po...</td>\n",
       "      <td>post come human moral joke long abscenc hope d...</td>\n",
       "      <td>i like thi sub onli two post yet i keep come b...</td>\n",
       "    </tr>\n",
       "    <tr>\n",
       "      <th>2</th>\n",
       "      <td>2</td>\n",
       "      <td>0.0</td>\n",
       "      <td>2014-11-20 04:31:58</td>\n",
       "      <td>6.0</td>\n",
       "      <td>1.0</td>\n",
       "      <td>Rebirth! Hello. \\nI am the new guy in charge h...</td>\n",
       "      <td>['rebirth', '!', 'hello', '.', 'i', 'am', 'the...</td>\n",
       "      <td>['rebirth', 'hello', 'i', 'am', 'the', 'new', ...</td>\n",
       "      <td>['rebirth', 'guy', 'charge', 'thegood', 'ofc',...</td>\n",
       "      <td>['rebirth', 'guy', 'charg', 'thegood', 'ofc', ...</td>\n",
       "      <td>['rebirth', 'hello', 'i', 'am', 'the', 'new', ...</td>\n",
       "      <td>rebirth guy charg thegood ofc bring weirdpinea...</td>\n",
       "      <td>rebirth hello i am the new guy in charg here b...</td>\n",
       "    </tr>\n",
       "    <tr>\n",
       "      <th>3</th>\n",
       "      <td>3</td>\n",
       "      <td>0.0</td>\n",
       "      <td>2014-11-20 19:38:05</td>\n",
       "      <td>25.0</td>\n",
       "      <td>2.0</td>\n",
       "      <td>\"I want to be like water. I want to slip throu...</td>\n",
       "      <td>['\"', 'i', 'want', 'to', 'be', 'like', 'water'...</td>\n",
       "      <td>['i', 'want', 'to', 'be', 'like', 'water', 'i'...</td>\n",
       "      <td>['water', 'slip', 'fingers', 'hold', 'ship', '...</td>\n",
       "      <td>['water', 'slip', 'finger', 'hold', 'ship', 'm...</td>\n",
       "      <td>['i', 'want', 'to', 'be', 'like', 'water', 'i'...</td>\n",
       "      <td>water slip finger hold ship michel william</td>\n",
       "      <td>i want to be like water i want to slip through...</td>\n",
       "    </tr>\n",
       "    <tr>\n",
       "      <th>4</th>\n",
       "      <td>5</td>\n",
       "      <td>0.0</td>\n",
       "      <td>2014-11-22 19:17:39</td>\n",
       "      <td>8.0</td>\n",
       "      <td>23.0</td>\n",
       "      <td>What is the limit of the knowledge and power a...</td>\n",
       "      <td>['what', 'is', 'the', 'limit', 'of', 'the', 'k...</td>\n",
       "      <td>['what', 'is', 'the', 'limit', 'of', 'the', 'k...</td>\n",
       "      <td>['limit', 'knowledge', 'power', 'human', 'pers...</td>\n",
       "      <td>['limit', 'knowledg', 'power', 'human', 'perso...</td>\n",
       "      <td>['what', 'is', 'the', 'limit', 'of', 'the', 'k...</td>\n",
       "      <td>limit knowledg power human person infinit grow</td>\n",
       "      <td>what is the limit of the knowledg and power a ...</td>\n",
       "    </tr>\n",
       "  </tbody>\n",
       "</table>\n",
       "</div>"
      ],
      "text/plain": [
       "   Unnamed: 0  label                 date  upvotes  num_comments  \\\n",
       "0           0    0.0  2014-07-14 03:35:09      4.0           0.0   \n",
       "1           1    0.0  2014-09-13 00:31:19      4.0           1.0   \n",
       "2           2    0.0  2014-11-20 04:31:58      6.0           1.0   \n",
       "3           3    0.0  2014-11-20 19:38:05     25.0           2.0   \n",
       "4           5    0.0  2014-11-22 19:17:39      8.0          23.0   \n",
       "\n",
       "                                       combined_text  \\\n",
       "0  Deep thoughts underdog Only when we start cons...   \n",
       "1  I like this sub, there's only two posts yet I ...   \n",
       "2  Rebirth! Hello. \\nI am the new guy in charge h...   \n",
       "3  \"I want to be like water. I want to slip throu...   \n",
       "4  What is the limit of the knowledge and power a...   \n",
       "\n",
       "                                      tokenized_text  \\\n",
       "0  ['deep', 'thoughts', 'underdog', 'only', 'when...   \n",
       "1  ['i', 'like', 'this', 'sub', ',', \"there's\", '...   \n",
       "2  ['rebirth', '!', 'hello', '.', 'i', 'am', 'the...   \n",
       "3  ['\"', 'i', 'want', 'to', 'be', 'like', 'water'...   \n",
       "4  ['what', 'is', 'the', 'limit', 'of', 'the', 'k...   \n",
       "\n",
       "                                       alphanum_text  \\\n",
       "0  ['deep', 'thoughts', 'underdog', 'only', 'when...   \n",
       "1  ['i', 'like', 'this', 'sub', 'only', 'two', 'p...   \n",
       "2  ['rebirth', 'hello', 'i', 'am', 'the', 'new', ...   \n",
       "3  ['i', 'want', 'to', 'be', 'like', 'water', 'i'...   \n",
       "4  ['what', 'is', 'the', 'limit', 'of', 'the', 'k...   \n",
       "\n",
       "                               stopword_removed_text  \\\n",
       "0  ['deep', 'thoughts', 'underdog', 'start', '99'...   \n",
       "1  ['posts', 'coming', 'human', 'morality', 'joke...   \n",
       "2  ['rebirth', 'guy', 'charge', 'thegood', 'ofc',...   \n",
       "3  ['water', 'slip', 'fingers', 'hold', 'ship', '...   \n",
       "4  ['limit', 'knowledge', 'power', 'human', 'pers...   \n",
       "\n",
       "                                        stemmed_text  \\\n",
       "0  ['deep', 'thought', 'underdog', 'start', '99',...   \n",
       "1  ['post', 'come', 'human', 'moral', 'joke', 'lo...   \n",
       "2  ['rebirth', 'guy', 'charg', 'thegood', 'ofc', ...   \n",
       "3  ['water', 'slip', 'finger', 'hold', 'ship', 'm...   \n",
       "4  ['limit', 'knowledg', 'power', 'human', 'perso...   \n",
       "\n",
       "                   non_stopword_removed_stemmed_text  \\\n",
       "0  ['deep', 'thought', 'underdog', 'onli', 'when'...   \n",
       "1  ['i', 'like', 'thi', 'sub', 'onli', 'two', 'po...   \n",
       "2  ['rebirth', 'hello', 'i', 'am', 'the', 'new', ...   \n",
       "3  ['i', 'want', 'to', 'be', 'like', 'water', 'i'...   \n",
       "4  ['what', 'is', 'the', 'limit', 'of', 'the', 'k...   \n",
       "\n",
       "                               combined_stemmed_text  \\\n",
       "0  deep thought underdog start 99 underdog start ...   \n",
       "1  post come human moral joke long abscenc hope d...   \n",
       "2  rebirth guy charg thegood ofc bring weirdpinea...   \n",
       "3         water slip finger hold ship michel william   \n",
       "4     limit knowledg power human person infinit grow   \n",
       "\n",
       "          combined_non_stopword_removed_stemmed_text  \n",
       "0  deep thought underdog onli when we start consi...  \n",
       "1  i like thi sub onli two post yet i keep come b...  \n",
       "2  rebirth hello i am the new guy in charg here b...  \n",
       "3  i want to be like water i want to slip through...  \n",
       "4  what is the limit of the knowledg and power a ...  "
      ]
     },
     "execution_count": 3,
     "metadata": {},
     "output_type": "execute_result"
    }
   ],
   "source": [
    "df.head()"
   ]
  },
  {
   "cell_type": "code",
   "execution_count": 4,
   "metadata": {},
   "outputs": [
    {
     "data": {
      "text/html": [
       "<div>\n",
       "<style scoped>\n",
       "    .dataframe tbody tr th:only-of-type {\n",
       "        vertical-align: middle;\n",
       "    }\n",
       "\n",
       "    .dataframe tbody tr th {\n",
       "        vertical-align: top;\n",
       "    }\n",
       "\n",
       "    .dataframe thead th {\n",
       "        text-align: right;\n",
       "    }\n",
       "</style>\n",
       "<table border=\"1\" class=\"dataframe\">\n",
       "  <thead>\n",
       "    <tr style=\"text-align: right;\">\n",
       "      <th></th>\n",
       "      <th>Unnamed: 0</th>\n",
       "      <th>label</th>\n",
       "      <th>date</th>\n",
       "      <th>upvotes</th>\n",
       "      <th>num_comments</th>\n",
       "      <th>combined_text</th>\n",
       "      <th>tokenized_text</th>\n",
       "      <th>alphanum_text</th>\n",
       "      <th>stopword_removed_text</th>\n",
       "      <th>stemmed_text</th>\n",
       "      <th>non_stopword_removed_stemmed_text</th>\n",
       "      <th>combined_stemmed_text</th>\n",
       "      <th>combined_non_stopword_removed_stemmed_text</th>\n",
       "    </tr>\n",
       "  </thead>\n",
       "  <tbody>\n",
       "    <tr>\n",
       "      <th>0</th>\n",
       "      <td>0</td>\n",
       "      <td>0.0</td>\n",
       "      <td>2014</td>\n",
       "      <td>4.0</td>\n",
       "      <td>0.0</td>\n",
       "      <td>Deep thoughts underdog Only when we start cons...</td>\n",
       "      <td>['deep', 'thoughts', 'underdog', 'only', 'when...</td>\n",
       "      <td>['deep', 'thoughts', 'underdog', 'only', 'when...</td>\n",
       "      <td>['deep', 'thoughts', 'underdog', 'start', '99'...</td>\n",
       "      <td>['deep', 'thought', 'underdog', 'start', '99',...</td>\n",
       "      <td>['deep', 'thought', 'underdog', 'onli', 'when'...</td>\n",
       "      <td>deep thought underdog start 99 underdog start ...</td>\n",
       "      <td>deep thought underdog onli when we start consi...</td>\n",
       "    </tr>\n",
       "    <tr>\n",
       "      <th>1</th>\n",
       "      <td>1</td>\n",
       "      <td>0.0</td>\n",
       "      <td>2014</td>\n",
       "      <td>4.0</td>\n",
       "      <td>1.0</td>\n",
       "      <td>I like this sub, there's only two posts yet I ...</td>\n",
       "      <td>['i', 'like', 'this', 'sub', ',', \"there's\", '...</td>\n",
       "      <td>['i', 'like', 'this', 'sub', 'only', 'two', 'p...</td>\n",
       "      <td>['posts', 'coming', 'human', 'morality', 'joke...</td>\n",
       "      <td>['post', 'come', 'human', 'moral', 'joke', 'lo...</td>\n",
       "      <td>['i', 'like', 'thi', 'sub', 'onli', 'two', 'po...</td>\n",
       "      <td>post come human moral joke long abscenc hope d...</td>\n",
       "      <td>i like thi sub onli two post yet i keep come b...</td>\n",
       "    </tr>\n",
       "    <tr>\n",
       "      <th>2</th>\n",
       "      <td>2</td>\n",
       "      <td>0.0</td>\n",
       "      <td>2014</td>\n",
       "      <td>6.0</td>\n",
       "      <td>1.0</td>\n",
       "      <td>Rebirth! Hello. \\nI am the new guy in charge h...</td>\n",
       "      <td>['rebirth', '!', 'hello', '.', 'i', 'am', 'the...</td>\n",
       "      <td>['rebirth', 'hello', 'i', 'am', 'the', 'new', ...</td>\n",
       "      <td>['rebirth', 'guy', 'charge', 'thegood', 'ofc',...</td>\n",
       "      <td>['rebirth', 'guy', 'charg', 'thegood', 'ofc', ...</td>\n",
       "      <td>['rebirth', 'hello', 'i', 'am', 'the', 'new', ...</td>\n",
       "      <td>rebirth guy charg thegood ofc bring weirdpinea...</td>\n",
       "      <td>rebirth hello i am the new guy in charg here b...</td>\n",
       "    </tr>\n",
       "    <tr>\n",
       "      <th>3</th>\n",
       "      <td>3</td>\n",
       "      <td>0.0</td>\n",
       "      <td>2014</td>\n",
       "      <td>25.0</td>\n",
       "      <td>2.0</td>\n",
       "      <td>\"I want to be like water. I want to slip throu...</td>\n",
       "      <td>['\"', 'i', 'want', 'to', 'be', 'like', 'water'...</td>\n",
       "      <td>['i', 'want', 'to', 'be', 'like', 'water', 'i'...</td>\n",
       "      <td>['water', 'slip', 'fingers', 'hold', 'ship', '...</td>\n",
       "      <td>['water', 'slip', 'finger', 'hold', 'ship', 'm...</td>\n",
       "      <td>['i', 'want', 'to', 'be', 'like', 'water', 'i'...</td>\n",
       "      <td>water slip finger hold ship michel william</td>\n",
       "      <td>i want to be like water i want to slip through...</td>\n",
       "    </tr>\n",
       "    <tr>\n",
       "      <th>4</th>\n",
       "      <td>5</td>\n",
       "      <td>0.0</td>\n",
       "      <td>2014</td>\n",
       "      <td>8.0</td>\n",
       "      <td>23.0</td>\n",
       "      <td>What is the limit of the knowledge and power a...</td>\n",
       "      <td>['what', 'is', 'the', 'limit', 'of', 'the', 'k...</td>\n",
       "      <td>['what', 'is', 'the', 'limit', 'of', 'the', 'k...</td>\n",
       "      <td>['limit', 'knowledge', 'power', 'human', 'pers...</td>\n",
       "      <td>['limit', 'knowledg', 'power', 'human', 'perso...</td>\n",
       "      <td>['what', 'is', 'the', 'limit', 'of', 'the', 'k...</td>\n",
       "      <td>limit knowledg power human person infinit grow</td>\n",
       "      <td>what is the limit of the knowledg and power a ...</td>\n",
       "    </tr>\n",
       "  </tbody>\n",
       "</table>\n",
       "</div>"
      ],
      "text/plain": [
       "   Unnamed: 0  label  date  upvotes  num_comments  \\\n",
       "0           0    0.0  2014      4.0           0.0   \n",
       "1           1    0.0  2014      4.0           1.0   \n",
       "2           2    0.0  2014      6.0           1.0   \n",
       "3           3    0.0  2014     25.0           2.0   \n",
       "4           5    0.0  2014      8.0          23.0   \n",
       "\n",
       "                                       combined_text  \\\n",
       "0  Deep thoughts underdog Only when we start cons...   \n",
       "1  I like this sub, there's only two posts yet I ...   \n",
       "2  Rebirth! Hello. \\nI am the new guy in charge h...   \n",
       "3  \"I want to be like water. I want to slip throu...   \n",
       "4  What is the limit of the knowledge and power a...   \n",
       "\n",
       "                                      tokenized_text  \\\n",
       "0  ['deep', 'thoughts', 'underdog', 'only', 'when...   \n",
       "1  ['i', 'like', 'this', 'sub', ',', \"there's\", '...   \n",
       "2  ['rebirth', '!', 'hello', '.', 'i', 'am', 'the...   \n",
       "3  ['\"', 'i', 'want', 'to', 'be', 'like', 'water'...   \n",
       "4  ['what', 'is', 'the', 'limit', 'of', 'the', 'k...   \n",
       "\n",
       "                                       alphanum_text  \\\n",
       "0  ['deep', 'thoughts', 'underdog', 'only', 'when...   \n",
       "1  ['i', 'like', 'this', 'sub', 'only', 'two', 'p...   \n",
       "2  ['rebirth', 'hello', 'i', 'am', 'the', 'new', ...   \n",
       "3  ['i', 'want', 'to', 'be', 'like', 'water', 'i'...   \n",
       "4  ['what', 'is', 'the', 'limit', 'of', 'the', 'k...   \n",
       "\n",
       "                               stopword_removed_text  \\\n",
       "0  ['deep', 'thoughts', 'underdog', 'start', '99'...   \n",
       "1  ['posts', 'coming', 'human', 'morality', 'joke...   \n",
       "2  ['rebirth', 'guy', 'charge', 'thegood', 'ofc',...   \n",
       "3  ['water', 'slip', 'fingers', 'hold', 'ship', '...   \n",
       "4  ['limit', 'knowledge', 'power', 'human', 'pers...   \n",
       "\n",
       "                                        stemmed_text  \\\n",
       "0  ['deep', 'thought', 'underdog', 'start', '99',...   \n",
       "1  ['post', 'come', 'human', 'moral', 'joke', 'lo...   \n",
       "2  ['rebirth', 'guy', 'charg', 'thegood', 'ofc', ...   \n",
       "3  ['water', 'slip', 'finger', 'hold', 'ship', 'm...   \n",
       "4  ['limit', 'knowledg', 'power', 'human', 'perso...   \n",
       "\n",
       "                   non_stopword_removed_stemmed_text  \\\n",
       "0  ['deep', 'thought', 'underdog', 'onli', 'when'...   \n",
       "1  ['i', 'like', 'thi', 'sub', 'onli', 'two', 'po...   \n",
       "2  ['rebirth', 'hello', 'i', 'am', 'the', 'new', ...   \n",
       "3  ['i', 'want', 'to', 'be', 'like', 'water', 'i'...   \n",
       "4  ['what', 'is', 'the', 'limit', 'of', 'the', 'k...   \n",
       "\n",
       "                               combined_stemmed_text  \\\n",
       "0  deep thought underdog start 99 underdog start ...   \n",
       "1  post come human moral joke long abscenc hope d...   \n",
       "2  rebirth guy charg thegood ofc bring weirdpinea...   \n",
       "3         water slip finger hold ship michel william   \n",
       "4     limit knowledg power human person infinit grow   \n",
       "\n",
       "          combined_non_stopword_removed_stemmed_text  \n",
       "0  deep thought underdog onli when we start consi...  \n",
       "1  i like thi sub onli two post yet i keep come b...  \n",
       "2  rebirth hello i am the new guy in charg here b...  \n",
       "3  i want to be like water i want to slip through...  \n",
       "4  what is the limit of the knowledg and power a ...  "
      ]
     },
     "execution_count": 4,
     "metadata": {},
     "output_type": "execute_result"
    }
   ],
   "source": [
    "# Assuming df is your DataFrame and 'date' is the column name\n",
    "df['date'] = pd.to_datetime(df['date'])  # Convert to datetime\n",
    "df['year'] = df['date'].dt.year  # Extract the year\n",
    "\n",
    "# If you want to replace the original 'date' column with the year\n",
    "df['date'] = df['year']\n",
    "df.drop(columns=['year'], inplace=True)  # Optionally drop the 'year' column if not needed\n",
    "\n",
    "# Display the modified DataFrame\n",
    "df.head()"
   ]
  },
  {
   "cell_type": "markdown",
   "metadata": {},
   "source": [
    "see if there is a relationship between date and label"
   ]
  },
  {
   "cell_type": "code",
   "execution_count": 5,
   "metadata": {},
   "outputs": [
    {
     "data": {
      "image/png": "[encoded data removed]",
      "text/plain": [
       "<Figure size 1000x600 with 1 Axes>"
      ]
     },
     "metadata": {},
     "output_type": "display_data"
    }
   ],
   "source": [
    "# Plot the distribution of the year against the label\n",
    "plt.figure(figsize=(10, 6))\n",
    "sns.countplot(data=df, x='date', hue='label')\n",
    "plt.title('Distribution of Year against Label')\n",
    "plt.xlabel('Year')\n",
    "plt.ylabel('Count')\n",
    "plt.legend(title='Label')\n",
    "plt.xticks(rotation=45)\n",
    "plt.show()"
   ]
  },
  {
   "cell_type": "markdown",
   "metadata": {},
   "source": [
    "there is small correlation between year and posts labelled as depressed. the number of depressed posts are increasing"
   ]
  },
  {
   "cell_type": "markdown",
   "metadata": {},
   "source": [
    "checking for negative values and handling them.reason being multinomialNB model does not accept negative values in input data"
   ]
  },
  {
   "cell_type": "code",
   "execution_count": 6,
   "metadata": {},
   "outputs": [
    {
     "data": {
      "text/html": [
       "<div>\n",
       "<style scoped>\n",
       "    .dataframe tbody tr th:only-of-type {\n",
       "        vertical-align: middle;\n",
       "    }\n",
       "\n",
       "    .dataframe tbody tr th {\n",
       "        vertical-align: top;\n",
       "    }\n",
       "\n",
       "    .dataframe thead th {\n",
       "        text-align: right;\n",
       "    }\n",
       "</style>\n",
       "<table border=\"1\" class=\"dataframe\">\n",
       "  <thead>\n",
       "    <tr style=\"text-align: right;\">\n",
       "      <th></th>\n",
       "      <th>Unnamed: 0</th>\n",
       "      <th>label</th>\n",
       "      <th>date</th>\n",
       "      <th>upvotes</th>\n",
       "      <th>num_comments</th>\n",
       "      <th>combined_text</th>\n",
       "      <th>tokenized_text</th>\n",
       "      <th>alphanum_text</th>\n",
       "      <th>stopword_removed_text</th>\n",
       "      <th>stemmed_text</th>\n",
       "      <th>non_stopword_removed_stemmed_text</th>\n",
       "      <th>combined_stemmed_text</th>\n",
       "      <th>combined_non_stopword_removed_stemmed_text</th>\n",
       "    </tr>\n",
       "  </thead>\n",
       "  <tbody>\n",
       "  </tbody>\n",
       "</table>\n",
       "</div>"
      ],
      "text/plain": [
       "Empty DataFrame\n",
       "Columns: [Unnamed: 0, label, date, upvotes, num_comments, combined_text, tokenized_text, alphanum_text, stopword_removed_text, stemmed_text, non_stopword_removed_stemmed_text, combined_stemmed_text, combined_non_stopword_removed_stemmed_text]\n",
       "Index: []"
      ]
     },
     "execution_count": 6,
     "metadata": {},
     "output_type": "execute_result"
    }
   ],
   "source": [
    "#check if there negative values in the upvotes column of the dataset\n",
    "df[df['upvotes']<0]"
   ]
  },
  {
   "cell_type": "code",
   "execution_count": 7,
   "metadata": {},
   "outputs": [
    {
     "data": {
      "text/html": [
       "<div>\n",
       "<style scoped>\n",
       "    .dataframe tbody tr th:only-of-type {\n",
       "        vertical-align: middle;\n",
       "    }\n",
       "\n",
       "    .dataframe tbody tr th {\n",
       "        vertical-align: top;\n",
       "    }\n",
       "\n",
       "    .dataframe thead th {\n",
       "        text-align: right;\n",
       "    }\n",
       "</style>\n",
       "<table border=\"1\" class=\"dataframe\">\n",
       "  <thead>\n",
       "    <tr style=\"text-align: right;\">\n",
       "      <th></th>\n",
       "      <th>Unnamed: 0</th>\n",
       "      <th>label</th>\n",
       "      <th>date</th>\n",
       "      <th>upvotes</th>\n",
       "      <th>num_comments</th>\n",
       "      <th>combined_text</th>\n",
       "      <th>tokenized_text</th>\n",
       "      <th>alphanum_text</th>\n",
       "      <th>stopword_removed_text</th>\n",
       "      <th>stemmed_text</th>\n",
       "      <th>non_stopword_removed_stemmed_text</th>\n",
       "      <th>combined_stemmed_text</th>\n",
       "      <th>combined_non_stopword_removed_stemmed_text</th>\n",
       "    </tr>\n",
       "  </thead>\n",
       "  <tbody>\n",
       "    <tr>\n",
       "      <th>1772493</th>\n",
       "      <td>2020957</td>\n",
       "      <td>1.0</td>\n",
       "      <td>2015</td>\n",
       "      <td>8.0</td>\n",
       "      <td>-3.0</td>\n",
       "      <td>somebody please help me i cant type all the st...</td>\n",
       "      <td>['somebody', 'please', 'help', 'me', 'i', 'can...</td>\n",
       "      <td>['somebody', 'please', 'help', 'me', 'i', 'can...</td>\n",
       "      <td>['type', 'stuff', 'talk', 'preferably', 'skype...</td>\n",
       "      <td>['type', 'stuff', 'talk', 'prefer', 'skype', '...</td>\n",
       "      <td>['somebodi', 'pleas', 'help', 'me', 'i', 'cant...</td>\n",
       "      <td>type stuff talk prefer skype text voic advanc</td>\n",
       "      <td>somebodi pleas help me i cant type all the stu...</td>\n",
       "    </tr>\n",
       "    <tr>\n",
       "      <th>1853457</th>\n",
       "      <td>2182091</td>\n",
       "      <td>1.0</td>\n",
       "      <td>2011</td>\n",
       "      <td>36.0</td>\n",
       "      <td>-2.0</td>\n",
       "      <td>Life Graph [crosspost from r/pics]</td>\n",
       "      <td>['life', 'graph', '[', 'crosspost', 'from', 'r...</td>\n",
       "      <td>['life', 'graph', 'crosspost', 'from', 'r', 'p...</td>\n",
       "      <td>['life', 'graph', 'crosspost', 'pics']</td>\n",
       "      <td>['life', 'graph', 'crosspost', 'pic']</td>\n",
       "      <td>['life', 'graph', 'crosspost', 'from', 'r', 'p...</td>\n",
       "      <td>life graph crosspost pic</td>\n",
       "      <td>life graph crosspost from r pic</td>\n",
       "    </tr>\n",
       "  </tbody>\n",
       "</table>\n",
       "</div>"
      ],
      "text/plain": [
       "         Unnamed: 0  label  date  upvotes  num_comments  \\\n",
       "1772493     2020957    1.0  2015      8.0          -3.0   \n",
       "1853457     2182091    1.0  2011     36.0          -2.0   \n",
       "\n",
       "                                             combined_text  \\\n",
       "1772493  somebody please help me i cant type all the st...   \n",
       "1853457                Life Graph [crosspost from r/pics]    \n",
       "\n",
       "                                            tokenized_text  \\\n",
       "1772493  ['somebody', 'please', 'help', 'me', 'i', 'can...   \n",
       "1853457  ['life', 'graph', '[', 'crosspost', 'from', 'r...   \n",
       "\n",
       "                                             alphanum_text  \\\n",
       "1772493  ['somebody', 'please', 'help', 'me', 'i', 'can...   \n",
       "1853457  ['life', 'graph', 'crosspost', 'from', 'r', 'p...   \n",
       "\n",
       "                                     stopword_removed_text  \\\n",
       "1772493  ['type', 'stuff', 'talk', 'preferably', 'skype...   \n",
       "1853457             ['life', 'graph', 'crosspost', 'pics']   \n",
       "\n",
       "                                              stemmed_text  \\\n",
       "1772493  ['type', 'stuff', 'talk', 'prefer', 'skype', '...   \n",
       "1853457              ['life', 'graph', 'crosspost', 'pic']   \n",
       "\n",
       "                         non_stopword_removed_stemmed_text  \\\n",
       "1772493  ['somebodi', 'pleas', 'help', 'me', 'i', 'cant...   \n",
       "1853457  ['life', 'graph', 'crosspost', 'from', 'r', 'p...   \n",
       "\n",
       "                                 combined_stemmed_text  \\\n",
       "1772493  type stuff talk prefer skype text voic advanc   \n",
       "1853457                       life graph crosspost pic   \n",
       "\n",
       "                combined_non_stopword_removed_stemmed_text  \n",
       "1772493  somebodi pleas help me i cant type all the stu...  \n",
       "1853457                    life graph crosspost from r pic  "
      ]
     },
     "execution_count": 7,
     "metadata": {},
     "output_type": "execute_result"
    }
   ],
   "source": [
    "#check if there are negative values in the num_comemnts column of the dataset\n",
    "df[df['num_comments']<0]"
   ]
  },
  {
   "cell_type": "markdown",
   "metadata": {},
   "source": [
    "it does not make sense that there are negative number of comments.change it to 0"
   ]
  },
  {
   "cell_type": "code",
   "execution_count": 8,
   "metadata": {},
   "outputs": [],
   "source": [
    "df['num_comments']=df['num_comments'].apply(lambda x: 0 if x<0 else x)"
   ]
  },
  {
   "cell_type": "code",
   "execution_count": 9,
   "metadata": {},
   "outputs": [
    {
     "data": {
      "text/html": [
       "<div>\n",
       "<style scoped>\n",
       "    .dataframe tbody tr th:only-of-type {\n",
       "        vertical-align: middle;\n",
       "    }\n",
       "\n",
       "    .dataframe tbody tr th {\n",
       "        vertical-align: top;\n",
       "    }\n",
       "\n",
       "    .dataframe thead th {\n",
       "        text-align: right;\n",
       "    }\n",
       "</style>\n",
       "<table border=\"1\" class=\"dataframe\">\n",
       "  <thead>\n",
       "    <tr style=\"text-align: right;\">\n",
       "      <th></th>\n",
       "      <th>Unnamed: 0</th>\n",
       "      <th>label</th>\n",
       "      <th>date</th>\n",
       "      <th>upvotes</th>\n",
       "      <th>num_comments</th>\n",
       "      <th>combined_text</th>\n",
       "      <th>tokenized_text</th>\n",
       "      <th>alphanum_text</th>\n",
       "      <th>stopword_removed_text</th>\n",
       "      <th>stemmed_text</th>\n",
       "      <th>non_stopword_removed_stemmed_text</th>\n",
       "      <th>combined_stemmed_text</th>\n",
       "      <th>combined_non_stopword_removed_stemmed_text</th>\n",
       "    </tr>\n",
       "  </thead>\n",
       "  <tbody>\n",
       "  </tbody>\n",
       "</table>\n",
       "</div>"
      ],
      "text/plain": [
       "Empty DataFrame\n",
       "Columns: [Unnamed: 0, label, date, upvotes, num_comments, combined_text, tokenized_text, alphanum_text, stopword_removed_text, stemmed_text, non_stopword_removed_stemmed_text, combined_stemmed_text, combined_non_stopword_removed_stemmed_text]\n",
       "Index: []"
      ]
     },
     "execution_count": 9,
     "metadata": {},
     "output_type": "execute_result"
    }
   ],
   "source": [
    "#check if there are negative values in the num_comemnts column of the dataset\n",
    "df[df['num_comments']<0]\n",
    "# there should be no negative values in the num_comments column"
   ]
  },
  {
   "cell_type": "code",
   "execution_count": 10,
   "metadata": {},
   "outputs": [
    {
     "name": "stdout",
     "output_type": "stream",
     "text": [
      "Prior probability of being depressed: 0.11341759054177354\n"
     ]
    }
   ],
   "source": [
    "prior_prob_depressed=len(df[df.label==1])/len(df)\n",
    "print('Prior probability of being depressed:',prior_prob_depressed)"
   ]
  },
  {
   "cell_type": "code",
   "execution_count": 3,
   "metadata": {},
   "outputs": [],
   "source": [
    "from sklearn.feature_extraction.text import TfidfVectorizer\n",
    "from sklearn.model_selection import train_test_split\n",
    "from sklearn.naive_bayes import MultinomialNB\n",
    "from sklearn.metrics import classification_report, accuracy_score"
   ]
  },
  {
   "cell_type": "code",
   "execution_count": 12,
   "metadata": {},
   "outputs": [],
   "source": [
    "#select relevant features\n",
    "X_text=df['combined_stemmed_text']\n",
    "X_numeric=df[['upvotes','num_comments','date']]\n",
    "y=df['label']"
   ]
  },
  {
   "cell_type": "code",
   "execution_count": 13,
   "metadata": {},
   "outputs": [],
   "source": [
    "# #vectorise the text\n",
    "# tfidf=TfidfVectorizer(max_features=500)#max_features= based on unique words in the combined_stemmed_text\n",
    "# #to handle NaN values\n",
    "# X_text=X_text.fillna('')\n",
    "# X_text_tfidf=tfidf.fit_transform(X_text)"
   ]
  },
  {
   "cell_type": "code",
   "execution_count": 14,
   "metadata": {},
   "outputs": [],
   "source": [
    "tfidf=TfidfVectorizer()\n",
    "X_text=X_text.fillna('')\n",
    "X_text_tfidf=tfidf.fit_transform(X_text) "
   ]
  },
  {
   "cell_type": "code",
   "execution_count": 15,
   "metadata": {},
   "outputs": [
    {
     "name": "stdout",
     "output_type": "stream",
     "text": [
      "[1.37505755e+02 2.71641844e+02 8.78929886e+00 ... 2.29319696e-01\n",
      " 3.87946412e-01 2.67261242e-01]\n"
     ]
    }
   ],
   "source": [
    "#understanding csv to decide how many frequent terms to include\n",
    "#decide on the value for max_features\n",
    "\n",
    "#this is to get the feature names (vocabulary) \n",
    "#and their coreesponding counts\n",
    "feature_names=tfidf.get_feature_names_out()\n",
    "feature_counts=X_text_tfidf.sum(axis=0).A1\n",
    "\n",
    "print(feature_counts)"
   ]
  },
  {
   "cell_type": "code",
   "execution_count": 16,
   "metadata": {},
   "outputs": [],
   "source": [
    "#create dataframe of feature names and counts\n",
    "features_df=pd.DataFrame({'feature':feature_names,'count':feature_counts})\n",
    "\n",
    "#sort the dataframe by count in descending order\n",
    "features_df=features_df.sort_values(by='count',ascending=False)"
   ]
  },
  {
   "cell_type": "code",
   "execution_count": 17,
   "metadata": {},
   "outputs": [
    {
     "data": {
      "image/png": "[encoded data removed]",
      "text/plain": [
       "<Figure size 1000x600 with 1 Axes>"
      ]
     },
     "metadata": {},
     "output_type": "display_data"
    }
   ],
   "source": [
    "#plot distribution of term frequencies\n",
    "plt.figure(figsize=(10,6))\n",
    "plt.plot(features_df['count'].values)\n",
    "plt.title('Term Frequency Distribution')\n",
    "plt.xlabel('Term Rank')\n",
    "plt.ylabel('Frequency')\n",
    "plt.yscale('log')  # Log scale to better visualize the long tail\n",
    "plt.show()"
   ]
  },
  {
   "cell_type": "markdown",
   "metadata": {},
   "source": [
    "interpreting figure above: \n",
    "- the X-axis represents the rank of terms based on their frequency. 1st ranked term has highest frequency.\n",
    "- y axis reflects the value of the frequency for each term\n",
    "- helps with feature selection. frequent terms might be important features for model. too many features could lead to overfitting.\n",
    "- distribution of figure shows a steep decline followed by a long tail. this means that first few terms are commonly used, dominating the dataset. "
   ]
  },
  {
   "cell_type": "code",
   "execution_count": 18,
   "metadata": {},
   "outputs": [
    {
     "name": "stdout",
     "output_type": "stream",
     "text": [
      "Number of unique terms in the vocabulary: 189530\n"
     ]
    }
   ],
   "source": [
    "# Display the number of unique terms in the vocabulary\n",
    "print(\"Number of unique terms in the vocabulary:\", len(feature_names))"
   ]
  },
  {
   "cell_type": "code",
   "execution_count": 19,
   "metadata": {},
   "outputs": [
    {
     "name": "stdout",
     "output_type": "stream",
     "text": [
      "max_features=1000, Accuracy: 0.1608593795215436\n",
      "max_features=5000, Accuracy: 0.1614960128635164\n",
      "max_features=10000, Accuracy: 0.1615916336816783\n",
      "max_features=20000, Accuracy: 0.1615916336816783\n",
      "max_features=25000, Accuracy: 0.16159415001899835\n"
     ]
    }
   ],
   "source": [
    "#vectorise the text\n",
    "\n",
    "#to handle NaN values \n",
    "X_text=X_text.fillna('')\n",
    "\n",
    "#max_features= based on unique terms and distribution of figure\n",
    "#set to 1000,5000,10000,20000 and compare performance\n",
    "\n",
    "# Experiment with different values for max_features\n",
    "max_features_values = [1000, 5000, 10000, 20000, 25000]\n",
    "\n",
    "for max_features in max_features_values:\n",
    "    # Vectorize the text data\n",
    "    tfidf = TfidfVectorizer(max_features=max_features)\n",
    "    X_text_tfidf = tfidf.fit_transform(X_text)\n",
    "    \n",
    "    # Combine text and numeric data\n",
    "    X_combined = scipy.sparse.hstack([X_text_tfidf, X_numeric])\n",
    "    \n",
    "    # Split the data into training and testing sets\n",
    "    X_train, X_test, y_train, y_test = train_test_split(X_combined, y, test_size=0.2, random_state=42)\n",
    "    \n",
    "    # Train the model\n",
    "    model = MultinomialNB()\n",
    "    model.fit(X_train, y_train)\n",
    "    \n",
    "    # Predict and evaluate the model\n",
    "    y_pred = model.predict(X_test)\n",
    "    accuracy = accuracy_score(y_test, y_pred)\n",
    "    \n",
    "    print(f\"max_features={max_features}, Accuracy: {accuracy}\")"
   ]
  },
  {
   "cell_type": "markdown",
   "metadata": {},
   "source": [
    "when max_features=10000, we get the highest accuracy"
   ]
  },
  {
   "cell_type": "code",
   "execution_count": 20,
   "metadata": {},
   "outputs": [
    {
     "name": "stdout",
     "output_type": "stream",
     "text": [
      "Best hyperparameters: {'alpha': 0.1}\n",
      "Accuracy: 0.1619061758466846\n",
      "Classification Report:\n",
      "               precision    recall  f1-score   support\n",
      "\n",
      "         0.0       0.83      0.07      0.13    352228\n",
      "         1.0       0.11      0.89      0.19     45175\n",
      "\n",
      "    accuracy                           0.16    397403\n",
      "   macro avg       0.47      0.48      0.16    397403\n",
      "weighted avg       0.75      0.16      0.13    397403\n",
      "\n"
     ]
    }
   ],
   "source": [
    "from sklearn.model_selection import GridSearchCV\n",
    "\n",
    "# Set max_features to 10000\n",
    "tfidf = TfidfVectorizer(max_features=10000)\n",
    "X_text_tfidf = tfidf.fit_transform(X_text)\n",
    "\n",
    "# Combine text and numeric data\n",
    "X_combined = scipy.sparse.hstack([X_text_tfidf, X_numeric])\n",
    "\n",
    "# Split the data into training and testing sets\n",
    "X_train, X_test, y_train, y_test = train_test_split(X_combined, y, test_size=0.2, random_state=42)\n",
    "\n",
    "# Define a grid of hyperparameters\n",
    "param_grid = {\n",
    "    'alpha': [0.1, 0.5, 1.0, 5.0, 10.0] #smoothing parameter\n",
    "}\n",
    "\n",
    "# Initialize the model\n",
    "model = MultinomialNB()\n",
    "\n",
    "# Use GridSearchCV to find the best hyperparameters\n",
    "grid_search = GridSearchCV(model, param_grid, cv=5, scoring='accuracy')\n",
    "grid_search.fit(X_train, y_train)\n",
    "\n",
    "# Get the best model\n",
    "best_model = grid_search.best_estimator_\n",
    "\n",
    "# Predict and evaluate the model\n",
    "y_pred = best_model.predict(X_test)\n",
    "accuracy = accuracy_score(y_test, y_pred)\n",
    "\n",
    "print(f\"Best hyperparameters: {grid_search.best_params_}\")\n",
    "print(f\"Accuracy: {accuracy}\")\n",
    "print(\"Classification Report:\\n\", classification_report(y_test, y_pred))\n"
   ]
  },
  {
   "cell_type": "markdown",
   "metadata": {},
   "source": [
    "alpha=0.1 gives the highest accuracy, alpha is a smoothing parameter used to handle 0 probabilites"
   ]
  },
  {
   "cell_type": "markdown",
   "metadata": {},
   "source": [
    "Cross-validation to further evaluate the model"
   ]
  },
  {
   "cell_type": "code",
   "execution_count": 21,
   "metadata": {},
   "outputs": [
    {
     "name": "stdout",
     "output_type": "stream",
     "text": [
      "Cross-validation accuracy: 0.1595758019209746\n"
     ]
    }
   ],
   "source": [
    "# Cross-validation to further validate the model\n",
    "cv_scores = cross_val_score(best_model, X_combined, y, cv=10, scoring='accuracy')\n",
    "print(f\"Cross-validation accuracy: {cv_scores.mean()}\")"
   ]
  },
  {
   "cell_type": "markdown",
   "metadata": {},
   "source": [
    "repeating the model again but leaving out the Date attribute. The date attribute could have led to overfitting since the correlation between date and depressed users is small"
   ]
  },
  {
   "cell_type": "code",
   "execution_count": 22,
   "metadata": {},
   "outputs": [],
   "source": [
    "df=pd.read_csv('../data/reddit_depression_dataset_cleaned.csv')"
   ]
  },
  {
   "cell_type": "code",
   "execution_count": 23,
   "metadata": {},
   "outputs": [
    {
     "data": {
      "text/html": [
       "<div>\n",
       "<style scoped>\n",
       "    .dataframe tbody tr th:only-of-type {\n",
       "        vertical-align: middle;\n",
       "    }\n",
       "\n",
       "    .dataframe tbody tr th {\n",
       "        vertical-align: top;\n",
       "    }\n",
       "\n",
       "    .dataframe thead th {\n",
       "        text-align: right;\n",
       "    }\n",
       "</style>\n",
       "<table border=\"1\" class=\"dataframe\">\n",
       "  <thead>\n",
       "    <tr style=\"text-align: right;\">\n",
       "      <th></th>\n",
       "      <th>Unnamed: 0</th>\n",
       "      <th>label</th>\n",
       "      <th>date</th>\n",
       "      <th>upvotes</th>\n",
       "      <th>num_comments</th>\n",
       "      <th>combined_text</th>\n",
       "      <th>tokenized_text</th>\n",
       "      <th>alphanum_text</th>\n",
       "      <th>stopword_removed_text</th>\n",
       "      <th>stemmed_text</th>\n",
       "      <th>non_stopword_removed_stemmed_text</th>\n",
       "      <th>combined_stemmed_text</th>\n",
       "      <th>combined_non_stopword_removed_stemmed_text</th>\n",
       "    </tr>\n",
       "  </thead>\n",
       "  <tbody>\n",
       "    <tr>\n",
       "      <th>0</th>\n",
       "      <td>0</td>\n",
       "      <td>0.0</td>\n",
       "      <td>2014-07-14 03:35:09</td>\n",
       "      <td>4.0</td>\n",
       "      <td>0.0</td>\n",
       "      <td>Deep thoughts underdog Only when we start cons...</td>\n",
       "      <td>['deep', 'thoughts', 'underdog', 'only', 'when...</td>\n",
       "      <td>['deep', 'thoughts', 'underdog', 'only', 'when...</td>\n",
       "      <td>['deep', 'thoughts', 'underdog', 'start', '99'...</td>\n",
       "      <td>['deep', 'thought', 'underdog', 'start', '99',...</td>\n",
       "      <td>['deep', 'thought', 'underdog', 'onli', 'when'...</td>\n",
       "      <td>deep thought underdog start 99 underdog start ...</td>\n",
       "      <td>deep thought underdog onli when we start consi...</td>\n",
       "    </tr>\n",
       "    <tr>\n",
       "      <th>1</th>\n",
       "      <td>1</td>\n",
       "      <td>0.0</td>\n",
       "      <td>2014-09-13 00:31:19</td>\n",
       "      <td>4.0</td>\n",
       "      <td>1.0</td>\n",
       "      <td>I like this sub, there's only two posts yet I ...</td>\n",
       "      <td>['i', 'like', 'this', 'sub', ',', \"there's\", '...</td>\n",
       "      <td>['i', 'like', 'this', 'sub', 'only', 'two', 'p...</td>\n",
       "      <td>['posts', 'coming', 'human', 'morality', 'joke...</td>\n",
       "      <td>['post', 'come', 'human', 'moral', 'joke', 'lo...</td>\n",
       "      <td>['i', 'like', 'thi', 'sub', 'onli', 'two', 'po...</td>\n",
       "      <td>post come human moral joke long abscenc hope d...</td>\n",
       "      <td>i like thi sub onli two post yet i keep come b...</td>\n",
       "    </tr>\n",
       "    <tr>\n",
       "      <th>2</th>\n",
       "      <td>2</td>\n",
       "      <td>0.0</td>\n",
       "      <td>2014-11-20 04:31:58</td>\n",
       "      <td>6.0</td>\n",
       "      <td>1.0</td>\n",
       "      <td>Rebirth! Hello. \\nI am the new guy in charge h...</td>\n",
       "      <td>['rebirth', '!', 'hello', '.', 'i', 'am', 'the...</td>\n",
       "      <td>['rebirth', 'hello', 'i', 'am', 'the', 'new', ...</td>\n",
       "      <td>['rebirth', 'guy', 'charge', 'thegood', 'ofc',...</td>\n",
       "      <td>['rebirth', 'guy', 'charg', 'thegood', 'ofc', ...</td>\n",
       "      <td>['rebirth', 'hello', 'i', 'am', 'the', 'new', ...</td>\n",
       "      <td>rebirth guy charg thegood ofc bring weirdpinea...</td>\n",
       "      <td>rebirth hello i am the new guy in charg here b...</td>\n",
       "    </tr>\n",
       "    <tr>\n",
       "      <th>3</th>\n",
       "      <td>3</td>\n",
       "      <td>0.0</td>\n",
       "      <td>2014-11-20 19:38:05</td>\n",
       "      <td>25.0</td>\n",
       "      <td>2.0</td>\n",
       "      <td>\"I want to be like water. I want to slip throu...</td>\n",
       "      <td>['\"', 'i', 'want', 'to', 'be', 'like', 'water'...</td>\n",
       "      <td>['i', 'want', 'to', 'be', 'like', 'water', 'i'...</td>\n",
       "      <td>['water', 'slip', 'fingers', 'hold', 'ship', '...</td>\n",
       "      <td>['water', 'slip', 'finger', 'hold', 'ship', 'm...</td>\n",
       "      <td>['i', 'want', 'to', 'be', 'like', 'water', 'i'...</td>\n",
       "      <td>water slip finger hold ship michel william</td>\n",
       "      <td>i want to be like water i want to slip through...</td>\n",
       "    </tr>\n",
       "    <tr>\n",
       "      <th>4</th>\n",
       "      <td>5</td>\n",
       "      <td>0.0</td>\n",
       "      <td>2014-11-22 19:17:39</td>\n",
       "      <td>8.0</td>\n",
       "      <td>23.0</td>\n",
       "      <td>What is the limit of the knowledge and power a...</td>\n",
       "      <td>['what', 'is', 'the', 'limit', 'of', 'the', 'k...</td>\n",
       "      <td>['what', 'is', 'the', 'limit', 'of', 'the', 'k...</td>\n",
       "      <td>['limit', 'knowledge', 'power', 'human', 'pers...</td>\n",
       "      <td>['limit', 'knowledg', 'power', 'human', 'perso...</td>\n",
       "      <td>['what', 'is', 'the', 'limit', 'of', 'the', 'k...</td>\n",
       "      <td>limit knowledg power human person infinit grow</td>\n",
       "      <td>what is the limit of the knowledg and power a ...</td>\n",
       "    </tr>\n",
       "  </tbody>\n",
       "</table>\n",
       "</div>"
      ],
      "text/plain": [
       "   Unnamed: 0  label                 date  upvotes  num_comments  \\\n",
       "0           0    0.0  2014-07-14 03:35:09      4.0           0.0   \n",
       "1           1    0.0  2014-09-13 00:31:19      4.0           1.0   \n",
       "2           2    0.0  2014-11-20 04:31:58      6.0           1.0   \n",
       "3           3    0.0  2014-11-20 19:38:05     25.0           2.0   \n",
       "4           5    0.0  2014-11-22 19:17:39      8.0          23.0   \n",
       "\n",
       "                                       combined_text  \\\n",
       "0  Deep thoughts underdog Only when we start cons...   \n",
       "1  I like this sub, there's only two posts yet I ...   \n",
       "2  Rebirth! Hello. \\nI am the new guy in charge h...   \n",
       "3  \"I want to be like water. I want to slip throu...   \n",
       "4  What is the limit of the knowledge and power a...   \n",
       "\n",
       "                                      tokenized_text  \\\n",
       "0  ['deep', 'thoughts', 'underdog', 'only', 'when...   \n",
       "1  ['i', 'like', 'this', 'sub', ',', \"there's\", '...   \n",
       "2  ['rebirth', '!', 'hello', '.', 'i', 'am', 'the...   \n",
       "3  ['\"', 'i', 'want', 'to', 'be', 'like', 'water'...   \n",
       "4  ['what', 'is', 'the', 'limit', 'of', 'the', 'k...   \n",
       "\n",
       "                                       alphanum_text  \\\n",
       "0  ['deep', 'thoughts', 'underdog', 'only', 'when...   \n",
       "1  ['i', 'like', 'this', 'sub', 'only', 'two', 'p...   \n",
       "2  ['rebirth', 'hello', 'i', 'am', 'the', 'new', ...   \n",
       "3  ['i', 'want', 'to', 'be', 'like', 'water', 'i'...   \n",
       "4  ['what', 'is', 'the', 'limit', 'of', 'the', 'k...   \n",
       "\n",
       "                               stopword_removed_text  \\\n",
       "0  ['deep', 'thoughts', 'underdog', 'start', '99'...   \n",
       "1  ['posts', 'coming', 'human', 'morality', 'joke...   \n",
       "2  ['rebirth', 'guy', 'charge', 'thegood', 'ofc',...   \n",
       "3  ['water', 'slip', 'fingers', 'hold', 'ship', '...   \n",
       "4  ['limit', 'knowledge', 'power', 'human', 'pers...   \n",
       "\n",
       "                                        stemmed_text  \\\n",
       "0  ['deep', 'thought', 'underdog', 'start', '99',...   \n",
       "1  ['post', 'come', 'human', 'moral', 'joke', 'lo...   \n",
       "2  ['rebirth', 'guy', 'charg', 'thegood', 'ofc', ...   \n",
       "3  ['water', 'slip', 'finger', 'hold', 'ship', 'm...   \n",
       "4  ['limit', 'knowledg', 'power', 'human', 'perso...   \n",
       "\n",
       "                   non_stopword_removed_stemmed_text  \\\n",
       "0  ['deep', 'thought', 'underdog', 'onli', 'when'...   \n",
       "1  ['i', 'like', 'thi', 'sub', 'onli', 'two', 'po...   \n",
       "2  ['rebirth', 'hello', 'i', 'am', 'the', 'new', ...   \n",
       "3  ['i', 'want', 'to', 'be', 'like', 'water', 'i'...   \n",
       "4  ['what', 'is', 'the', 'limit', 'of', 'the', 'k...   \n",
       "\n",
       "                               combined_stemmed_text  \\\n",
       "0  deep thought underdog start 99 underdog start ...   \n",
       "1  post come human moral joke long abscenc hope d...   \n",
       "2  rebirth guy charg thegood ofc bring weirdpinea...   \n",
       "3         water slip finger hold ship michel william   \n",
       "4     limit knowledg power human person infinit grow   \n",
       "\n",
       "          combined_non_stopword_removed_stemmed_text  \n",
       "0  deep thought underdog onli when we start consi...  \n",
       "1  i like thi sub onli two post yet i keep come b...  \n",
       "2  rebirth hello i am the new guy in charg here b...  \n",
       "3  i want to be like water i want to slip through...  \n",
       "4  what is the limit of the knowledg and power a ...  "
      ]
     },
     "execution_count": 23,
     "metadata": {},
     "output_type": "execute_result"
    }
   ],
   "source": [
    "df.head()"
   ]
  },
  {
   "cell_type": "code",
   "execution_count": 24,
   "metadata": {},
   "outputs": [
    {
     "data": {
      "text/html": [
       "<div>\n",
       "<style scoped>\n",
       "    .dataframe tbody tr th:only-of-type {\n",
       "        vertical-align: middle;\n",
       "    }\n",
       "\n",
       "    .dataframe tbody tr th {\n",
       "        vertical-align: top;\n",
       "    }\n",
       "\n",
       "    .dataframe thead th {\n",
       "        text-align: right;\n",
       "    }\n",
       "</style>\n",
       "<table border=\"1\" class=\"dataframe\">\n",
       "  <thead>\n",
       "    <tr style=\"text-align: right;\">\n",
       "      <th></th>\n",
       "      <th>Unnamed: 0</th>\n",
       "      <th>label</th>\n",
       "      <th>date</th>\n",
       "      <th>upvotes</th>\n",
       "      <th>num_comments</th>\n",
       "      <th>combined_text</th>\n",
       "      <th>tokenized_text</th>\n",
       "      <th>alphanum_text</th>\n",
       "      <th>stopword_removed_text</th>\n",
       "      <th>stemmed_text</th>\n",
       "      <th>non_stopword_removed_stemmed_text</th>\n",
       "      <th>combined_stemmed_text</th>\n",
       "      <th>combined_non_stopword_removed_stemmed_text</th>\n",
       "    </tr>\n",
       "  </thead>\n",
       "  <tbody>\n",
       "  </tbody>\n",
       "</table>\n",
       "</div>"
      ],
      "text/plain": [
       "Empty DataFrame\n",
       "Columns: [Unnamed: 0, label, date, upvotes, num_comments, combined_text, tokenized_text, alphanum_text, stopword_removed_text, stemmed_text, non_stopword_removed_stemmed_text, combined_stemmed_text, combined_non_stopword_removed_stemmed_text]\n",
       "Index: []"
      ]
     },
     "execution_count": 24,
     "metadata": {},
     "output_type": "execute_result"
    }
   ],
   "source": [
    "#check if there negative values in the upvotes column of the dataset\n",
    "df[df['upvotes']<0]"
   ]
  },
  {
   "cell_type": "code",
   "execution_count": 25,
   "metadata": {},
   "outputs": [
    {
     "data": {
      "text/html": [
       "<div>\n",
       "<style scoped>\n",
       "    .dataframe tbody tr th:only-of-type {\n",
       "        vertical-align: middle;\n",
       "    }\n",
       "\n",
       "    .dataframe tbody tr th {\n",
       "        vertical-align: top;\n",
       "    }\n",
       "\n",
       "    .dataframe thead th {\n",
       "        text-align: right;\n",
       "    }\n",
       "</style>\n",
       "<table border=\"1\" class=\"dataframe\">\n",
       "  <thead>\n",
       "    <tr style=\"text-align: right;\">\n",
       "      <th></th>\n",
       "      <th>Unnamed: 0</th>\n",
       "      <th>label</th>\n",
       "      <th>date</th>\n",
       "      <th>upvotes</th>\n",
       "      <th>num_comments</th>\n",
       "      <th>combined_text</th>\n",
       "      <th>tokenized_text</th>\n",
       "      <th>alphanum_text</th>\n",
       "      <th>stopword_removed_text</th>\n",
       "      <th>stemmed_text</th>\n",
       "      <th>non_stopword_removed_stemmed_text</th>\n",
       "      <th>combined_stemmed_text</th>\n",
       "      <th>combined_non_stopword_removed_stemmed_text</th>\n",
       "    </tr>\n",
       "  </thead>\n",
       "  <tbody>\n",
       "    <tr>\n",
       "      <th>1772493</th>\n",
       "      <td>2020957</td>\n",
       "      <td>1.0</td>\n",
       "      <td>2015-01-05 19:38:10</td>\n",
       "      <td>8.0</td>\n",
       "      <td>-3.0</td>\n",
       "      <td>somebody please help me i cant type all the st...</td>\n",
       "      <td>['somebody', 'please', 'help', 'me', 'i', 'can...</td>\n",
       "      <td>['somebody', 'please', 'help', 'me', 'i', 'can...</td>\n",
       "      <td>['type', 'stuff', 'talk', 'preferably', 'skype...</td>\n",
       "      <td>['type', 'stuff', 'talk', 'prefer', 'skype', '...</td>\n",
       "      <td>['somebodi', 'pleas', 'help', 'me', 'i', 'cant...</td>\n",
       "      <td>type stuff talk prefer skype text voic advanc</td>\n",
       "      <td>somebodi pleas help me i cant type all the stu...</td>\n",
       "    </tr>\n",
       "    <tr>\n",
       "      <th>1853457</th>\n",
       "      <td>2182091</td>\n",
       "      <td>1.0</td>\n",
       "      <td>2011-02-24 21:40:07</td>\n",
       "      <td>36.0</td>\n",
       "      <td>-2.0</td>\n",
       "      <td>Life Graph [crosspost from r/pics]</td>\n",
       "      <td>['life', 'graph', '[', 'crosspost', 'from', 'r...</td>\n",
       "      <td>['life', 'graph', 'crosspost', 'from', 'r', 'p...</td>\n",
       "      <td>['life', 'graph', 'crosspost', 'pics']</td>\n",
       "      <td>['life', 'graph', 'crosspost', 'pic']</td>\n",
       "      <td>['life', 'graph', 'crosspost', 'from', 'r', 'p...</td>\n",
       "      <td>life graph crosspost pic</td>\n",
       "      <td>life graph crosspost from r pic</td>\n",
       "    </tr>\n",
       "  </tbody>\n",
       "</table>\n",
       "</div>"
      ],
      "text/plain": [
       "         Unnamed: 0  label                 date  upvotes  num_comments  \\\n",
       "1772493     2020957    1.0  2015-01-05 19:38:10      8.0          -3.0   \n",
       "1853457     2182091    1.0  2011-02-24 21:40:07     36.0          -2.0   \n",
       "\n",
       "                                             combined_text  \\\n",
       "1772493  somebody please help me i cant type all the st...   \n",
       "1853457                Life Graph [crosspost from r/pics]    \n",
       "\n",
       "                                            tokenized_text  \\\n",
       "1772493  ['somebody', 'please', 'help', 'me', 'i', 'can...   \n",
       "1853457  ['life', 'graph', '[', 'crosspost', 'from', 'r...   \n",
       "\n",
       "                                             alphanum_text  \\\n",
       "1772493  ['somebody', 'please', 'help', 'me', 'i', 'can...   \n",
       "1853457  ['life', 'graph', 'crosspost', 'from', 'r', 'p...   \n",
       "\n",
       "                                     stopword_removed_text  \\\n",
       "1772493  ['type', 'stuff', 'talk', 'preferably', 'skype...   \n",
       "1853457             ['life', 'graph', 'crosspost', 'pics']   \n",
       "\n",
       "                                              stemmed_text  \\\n",
       "1772493  ['type', 'stuff', 'talk', 'prefer', 'skype', '...   \n",
       "1853457              ['life', 'graph', 'crosspost', 'pic']   \n",
       "\n",
       "                         non_stopword_removed_stemmed_text  \\\n",
       "1772493  ['somebodi', 'pleas', 'help', 'me', 'i', 'cant...   \n",
       "1853457  ['life', 'graph', 'crosspost', 'from', 'r', 'p...   \n",
       "\n",
       "                                 combined_stemmed_text  \\\n",
       "1772493  type stuff talk prefer skype text voic advanc   \n",
       "1853457                       life graph crosspost pic   \n",
       "\n",
       "                combined_non_stopword_removed_stemmed_text  \n",
       "1772493  somebodi pleas help me i cant type all the stu...  \n",
       "1853457                    life graph crosspost from r pic  "
      ]
     },
     "execution_count": 25,
     "metadata": {},
     "output_type": "execute_result"
    }
   ],
   "source": [
    "#check if there are negative values in the num_comemnts column of the dataset\n",
    "df[df['num_comments']<0]"
   ]
  },
  {
   "cell_type": "code",
   "execution_count": 26,
   "metadata": {},
   "outputs": [],
   "source": [
    "df['num_comments']=df['num_comments'].apply(lambda x: 0 if x<0 else x)"
   ]
  },
  {
   "cell_type": "code",
   "execution_count": 27,
   "metadata": {},
   "outputs": [
    {
     "data": {
      "text/html": [
       "<div>\n",
       "<style scoped>\n",
       "    .dataframe tbody tr th:only-of-type {\n",
       "        vertical-align: middle;\n",
       "    }\n",
       "\n",
       "    .dataframe tbody tr th {\n",
       "        vertical-align: top;\n",
       "    }\n",
       "\n",
       "    .dataframe thead th {\n",
       "        text-align: right;\n",
       "    }\n",
       "</style>\n",
       "<table border=\"1\" class=\"dataframe\">\n",
       "  <thead>\n",
       "    <tr style=\"text-align: right;\">\n",
       "      <th></th>\n",
       "      <th>Unnamed: 0</th>\n",
       "      <th>label</th>\n",
       "      <th>date</th>\n",
       "      <th>upvotes</th>\n",
       "      <th>num_comments</th>\n",
       "      <th>combined_text</th>\n",
       "      <th>tokenized_text</th>\n",
       "      <th>alphanum_text</th>\n",
       "      <th>stopword_removed_text</th>\n",
       "      <th>stemmed_text</th>\n",
       "      <th>non_stopword_removed_stemmed_text</th>\n",
       "      <th>combined_stemmed_text</th>\n",
       "      <th>combined_non_stopword_removed_stemmed_text</th>\n",
       "    </tr>\n",
       "  </thead>\n",
       "  <tbody>\n",
       "  </tbody>\n",
       "</table>\n",
       "</div>"
      ],
      "text/plain": [
       "Empty DataFrame\n",
       "Columns: [Unnamed: 0, label, date, upvotes, num_comments, combined_text, tokenized_text, alphanum_text, stopword_removed_text, stemmed_text, non_stopword_removed_stemmed_text, combined_stemmed_text, combined_non_stopword_removed_stemmed_text]\n",
       "Index: []"
      ]
     },
     "execution_count": 27,
     "metadata": {},
     "output_type": "execute_result"
    }
   ],
   "source": [
    "#check if there are negative values in the num_comemnts column of the dataset\n",
    "df[df['num_comments']<0]\n",
    "# there should be no negative values in the num_comments column"
   ]
  },
  {
   "cell_type": "code",
   "execution_count": 28,
   "metadata": {},
   "outputs": [
    {
     "name": "stdout",
     "output_type": "stream",
     "text": [
      "Prior probability of being depressed: 0.11341759054177354\n"
     ]
    }
   ],
   "source": [
    "prior_prob_depressed=len(df[df.label==1])/len(df)\n",
    "print('Prior probability of being depressed:',prior_prob_depressed)"
   ]
  },
  {
   "cell_type": "code",
   "execution_count": 4,
   "metadata": {},
   "outputs": [],
   "source": [
    "from sklearn.feature_extraction.text import TfidfVectorizer\n",
    "from sklearn.model_selection import train_test_split\n",
    "from sklearn.naive_bayes import MultinomialNB\n",
    "from sklearn.metrics import classification_report, accuracy_score"
   ]
  },
  {
   "cell_type": "code",
   "execution_count": 30,
   "metadata": {},
   "outputs": [],
   "source": [
    "#select relevant features\n",
    "X_text=df['combined_stemmed_text']\n",
    "X_numeric=df[['upvotes','num_comments']]\n",
    "y=df['label']"
   ]
  },
  {
   "cell_type": "code",
   "execution_count": 31,
   "metadata": {},
   "outputs": [],
   "source": [
    "tfidf=TfidfVectorizer()\n",
    "X_text=X_text.fillna('')\n",
    "X_text_tfidf=tfidf.fit_transform(X_text) "
   ]
  },
  {
   "cell_type": "code",
   "execution_count": 32,
   "metadata": {},
   "outputs": [
    {
     "name": "stdout",
     "output_type": "stream",
     "text": [
      "[1.37505755e+02 2.71641844e+02 8.78929886e+00 ... 2.29319696e-01\n",
      " 3.87946412e-01 2.67261242e-01]\n"
     ]
    }
   ],
   "source": [
    "#understanding csv to decide how many frequent terms to include\n",
    "#decide on the value for max_features\n",
    "\n",
    "#this is to get the feature names (vocabulary) \n",
    "#and their coreesponding counts\n",
    "feature_names=tfidf.get_feature_names_out()\n",
    "feature_counts=X_text_tfidf.sum(axis=0).A1\n",
    "\n",
    "print(feature_counts)"
   ]
  },
  {
   "cell_type": "code",
   "execution_count": 33,
   "metadata": {},
   "outputs": [],
   "source": [
    "#create dataframe of feature names and counts\n",
    "features_df=pd.DataFrame({'feature':feature_names,'count':feature_counts})\n",
    "\n",
    "#sort the dataframe by count in descending order\n",
    "features_df=features_df.sort_values(by='count',ascending=False)"
   ]
  },
  {
   "cell_type": "code",
   "execution_count": 34,
   "metadata": {},
   "outputs": [
    {
     "data": {
      "image/png": "[encoded data removed]",
      "text/plain": [
       "<Figure size 1000x600 with 1 Axes>"
      ]
     },
     "metadata": {},
     "output_type": "display_data"
    }
   ],
   "source": [
    "#plot distribution of term frequencies\n",
    "plt.figure(figsize=(10,6))\n",
    "plt.plot(features_df['count'].values)\n",
    "plt.title('Term Frequency Distribution')\n",
    "plt.xlabel('Term Rank')\n",
    "plt.ylabel('Frequency')\n",
    "plt.yscale('log')  # Log scale to better visualize the long tail\n",
    "plt.show()"
   ]
  },
  {
   "cell_type": "code",
   "execution_count": 35,
   "metadata": {},
   "outputs": [
    {
     "name": "stdout",
     "output_type": "stream",
     "text": [
      "Number of unique terms in the vocabulary: 189530\n"
     ]
    }
   ],
   "source": [
    "# Display the number of unique terms in the vocabulary\n",
    "print(\"Number of unique terms in the vocabulary:\", len(feature_names))"
   ]
  },
  {
   "cell_type": "code",
   "execution_count": 36,
   "metadata": {},
   "outputs": [
    {
     "name": "stdout",
     "output_type": "stream",
     "text": [
      "max_features=1000, Accuracy: 0.6420233365123061\n",
      "max_features=5000, Accuracy: 0.672252096738072\n",
      "max_features=10000, Accuracy: 0.6753220282685335\n",
      "max_features=20000, Accuracy: 0.6723628155801542\n",
      "max_features=25000, Accuracy: 0.6708731438866843\n"
     ]
    }
   ],
   "source": [
    "#vectorise the text\n",
    "\n",
    "#to handle NaN values \n",
    "X_text=X_text.fillna('')\n",
    "\n",
    "#max_features= based on unique terms and distribution of figure\n",
    "#set to 1000,5000,10000,20000 and compare performance\n",
    "\n",
    "# Experiment with different values for max_features\n",
    "max_features_values = [1000, 5000, 10000, 20000, 25000]\n",
    "\n",
    "for max_features in max_features_values:\n",
    "    # Vectorize the text data\n",
    "    tfidf = TfidfVectorizer(max_features=max_features)\n",
    "    X_text_tfidf = tfidf.fit_transform(X_text)\n",
    "    \n",
    "    # Combine text and numeric data\n",
    "    X_combined = scipy.sparse.hstack([X_text_tfidf, X_numeric])\n",
    "    \n",
    "    # Split the data into training and testing sets\n",
    "    X_train, X_test, y_train, y_test = train_test_split(X_combined, y, test_size=0.2, random_state=42)\n",
    "    \n",
    "    # Train the model\n",
    "    model = MultinomialNB()\n",
    "    model.fit(X_train, y_train)\n",
    "    \n",
    "    # Predict and evaluate the model\n",
    "    y_pred = model.predict(X_test)\n",
    "    accuracy = accuracy_score(y_test, y_pred)\n",
    "    \n",
    "    print(f\"max_features={max_features}, Accuracy: {accuracy}\")"
   ]
  },
  {
   "cell_type": "code",
   "execution_count": 37,
   "metadata": {},
   "outputs": [
    {
     "name": "stdout",
     "output_type": "stream",
     "text": [
      "Best hyperparameters: {'alpha': 0.1}\n",
      "Accuracy: 0.6888599230504048\n",
      "Classification Report:\n",
      "               precision    recall  f1-score   support\n",
      "\n",
      "         0.0       0.97      0.67      0.79    352228\n",
      "         1.0       0.24      0.83      0.38     45175\n",
      "\n",
      "    accuracy                           0.69    397403\n",
      "   macro avg       0.61      0.75      0.59    397403\n",
      "weighted avg       0.89      0.69      0.75    397403\n",
      "\n"
     ]
    }
   ],
   "source": [
    "from sklearn.model_selection import GridSearchCV\n",
    "\n",
    "# Set max_features to 10000\n",
    "tfidf = TfidfVectorizer(max_features=10000)\n",
    "X_text_tfidf = tfidf.fit_transform(X_text)\n",
    "\n",
    "# Combine text and numeric data\n",
    "X_combined = scipy.sparse.hstack([X_text_tfidf, X_numeric])\n",
    "\n",
    "# Split the data into training and testing sets\n",
    "X_train, X_test, y_train, y_test = train_test_split(X_combined, y, test_size=0.2, random_state=42)\n",
    "\n",
    "# Define a grid of hyperparameters\n",
    "param_grid = {\n",
    "    'alpha': [0.1, 0.5, 1.0, 5.0, 10.0] #smoothing parameter\n",
    "}\n",
    "\n",
    "# Initialize the model\n",
    "model = MultinomialNB()\n",
    "\n",
    "# Use GridSearchCV to find the best hyperparameters\n",
    "grid_search = GridSearchCV(model, param_grid, cv=5, scoring='accuracy')\n",
    "grid_search.fit(X_train, y_train)\n",
    "\n",
    "# Get the best model\n",
    "best_model = grid_search.best_estimator_\n",
    "\n",
    "# Predict and evaluate the model\n",
    "y_pred = best_model.predict(X_test)\n",
    "accuracy = accuracy_score(y_test, y_pred)\n",
    "\n",
    "print(f\"Best hyperparameters: {grid_search.best_params_}\")\n",
    "print(f\"Accuracy: {accuracy}\")\n",
    "print(\"Classification Report:\\n\", classification_report(y_test, y_pred))\n"
   ]
  },
  {
   "cell_type": "markdown",
   "metadata": {},
   "source": [
    "Repeating the model again, but Utilising n-grams instead of singular words. n-grams would allow for more context"
   ]
  },
  {
   "cell_type": "code",
   "execution_count": 5,
   "metadata": {},
   "outputs": [],
   "source": [
    "df=pd.read_csv('../data/reddit_depression_dataset_cleaned.csv')"
   ]
  },
  {
   "cell_type": "code",
   "execution_count": 66,
   "metadata": {},
   "outputs": [
    {
     "data": {
      "text/html": [
       "<div>\n",
       "<style scoped>\n",
       "    .dataframe tbody tr th:only-of-type {\n",
       "        vertical-align: middle;\n",
       "    }\n",
       "\n",
       "    .dataframe tbody tr th {\n",
       "        vertical-align: top;\n",
       "    }\n",
       "\n",
       "    .dataframe thead th {\n",
       "        text-align: right;\n",
       "    }\n",
       "</style>\n",
       "<table border=\"1\" class=\"dataframe\">\n",
       "  <thead>\n",
       "    <tr style=\"text-align: right;\">\n",
       "      <th></th>\n",
       "      <th>Unnamed: 0</th>\n",
       "      <th>label</th>\n",
       "      <th>date</th>\n",
       "      <th>upvotes</th>\n",
       "      <th>num_comments</th>\n",
       "      <th>combined_text</th>\n",
       "      <th>tokenized_text</th>\n",
       "      <th>alphanum_text</th>\n",
       "      <th>stopword_removed_text</th>\n",
       "      <th>stemmed_text</th>\n",
       "      <th>non_stopword_removed_stemmed_text</th>\n",
       "      <th>combined_stemmed_text</th>\n",
       "      <th>combined_non_stopword_removed_stemmed_text</th>\n",
       "    </tr>\n",
       "  </thead>\n",
       "  <tbody>\n",
       "    <tr>\n",
       "      <th>0</th>\n",
       "      <td>0</td>\n",
       "      <td>0.0</td>\n",
       "      <td>2014-07-14 03:35:09</td>\n",
       "      <td>4.0</td>\n",
       "      <td>0.0</td>\n",
       "      <td>Deep thoughts underdog Only when we start cons...</td>\n",
       "      <td>['deep', 'thoughts', 'underdog', 'only', 'when...</td>\n",
       "      <td>['deep', 'thoughts', 'underdog', 'only', 'when...</td>\n",
       "      <td>['deep', 'thoughts', 'underdog', 'start', '99'...</td>\n",
       "      <td>['deep', 'thought', 'underdog', 'start', '99',...</td>\n",
       "      <td>['deep', 'thought', 'underdog', 'onli', 'when'...</td>\n",
       "      <td>deep thought underdog start 99 underdog start ...</td>\n",
       "      <td>deep thought underdog onli when we start consi...</td>\n",
       "    </tr>\n",
       "    <tr>\n",
       "      <th>1</th>\n",
       "      <td>1</td>\n",
       "      <td>0.0</td>\n",
       "      <td>2014-09-13 00:31:19</td>\n",
       "      <td>4.0</td>\n",
       "      <td>1.0</td>\n",
       "      <td>I like this sub, there's only two posts yet I ...</td>\n",
       "      <td>['i', 'like', 'this', 'sub', ',', \"there's\", '...</td>\n",
       "      <td>['i', 'like', 'this', 'sub', 'only', 'two', 'p...</td>\n",
       "      <td>['posts', 'coming', 'human', 'morality', 'joke...</td>\n",
       "      <td>['post', 'come', 'human', 'moral', 'joke', 'lo...</td>\n",
       "      <td>['i', 'like', 'thi', 'sub', 'onli', 'two', 'po...</td>\n",
       "      <td>post come human moral joke long abscenc hope d...</td>\n",
       "      <td>i like thi sub onli two post yet i keep come b...</td>\n",
       "    </tr>\n",
       "    <tr>\n",
       "      <th>2</th>\n",
       "      <td>2</td>\n",
       "      <td>0.0</td>\n",
       "      <td>2014-11-20 04:31:58</td>\n",
       "      <td>6.0</td>\n",
       "      <td>1.0</td>\n",
       "      <td>Rebirth! Hello. \\nI am the new guy in charge h...</td>\n",
       "      <td>['rebirth', '!', 'hello', '.', 'i', 'am', 'the...</td>\n",
       "      <td>['rebirth', 'hello', 'i', 'am', 'the', 'new', ...</td>\n",
       "      <td>['rebirth', 'guy', 'charge', 'thegood', 'ofc',...</td>\n",
       "      <td>['rebirth', 'guy', 'charg', 'thegood', 'ofc', ...</td>\n",
       "      <td>['rebirth', 'hello', 'i', 'am', 'the', 'new', ...</td>\n",
       "      <td>rebirth guy charg thegood ofc bring weirdpinea...</td>\n",
       "      <td>rebirth hello i am the new guy in charg here b...</td>\n",
       "    </tr>\n",
       "    <tr>\n",
       "      <th>3</th>\n",
       "      <td>3</td>\n",
       "      <td>0.0</td>\n",
       "      <td>2014-11-20 19:38:05</td>\n",
       "      <td>25.0</td>\n",
       "      <td>2.0</td>\n",
       "      <td>\"I want to be like water. I want to slip throu...</td>\n",
       "      <td>['\"', 'i', 'want', 'to', 'be', 'like', 'water'...</td>\n",
       "      <td>['i', 'want', 'to', 'be', 'like', 'water', 'i'...</td>\n",
       "      <td>['water', 'slip', 'fingers', 'hold', 'ship', '...</td>\n",
       "      <td>['water', 'slip', 'finger', 'hold', 'ship', 'm...</td>\n",
       "      <td>['i', 'want', 'to', 'be', 'like', 'water', 'i'...</td>\n",
       "      <td>water slip finger hold ship michel william</td>\n",
       "      <td>i want to be like water i want to slip through...</td>\n",
       "    </tr>\n",
       "    <tr>\n",
       "      <th>4</th>\n",
       "      <td>5</td>\n",
       "      <td>0.0</td>\n",
       "      <td>2014-11-22 19:17:39</td>\n",
       "      <td>8.0</td>\n",
       "      <td>23.0</td>\n",
       "      <td>What is the limit of the knowledge and power a...</td>\n",
       "      <td>['what', 'is', 'the', 'limit', 'of', 'the', 'k...</td>\n",
       "      <td>['what', 'is', 'the', 'limit', 'of', 'the', 'k...</td>\n",
       "      <td>['limit', 'knowledge', 'power', 'human', 'pers...</td>\n",
       "      <td>['limit', 'knowledg', 'power', 'human', 'perso...</td>\n",
       "      <td>['what', 'is', 'the', 'limit', 'of', 'the', 'k...</td>\n",
       "      <td>limit knowledg power human person infinit grow</td>\n",
       "      <td>what is the limit of the knowledg and power a ...</td>\n",
       "    </tr>\n",
       "  </tbody>\n",
       "</table>\n",
       "</div>"
      ],
      "text/plain": [
       "   Unnamed: 0  label                 date  upvotes  num_comments  \\\n",
       "0           0    0.0  2014-07-14 03:35:09      4.0           0.0   \n",
       "1           1    0.0  2014-09-13 00:31:19      4.0           1.0   \n",
       "2           2    0.0  2014-11-20 04:31:58      6.0           1.0   \n",
       "3           3    0.0  2014-11-20 19:38:05     25.0           2.0   \n",
       "4           5    0.0  2014-11-22 19:17:39      8.0          23.0   \n",
       "\n",
       "                                       combined_text  \\\n",
       "0  Deep thoughts underdog Only when we start cons...   \n",
       "1  I like this sub, there's only two posts yet I ...   \n",
       "2  Rebirth! Hello. \\nI am the new guy in charge h...   \n",
       "3  \"I want to be like water. I want to slip throu...   \n",
       "4  What is the limit of the knowledge and power a...   \n",
       "\n",
       "                                      tokenized_text  \\\n",
       "0  ['deep', 'thoughts', 'underdog', 'only', 'when...   \n",
       "1  ['i', 'like', 'this', 'sub', ',', \"there's\", '...   \n",
       "2  ['rebirth', '!', 'hello', '.', 'i', 'am', 'the...   \n",
       "3  ['\"', 'i', 'want', 'to', 'be', 'like', 'water'...   \n",
       "4  ['what', 'is', 'the', 'limit', 'of', 'the', 'k...   \n",
       "\n",
       "                                       alphanum_text  \\\n",
       "0  ['deep', 'thoughts', 'underdog', 'only', 'when...   \n",
       "1  ['i', 'like', 'this', 'sub', 'only', 'two', 'p...   \n",
       "2  ['rebirth', 'hello', 'i', 'am', 'the', 'new', ...   \n",
       "3  ['i', 'want', 'to', 'be', 'like', 'water', 'i'...   \n",
       "4  ['what', 'is', 'the', 'limit', 'of', 'the', 'k...   \n",
       "\n",
       "                               stopword_removed_text  \\\n",
       "0  ['deep', 'thoughts', 'underdog', 'start', '99'...   \n",
       "1  ['posts', 'coming', 'human', 'morality', 'joke...   \n",
       "2  ['rebirth', 'guy', 'charge', 'thegood', 'ofc',...   \n",
       "3  ['water', 'slip', 'fingers', 'hold', 'ship', '...   \n",
       "4  ['limit', 'knowledge', 'power', 'human', 'pers...   \n",
       "\n",
       "                                        stemmed_text  \\\n",
       "0  ['deep', 'thought', 'underdog', 'start', '99',...   \n",
       "1  ['post', 'come', 'human', 'moral', 'joke', 'lo...   \n",
       "2  ['rebirth', 'guy', 'charg', 'thegood', 'ofc', ...   \n",
       "3  ['water', 'slip', 'finger', 'hold', 'ship', 'm...   \n",
       "4  ['limit', 'knowledg', 'power', 'human', 'perso...   \n",
       "\n",
       "                   non_stopword_removed_stemmed_text  \\\n",
       "0  ['deep', 'thought', 'underdog', 'onli', 'when'...   \n",
       "1  ['i', 'like', 'thi', 'sub', 'onli', 'two', 'po...   \n",
       "2  ['rebirth', 'hello', 'i', 'am', 'the', 'new', ...   \n",
       "3  ['i', 'want', 'to', 'be', 'like', 'water', 'i'...   \n",
       "4  ['what', 'is', 'the', 'limit', 'of', 'the', 'k...   \n",
       "\n",
       "                               combined_stemmed_text  \\\n",
       "0  deep thought underdog start 99 underdog start ...   \n",
       "1  post come human moral joke long abscenc hope d...   \n",
       "2  rebirth guy charg thegood ofc bring weirdpinea...   \n",
       "3         water slip finger hold ship michel william   \n",
       "4     limit knowledg power human person infinit grow   \n",
       "\n",
       "          combined_non_stopword_removed_stemmed_text  \n",
       "0  deep thought underdog onli when we start consi...  \n",
       "1  i like thi sub onli two post yet i keep come b...  \n",
       "2  rebirth hello i am the new guy in charg here b...  \n",
       "3  i want to be like water i want to slip through...  \n",
       "4  what is the limit of the knowledg and power a ...  "
      ]
     },
     "execution_count": 66,
     "metadata": {},
     "output_type": "execute_result"
    }
   ],
   "source": [
    "df.head()"
   ]
  },
  {
   "cell_type": "code",
   "execution_count": 67,
   "metadata": {},
   "outputs": [
    {
     "data": {
      "text/html": [
       "<div>\n",
       "<style scoped>\n",
       "    .dataframe tbody tr th:only-of-type {\n",
       "        vertical-align: middle;\n",
       "    }\n",
       "\n",
       "    .dataframe tbody tr th {\n",
       "        vertical-align: top;\n",
       "    }\n",
       "\n",
       "    .dataframe thead th {\n",
       "        text-align: right;\n",
       "    }\n",
       "</style>\n",
       "<table border=\"1\" class=\"dataframe\">\n",
       "  <thead>\n",
       "    <tr style=\"text-align: right;\">\n",
       "      <th></th>\n",
       "      <th>Unnamed: 0</th>\n",
       "      <th>label</th>\n",
       "      <th>date</th>\n",
       "      <th>upvotes</th>\n",
       "      <th>num_comments</th>\n",
       "      <th>combined_text</th>\n",
       "      <th>tokenized_text</th>\n",
       "      <th>alphanum_text</th>\n",
       "      <th>stopword_removed_text</th>\n",
       "      <th>stemmed_text</th>\n",
       "      <th>non_stopword_removed_stemmed_text</th>\n",
       "      <th>combined_stemmed_text</th>\n",
       "      <th>combined_non_stopword_removed_stemmed_text</th>\n",
       "    </tr>\n",
       "  </thead>\n",
       "  <tbody>\n",
       "  </tbody>\n",
       "</table>\n",
       "</div>"
      ],
      "text/plain": [
       "Empty DataFrame\n",
       "Columns: [Unnamed: 0, label, date, upvotes, num_comments, combined_text, tokenized_text, alphanum_text, stopword_removed_text, stemmed_text, non_stopword_removed_stemmed_text, combined_stemmed_text, combined_non_stopword_removed_stemmed_text]\n",
       "Index: []"
      ]
     },
     "execution_count": 67,
     "metadata": {},
     "output_type": "execute_result"
    }
   ],
   "source": [
    "#check if there negative values in the upvotes column of the dataset\n",
    "df[df['upvotes']<0]"
   ]
  },
  {
   "cell_type": "code",
   "execution_count": 68,
   "metadata": {},
   "outputs": [
    {
     "data": {
      "text/html": [
       "<div>\n",
       "<style scoped>\n",
       "    .dataframe tbody tr th:only-of-type {\n",
       "        vertical-align: middle;\n",
       "    }\n",
       "\n",
       "    .dataframe tbody tr th {\n",
       "        vertical-align: top;\n",
       "    }\n",
       "\n",
       "    .dataframe thead th {\n",
       "        text-align: right;\n",
       "    }\n",
       "</style>\n",
       "<table border=\"1\" class=\"dataframe\">\n",
       "  <thead>\n",
       "    <tr style=\"text-align: right;\">\n",
       "      <th></th>\n",
       "      <th>Unnamed: 0</th>\n",
       "      <th>label</th>\n",
       "      <th>date</th>\n",
       "      <th>upvotes</th>\n",
       "      <th>num_comments</th>\n",
       "      <th>combined_text</th>\n",
       "      <th>tokenized_text</th>\n",
       "      <th>alphanum_text</th>\n",
       "      <th>stopword_removed_text</th>\n",
       "      <th>stemmed_text</th>\n",
       "      <th>non_stopword_removed_stemmed_text</th>\n",
       "      <th>combined_stemmed_text</th>\n",
       "      <th>combined_non_stopword_removed_stemmed_text</th>\n",
       "    </tr>\n",
       "  </thead>\n",
       "  <tbody>\n",
       "    <tr>\n",
       "      <th>1772493</th>\n",
       "      <td>2020957</td>\n",
       "      <td>1.0</td>\n",
       "      <td>2015-01-05 19:38:10</td>\n",
       "      <td>8.0</td>\n",
       "      <td>-3.0</td>\n",
       "      <td>somebody please help me i cant type all the st...</td>\n",
       "      <td>['somebody', 'please', 'help', 'me', 'i', 'can...</td>\n",
       "      <td>['somebody', 'please', 'help', 'me', 'i', 'can...</td>\n",
       "      <td>['type', 'stuff', 'talk', 'preferably', 'skype...</td>\n",
       "      <td>['type', 'stuff', 'talk', 'prefer', 'skype', '...</td>\n",
       "      <td>['somebodi', 'pleas', 'help', 'me', 'i', 'cant...</td>\n",
       "      <td>type stuff talk prefer skype text voic advanc</td>\n",
       "      <td>somebodi pleas help me i cant type all the stu...</td>\n",
       "    </tr>\n",
       "    <tr>\n",
       "      <th>1853457</th>\n",
       "      <td>2182091</td>\n",
       "      <td>1.0</td>\n",
       "      <td>2011-02-24 21:40:07</td>\n",
       "      <td>36.0</td>\n",
       "      <td>-2.0</td>\n",
       "      <td>Life Graph [crosspost from r/pics]</td>\n",
       "      <td>['life', 'graph', '[', 'crosspost', 'from', 'r...</td>\n",
       "      <td>['life', 'graph', 'crosspost', 'from', 'r', 'p...</td>\n",
       "      <td>['life', 'graph', 'crosspost', 'pics']</td>\n",
       "      <td>['life', 'graph', 'crosspost', 'pic']</td>\n",
       "      <td>['life', 'graph', 'crosspost', 'from', 'r', 'p...</td>\n",
       "      <td>life graph crosspost pic</td>\n",
       "      <td>life graph crosspost from r pic</td>\n",
       "    </tr>\n",
       "  </tbody>\n",
       "</table>\n",
       "</div>"
      ],
      "text/plain": [
       "         Unnamed: 0  label                 date  upvotes  num_comments  \\\n",
       "1772493     2020957    1.0  2015-01-05 19:38:10      8.0          -3.0   \n",
       "1853457     2182091    1.0  2011-02-24 21:40:07     36.0          -2.0   \n",
       "\n",
       "                                             combined_text  \\\n",
       "1772493  somebody please help me i cant type all the st...   \n",
       "1853457                Life Graph [crosspost from r/pics]    \n",
       "\n",
       "                                            tokenized_text  \\\n",
       "1772493  ['somebody', 'please', 'help', 'me', 'i', 'can...   \n",
       "1853457  ['life', 'graph', '[', 'crosspost', 'from', 'r...   \n",
       "\n",
       "                                             alphanum_text  \\\n",
       "1772493  ['somebody', 'please', 'help', 'me', 'i', 'can...   \n",
       "1853457  ['life', 'graph', 'crosspost', 'from', 'r', 'p...   \n",
       "\n",
       "                                     stopword_removed_text  \\\n",
       "1772493  ['type', 'stuff', 'talk', 'preferably', 'skype...   \n",
       "1853457             ['life', 'graph', 'crosspost', 'pics']   \n",
       "\n",
       "                                              stemmed_text  \\\n",
       "1772493  ['type', 'stuff', 'talk', 'prefer', 'skype', '...   \n",
       "1853457              ['life', 'graph', 'crosspost', 'pic']   \n",
       "\n",
       "                         non_stopword_removed_stemmed_text  \\\n",
       "1772493  ['somebodi', 'pleas', 'help', 'me', 'i', 'cant...   \n",
       "1853457  ['life', 'graph', 'crosspost', 'from', 'r', 'p...   \n",
       "\n",
       "                                 combined_stemmed_text  \\\n",
       "1772493  type stuff talk prefer skype text voic advanc   \n",
       "1853457                       life graph crosspost pic   \n",
       "\n",
       "                combined_non_stopword_removed_stemmed_text  \n",
       "1772493  somebodi pleas help me i cant type all the stu...  \n",
       "1853457                    life graph crosspost from r pic  "
      ]
     },
     "execution_count": 68,
     "metadata": {},
     "output_type": "execute_result"
    }
   ],
   "source": [
    "#check if there are negative values in the num_comemnts column of the dataset\n",
    "df[df['num_comments']<0]"
   ]
  },
  {
   "cell_type": "code",
   "execution_count": 69,
   "metadata": {},
   "outputs": [],
   "source": [
    "df['num_comments']=df['num_comments'].apply(lambda x: 0 if x<0 else x)"
   ]
  },
  {
   "cell_type": "code",
   "execution_count": 70,
   "metadata": {},
   "outputs": [
    {
     "data": {
      "text/html": [
       "<div>\n",
       "<style scoped>\n",
       "    .dataframe tbody tr th:only-of-type {\n",
       "        vertical-align: middle;\n",
       "    }\n",
       "\n",
       "    .dataframe tbody tr th {\n",
       "        vertical-align: top;\n",
       "    }\n",
       "\n",
       "    .dataframe thead th {\n",
       "        text-align: right;\n",
       "    }\n",
       "</style>\n",
       "<table border=\"1\" class=\"dataframe\">\n",
       "  <thead>\n",
       "    <tr style=\"text-align: right;\">\n",
       "      <th></th>\n",
       "      <th>Unnamed: 0</th>\n",
       "      <th>label</th>\n",
       "      <th>date</th>\n",
       "      <th>upvotes</th>\n",
       "      <th>num_comments</th>\n",
       "      <th>combined_text</th>\n",
       "      <th>tokenized_text</th>\n",
       "      <th>alphanum_text</th>\n",
       "      <th>stopword_removed_text</th>\n",
       "      <th>stemmed_text</th>\n",
       "      <th>non_stopword_removed_stemmed_text</th>\n",
       "      <th>combined_stemmed_text</th>\n",
       "      <th>combined_non_stopword_removed_stemmed_text</th>\n",
       "    </tr>\n",
       "  </thead>\n",
       "  <tbody>\n",
       "  </tbody>\n",
       "</table>\n",
       "</div>"
      ],
      "text/plain": [
       "Empty DataFrame\n",
       "Columns: [Unnamed: 0, label, date, upvotes, num_comments, combined_text, tokenized_text, alphanum_text, stopword_removed_text, stemmed_text, non_stopword_removed_stemmed_text, combined_stemmed_text, combined_non_stopword_removed_stemmed_text]\n",
       "Index: []"
      ]
     },
     "execution_count": 70,
     "metadata": {},
     "output_type": "execute_result"
    }
   ],
   "source": [
    "#check if there are negative values in the num_comemnts column of the dataset\n",
    "df[df['num_comments']<0]\n",
    "# there should be no negative values in the num_comments column"
   ]
  },
  {
   "cell_type": "code",
   "execution_count": 71,
   "metadata": {},
   "outputs": [
    {
     "name": "stdout",
     "output_type": "stream",
     "text": [
      "Prior probability of being depressed: 0.11341759054177354\n"
     ]
    }
   ],
   "source": [
    "prior_prob_depressed=len(df[df.label==1])/len(df)\n",
    "print('Prior probability of being depressed:',prior_prob_depressed)"
   ]
  },
  {
   "cell_type": "code",
   "execution_count": 72,
   "metadata": {},
   "outputs": [],
   "source": [
    "#select relevant features\n",
    "X_text=df['combined_stemmed_text']\n",
    "X_numeric=df[['upvotes','num_comments']]\n",
    "y=df['label']"
   ]
  },
  {
   "cell_type": "code",
   "execution_count": 73,
   "metadata": {},
   "outputs": [],
   "source": [
    "X_text=X_text.fillna('')"
   ]
  },
  {
   "cell_type": "code",
   "execution_count": 74,
   "metadata": {},
   "outputs": [
    {
     "name": "stdout",
     "output_type": "stream",
     "text": [
      "0          deep thought underdog start 99 underdog start ...\n",
      "1          post come human moral joke long abscenc hope d...\n",
      "2          rebirth guy charg thegood ofc bring weirdpinea...\n",
      "3                 water slip finger hold ship michel william\n",
      "4             limit knowledg power human person infinit grow\n",
      "                                 ...                        \n",
      "1987006    intent car crash yesterday car sped 110 mph in...\n",
      "1987007    usual argu mom hour ago feel attack offend las...\n",
      "1987008    need urgent basic famili invit christma year c...\n",
      "1987009                               think today gonna push\n",
      "1987010                            2022 year review suck god\n",
      "Name: combined_stemmed_text, Length: 1987011, dtype: object\n"
     ]
    }
   ],
   "source": [
    "print(X_text)"
   ]
  },
  {
   "cell_type": "code",
   "execution_count": 75,
   "metadata": {},
   "outputs": [
    {
     "name": "stdout",
     "output_type": "stream",
     "text": [
      "['deep thought underdog start 99 underdog start root', 'post come human moral joke long abscenc hope deep thought day', 'rebirth guy charg thegood ofc bring weirdpineappl intrusivethought subreddit aliv fun', 'water slip finger hold ship michel william', 'limit knowledg power human person infinit grow']\n"
     ]
    }
   ],
   "source": [
    "#add all the items in X_text into one array separated by comma\n",
    "#Tfidvectorizer expects input to be list or iterable of strings\n",
    "X_text = X_text.tolist()\n",
    "print(X_text[:5])"
   ]
  },
  {
   "cell_type": "code",
   "execution_count": null,
   "metadata": {},
   "outputs": [],
   "source": [
    "# Step 1: Vectorize the text data using n-grams\n",
    "# Here, ngram_range=(1, 2) means unigrams (1-word sequences) and bigrams (2-word sequences)\n",
    "vectorizer = TfidfVectorizer(ngram_range=(1, 2))\n",
    "X_transformed = vectorizer.fit_2transform(X_text)\n",
    "\n",
    "#combine text and numeric data\n",
    "#we will not include date variable as it did not improve the model\n",
    "# Combine text and numeric data\n",
    "X_combined = scipy.sparse.hstack([X_transformed, X_numeric])\n"
   ]
  },
  {
   "cell_type": "code",
   "execution_count": 78,
   "metadata": {},
   "outputs": [
    {
     "name": "stdout",
     "output_type": "stream",
     "text": [
      "best hyperparameters: {'alpha': 1.0}\n",
      "accuracy 0.8984481747747249\n",
      "              precision    recall  f1-score   support\n",
      "\n",
      "         0.0       0.93      0.95      0.94    352228\n",
      "         1.0       0.56      0.47      0.51     45175\n",
      "\n",
      "    accuracy                           0.90    397403\n",
      "   macro avg       0.75      0.71      0.73    397403\n",
      "weighted avg       0.89      0.90      0.89    397403\n",
      "\n"
     ]
    }
   ],
   "source": [
    "#split data into training and test sets\n",
    "X_train, X_test, y_train, y_test = train_test_split(X_combined, y, test_size=0.2, random_state=42)\n",
    "# Define a grid of hyperparameters\n",
    "param_grid = {\n",
    "    'alpha': [0.1, 0.5, 1.0, 5.0, 10.0] #smoothing parameter\n",
    "}\n",
    "\n",
    "#train the model\n",
    "nb_model=MultinomialNB()\n",
    "\n",
    "grid_search=GridSearchCV(nb_model, param_grid, cv=5, scoring='accuracy')\n",
    "grid_search.fit(X_train,y_train)\n",
    "\n",
    "#get the best model\n",
    "best_model=grid_search.best_estimator_\n",
    "\n",
    "\n",
    "#make predictions\n",
    "y_pred=best_model.predict(X_test)\n",
    "accuracy = accuracy_score(y_test, y_pred)\n",
    "print(f\"best hyperparameters: {grid_search.best_params_}\")\n",
    "print(\"accuracy\",accuracy)\n",
    "print(classification_report(y_test,y_pred))"
   ]
  },
  {
   "cell_type": "code",
   "execution_count": 79,
   "metadata": {},
   "outputs": [
    {
     "name": "stdout",
     "output_type": "stream",
     "text": [
      "Cross-validation accuracy: 0.8873453566262798\n"
     ]
    }
   ],
   "source": [
    "# Cross-validation to further validate the model\n",
    "cv_scores = cross_val_score(best_model, X_combined, y, cv=10, scoring='accuracy')\n",
    "print(f\"Cross-validation accuracy: {cv_scores.mean()}\")"
   ]
  },
  {
   "cell_type": "markdown",
   "metadata": {},
   "source": [
    "Accuracy has improved. "
   ]
  },
  {
   "cell_type": "markdown",
   "metadata": {},
   "source": [
    "repeat the model, with same concept as ngrams, but now including trigrams as well. "
   ]
  },
  {
   "cell_type": "code",
   "execution_count": 94,
   "metadata": {},
   "outputs": [],
   "source": [
    "df=pd.read_csv('../data/reddit_depression_dataset_cleaned.csv')"
   ]
  },
  {
   "cell_type": "code",
   "execution_count": 95,
   "metadata": {},
   "outputs": [
    {
     "data": {
      "text/html": [
       "<div>\n",
       "<style scoped>\n",
       "    .dataframe tbody tr th:only-of-type {\n",
       "        vertical-align: middle;\n",
       "    }\n",
       "\n",
       "    .dataframe tbody tr th {\n",
       "        vertical-align: top;\n",
       "    }\n",
       "\n",
       "    .dataframe thead th {\n",
       "        text-align: right;\n",
       "    }\n",
       "</style>\n",
       "<table border=\"1\" class=\"dataframe\">\n",
       "  <thead>\n",
       "    <tr style=\"text-align: right;\">\n",
       "      <th></th>\n",
       "      <th>Unnamed: 0</th>\n",
       "      <th>label</th>\n",
       "      <th>date</th>\n",
       "      <th>upvotes</th>\n",
       "      <th>num_comments</th>\n",
       "      <th>combined_text</th>\n",
       "      <th>tokenized_text</th>\n",
       "      <th>alphanum_text</th>\n",
       "      <th>stopword_removed_text</th>\n",
       "      <th>stemmed_text</th>\n",
       "      <th>non_stopword_removed_stemmed_text</th>\n",
       "      <th>combined_stemmed_text</th>\n",
       "      <th>combined_non_stopword_removed_stemmed_text</th>\n",
       "    </tr>\n",
       "  </thead>\n",
       "  <tbody>\n",
       "    <tr>\n",
       "      <th>0</th>\n",
       "      <td>0</td>\n",
       "      <td>0.0</td>\n",
       "      <td>2014-07-14 03:35:09</td>\n",
       "      <td>4.0</td>\n",
       "      <td>0.0</td>\n",
       "      <td>Deep thoughts underdog Only when we start cons...</td>\n",
       "      <td>['deep', 'thoughts', 'underdog', 'only', 'when...</td>\n",
       "      <td>['deep', 'thoughts', 'underdog', 'only', 'when...</td>\n",
       "      <td>['deep', 'thoughts', 'underdog', 'start', '99'...</td>\n",
       "      <td>['deep', 'thought', 'underdog', 'start', '99',...</td>\n",
       "      <td>['deep', 'thought', 'underdog', 'onli', 'when'...</td>\n",
       "      <td>deep thought underdog start 99 underdog start ...</td>\n",
       "      <td>deep thought underdog onli when we start consi...</td>\n",
       "    </tr>\n",
       "    <tr>\n",
       "      <th>1</th>\n",
       "      <td>1</td>\n",
       "      <td>0.0</td>\n",
       "      <td>2014-09-13 00:31:19</td>\n",
       "      <td>4.0</td>\n",
       "      <td>1.0</td>\n",
       "      <td>I like this sub, there's only two posts yet I ...</td>\n",
       "      <td>['i', 'like', 'this', 'sub', ',', \"there's\", '...</td>\n",
       "      <td>['i', 'like', 'this', 'sub', 'only', 'two', 'p...</td>\n",
       "      <td>['posts', 'coming', 'human', 'morality', 'joke...</td>\n",
       "      <td>['post', 'come', 'human', 'moral', 'joke', 'lo...</td>\n",
       "      <td>['i', 'like', 'thi', 'sub', 'onli', 'two', 'po...</td>\n",
       "      <td>post come human moral joke long abscenc hope d...</td>\n",
       "      <td>i like thi sub onli two post yet i keep come b...</td>\n",
       "    </tr>\n",
       "    <tr>\n",
       "      <th>2</th>\n",
       "      <td>2</td>\n",
       "      <td>0.0</td>\n",
       "      <td>2014-11-20 04:31:58</td>\n",
       "      <td>6.0</td>\n",
       "      <td>1.0</td>\n",
       "      <td>Rebirth! Hello. \\nI am the new guy in charge h...</td>\n",
       "      <td>['rebirth', '!', 'hello', '.', 'i', 'am', 'the...</td>\n",
       "      <td>['rebirth', 'hello', 'i', 'am', 'the', 'new', ...</td>\n",
       "      <td>['rebirth', 'guy', 'charge', 'thegood', 'ofc',...</td>\n",
       "      <td>['rebirth', 'guy', 'charg', 'thegood', 'ofc', ...</td>\n",
       "      <td>['rebirth', 'hello', 'i', 'am', 'the', 'new', ...</td>\n",
       "      <td>rebirth guy charg thegood ofc bring weirdpinea...</td>\n",
       "      <td>rebirth hello i am the new guy in charg here b...</td>\n",
       "    </tr>\n",
       "    <tr>\n",
       "      <th>3</th>\n",
       "      <td>3</td>\n",
       "      <td>0.0</td>\n",
       "      <td>2014-11-20 19:38:05</td>\n",
       "      <td>25.0</td>\n",
       "      <td>2.0</td>\n",
       "      <td>\"I want to be like water. I want to slip throu...</td>\n",
       "      <td>['\"', 'i', 'want', 'to', 'be', 'like', 'water'...</td>\n",
       "      <td>['i', 'want', 'to', 'be', 'like', 'water', 'i'...</td>\n",
       "      <td>['water', 'slip', 'fingers', 'hold', 'ship', '...</td>\n",
       "      <td>['water', 'slip', 'finger', 'hold', 'ship', 'm...</td>\n",
       "      <td>['i', 'want', 'to', 'be', 'like', 'water', 'i'...</td>\n",
       "      <td>water slip finger hold ship michel william</td>\n",
       "      <td>i want to be like water i want to slip through...</td>\n",
       "    </tr>\n",
       "    <tr>\n",
       "      <th>4</th>\n",
       "      <td>5</td>\n",
       "      <td>0.0</td>\n",
       "      <td>2014-11-22 19:17:39</td>\n",
       "      <td>8.0</td>\n",
       "      <td>23.0</td>\n",
       "      <td>What is the limit of the knowledge and power a...</td>\n",
       "      <td>['what', 'is', 'the', 'limit', 'of', 'the', 'k...</td>\n",
       "      <td>['what', 'is', 'the', 'limit', 'of', 'the', 'k...</td>\n",
       "      <td>['limit', 'knowledge', 'power', 'human', 'pers...</td>\n",
       "      <td>['limit', 'knowledg', 'power', 'human', 'perso...</td>\n",
       "      <td>['what', 'is', 'the', 'limit', 'of', 'the', 'k...</td>\n",
       "      <td>limit knowledg power human person infinit grow</td>\n",
       "      <td>what is the limit of the knowledg and power a ...</td>\n",
       "    </tr>\n",
       "  </tbody>\n",
       "</table>\n",
       "</div>"
      ],
      "text/plain": [
       "   Unnamed: 0  label                 date  upvotes  num_comments  \\\n",
       "0           0    0.0  2014-07-14 03:35:09      4.0           0.0   \n",
       "1           1    0.0  2014-09-13 00:31:19      4.0           1.0   \n",
       "2           2    0.0  2014-11-20 04:31:58      6.0           1.0   \n",
       "3           3    0.0  2014-11-20 19:38:05     25.0           2.0   \n",
       "4           5    0.0  2014-11-22 19:17:39      8.0          23.0   \n",
       "\n",
       "                                       combined_text  \\\n",
       "0  Deep thoughts underdog Only when we start cons...   \n",
       "1  I like this sub, there's only two posts yet I ...   \n",
       "2  Rebirth! Hello. \\nI am the new guy in charge h...   \n",
       "3  \"I want to be like water. I want to slip throu...   \n",
       "4  What is the limit of the knowledge and power a...   \n",
       "\n",
       "                                      tokenized_text  \\\n",
       "0  ['deep', 'thoughts', 'underdog', 'only', 'when...   \n",
       "1  ['i', 'like', 'this', 'sub', ',', \"there's\", '...   \n",
       "2  ['rebirth', '!', 'hello', '.', 'i', 'am', 'the...   \n",
       "3  ['\"', 'i', 'want', 'to', 'be', 'like', 'water'...   \n",
       "4  ['what', 'is', 'the', 'limit', 'of', 'the', 'k...   \n",
       "\n",
       "                                       alphanum_text  \\\n",
       "0  ['deep', 'thoughts', 'underdog', 'only', 'when...   \n",
       "1  ['i', 'like', 'this', 'sub', 'only', 'two', 'p...   \n",
       "2  ['rebirth', 'hello', 'i', 'am', 'the', 'new', ...   \n",
       "3  ['i', 'want', 'to', 'be', 'like', 'water', 'i'...   \n",
       "4  ['what', 'is', 'the', 'limit', 'of', 'the', 'k...   \n",
       "\n",
       "                               stopword_removed_text  \\\n",
       "0  ['deep', 'thoughts', 'underdog', 'start', '99'...   \n",
       "1  ['posts', 'coming', 'human', 'morality', 'joke...   \n",
       "2  ['rebirth', 'guy', 'charge', 'thegood', 'ofc',...   \n",
       "3  ['water', 'slip', 'fingers', 'hold', 'ship', '...   \n",
       "4  ['limit', 'knowledge', 'power', 'human', 'pers...   \n",
       "\n",
       "                                        stemmed_text  \\\n",
       "0  ['deep', 'thought', 'underdog', 'start', '99',...   \n",
       "1  ['post', 'come', 'human', 'moral', 'joke', 'lo...   \n",
       "2  ['rebirth', 'guy', 'charg', 'thegood', 'ofc', ...   \n",
       "3  ['water', 'slip', 'finger', 'hold', 'ship', 'm...   \n",
       "4  ['limit', 'knowledg', 'power', 'human', 'perso...   \n",
       "\n",
       "                   non_stopword_removed_stemmed_text  \\\n",
       "0  ['deep', 'thought', 'underdog', 'onli', 'when'...   \n",
       "1  ['i', 'like', 'thi', 'sub', 'onli', 'two', 'po...   \n",
       "2  ['rebirth', 'hello', 'i', 'am', 'the', 'new', ...   \n",
       "3  ['i', 'want', 'to', 'be', 'like', 'water', 'i'...   \n",
       "4  ['what', 'is', 'the', 'limit', 'of', 'the', 'k...   \n",
       "\n",
       "                               combined_stemmed_text  \\\n",
       "0  deep thought underdog start 99 underdog start ...   \n",
       "1  post come human moral joke long abscenc hope d...   \n",
       "2  rebirth guy charg thegood ofc bring weirdpinea...   \n",
       "3         water slip finger hold ship michel william   \n",
       "4     limit knowledg power human person infinit grow   \n",
       "\n",
       "          combined_non_stopword_removed_stemmed_text  \n",
       "0  deep thought underdog onli when we start consi...  \n",
       "1  i like thi sub onli two post yet i keep come b...  \n",
       "2  rebirth hello i am the new guy in charg here b...  \n",
       "3  i want to be like water i want to slip through...  \n",
       "4  what is the limit of the knowledg and power a ...  "
      ]
     },
     "execution_count": 95,
     "metadata": {},
     "output_type": "execute_result"
    }
   ],
   "source": [
    "df.head()"
   ]
  },
  {
   "cell_type": "code",
   "execution_count": 96,
   "metadata": {},
   "outputs": [
    {
     "data": {
      "text/html": [
       "<div>\n",
       "<style scoped>\n",
       "    .dataframe tbody tr th:only-of-type {\n",
       "        vertical-align: middle;\n",
       "    }\n",
       "\n",
       "    .dataframe tbody tr th {\n",
       "        vertical-align: top;\n",
       "    }\n",
       "\n",
       "    .dataframe thead th {\n",
       "        text-align: right;\n",
       "    }\n",
       "</style>\n",
       "<table border=\"1\" class=\"dataframe\">\n",
       "  <thead>\n",
       "    <tr style=\"text-align: right;\">\n",
       "      <th></th>\n",
       "      <th>Unnamed: 0</th>\n",
       "      <th>label</th>\n",
       "      <th>date</th>\n",
       "      <th>upvotes</th>\n",
       "      <th>num_comments</th>\n",
       "      <th>combined_text</th>\n",
       "      <th>tokenized_text</th>\n",
       "      <th>alphanum_text</th>\n",
       "      <th>stopword_removed_text</th>\n",
       "      <th>stemmed_text</th>\n",
       "      <th>non_stopword_removed_stemmed_text</th>\n",
       "      <th>combined_stemmed_text</th>\n",
       "      <th>combined_non_stopword_removed_stemmed_text</th>\n",
       "    </tr>\n",
       "  </thead>\n",
       "  <tbody>\n",
       "  </tbody>\n",
       "</table>\n",
       "</div>"
      ],
      "text/plain": [
       "Empty DataFrame\n",
       "Columns: [Unnamed: 0, label, date, upvotes, num_comments, combined_text, tokenized_text, alphanum_text, stopword_removed_text, stemmed_text, non_stopword_removed_stemmed_text, combined_stemmed_text, combined_non_stopword_removed_stemmed_text]\n",
       "Index: []"
      ]
     },
     "execution_count": 96,
     "metadata": {},
     "output_type": "execute_result"
    }
   ],
   "source": [
    "#check if there negative values in the upvotes column of the dataset\n",
    "df[df['upvotes']<0]"
   ]
  },
  {
   "cell_type": "code",
   "execution_count": 97,
   "metadata": {},
   "outputs": [
    {
     "data": {
      "text/html": [
       "<div>\n",
       "<style scoped>\n",
       "    .dataframe tbody tr th:only-of-type {\n",
       "        vertical-align: middle;\n",
       "    }\n",
       "\n",
       "    .dataframe tbody tr th {\n",
       "        vertical-align: top;\n",
       "    }\n",
       "\n",
       "    .dataframe thead th {\n",
       "        text-align: right;\n",
       "    }\n",
       "</style>\n",
       "<table border=\"1\" class=\"dataframe\">\n",
       "  <thead>\n",
       "    <tr style=\"text-align: right;\">\n",
       "      <th></th>\n",
       "      <th>Unnamed: 0</th>\n",
       "      <th>label</th>\n",
       "      <th>date</th>\n",
       "      <th>upvotes</th>\n",
       "      <th>num_comments</th>\n",
       "      <th>combined_text</th>\n",
       "      <th>tokenized_text</th>\n",
       "      <th>alphanum_text</th>\n",
       "      <th>stopword_removed_text</th>\n",
       "      <th>stemmed_text</th>\n",
       "      <th>non_stopword_removed_stemmed_text</th>\n",
       "      <th>combined_stemmed_text</th>\n",
       "      <th>combined_non_stopword_removed_stemmed_text</th>\n",
       "    </tr>\n",
       "  </thead>\n",
       "  <tbody>\n",
       "    <tr>\n",
       "      <th>1772493</th>\n",
       "      <td>2020957</td>\n",
       "      <td>1.0</td>\n",
       "      <td>2015-01-05 19:38:10</td>\n",
       "      <td>8.0</td>\n",
       "      <td>-3.0</td>\n",
       "      <td>somebody please help me i cant type all the st...</td>\n",
       "      <td>['somebody', 'please', 'help', 'me', 'i', 'can...</td>\n",
       "      <td>['somebody', 'please', 'help', 'me', 'i', 'can...</td>\n",
       "      <td>['type', 'stuff', 'talk', 'preferably', 'skype...</td>\n",
       "      <td>['type', 'stuff', 'talk', 'prefer', 'skype', '...</td>\n",
       "      <td>['somebodi', 'pleas', 'help', 'me', 'i', 'cant...</td>\n",
       "      <td>type stuff talk prefer skype text voic advanc</td>\n",
       "      <td>somebodi pleas help me i cant type all the stu...</td>\n",
       "    </tr>\n",
       "    <tr>\n",
       "      <th>1853457</th>\n",
       "      <td>2182091</td>\n",
       "      <td>1.0</td>\n",
       "      <td>2011-02-24 21:40:07</td>\n",
       "      <td>36.0</td>\n",
       "      <td>-2.0</td>\n",
       "      <td>Life Graph [crosspost from r/pics]</td>\n",
       "      <td>['life', 'graph', '[', 'crosspost', 'from', 'r...</td>\n",
       "      <td>['life', 'graph', 'crosspost', 'from', 'r', 'p...</td>\n",
       "      <td>['life', 'graph', 'crosspost', 'pics']</td>\n",
       "      <td>['life', 'graph', 'crosspost', 'pic']</td>\n",
       "      <td>['life', 'graph', 'crosspost', 'from', 'r', 'p...</td>\n",
       "      <td>life graph crosspost pic</td>\n",
       "      <td>life graph crosspost from r pic</td>\n",
       "    </tr>\n",
       "  </tbody>\n",
       "</table>\n",
       "</div>"
      ],
      "text/plain": [
       "         Unnamed: 0  label                 date  upvotes  num_comments  \\\n",
       "1772493     2020957    1.0  2015-01-05 19:38:10      8.0          -3.0   \n",
       "1853457     2182091    1.0  2011-02-24 21:40:07     36.0          -2.0   \n",
       "\n",
       "                                             combined_text  \\\n",
       "1772493  somebody please help me i cant type all the st...   \n",
       "1853457                Life Graph [crosspost from r/pics]    \n",
       "\n",
       "                                            tokenized_text  \\\n",
       "1772493  ['somebody', 'please', 'help', 'me', 'i', 'can...   \n",
       "1853457  ['life', 'graph', '[', 'crosspost', 'from', 'r...   \n",
       "\n",
       "                                             alphanum_text  \\\n",
       "1772493  ['somebody', 'please', 'help', 'me', 'i', 'can...   \n",
       "1853457  ['life', 'graph', 'crosspost', 'from', 'r', 'p...   \n",
       "\n",
       "                                     stopword_removed_text  \\\n",
       "1772493  ['type', 'stuff', 'talk', 'preferably', 'skype...   \n",
       "1853457             ['life', 'graph', 'crosspost', 'pics']   \n",
       "\n",
       "                                              stemmed_text  \\\n",
       "1772493  ['type', 'stuff', 'talk', 'prefer', 'skype', '...   \n",
       "1853457              ['life', 'graph', 'crosspost', 'pic']   \n",
       "\n",
       "                         non_stopword_removed_stemmed_text  \\\n",
       "1772493  ['somebodi', 'pleas', 'help', 'me', 'i', 'cant...   \n",
       "1853457  ['life', 'graph', 'crosspost', 'from', 'r', 'p...   \n",
       "\n",
       "                                 combined_stemmed_text  \\\n",
       "1772493  type stuff talk prefer skype text voic advanc   \n",
       "1853457                       life graph crosspost pic   \n",
       "\n",
       "                combined_non_stopword_removed_stemmed_text  \n",
       "1772493  somebodi pleas help me i cant type all the stu...  \n",
       "1853457                    life graph crosspost from r pic  "
      ]
     },
     "execution_count": 97,
     "metadata": {},
     "output_type": "execute_result"
    }
   ],
   "source": [
    "#check if there are negative values in the num_comemnts column of the dataset\n",
    "df[df['num_comments']<0]"
   ]
  },
  {
   "cell_type": "code",
   "execution_count": 98,
   "metadata": {},
   "outputs": [],
   "source": [
    "df['num_comments']=df['num_comments'].apply(lambda x: 0 if x<0 else x)"
   ]
  },
  {
   "cell_type": "code",
   "execution_count": 99,
   "metadata": {},
   "outputs": [
    {
     "data": {
      "text/html": [
       "<div>\n",
       "<style scoped>\n",
       "    .dataframe tbody tr th:only-of-type {\n",
       "        vertical-align: middle;\n",
       "    }\n",
       "\n",
       "    .dataframe tbody tr th {\n",
       "        vertical-align: top;\n",
       "    }\n",
       "\n",
       "    .dataframe thead th {\n",
       "        text-align: right;\n",
       "    }\n",
       "</style>\n",
       "<table border=\"1\" class=\"dataframe\">\n",
       "  <thead>\n",
       "    <tr style=\"text-align: right;\">\n",
       "      <th></th>\n",
       "      <th>Unnamed: 0</th>\n",
       "      <th>label</th>\n",
       "      <th>date</th>\n",
       "      <th>upvotes</th>\n",
       "      <th>num_comments</th>\n",
       "      <th>combined_text</th>\n",
       "      <th>tokenized_text</th>\n",
       "      <th>alphanum_text</th>\n",
       "      <th>stopword_removed_text</th>\n",
       "      <th>stemmed_text</th>\n",
       "      <th>non_stopword_removed_stemmed_text</th>\n",
       "      <th>combined_stemmed_text</th>\n",
       "      <th>combined_non_stopword_removed_stemmed_text</th>\n",
       "    </tr>\n",
       "  </thead>\n",
       "  <tbody>\n",
       "  </tbody>\n",
       "</table>\n",
       "</div>"
      ],
      "text/plain": [
       "Empty DataFrame\n",
       "Columns: [Unnamed: 0, label, date, upvotes, num_comments, combined_text, tokenized_text, alphanum_text, stopword_removed_text, stemmed_text, non_stopword_removed_stemmed_text, combined_stemmed_text, combined_non_stopword_removed_stemmed_text]\n",
       "Index: []"
      ]
     },
     "execution_count": 99,
     "metadata": {},
     "output_type": "execute_result"
    }
   ],
   "source": [
    "#check if there are negative values in the num_comemnts column of the dataset\n",
    "df[df['num_comments']<0]\n",
    "# there should be no negative values in the num_comments column"
   ]
  },
  {
   "cell_type": "code",
   "execution_count": null,
   "metadata": {},
   "outputs": [
    {
     "name": "stdout",
     "output_type": "stream",
     "text": [
      "Prior probability of being depressed: 0.11341759054177354\n"
     ]
    }
   ],
   "source": [
    "prior_prob_depressed=len(df[df.label==1])/len(df)\n",
    "print('Prior probability of being depressed:',prior_prob_depressed) "
   ]
  },
  {
   "cell_type": "code",
   "execution_count": 101,
   "metadata": {},
   "outputs": [],
   "source": [
    "#select relevant features\n",
    "X_text=df['combined_stemmed_text']\n",
    "X_numeric=df[['upvotes','num_comments']]\n",
    "y=df['label']"
   ]
  },
  {
   "cell_type": "code",
   "execution_count": 102,
   "metadata": {},
   "outputs": [],
   "source": [
    "X_text=X_text.fillna('')"
   ]
  },
  {
   "cell_type": "code",
   "execution_count": 103,
   "metadata": {},
   "outputs": [
    {
     "name": "stdout",
     "output_type": "stream",
     "text": [
      "0          deep thought underdog start 99 underdog start ...\n",
      "1          post come human moral joke long abscenc hope d...\n",
      "2          rebirth guy charg thegood ofc bring weirdpinea...\n",
      "3                 water slip finger hold ship michel william\n",
      "4             limit knowledg power human person infinit grow\n",
      "                                 ...                        \n",
      "1987006    intent car crash yesterday car sped 110 mph in...\n",
      "1987007    usual argu mom hour ago feel attack offend las...\n",
      "1987008    need urgent basic famili invit christma year c...\n",
      "1987009                               think today gonna push\n",
      "1987010                            2022 year review suck god\n",
      "Name: combined_stemmed_text, Length: 1987011, dtype: object\n"
     ]
    }
   ],
   "source": [
    "print(X_text)"
   ]
  },
  {
   "cell_type": "code",
   "execution_count": 104,
   "metadata": {},
   "outputs": [
    {
     "name": "stdout",
     "output_type": "stream",
     "text": [
      "['deep thought underdog start 99 underdog start root', 'post come human moral joke long abscenc hope deep thought day', 'rebirth guy charg thegood ofc bring weirdpineappl intrusivethought subreddit aliv fun', 'water slip finger hold ship michel william', 'limit knowledg power human person infinit grow']\n"
     ]
    }
   ],
   "source": [
    "#add all the items in X_text into one array separated by comma\n",
    "#Tfidvectorizer expects input to be list or iterable of strings\n",
    "X_text = X_text.tolist()\n",
    "print(X_text[:5])"
   ]
  },
  {
   "cell_type": "code",
   "execution_count": 105,
   "metadata": {},
   "outputs": [],
   "source": [
    "# Step 1: Vectorize the text data using n-grams\n",
    "# Here, ngram_range=(1, 2) means unigrams (1-word sequences) and bigrams (2-word sequences)\n",
    "vectorizer = TfidfVectorizer(ngram_range=(1, 4))\n",
    "X_transformed = vectorizer.fit_transform(X_text)\n",
    "\n",
    "#combine text and numeric data\n",
    "#we will not include date variable as it did not improve the model\n",
    "# Combine text and numeric data\n",
    "X_combined = scipy.sparse.hstack([X_transformed, X_numeric])\n"
   ]
  },
  {
   "cell_type": "code",
   "execution_count": 106,
   "metadata": {},
   "outputs": [
    {
     "name": "stdout",
     "output_type": "stream",
     "text": [
      "best hyperparameters: {'alpha': 0.5}\n",
      "accuracy 0.8951945506198997\n",
      "              precision    recall  f1-score   support\n",
      "\n",
      "         0.0       0.91      0.97      0.94    352228\n",
      "         1.0       0.58      0.28      0.37     45175\n",
      "\n",
      "    accuracy                           0.90    397403\n",
      "   macro avg       0.75      0.63      0.66    397403\n",
      "weighted avg       0.88      0.90      0.88    397403\n",
      "\n"
     ]
    }
   ],
   "source": [
    "#split data into training and test sets\n",
    "X_train, X_test, y_train, y_test = train_test_split(X_combined, y, test_size=0.2, random_state=42)\n",
    "# Define a grid of hyperparameters\n",
    "param_grid = {\n",
    "    'alpha': [0.1, 0.5, 1.0, 5.0, 10.0] #smoothing parameter\n",
    "}\n",
    "\n",
    "#train the model\n",
    "nb_model=MultinomialNB()\n",
    "\n",
    "grid_search=GridSearchCV(nb_model, param_grid, cv=5, scoring='accuracy')\n",
    "grid_search.fit(X_train,y_train)\n",
    "\n",
    "#get the best model\n",
    "best_model=grid_search.best_estimator_\n",
    "\n",
    "\n",
    "#make predictions\n",
    "y_pred=best_model.predict(X_test)\n",
    "accuracy = accuracy_score(y_test, y_pred)\n",
    "print(f\"best hyperparameters: {grid_search.best_params_}\")\n",
    "print(\"accuracy\",accuracy)\n",
    "print(classification_report(y_test,y_pred))"
   ]
  },
  {
   "cell_type": "code",
   "execution_count": 107,
   "metadata": {},
   "outputs": [
    {
     "name": "stdout",
     "output_type": "stream",
     "text": [
      "Cross-validation accuracy: 0.8894611006813277\n"
     ]
    }
   ],
   "source": [
    "# Cross-validation to further validate the model\n",
    "cv_scores = cross_val_score(best_model, X_combined, y, cv=10, scoring='accuracy')\n",
    "print(f\"Cross-validation accuracy: {cv_scores.mean()}\")"
   ]
  },
  {
   "cell_type": "markdown",
   "metadata": {},
   "source": [
    "not much improvement in accuracy"
   ]
  },
  {
   "cell_type": "markdown",
   "metadata": {},
   "source": [
    "model with n-grams(bi-grams, tri-grams and 4-grams)"
   ]
  },
  {
   "cell_type": "code",
   "execution_count": 6,
   "metadata": {},
   "outputs": [],
   "source": [
    "df=pd.read_csv('../data/reddit_depression_dataset_cleaned.csv')"
   ]
  },
  {
   "cell_type": "code",
   "execution_count": 7,
   "metadata": {},
   "outputs": [],
   "source": [
    "df['num_comments']=df['num_comments'].apply(lambda x: 0 if x<0 else x)"
   ]
  },
  {
   "cell_type": "code",
   "execution_count": 8,
   "metadata": {},
   "outputs": [
    {
     "data": {
      "text/html": [
       "<div>\n",
       "<style scoped>\n",
       "    .dataframe tbody tr th:only-of-type {\n",
       "        vertical-align: middle;\n",
       "    }\n",
       "\n",
       "    .dataframe tbody tr th {\n",
       "        vertical-align: top;\n",
       "    }\n",
       "\n",
       "    .dataframe thead th {\n",
       "        text-align: right;\n",
       "    }\n",
       "</style>\n",
       "<table border=\"1\" class=\"dataframe\">\n",
       "  <thead>\n",
       "    <tr style=\"text-align: right;\">\n",
       "      <th></th>\n",
       "      <th>Unnamed: 0</th>\n",
       "      <th>label</th>\n",
       "      <th>date</th>\n",
       "      <th>upvotes</th>\n",
       "      <th>num_comments</th>\n",
       "      <th>combined_text</th>\n",
       "      <th>tokenized_text</th>\n",
       "      <th>alphanum_text</th>\n",
       "      <th>stopword_removed_text</th>\n",
       "      <th>stemmed_text</th>\n",
       "      <th>non_stopword_removed_stemmed_text</th>\n",
       "      <th>combined_stemmed_text</th>\n",
       "      <th>combined_non_stopword_removed_stemmed_text</th>\n",
       "    </tr>\n",
       "  </thead>\n",
       "  <tbody>\n",
       "  </tbody>\n",
       "</table>\n",
       "</div>"
      ],
      "text/plain": [
       "Empty DataFrame\n",
       "Columns: [Unnamed: 0, label, date, upvotes, num_comments, combined_text, tokenized_text, alphanum_text, stopword_removed_text, stemmed_text, non_stopword_removed_stemmed_text, combined_stemmed_text, combined_non_stopword_removed_stemmed_text]\n",
       "Index: []"
      ]
     },
     "execution_count": 8,
     "metadata": {},
     "output_type": "execute_result"
    }
   ],
   "source": [
    "#check if there are negative values in the num_comemnts column of the dataset\n",
    "df[df['num_comments']<0]\n",
    "# there should be no negative values in the num_comments column"
   ]
  },
  {
   "cell_type": "code",
   "execution_count": 9,
   "metadata": {},
   "outputs": [],
   "source": [
    "#select relevant features\n",
    "X_text=df['combined_stemmed_text']\n",
    "X_numeric=df[['upvotes','num_comments']]\n",
    "y=df['label']"
   ]
  },
  {
   "cell_type": "code",
   "execution_count": 10,
   "metadata": {},
   "outputs": [],
   "source": [
    "X_text=X_text.fillna('')"
   ]
  },
  {
   "cell_type": "code",
   "execution_count": 11,
   "metadata": {},
   "outputs": [
    {
     "name": "stdout",
     "output_type": "stream",
     "text": [
      "0          deep thought underdog start 99 underdog start ...\n",
      "1          post come human moral joke long abscenc hope d...\n",
      "2          rebirth guy charg thegood ofc bring weirdpinea...\n",
      "3                 water slip finger hold ship michel william\n",
      "4             limit knowledg power human person infinit grow\n",
      "                                 ...                        \n",
      "1987006    intent car crash yesterday car sped 110 mph in...\n",
      "1987007    usual argu mom hour ago feel attack offend las...\n",
      "1987008    need urgent basic famili invit christma year c...\n",
      "1987009                               think today gonna push\n",
      "1987010                            2022 year review suck god\n",
      "Name: combined_stemmed_text, Length: 1987011, dtype: object\n"
     ]
    }
   ],
   "source": [
    "print(X_text)"
   ]
  },
  {
   "cell_type": "code",
   "execution_count": 12,
   "metadata": {},
   "outputs": [
    {
     "name": "stdout",
     "output_type": "stream",
     "text": [
      "['deep thought underdog start 99 underdog start root', 'post come human moral joke long abscenc hope deep thought day', 'rebirth guy charg thegood ofc bring weirdpineappl intrusivethought subreddit aliv fun', 'water slip finger hold ship michel william', 'limit knowledg power human person infinit grow']\n"
     ]
    }
   ],
   "source": [
    "#add all the items in X_text into one array separated by comma\n",
    "#Tfidvectorizer expects input to be list or iterable of strings\n",
    "X_text = X_text.tolist()\n",
    "print(X_text[:5])"
   ]
  },
  {
   "cell_type": "code",
   "execution_count": 13,
   "metadata": {},
   "outputs": [],
   "source": [
    "# Step 1: Vectorize the text data using n-grams\n",
    "# Here, ngram_range=(1, 2) means unigrams (1-word sequences) and bigrams (2-word sequences)\n",
    "vectorizer = TfidfVectorizer(ngram_range=(2, 4))\n",
    "X_transformed = vectorizer.fit_transform(X_text)\n",
    "\n",
    "#combine text and numeric data\n",
    "#we will not include date variable as it did not improve the model\n",
    "# Combine text and numeric data\n",
    "X_combined = scipy.sparse.hstack([X_transformed, X_numeric])\n"
   ]
  },
  {
   "cell_type": "code",
   "execution_count": 15,
   "metadata": {},
   "outputs": [
    {
     "name": "stdout",
     "output_type": "stream",
     "text": [
      "best hyperparameters: {'alpha': 0.5}\n",
      "accuracy 0.8838106405839916\n",
      "              precision    recall  f1-score   support\n",
      "\n",
      "         0.0       0.91      0.96      0.94    352228\n",
      "         1.0       0.48      0.27      0.35     45175\n",
      "\n",
      "    accuracy                           0.88    397403\n",
      "   macro avg       0.70      0.62      0.64    397403\n",
      "weighted avg       0.86      0.88      0.87    397403\n",
      "\n"
     ]
    }
   ],
   "source": [
    "from sklearn.model_selection import GridSearchCV\n",
    "#split data into training and test sets\n",
    "X_train, X_test, y_train, y_test = train_test_split(X_combined, y, test_size=0.2, random_state=42)\n",
    "# Define a grid of hyperparameters\n",
    "param_grid = {\n",
    "    'alpha': [0.1, 0.5, 1.0, 5.0, 10.0] #smoothing parameter\n",
    "}\n",
    "\n",
    "#train the model\n",
    "nb_model=MultinomialNB()\n",
    "\n",
    "grid_search=GridSearchCV(nb_model, param_grid, cv=5, scoring='accuracy')\n",
    "grid_search.fit(X_train,y_train)\n",
    "\n",
    "#get the best model\n",
    "best_model=grid_search.best_estimator_\n",
    "\n",
    "\n",
    "#make predictions\n",
    "y_pred=best_model.predict(X_test)\n",
    "accuracy = accuracy_score(y_test, y_pred)\n",
    "print(f\"best hyperparameters: {grid_search.best_params_}\")\n",
    "print(\"accuracy\",accuracy)\n",
    "print(classification_report(y_test,y_pred))"
   ]
  },
  {
   "cell_type": "code",
   "execution_count": 16,
   "metadata": {},
   "outputs": [
    {
     "name": "stdout",
     "output_type": "stream",
     "text": [
      "Cross-validation accuracy: 0.8750988220373035\n"
     ]
    }
   ],
   "source": [
    "# Cross-validation to further validate the model\n",
    "cv_scores = cross_val_score(best_model, X_combined, y, cv=10, scoring='accuracy')\n",
    "print(f\"Cross-validation accuracy: {cv_scores.mean()}\")"
   ]
  },
  {
   "cell_type": "markdown",
   "metadata": {},
   "source": [
    "not much difference in accuracy"
   ]
  },
  {
   "cell_type": "markdown",
   "metadata": {},
   "source": [
    "General pointers for improving model:\n",
    "- ensure that we are not overfitting (hence date was excluded)\n",
    "- consider hyperparameters such as alpha \n",
    "- alternative methods ngram VS TF-IDF\n",
    "- cross validation to evaluate the model's performance on different subsets of the data"
   ]
  }
 ],
 "metadata": {
  "kernelspec": {
   "display_name": "Python 3",
   "language": "python",
   "name": "python3"
  },
  "language_info": {
   "codemirror_mode": {
    "name": "ipython",
    "version": 3
   },
   "file_extension": ".py",
   "mimetype": "text/x-python",
   "name": "python",
   "nbconvert_exporter": "python",
   "pygments_lexer": "ipython3",
   "version": "3.10.5"
  }
 },
 "nbformat": 4,
 "nbformat_minor": 2
}
