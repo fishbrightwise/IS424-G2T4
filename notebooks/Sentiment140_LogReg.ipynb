{
 "cells": [
  {
   "cell_type": "markdown",
   "metadata": {},
   "source": [
    "### Read dataset"
   ]
  },
  {
   "cell_type": "code",
   "execution_count": 12,
   "metadata": {},
   "outputs": [
    {
     "data": {
      "text/html": [
       "<div>\n",
       "<style scoped>\n",
       "    .dataframe tbody tr th:only-of-type {\n",
       "        vertical-align: middle;\n",
       "    }\n",
       "\n",
       "    .dataframe tbody tr th {\n",
       "        vertical-align: top;\n",
       "    }\n",
       "\n",
       "    .dataframe thead th {\n",
       "        text-align: right;\n",
       "    }\n",
       "</style>\n",
       "<table border=\"1\" class=\"dataframe\">\n",
       "  <thead>\n",
       "    <tr style=\"text-align: right;\">\n",
       "      <th></th>\n",
       "      <th>date</th>\n",
       "      <th>stemmed_text</th>\n",
       "      <th>sentiment</th>\n",
       "      <th>predicted_label</th>\n",
       "    </tr>\n",
       "  </thead>\n",
       "  <tbody>\n",
       "    <tr>\n",
       "      <th>0</th>\n",
       "      <td>2009-04-06 22:19:45</td>\n",
       "      <td>['awww', 'bummer', 'shoulda', 'david', 'carr',...</td>\n",
       "      <td>Negative</td>\n",
       "      <td>0</td>\n",
       "    </tr>\n",
       "    <tr>\n",
       "      <th>1</th>\n",
       "      <td>2009-04-06 22:19:49</td>\n",
       "      <td>['upset', 'updat', 'facebook', 'text', 'result...</td>\n",
       "      <td>Negative</td>\n",
       "      <td>0</td>\n",
       "    </tr>\n",
       "    <tr>\n",
       "      <th>2</th>\n",
       "      <td>2009-04-06 22:19:53</td>\n",
       "      <td>['dive', 'time', 'ball', 'manag', 'save', '50'...</td>\n",
       "      <td>Negative</td>\n",
       "      <td>0</td>\n",
       "    </tr>\n",
       "    <tr>\n",
       "      <th>3</th>\n",
       "      <td>2009-04-06 22:19:57</td>\n",
       "      <td>['bodi', 'feel', 'itchi']</td>\n",
       "      <td>Negative</td>\n",
       "      <td>0</td>\n",
       "    </tr>\n",
       "    <tr>\n",
       "      <th>4</th>\n",
       "      <td>2009-04-06 22:19:57</td>\n",
       "      <td>['behav', 'mad']</td>\n",
       "      <td>Negative</td>\n",
       "      <td>0</td>\n",
       "    </tr>\n",
       "  </tbody>\n",
       "</table>\n",
       "</div>"
      ],
      "text/plain": [
       "                  date                                       stemmed_text  \\\n",
       "0  2009-04-06 22:19:45  ['awww', 'bummer', 'shoulda', 'david', 'carr',...   \n",
       "1  2009-04-06 22:19:49  ['upset', 'updat', 'facebook', 'text', 'result...   \n",
       "2  2009-04-06 22:19:53  ['dive', 'time', 'ball', 'manag', 'save', '50'...   \n",
       "3  2009-04-06 22:19:57                          ['bodi', 'feel', 'itchi']   \n",
       "4  2009-04-06 22:19:57                                   ['behav', 'mad']   \n",
       "\n",
       "  sentiment  predicted_label  \n",
       "0  Negative                0  \n",
       "1  Negative                0  \n",
       "2  Negative                0  \n",
       "3  Negative                0  \n",
       "4  Negative                0  "
      ]
     },
     "execution_count": 12,
     "metadata": {},
     "output_type": "execute_result"
    }
   ],
   "source": [
    "import pandas as pd\n",
    "\n",
    "df = pd.read_csv('Datasets/1.6_million_dataset_labelled_LogReg.csv')\n",
    "\n",
    "df.head()"
   ]
  },
  {
   "cell_type": "markdown",
   "metadata": {},
   "source": [
    "### Read from original dataset"
   ]
  },
  {
   "cell_type": "code",
   "execution_count": 13,
   "metadata": {},
   "outputs": [
    {
     "data": {
      "text/html": [
       "<div>\n",
       "<style scoped>\n",
       "    .dataframe tbody tr th:only-of-type {\n",
       "        vertical-align: middle;\n",
       "    }\n",
       "\n",
       "    .dataframe tbody tr th {\n",
       "        vertical-align: top;\n",
       "    }\n",
       "\n",
       "    .dataframe thead th {\n",
       "        text-align: right;\n",
       "    }\n",
       "</style>\n",
       "<table border=\"1\" class=\"dataframe\">\n",
       "  <thead>\n",
       "    <tr style=\"text-align: right;\">\n",
       "      <th></th>\n",
       "      <th>target</th>\n",
       "      <th>ids</th>\n",
       "      <th>date</th>\n",
       "      <th>flag</th>\n",
       "      <th>user</th>\n",
       "      <th>text</th>\n",
       "    </tr>\n",
       "  </thead>\n",
       "  <tbody>\n",
       "    <tr>\n",
       "      <th>0</th>\n",
       "      <td>0</td>\n",
       "      <td>1467810369</td>\n",
       "      <td>Mon Apr 06 22:19:45 PDT 2009</td>\n",
       "      <td>NO_QUERY</td>\n",
       "      <td>_TheSpecialOne_</td>\n",
       "      <td>@switchfoot http://twitpic.com/2y1zl - Awww, t...</td>\n",
       "    </tr>\n",
       "    <tr>\n",
       "      <th>1</th>\n",
       "      <td>0</td>\n",
       "      <td>1467810672</td>\n",
       "      <td>Mon Apr 06 22:19:49 PDT 2009</td>\n",
       "      <td>NO_QUERY</td>\n",
       "      <td>scotthamilton</td>\n",
       "      <td>is upset that he can't update his Facebook by ...</td>\n",
       "    </tr>\n",
       "    <tr>\n",
       "      <th>2</th>\n",
       "      <td>0</td>\n",
       "      <td>1467810917</td>\n",
       "      <td>Mon Apr 06 22:19:53 PDT 2009</td>\n",
       "      <td>NO_QUERY</td>\n",
       "      <td>mattycus</td>\n",
       "      <td>@Kenichan I dived many times for the ball. Man...</td>\n",
       "    </tr>\n",
       "    <tr>\n",
       "      <th>3</th>\n",
       "      <td>0</td>\n",
       "      <td>1467811184</td>\n",
       "      <td>Mon Apr 06 22:19:57 PDT 2009</td>\n",
       "      <td>NO_QUERY</td>\n",
       "      <td>ElleCTF</td>\n",
       "      <td>my whole body feels itchy and like its on fire</td>\n",
       "    </tr>\n",
       "    <tr>\n",
       "      <th>4</th>\n",
       "      <td>0</td>\n",
       "      <td>1467811193</td>\n",
       "      <td>Mon Apr 06 22:19:57 PDT 2009</td>\n",
       "      <td>NO_QUERY</td>\n",
       "      <td>Karoli</td>\n",
       "      <td>@nationwideclass no, it's not behaving at all....</td>\n",
       "    </tr>\n",
       "  </tbody>\n",
       "</table>\n",
       "</div>"
      ],
      "text/plain": [
       "   target         ids                          date      flag  \\\n",
       "0       0  1467810369  Mon Apr 06 22:19:45 PDT 2009  NO_QUERY   \n",
       "1       0  1467810672  Mon Apr 06 22:19:49 PDT 2009  NO_QUERY   \n",
       "2       0  1467810917  Mon Apr 06 22:19:53 PDT 2009  NO_QUERY   \n",
       "3       0  1467811184  Mon Apr 06 22:19:57 PDT 2009  NO_QUERY   \n",
       "4       0  1467811193  Mon Apr 06 22:19:57 PDT 2009  NO_QUERY   \n",
       "\n",
       "              user                                               text  \n",
       "0  _TheSpecialOne_  @switchfoot http://twitpic.com/2y1zl - Awww, t...  \n",
       "1    scotthamilton  is upset that he can't update his Facebook by ...  \n",
       "2         mattycus  @Kenichan I dived many times for the ball. Man...  \n",
       "3          ElleCTF    my whole body feels itchy and like its on fire   \n",
       "4           Karoli  @nationwideclass no, it's not behaving at all....  "
      ]
     },
     "execution_count": 13,
     "metadata": {},
     "output_type": "execute_result"
    }
   ],
   "source": [
    "headers = ['target', 'ids', 'date', 'flag', 'user', 'text']\n",
    "df2 = pd.read_csv('Datasets/training.1600000.processed.noemoticon.csv', names=headers, encoding='latin-1')\n",
    "\n",
    "df2.head()"
   ]
  },
  {
   "cell_type": "markdown",
   "metadata": {},
   "source": [
    "### Transfer text column into Log_reg classified dataset"
   ]
  },
  {
   "cell_type": "code",
   "execution_count": 14,
   "metadata": {},
   "outputs": [
    {
     "data": {
      "text/html": [
       "<div>\n",
       "<style scoped>\n",
       "    .dataframe tbody tr th:only-of-type {\n",
       "        vertical-align: middle;\n",
       "    }\n",
       "\n",
       "    .dataframe tbody tr th {\n",
       "        vertical-align: top;\n",
       "    }\n",
       "\n",
       "    .dataframe thead th {\n",
       "        text-align: right;\n",
       "    }\n",
       "</style>\n",
       "<table border=\"1\" class=\"dataframe\">\n",
       "  <thead>\n",
       "    <tr style=\"text-align: right;\">\n",
       "      <th></th>\n",
       "      <th>date</th>\n",
       "      <th>stemmed_text</th>\n",
       "      <th>sentiment</th>\n",
       "      <th>predicted_label</th>\n",
       "      <th>text</th>\n",
       "    </tr>\n",
       "  </thead>\n",
       "  <tbody>\n",
       "    <tr>\n",
       "      <th>0</th>\n",
       "      <td>2009-04-06 22:19:45</td>\n",
       "      <td>['awww', 'bummer', 'shoulda', 'david', 'carr',...</td>\n",
       "      <td>Negative</td>\n",
       "      <td>0</td>\n",
       "      <td>@switchfoot http://twitpic.com/2y1zl - Awww, t...</td>\n",
       "    </tr>\n",
       "    <tr>\n",
       "      <th>1</th>\n",
       "      <td>2009-04-06 22:19:49</td>\n",
       "      <td>['upset', 'updat', 'facebook', 'text', 'result...</td>\n",
       "      <td>Negative</td>\n",
       "      <td>0</td>\n",
       "      <td>is upset that he can't update his Facebook by ...</td>\n",
       "    </tr>\n",
       "    <tr>\n",
       "      <th>2</th>\n",
       "      <td>2009-04-06 22:19:53</td>\n",
       "      <td>['dive', 'time', 'ball', 'manag', 'save', '50'...</td>\n",
       "      <td>Negative</td>\n",
       "      <td>0</td>\n",
       "      <td>@Kenichan I dived many times for the ball. Man...</td>\n",
       "    </tr>\n",
       "    <tr>\n",
       "      <th>3</th>\n",
       "      <td>2009-04-06 22:19:57</td>\n",
       "      <td>['bodi', 'feel', 'itchi']</td>\n",
       "      <td>Negative</td>\n",
       "      <td>0</td>\n",
       "      <td>my whole body feels itchy and like its on fire</td>\n",
       "    </tr>\n",
       "    <tr>\n",
       "      <th>4</th>\n",
       "      <td>2009-04-06 22:19:57</td>\n",
       "      <td>['behav', 'mad']</td>\n",
       "      <td>Negative</td>\n",
       "      <td>0</td>\n",
       "      <td>@nationwideclass no, it's not behaving at all....</td>\n",
       "    </tr>\n",
       "  </tbody>\n",
       "</table>\n",
       "</div>"
      ],
      "text/plain": [
       "                  date                                       stemmed_text  \\\n",
       "0  2009-04-06 22:19:45  ['awww', 'bummer', 'shoulda', 'david', 'carr',...   \n",
       "1  2009-04-06 22:19:49  ['upset', 'updat', 'facebook', 'text', 'result...   \n",
       "2  2009-04-06 22:19:53  ['dive', 'time', 'ball', 'manag', 'save', '50'...   \n",
       "3  2009-04-06 22:19:57                          ['bodi', 'feel', 'itchi']   \n",
       "4  2009-04-06 22:19:57                                   ['behav', 'mad']   \n",
       "\n",
       "  sentiment  predicted_label  \\\n",
       "0  Negative                0   \n",
       "1  Negative                0   \n",
       "2  Negative                0   \n",
       "3  Negative                0   \n",
       "4  Negative                0   \n",
       "\n",
       "                                                text  \n",
       "0  @switchfoot http://twitpic.com/2y1zl - Awww, t...  \n",
       "1  is upset that he can't update his Facebook by ...  \n",
       "2  @Kenichan I dived many times for the ball. Man...  \n",
       "3    my whole body feels itchy and like its on fire   \n",
       "4  @nationwideclass no, it's not behaving at all....  "
      ]
     },
     "execution_count": 14,
     "metadata": {},
     "output_type": "execute_result"
    }
   ],
   "source": [
    "df['text'] = df2['text']\n",
    "\n",
    "df.head()"
   ]
  },
  {
   "cell_type": "markdown",
   "metadata": {},
   "source": [
    "### Clean text"
   ]
  },
  {
   "cell_type": "code",
   "execution_count": 15,
   "metadata": {},
   "outputs": [],
   "source": [
    "import re\n",
    "\n",
    "# Text cleaning function\n",
    "def clean_text(text):\n",
    "    # Remove URLs\n",
    "    text = re.sub(r'http\\S+|www\\S+|https\\S+', '', text, flags=re.MULTILINE)\n",
    "    # Remove user mentions and hashtags\n",
    "    text = re.sub(r'\\@\\w+|\\#', '', text)\n",
    "    # Remove punctuation and numbers\n",
    "    text = re.sub(r'[^\\w\\s]', '', text)\n",
    "    # Lowercase the text\n",
    "    text = text.lower()\n",
    "    return text\n",
    "\n",
    "# Apply the text cleaning function\n",
    "df['cleaned_text'] = df['text'].apply(clean_text)"
   ]
  },
  {
   "cell_type": "code",
   "execution_count": 16,
   "metadata": {},
   "outputs": [
    {
     "data": {
      "text/html": [
       "<div>\n",
       "<style scoped>\n",
       "    .dataframe tbody tr th:only-of-type {\n",
       "        vertical-align: middle;\n",
       "    }\n",
       "\n",
       "    .dataframe tbody tr th {\n",
       "        vertical-align: top;\n",
       "    }\n",
       "\n",
       "    .dataframe thead th {\n",
       "        text-align: right;\n",
       "    }\n",
       "</style>\n",
       "<table border=\"1\" class=\"dataframe\">\n",
       "  <thead>\n",
       "    <tr style=\"text-align: right;\">\n",
       "      <th></th>\n",
       "      <th>date</th>\n",
       "      <th>stemmed_text</th>\n",
       "      <th>sentiment</th>\n",
       "      <th>predicted_label</th>\n",
       "      <th>text</th>\n",
       "      <th>cleaned_text</th>\n",
       "    </tr>\n",
       "  </thead>\n",
       "  <tbody>\n",
       "    <tr>\n",
       "      <th>0</th>\n",
       "      <td>2009-04-06 22:19:45</td>\n",
       "      <td>['awww', 'bummer', 'shoulda', 'david', 'carr',...</td>\n",
       "      <td>Negative</td>\n",
       "      <td>0</td>\n",
       "      <td>@switchfoot http://twitpic.com/2y1zl - Awww, t...</td>\n",
       "      <td>a thats a bummer  you shoulda got david car...</td>\n",
       "    </tr>\n",
       "    <tr>\n",
       "      <th>1</th>\n",
       "      <td>2009-04-06 22:19:49</td>\n",
       "      <td>['upset', 'updat', 'facebook', 'text', 'result...</td>\n",
       "      <td>Negative</td>\n",
       "      <td>0</td>\n",
       "      <td>is upset that he can't update his Facebook by ...</td>\n",
       "      <td>is upset that he cant update his facebook by t...</td>\n",
       "    </tr>\n",
       "    <tr>\n",
       "      <th>2</th>\n",
       "      <td>2009-04-06 22:19:53</td>\n",
       "      <td>['dive', 'time', 'ball', 'manag', 'save', '50'...</td>\n",
       "      <td>Negative</td>\n",
       "      <td>0</td>\n",
       "      <td>@Kenichan I dived many times for the ball. Man...</td>\n",
       "      <td>i dived many times for the ball managed to sa...</td>\n",
       "    </tr>\n",
       "    <tr>\n",
       "      <th>3</th>\n",
       "      <td>2009-04-06 22:19:57</td>\n",
       "      <td>['bodi', 'feel', 'itchi']</td>\n",
       "      <td>Negative</td>\n",
       "      <td>0</td>\n",
       "      <td>my whole body feels itchy and like its on fire</td>\n",
       "      <td>my whole body feels itchy and like its on fire</td>\n",
       "    </tr>\n",
       "    <tr>\n",
       "      <th>4</th>\n",
       "      <td>2009-04-06 22:19:57</td>\n",
       "      <td>['behav', 'mad']</td>\n",
       "      <td>Negative</td>\n",
       "      <td>0</td>\n",
       "      <td>@nationwideclass no, it's not behaving at all....</td>\n",
       "      <td>no its not behaving at all im mad why am i he...</td>\n",
       "    </tr>\n",
       "  </tbody>\n",
       "</table>\n",
       "</div>"
      ],
      "text/plain": [
       "                  date                                       stemmed_text  \\\n",
       "0  2009-04-06 22:19:45  ['awww', 'bummer', 'shoulda', 'david', 'carr',...   \n",
       "1  2009-04-06 22:19:49  ['upset', 'updat', 'facebook', 'text', 'result...   \n",
       "2  2009-04-06 22:19:53  ['dive', 'time', 'ball', 'manag', 'save', '50'...   \n",
       "3  2009-04-06 22:19:57                          ['bodi', 'feel', 'itchi']   \n",
       "4  2009-04-06 22:19:57                                   ['behav', 'mad']   \n",
       "\n",
       "  sentiment  predicted_label  \\\n",
       "0  Negative                0   \n",
       "1  Negative                0   \n",
       "2  Negative                0   \n",
       "3  Negative                0   \n",
       "4  Negative                0   \n",
       "\n",
       "                                                text  \\\n",
       "0  @switchfoot http://twitpic.com/2y1zl - Awww, t...   \n",
       "1  is upset that he can't update his Facebook by ...   \n",
       "2  @Kenichan I dived many times for the ball. Man...   \n",
       "3    my whole body feels itchy and like its on fire    \n",
       "4  @nationwideclass no, it's not behaving at all....   \n",
       "\n",
       "                                        cleaned_text  \n",
       "0     a thats a bummer  you shoulda got david car...  \n",
       "1  is upset that he cant update his facebook by t...  \n",
       "2   i dived many times for the ball managed to sa...  \n",
       "3    my whole body feels itchy and like its on fire   \n",
       "4   no its not behaving at all im mad why am i he...  "
      ]
     },
     "execution_count": 16,
     "metadata": {},
     "output_type": "execute_result"
    }
   ],
   "source": [
    "df.head()"
   ]
  },
  {
   "cell_type": "markdown",
   "metadata": {},
   "source": [
    "### Separate tweets into depressive vs. non-depressive"
   ]
  },
  {
   "cell_type": "code",
   "execution_count": 17,
   "metadata": {},
   "outputs": [
    {
     "name": "stdout",
     "output_type": "stream",
     "text": [
      "Number of depressive tweets: 48418\n",
      "Number of normal tweets: 1551582\n"
     ]
    }
   ],
   "source": [
    "depressive_tweets = df[df['predicted_label'] == 1]\n",
    "\n",
    "normal_tweets = df[df['predicted_label'] == 0]\n",
    "\n",
    "print('Number of depressive tweets:', len(depressive_tweets))\n",
    "print('Number of normal tweets:', len(normal_tweets))"
   ]
  },
  {
   "cell_type": "markdown",
   "metadata": {},
   "source": [
    "### Create a dataframe of economic keywords"
   ]
  },
  {
   "cell_type": "code",
   "execution_count": 18,
   "metadata": {},
   "outputs": [
    {
     "data": {
      "text/html": [
       "<div>\n",
       "<style scoped>\n",
       "    .dataframe tbody tr th:only-of-type {\n",
       "        vertical-align: middle;\n",
       "    }\n",
       "\n",
       "    .dataframe tbody tr th {\n",
       "        vertical-align: top;\n",
       "    }\n",
       "\n",
       "    .dataframe thead th {\n",
       "        text-align: right;\n",
       "    }\n",
       "</style>\n",
       "<table border=\"1\" class=\"dataframe\">\n",
       "  <thead>\n",
       "    <tr style=\"text-align: right;\">\n",
       "      <th></th>\n",
       "      <th>keyword</th>\n",
       "    </tr>\n",
       "  </thead>\n",
       "  <tbody>\n",
       "    <tr>\n",
       "      <th>0</th>\n",
       "      <td>unemployment</td>\n",
       "    </tr>\n",
       "    <tr>\n",
       "      <th>1</th>\n",
       "      <td>job loss</td>\n",
       "    </tr>\n",
       "    <tr>\n",
       "      <th>2</th>\n",
       "      <td>layoff</td>\n",
       "    </tr>\n",
       "    <tr>\n",
       "      <th>3</th>\n",
       "      <td>fired</td>\n",
       "    </tr>\n",
       "    <tr>\n",
       "      <th>4</th>\n",
       "      <td>job cuts</td>\n",
       "    </tr>\n",
       "  </tbody>\n",
       "</table>\n",
       "</div>"
      ],
      "text/plain": [
       "        keyword\n",
       "0  unemployment\n",
       "1      job loss\n",
       "2        layoff\n",
       "3         fired\n",
       "4      job cuts"
      ]
     },
     "execution_count": 18,
     "metadata": {},
     "output_type": "execute_result"
    }
   ],
   "source": [
    "file_path = 'economic_keywords.txt'\n",
    "\n",
    "with open(file_path, 'r') as file:\n",
    "    economic_keywords = file.read().split('\\n')\n",
    "\n",
    "economic_keywords_df = pd.DataFrame(economic_keywords, columns=['keyword'])\n",
    "\n",
    "economic_keywords_df.head()"
   ]
  },
  {
   "cell_type": "markdown",
   "metadata": {},
   "source": [
    "### Apply economic keywords onto depressive and normal tweets"
   ]
  },
  {
   "cell_type": "code",
   "execution_count": 19,
   "metadata": {},
   "outputs": [
    {
     "name": "stderr",
     "output_type": "stream",
     "text": [
      "C:\\Users\\shaun\\AppData\\Local\\Temp\\ipykernel_18452\\160213231.py:1: SettingWithCopyWarning: \n",
      "A value is trying to be set on a copy of a slice from a DataFrame.\n",
      "Try using .loc[row_indexer,col_indexer] = value instead\n",
      "\n",
      "See the caveats in the documentation: https://pandas.pydata.org/pandas-docs/stable/user_guide/indexing.html#returning-a-view-versus-a-copy\n",
      "  depressive_tweets['economic_keywords'] = depressive_tweets['cleaned_text'].apply(lambda x: any([k in x for k in economic_keywords]))\n"
     ]
    },
    {
     "name": "stdout",
     "output_type": "stream",
     "text": [
      "Number of depressive tweets with economic keywords: 1349\n",
      "Number of normal tweets with economic keywords: 33394\n"
     ]
    },
    {
     "name": "stderr",
     "output_type": "stream",
     "text": [
      "C:\\Users\\shaun\\AppData\\Local\\Temp\\ipykernel_18452\\160213231.py:2: SettingWithCopyWarning: \n",
      "A value is trying to be set on a copy of a slice from a DataFrame.\n",
      "Try using .loc[row_indexer,col_indexer] = value instead\n",
      "\n",
      "See the caveats in the documentation: https://pandas.pydata.org/pandas-docs/stable/user_guide/indexing.html#returning-a-view-versus-a-copy\n",
      "  normal_tweets['economic_keywords'] = normal_tweets['cleaned_text'].apply(lambda x: any([k in x for k in economic_keywords]))\n"
     ]
    }
   ],
   "source": [
    "depressive_tweets['economic_keywords'] = depressive_tweets['cleaned_text'].apply(lambda x: any([k in x for k in economic_keywords]))\n",
    "normal_tweets['economic_keywords'] = normal_tweets['cleaned_text'].apply(lambda x: any([k in x for k in economic_keywords]))\n",
    "\n",
    "print('Number of depressive tweets with economic keywords:', len(depressive_tweets[depressive_tweets['economic_keywords'] == True]))\n",
    "print('Number of normal tweets with economic keywords:', len(normal_tweets[normal_tweets['economic_keywords'] == True]))"
   ]
  },
  {
   "cell_type": "markdown",
   "metadata": {},
   "source": [
    "### Percentage of economic keywords that appear in depressive vs non depressive tweets"
   ]
  },
  {
   "cell_type": "code",
   "execution_count": null,
   "metadata": {},
   "outputs": [
    {
     "name": "stdout",
     "output_type": "stream",
     "text": [
      "Percentage of depressive tweets with economic keywords: 2.7861539097030033\n",
      "Percentage of normal tweets with economic keywords: 2.1522549243288465\n"
     ]
    }
   ],
   "source": [
    "total_depressive_tweets = len(depressive_tweets)\n",
    "total_normal_tweets = len(normal_tweets)\n",
    "\n",
    "depressive_keywords_count = len(depressive_tweets[depressive_tweets['economic_keywords'] == True])\n",
    "normal_keywords_count = len(normal_tweets[normal_tweets['economic_keywords'] == True])\n",
    "\n",
    "depressive_keywords_percentage = (depressive_keywords_count / total_depressive_tweets) * 100\n",
    "normal_keywords_percentage = (normal_keywords_count / total_normal_tweets) * 100\n",
    "\n",
    "print('Percentage of depressive tweets with economic keywords:', depressive_keywords_percentage)\n",
    "print('Percentage of normal tweets with economic keywords:', normal_keywords_percentage)"
   ]
  },
  {
   "cell_type": "code",
   "execution_count": 27,
   "metadata": {},
   "outputs": [
    {
     "name": "stdout",
     "output_type": "stream",
     "text": [
      "Chi-square statistic: 88.5173324410575\n",
      "P-value: 5.0391406259627165e-21\n",
      "The increase in percentage of depressive tweets with economic keywords is statistically significant.\n"
     ]
    }
   ],
   "source": [
    "from scipy.stats import chi2_contingency\n",
    "\n",
    "# Create a contingency table\n",
    "contingency_table = [\n",
    "    [depressive_keywords_count, total_depressive_tweets - depressive_keywords_count],\n",
    "    [normal_keywords_count, total_normal_tweets - normal_keywords_count]\n",
    "]\n",
    "\n",
    "# Perform the chi-square test\n",
    "chi2, p, dof, expected = chi2_contingency(contingency_table)\n",
    "\n",
    "print(f\"Chi-square statistic: {chi2}\")\n",
    "print(f\"P-value: {p}\")\n",
    "\n",
    "# Determine if the result is statistically significant\n",
    "alpha = 0.05\n",
    "if p < alpha:\n",
    "    print(\"The increase in percentage of depressive tweets with economic keywords is statistically significant.\")\n",
    "else:\n",
    "    print(\"The increase in percentage of depressive tweets with economic keywords is not statistically significant.\")"
   ]
  },
  {
   "cell_type": "code",
   "execution_count": 28,
   "metadata": {},
   "outputs": [
    {
     "name": "stdout",
     "output_type": "stream",
     "text": [
      "Odds ratio of economic keyword usage in depressive tweets vs normal tweets: 1.302969019168686\n"
     ]
    }
   ],
   "source": [
    "# Calculate the odds of economic keyword usage in depressive tweets\n",
    "odds_depressive = depressive_keywords_count / (total_depressive_tweets - depressive_keywords_count)\n",
    "\n",
    "# Calculate the odds of economic keyword usage in normal tweets\n",
    "odds_normal = normal_keywords_count / (total_normal_tweets - normal_keywords_count)\n",
    "\n",
    "# Calculate the odds ratio\n",
    "odds_ratio = odds_depressive / odds_normal\n",
    "\n",
    "print(f\"Odds ratio of economic keyword usage in depressive tweets vs normal tweets: {odds_ratio}\")"
   ]
  },
  {
   "cell_type": "markdown",
   "metadata": {},
   "source": [
    "Overall percentage of economic keywords appearing in normal and depressive tweets are quite low."
   ]
  },
  {
   "cell_type": "code",
   "execution_count": 21,
   "metadata": {},
   "outputs": [
    {
     "data": {
      "text/html": [
       "<div>\n",
       "<style scoped>\n",
       "    .dataframe tbody tr th:only-of-type {\n",
       "        vertical-align: middle;\n",
       "    }\n",
       "\n",
       "    .dataframe tbody tr th {\n",
       "        vertical-align: top;\n",
       "    }\n",
       "\n",
       "    .dataframe thead th {\n",
       "        text-align: right;\n",
       "    }\n",
       "</style>\n",
       "<table border=\"1\" class=\"dataframe\">\n",
       "  <thead>\n",
       "    <tr style=\"text-align: right;\">\n",
       "      <th></th>\n",
       "      <th>10</th>\n",
       "      <th>12</th>\n",
       "      <th>15</th>\n",
       "      <th>1st</th>\n",
       "      <th>20</th>\n",
       "      <th>21</th>\n",
       "      <th>22</th>\n",
       "      <th>24</th>\n",
       "      <th>25</th>\n",
       "      <th>26</th>\n",
       "      <th>...</th>\n",
       "      <th>years</th>\n",
       "      <th>yes</th>\n",
       "      <th>yesterday</th>\n",
       "      <th>youll</th>\n",
       "      <th>youre</th>\n",
       "      <th>youve</th>\n",
       "      <th>yr</th>\n",
       "      <th>yrs</th>\n",
       "      <th>yup</th>\n",
       "      <th>zomg</th>\n",
       "    </tr>\n",
       "  </thead>\n",
       "  <tbody>\n",
       "    <tr>\n",
       "      <th>0</th>\n",
       "      <td>0.0</td>\n",
       "      <td>0.0</td>\n",
       "      <td>0.0</td>\n",
       "      <td>0.0</td>\n",
       "      <td>0.0</td>\n",
       "      <td>0.0</td>\n",
       "      <td>0.0</td>\n",
       "      <td>0.0</td>\n",
       "      <td>0.0</td>\n",
       "      <td>0.0</td>\n",
       "      <td>...</td>\n",
       "      <td>0.0</td>\n",
       "      <td>0.0</td>\n",
       "      <td>0.0</td>\n",
       "      <td>0.0</td>\n",
       "      <td>0.0</td>\n",
       "      <td>0.0</td>\n",
       "      <td>0.0</td>\n",
       "      <td>0.0</td>\n",
       "      <td>0.0</td>\n",
       "      <td>0.0</td>\n",
       "    </tr>\n",
       "    <tr>\n",
       "      <th>1</th>\n",
       "      <td>0.0</td>\n",
       "      <td>0.0</td>\n",
       "      <td>0.0</td>\n",
       "      <td>0.0</td>\n",
       "      <td>0.0</td>\n",
       "      <td>0.0</td>\n",
       "      <td>0.0</td>\n",
       "      <td>0.0</td>\n",
       "      <td>0.0</td>\n",
       "      <td>0.0</td>\n",
       "      <td>...</td>\n",
       "      <td>0.0</td>\n",
       "      <td>0.0</td>\n",
       "      <td>0.0</td>\n",
       "      <td>0.0</td>\n",
       "      <td>0.0</td>\n",
       "      <td>0.0</td>\n",
       "      <td>0.0</td>\n",
       "      <td>0.0</td>\n",
       "      <td>0.0</td>\n",
       "      <td>0.0</td>\n",
       "    </tr>\n",
       "    <tr>\n",
       "      <th>2</th>\n",
       "      <td>0.0</td>\n",
       "      <td>0.0</td>\n",
       "      <td>0.0</td>\n",
       "      <td>0.0</td>\n",
       "      <td>0.0</td>\n",
       "      <td>0.0</td>\n",
       "      <td>0.0</td>\n",
       "      <td>0.0</td>\n",
       "      <td>0.0</td>\n",
       "      <td>0.0</td>\n",
       "      <td>...</td>\n",
       "      <td>0.0</td>\n",
       "      <td>0.0</td>\n",
       "      <td>0.0</td>\n",
       "      <td>0.0</td>\n",
       "      <td>0.0</td>\n",
       "      <td>0.0</td>\n",
       "      <td>0.0</td>\n",
       "      <td>0.0</td>\n",
       "      <td>0.0</td>\n",
       "      <td>0.0</td>\n",
       "    </tr>\n",
       "    <tr>\n",
       "      <th>3</th>\n",
       "      <td>0.0</td>\n",
       "      <td>0.0</td>\n",
       "      <td>0.0</td>\n",
       "      <td>0.0</td>\n",
       "      <td>0.0</td>\n",
       "      <td>0.0</td>\n",
       "      <td>0.0</td>\n",
       "      <td>0.0</td>\n",
       "      <td>0.0</td>\n",
       "      <td>0.0</td>\n",
       "      <td>...</td>\n",
       "      <td>0.0</td>\n",
       "      <td>0.0</td>\n",
       "      <td>0.0</td>\n",
       "      <td>0.0</td>\n",
       "      <td>0.0</td>\n",
       "      <td>0.0</td>\n",
       "      <td>0.0</td>\n",
       "      <td>0.0</td>\n",
       "      <td>0.0</td>\n",
       "      <td>0.0</td>\n",
       "    </tr>\n",
       "    <tr>\n",
       "      <th>4</th>\n",
       "      <td>0.0</td>\n",
       "      <td>0.0</td>\n",
       "      <td>0.0</td>\n",
       "      <td>0.0</td>\n",
       "      <td>0.0</td>\n",
       "      <td>0.0</td>\n",
       "      <td>0.0</td>\n",
       "      <td>0.0</td>\n",
       "      <td>0.0</td>\n",
       "      <td>0.0</td>\n",
       "      <td>...</td>\n",
       "      <td>0.0</td>\n",
       "      <td>0.0</td>\n",
       "      <td>0.0</td>\n",
       "      <td>0.0</td>\n",
       "      <td>0.0</td>\n",
       "      <td>0.0</td>\n",
       "      <td>0.0</td>\n",
       "      <td>0.0</td>\n",
       "      <td>0.0</td>\n",
       "      <td>0.0</td>\n",
       "    </tr>\n",
       "  </tbody>\n",
       "</table>\n",
       "<p>5 rows × 1000 columns</p>\n",
       "</div>"
      ],
      "text/plain": [
       "    10   12   15  1st   20   21   22   24   25   26  ...  years  yes  \\\n",
       "0  0.0  0.0  0.0  0.0  0.0  0.0  0.0  0.0  0.0  0.0  ...    0.0  0.0   \n",
       "1  0.0  0.0  0.0  0.0  0.0  0.0  0.0  0.0  0.0  0.0  ...    0.0  0.0   \n",
       "2  0.0  0.0  0.0  0.0  0.0  0.0  0.0  0.0  0.0  0.0  ...    0.0  0.0   \n",
       "3  0.0  0.0  0.0  0.0  0.0  0.0  0.0  0.0  0.0  0.0  ...    0.0  0.0   \n",
       "4  0.0  0.0  0.0  0.0  0.0  0.0  0.0  0.0  0.0  0.0  ...    0.0  0.0   \n",
       "\n",
       "   yesterday  youll  youre  youve   yr  yrs  yup  zomg  \n",
       "0        0.0    0.0    0.0    0.0  0.0  0.0  0.0   0.0  \n",
       "1        0.0    0.0    0.0    0.0  0.0  0.0  0.0   0.0  \n",
       "2        0.0    0.0    0.0    0.0  0.0  0.0  0.0   0.0  \n",
       "3        0.0    0.0    0.0    0.0  0.0  0.0  0.0   0.0  \n",
       "4        0.0    0.0    0.0    0.0  0.0  0.0  0.0   0.0  \n",
       "\n",
       "[5 rows x 1000 columns]"
      ]
     },
     "execution_count": 21,
     "metadata": {},
     "output_type": "execute_result"
    }
   ],
   "source": [
    "from sklearn.feature_extraction.text import TfidfVectorizer\n",
    "\n",
    "# Initialize the vectorizer\n",
    "vectorizer = TfidfVectorizer(stop_words='english', max_features=1000)\n",
    "\n",
    "# Fit and transform the cleaned text\n",
    "X = vectorizer.fit_transform(depressive_tweets['cleaned_text'])\n",
    "\n",
    "# Convert the result to a DataFrame for better readability\n",
    "tfidf_df = pd.DataFrame(X.toarray(), columns=vectorizer.get_feature_names_out())\n",
    "\n",
    "tfidf_df.head()\n"
   ]
  },
  {
   "cell_type": "markdown",
   "metadata": {},
   "source": [
    "It is peculiar and weird to have these words as indicators of depression, let's try another method."
   ]
  },
  {
   "cell_type": "markdown",
   "metadata": {},
   "source": [
    "### Use sklearn LDA to identify dominant topics"
   ]
  },
  {
   "cell_type": "code",
   "execution_count": 24,
   "metadata": {},
   "outputs": [
    {
     "name": "stdout",
     "output_type": "stream",
     "text": [
      "Topic 0: im depressed like feel really just know pain dont right\n",
      "Topic 1: im depressing day today got hate just live home thanks\n",
      "Topic 2: killing tonight im just fail nope good new head pretty\n",
      "Topic 3: work tired day im ready bed tomorrow getting today looking\n",
      "Topic 4: just dont life im feel hope love better time kill\n"
     ]
    }
   ],
   "source": [
    "# Define the number of topics and passes\n",
    "num_topics = 5\n",
    "passes = 10\n",
    "\n",
    "# Initialize the LDA model\n",
    "lda_sklearn = LatentDirichletAllocation(n_components=num_topics, max_iter=passes, random_state=42)\n",
    "\n",
    "# Fit the LDA model to the TF-IDF matrix\n",
    "lda_sklearn.fit(X)\n",
    "\n",
    "# Display the topics\n",
    "for idx, topic in enumerate(lda_sklearn.components_):\n",
    "    topic_words = [vectorizer.get_feature_names_out()[i] for i in topic.argsort()[:-11:-1]]\n",
    "    print(f\"Topic {idx}: {' '.join(topic_words)}\")"
   ]
  },
  {
   "cell_type": "markdown",
   "metadata": {},
   "source": [
    "### Now performing LDA on normal tweets as well"
   ]
  },
  {
   "cell_type": "code",
   "execution_count": 25,
   "metadata": {},
   "outputs": [
    {
     "data": {
      "text/html": [
       "<div>\n",
       "<style scoped>\n",
       "    .dataframe tbody tr th:only-of-type {\n",
       "        vertical-align: middle;\n",
       "    }\n",
       "\n",
       "    .dataframe tbody tr th {\n",
       "        vertical-align: top;\n",
       "    }\n",
       "\n",
       "    .dataframe thead th {\n",
       "        text-align: right;\n",
       "    }\n",
       "</style>\n",
       "<table border=\"1\" class=\"dataframe\">\n",
       "  <thead>\n",
       "    <tr style=\"text-align: right;\">\n",
       "      <th></th>\n",
       "      <th>10</th>\n",
       "      <th>100</th>\n",
       "      <th>11</th>\n",
       "      <th>12</th>\n",
       "      <th>15</th>\n",
       "      <th>1st</th>\n",
       "      <th>20</th>\n",
       "      <th>2day</th>\n",
       "      <th>2nd</th>\n",
       "      <th>30</th>\n",
       "      <th>...</th>\n",
       "      <th>yesterday</th>\n",
       "      <th>yo</th>\n",
       "      <th>youll</th>\n",
       "      <th>young</th>\n",
       "      <th>youre</th>\n",
       "      <th>youtube</th>\n",
       "      <th>youve</th>\n",
       "      <th>yum</th>\n",
       "      <th>yummy</th>\n",
       "      <th>yup</th>\n",
       "    </tr>\n",
       "  </thead>\n",
       "  <tbody>\n",
       "    <tr>\n",
       "      <th>0</th>\n",
       "      <td>0.0</td>\n",
       "      <td>0.0</td>\n",
       "      <td>0.0</td>\n",
       "      <td>0.0</td>\n",
       "      <td>0.0</td>\n",
       "      <td>0.0</td>\n",
       "      <td>0.0</td>\n",
       "      <td>0.0</td>\n",
       "      <td>0.0</td>\n",
       "      <td>0.0</td>\n",
       "      <td>...</td>\n",
       "      <td>0.0</td>\n",
       "      <td>0.0</td>\n",
       "      <td>0.0</td>\n",
       "      <td>0.0</td>\n",
       "      <td>0.0</td>\n",
       "      <td>0.0</td>\n",
       "      <td>0.0</td>\n",
       "      <td>0.0</td>\n",
       "      <td>0.0</td>\n",
       "      <td>0.0</td>\n",
       "    </tr>\n",
       "    <tr>\n",
       "      <th>1</th>\n",
       "      <td>0.0</td>\n",
       "      <td>0.0</td>\n",
       "      <td>0.0</td>\n",
       "      <td>0.0</td>\n",
       "      <td>0.0</td>\n",
       "      <td>0.0</td>\n",
       "      <td>0.0</td>\n",
       "      <td>0.0</td>\n",
       "      <td>0.0</td>\n",
       "      <td>0.0</td>\n",
       "      <td>...</td>\n",
       "      <td>0.0</td>\n",
       "      <td>0.0</td>\n",
       "      <td>0.0</td>\n",
       "      <td>0.0</td>\n",
       "      <td>0.0</td>\n",
       "      <td>0.0</td>\n",
       "      <td>0.0</td>\n",
       "      <td>0.0</td>\n",
       "      <td>0.0</td>\n",
       "      <td>0.0</td>\n",
       "    </tr>\n",
       "    <tr>\n",
       "      <th>2</th>\n",
       "      <td>0.0</td>\n",
       "      <td>0.0</td>\n",
       "      <td>0.0</td>\n",
       "      <td>0.0</td>\n",
       "      <td>0.0</td>\n",
       "      <td>0.0</td>\n",
       "      <td>0.0</td>\n",
       "      <td>0.0</td>\n",
       "      <td>0.0</td>\n",
       "      <td>0.0</td>\n",
       "      <td>...</td>\n",
       "      <td>0.0</td>\n",
       "      <td>0.0</td>\n",
       "      <td>0.0</td>\n",
       "      <td>0.0</td>\n",
       "      <td>0.0</td>\n",
       "      <td>0.0</td>\n",
       "      <td>0.0</td>\n",
       "      <td>0.0</td>\n",
       "      <td>0.0</td>\n",
       "      <td>0.0</td>\n",
       "    </tr>\n",
       "    <tr>\n",
       "      <th>3</th>\n",
       "      <td>0.0</td>\n",
       "      <td>0.0</td>\n",
       "      <td>0.0</td>\n",
       "      <td>0.0</td>\n",
       "      <td>0.0</td>\n",
       "      <td>0.0</td>\n",
       "      <td>0.0</td>\n",
       "      <td>0.0</td>\n",
       "      <td>0.0</td>\n",
       "      <td>0.0</td>\n",
       "      <td>...</td>\n",
       "      <td>0.0</td>\n",
       "      <td>0.0</td>\n",
       "      <td>0.0</td>\n",
       "      <td>0.0</td>\n",
       "      <td>0.0</td>\n",
       "      <td>0.0</td>\n",
       "      <td>0.0</td>\n",
       "      <td>0.0</td>\n",
       "      <td>0.0</td>\n",
       "      <td>0.0</td>\n",
       "    </tr>\n",
       "    <tr>\n",
       "      <th>4</th>\n",
       "      <td>0.0</td>\n",
       "      <td>0.0</td>\n",
       "      <td>0.0</td>\n",
       "      <td>0.0</td>\n",
       "      <td>0.0</td>\n",
       "      <td>0.0</td>\n",
       "      <td>0.0</td>\n",
       "      <td>0.0</td>\n",
       "      <td>0.0</td>\n",
       "      <td>0.0</td>\n",
       "      <td>...</td>\n",
       "      <td>0.0</td>\n",
       "      <td>0.0</td>\n",
       "      <td>0.0</td>\n",
       "      <td>0.0</td>\n",
       "      <td>0.0</td>\n",
       "      <td>0.0</td>\n",
       "      <td>0.0</td>\n",
       "      <td>0.0</td>\n",
       "      <td>0.0</td>\n",
       "      <td>0.0</td>\n",
       "    </tr>\n",
       "  </tbody>\n",
       "</table>\n",
       "<p>5 rows × 1000 columns</p>\n",
       "</div>"
      ],
      "text/plain": [
       "    10  100   11   12   15  1st   20  2day  2nd   30  ...  yesterday   yo  \\\n",
       "0  0.0  0.0  0.0  0.0  0.0  0.0  0.0   0.0  0.0  0.0  ...        0.0  0.0   \n",
       "1  0.0  0.0  0.0  0.0  0.0  0.0  0.0   0.0  0.0  0.0  ...        0.0  0.0   \n",
       "2  0.0  0.0  0.0  0.0  0.0  0.0  0.0   0.0  0.0  0.0  ...        0.0  0.0   \n",
       "3  0.0  0.0  0.0  0.0  0.0  0.0  0.0   0.0  0.0  0.0  ...        0.0  0.0   \n",
       "4  0.0  0.0  0.0  0.0  0.0  0.0  0.0   0.0  0.0  0.0  ...        0.0  0.0   \n",
       "\n",
       "   youll  young  youre  youtube  youve  yum  yummy  yup  \n",
       "0    0.0    0.0    0.0      0.0    0.0  0.0    0.0  0.0  \n",
       "1    0.0    0.0    0.0      0.0    0.0  0.0    0.0  0.0  \n",
       "2    0.0    0.0    0.0      0.0    0.0  0.0    0.0  0.0  \n",
       "3    0.0    0.0    0.0      0.0    0.0  0.0    0.0  0.0  \n",
       "4    0.0    0.0    0.0      0.0    0.0  0.0    0.0  0.0  \n",
       "\n",
       "[5 rows x 1000 columns]"
      ]
     },
     "execution_count": 25,
     "metadata": {},
     "output_type": "execute_result"
    }
   ],
   "source": [
    "# Fit and transform the cleaned text of normal tweets\n",
    "X_normal = vectorizer.fit_transform(normal_tweets['cleaned_text'])\n",
    "\n",
    "# Convert the result to a DataFrame for better readability\n",
    "tfidf_df_normal = pd.DataFrame(X_normal.toarray(), columns=vectorizer.get_feature_names_out())\n",
    "\n",
    "tfidf_df_normal.head()"
   ]
  },
  {
   "cell_type": "code",
   "execution_count": 26,
   "metadata": {},
   "outputs": [
    {
     "name": "stdout",
     "output_type": "stream",
     "text": [
      "Topic 0: good love night im day lol tomorrow tired bed yeah\n",
      "Topic 1: thanks work morning today day going want good im fun\n",
      "Topic 2: miss im twitter dont hey sorry just think know follow\n",
      "Topic 3: im watching wait hate yes school just happy new movie\n",
      "Topic 4: just like thank know got im lost need really help\n"
     ]
    }
   ],
   "source": [
    "# Initialize the LDA model\n",
    "lda_sklearn_normal = LatentDirichletAllocation(n_components=num_topics, max_iter=passes, random_state=42)\n",
    "\n",
    "# Fit the LDA model to the TF-IDF matrix\n",
    "lda_sklearn_normal.fit(X_normal)\n",
    "\n",
    "# Display the topics\n",
    "for idx, topic in enumerate(lda_sklearn_normal.components_):\n",
    "    topic_words = [vectorizer.get_feature_names_out()[i] for i in topic.argsort()[:-11:-1]]\n",
    "    print(f\"Topic {idx}: {' '.join(topic_words)}\")\n"
   ]
  },
  {
   "cell_type": "code",
   "execution_count": 29,
   "metadata": {},
   "outputs": [
    {
     "name": "stdout",
     "output_type": "stream",
     "text": [
      "Proportion of tweets assigned to each topic within depressive tweets:\n",
      "Topic 0: 0.1960\n",
      "Topic 1: 0.1869\n",
      "Topic 2: 0.1720\n",
      "Topic 3: 0.2342\n",
      "Topic 4: 0.2109\n",
      "\n",
      "Proportion of tweets assigned to each topic within normal tweets:\n",
      "Topic 0: 0.1939\n",
      "Topic 1: 0.2049\n",
      "Topic 2: 0.2007\n",
      "Topic 3: 0.2013\n",
      "Topic 4: 0.1992\n"
     ]
    }
   ],
   "source": [
    "# Get the topic distribution for depressive tweets\n",
    "depressive_topic_distribution = lda_sklearn.transform(X)\n",
    "\n",
    "# Get the topic distribution for normal tweets\n",
    "normal_topic_distribution = lda_sklearn_normal.transform(X_normal)\n",
    "\n",
    "# Calculate the proportion of tweets assigned to each topic for depressive tweets\n",
    "depressive_topic_proportions = depressive_topic_distribution.sum(axis=0) / depressive_topic_distribution.shape[0]\n",
    "\n",
    "# Calculate the proportion of tweets assigned to each topic for normal tweets\n",
    "normal_topic_proportions = normal_topic_distribution.sum(axis=0) / normal_topic_distribution.shape[0]\n",
    "\n",
    "# Print the proportions\n",
    "print(\"Proportion of tweets assigned to each topic within depressive tweets:\")\n",
    "for i, proportion in enumerate(depressive_topic_proportions):\n",
    "    print(f\"Topic {i}: {proportion:.4f}\")\n",
    "\n",
    "print(\"\\nProportion of tweets assigned to each topic within normal tweets:\")\n",
    "for i, proportion in enumerate(normal_topic_proportions):\n",
    "    print(f\"Topic {i}: {proportion:.4f}\")"
   ]
  },
  {
   "cell_type": "markdown",
   "metadata": {},
   "source": [
    "### Topic Analysis\n",
    "\n",
    "**Topic 3 for depressive tweets seems to be most prevalent:**\n",
    "\n",
    "**Topic 3:** work tired day im ready bed tomorrow getting today looking\n",
    "\n",
    "**And the most prevalent topic for normal tweets is topic 1:**\n",
    "\n",
    "**Topic 1:** thanks work morning today day going want good im fun\n",
    "\n",
    "There is a common theme between these two, loosely relating to \"work\"."
   ]
  },
  {
   "cell_type": "code",
   "execution_count": 31,
   "metadata": {},
   "outputs": [
    {
     "name": "stderr",
     "output_type": "stream",
     "text": [
      "C:\\Users\\shaun\\AppData\\Local\\Temp\\ipykernel_18452\\3007912607.py:2: SettingWithCopyWarning: \n",
      "A value is trying to be set on a copy of a slice from a DataFrame.\n",
      "Try using .loc[row_indexer,col_indexer] = value instead\n",
      "\n",
      "See the caveats in the documentation: https://pandas.pydata.org/pandas-docs/stable/user_guide/indexing.html#returning-a-view-versus-a-copy\n",
      "  depressive_tweets['dominant_topic'] = depressive_topic_distribution.argmax(axis=1)\n",
      "C:\\Users\\shaun\\AppData\\Local\\Temp\\ipykernel_18452\\3007912607.py:3: SettingWithCopyWarning: \n",
      "A value is trying to be set on a copy of a slice from a DataFrame.\n",
      "Try using .loc[row_indexer,col_indexer] = value instead\n",
      "\n",
      "See the caveats in the documentation: https://pandas.pydata.org/pandas-docs/stable/user_guide/indexing.html#returning-a-view-versus-a-copy\n",
      "  normal_tweets['dominant_topic'] = normal_topic_distribution.argmax(axis=1)\n"
     ]
    }
   ],
   "source": [
    "# Get the topic with the highest proportion for each tweet\n",
    "depressive_tweets['dominant_topic'] = depressive_topic_distribution.argmax(axis=1)\n",
    "normal_tweets['dominant_topic'] = normal_topic_distribution.argmax(axis=1)\n",
    "\n",
    "# Filter tweets that belong to topic 3 for depressive tweets\n",
    "depressive_topic_3_tweets = depressive_tweets[depressive_tweets['dominant_topic'] == 3]\n",
    "\n",
    "# Filter tweets that belong to topic 1 for normal tweets\n",
    "normal_topic_1_tweets = normal_tweets[normal_tweets['dominant_topic'] == 1]\n"
   ]
  },
  {
   "cell_type": "code",
   "execution_count": 37,
   "metadata": {},
   "outputs": [
    {
     "name": "stdout",
     "output_type": "stream",
     "text": [
      "Sample tweets for depressive topic 3:\n",
      "    @kgreen83 sorry i disappeared on msn it's being an arse it signs me in and then crashes grrr!! speak to ye soon if it decides to work \n",
      "                                        sigh. work still piling on....must get through thisssssssssss. can't have another repeat of today \n",
      "                                                                           Hate. Thiz. I'm. Grounded. Off. Computer. For. The. Whole. Day \n",
      "                                           On my way into the dreaded college to catch up on work that should have been finished long ago \n",
      "                                                              Crazy decisions were made today.   things are getting a bit wild aroud here.\n",
      "                                     Applying for a job at @sega today... Everything is crossed in the vain hope of getting it. #DreamJob \n",
      "                                                                                                                      demotivated at work \n",
      "                       I feel like I'm swaying on a boat. Haven't been on one in quite sometime. Been this way for 3weeks  Appt on Monday.\n",
      "I plan on doing nothing all day long until 5 when I have to go to work. I love saturdays  work tomorrow. monday: gym and land of the lost.\n",
      "                      May ends, and so does my month long holiday. To tell the truth, I am not looking at all forward to working tomorrow \n",
      "\n",
      "Sample tweets for normal topic 1:\n",
      "                                 going to see danceflick with the besssstttt!!!..aida at 8..ps yay for getting into wedding singer wee \n",
      "                                                                                                          @radiodude I sure will baby. \n",
      "                                                                                                     I am peaceful at this very moment \n",
      "                                              @jenxstudios why not get a canon printer and nice photo paper to print out pics to sign? \n",
      "                                                          @SooDejaVu Girl, that baby looks just like me when I was a baby! I want one. \n",
      "                                                                @jordanknight I'll get right on it if my bb will take me to the link!  \n",
      "                                                                                   @mslindz Safe travels! I hope you had a ton of fun. \n",
      "@pandaaMONIA  i sat down n tried to study 4 bio.. now my neighbours band decides to start singing.they are shitty and it hurts my ears \n",
      "                                                             Getting ready for schooool. I cant find my jem &amp; the holograms shirt. \n",
      "                                    just spent an hour trying to get the newborn bird in my front garden to fly. poor baby  no success!\n"
     ]
    }
   ],
   "source": [
    "# Set pandas display options to show full text\n",
    "pd.set_option('display.max_colwidth', None)\n",
    "\n",
    "# Display some sample tweets\n",
    "print(\"Sample tweets for depressive topic 3:\")\n",
    "print(depressive_topic_3_tweets['text'].sample(10).to_string(index=False))\n",
    "\n",
    "print(\"\\nSample tweets for normal topic 1:\")\n",
    "print(normal_topic_1_tweets['text'].sample(10).to_string(index=False))"
   ]
  },
  {
   "cell_type": "markdown",
   "metadata": {},
   "source": [
    "### I want to explore more on the extreme topics like self harm ideation and emotional pain"
   ]
  },
  {
   "cell_type": "code",
   "execution_count": 38,
   "metadata": {},
   "outputs": [
    {
     "data": {
      "text/html": [
       "<div>\n",
       "<style scoped>\n",
       "    .dataframe tbody tr th:only-of-type {\n",
       "        vertical-align: middle;\n",
       "    }\n",
       "\n",
       "    .dataframe tbody tr th {\n",
       "        vertical-align: top;\n",
       "    }\n",
       "\n",
       "    .dataframe thead th {\n",
       "        text-align: right;\n",
       "    }\n",
       "</style>\n",
       "<table border=\"1\" class=\"dataframe\">\n",
       "  <thead>\n",
       "    <tr style=\"text-align: right;\">\n",
       "      <th></th>\n",
       "      <th>keyword</th>\n",
       "    </tr>\n",
       "  </thead>\n",
       "  <tbody>\n",
       "    <tr>\n",
       "      <th>0</th>\n",
       "      <td>self-harm</td>\n",
       "    </tr>\n",
       "    <tr>\n",
       "      <th>1</th>\n",
       "      <td>cutting</td>\n",
       "    </tr>\n",
       "    <tr>\n",
       "      <th>2</th>\n",
       "      <td>hurt myself</td>\n",
       "    </tr>\n",
       "    <tr>\n",
       "      <th>3</th>\n",
       "      <td>self-injury</td>\n",
       "    </tr>\n",
       "    <tr>\n",
       "      <th>4</th>\n",
       "      <td>self-inflicted</td>\n",
       "    </tr>\n",
       "  </tbody>\n",
       "</table>\n",
       "</div>"
      ],
      "text/plain": [
       "          keyword\n",
       "0       self-harm\n",
       "1         cutting\n",
       "2     hurt myself\n",
       "3     self-injury\n",
       "4  self-inflicted"
      ]
     },
     "execution_count": 38,
     "metadata": {},
     "output_type": "execute_result"
    }
   ],
   "source": [
    "self_harm_keywords_file_path = 'self_harm_ideation.txt'\n",
    "\n",
    "with open(self_harm_keywords_file_path, 'r') as file:\n",
    "    self_harm_keywords = file.read().split('\\n')\n",
    "\n",
    "self_harm_keywords_df = pd.DataFrame(self_harm_keywords, columns=['keyword'])\n",
    "\n",
    "self_harm_keywords_df.head()"
   ]
  },
  {
   "cell_type": "code",
   "execution_count": 40,
   "metadata": {},
   "outputs": [
    {
     "name": "stderr",
     "output_type": "stream",
     "text": [
      "C:\\Users\\shaun\\AppData\\Local\\Temp\\ipykernel_18452\\344793855.py:1: SettingWithCopyWarning: \n",
      "A value is trying to be set on a copy of a slice from a DataFrame.\n",
      "Try using .loc[row_indexer,col_indexer] = value instead\n",
      "\n",
      "See the caveats in the documentation: https://pandas.pydata.org/pandas-docs/stable/user_guide/indexing.html#returning-a-view-versus-a-copy\n",
      "  depressive_tweets['self_harm_keywords'] = depressive_tweets['cleaned_text'].apply(lambda x: any([k in x for k in self_harm_keywords]))\n"
     ]
    }
   ],
   "source": [
    "depressive_tweets['self_harm_keywords'] = depressive_tweets['cleaned_text'].apply(lambda x: any([k in x for k in self_harm_keywords]))"
   ]
  },
  {
   "cell_type": "code",
   "execution_count": 42,
   "metadata": {},
   "outputs": [
    {
     "name": "stdout",
     "output_type": "stream",
     "text": [
      "Number of depressive tweets with self-harm keywords: 8517\n",
      "Number of total depressive tweets: 48418\n",
      "Percentage of depressive tweets with self-harm keywords: 17.590565492172335\n"
     ]
    }
   ],
   "source": [
    "print('Number of depressive tweets with self-harm keywords:', len(depressive_tweets[depressive_tweets['self_harm_keywords'] == True]))\n",
    "print('Number of total depressive tweets:', len(depressive_tweets))\n",
    "print('Percentage of depressive tweets with self-harm keywords:', (len(depressive_tweets[depressive_tweets['self_harm_keywords'] == True]) / len(depressive_tweets)) * 100)"
   ]
  },
  {
   "cell_type": "code",
   "execution_count": 43,
   "metadata": {},
   "outputs": [
    {
     "data": {
      "text/html": [
       "<div>\n",
       "<style scoped>\n",
       "    .dataframe tbody tr th:only-of-type {\n",
       "        vertical-align: middle;\n",
       "    }\n",
       "\n",
       "    .dataframe tbody tr th {\n",
       "        vertical-align: top;\n",
       "    }\n",
       "\n",
       "    .dataframe thead th {\n",
       "        text-align: right;\n",
       "    }\n",
       "</style>\n",
       "<table border=\"1\" class=\"dataframe\">\n",
       "  <thead>\n",
       "    <tr style=\"text-align: right;\">\n",
       "      <th></th>\n",
       "      <th>keyword</th>\n",
       "    </tr>\n",
       "  </thead>\n",
       "  <tbody>\n",
       "    <tr>\n",
       "      <th>0</th>\n",
       "      <td>depressed</td>\n",
       "    </tr>\n",
       "    <tr>\n",
       "      <th>1</th>\n",
       "      <td>depression</td>\n",
       "    </tr>\n",
       "    <tr>\n",
       "      <th>2</th>\n",
       "      <td>sad</td>\n",
       "    </tr>\n",
       "    <tr>\n",
       "      <th>3</th>\n",
       "      <td>sadness</td>\n",
       "    </tr>\n",
       "    <tr>\n",
       "      <th>4</th>\n",
       "      <td>pain</td>\n",
       "    </tr>\n",
       "  </tbody>\n",
       "</table>\n",
       "</div>"
      ],
      "text/plain": [
       "      keyword\n",
       "0   depressed\n",
       "1  depression\n",
       "2         sad\n",
       "3     sadness\n",
       "4        pain"
      ]
     },
     "execution_count": 43,
     "metadata": {},
     "output_type": "execute_result"
    }
   ],
   "source": [
    "emotional_pain_keywords_file_path = 'emotional_pain.txt'\n",
    "\n",
    "with open(emotional_pain_keywords_file_path, 'r') as file:\n",
    "    emotional_pain_keywords = file.read().split('\\n')\n",
    "    \n",
    "\n",
    "emotional_pain_keywords_df = pd.DataFrame(emotional_pain_keywords, columns=['keyword'])\n",
    "\n",
    "emotional_pain_keywords_df.head()"
   ]
  },
  {
   "cell_type": "code",
   "execution_count": 44,
   "metadata": {},
   "outputs": [
    {
     "name": "stderr",
     "output_type": "stream",
     "text": [
      "C:\\Users\\shaun\\AppData\\Local\\Temp\\ipykernel_18452\\2460972852.py:1: SettingWithCopyWarning: \n",
      "A value is trying to be set on a copy of a slice from a DataFrame.\n",
      "Try using .loc[row_indexer,col_indexer] = value instead\n",
      "\n",
      "See the caveats in the documentation: https://pandas.pydata.org/pandas-docs/stable/user_guide/indexing.html#returning-a-view-versus-a-copy\n",
      "  depressive_tweets['emotional_pain_keywords'] = depressive_tweets['cleaned_text'].apply(lambda x: any([k in x for k in emotional_pain_keywords]))\n"
     ]
    }
   ],
   "source": [
    "depressive_tweets['emotional_pain_keywords'] = depressive_tweets['cleaned_text'].apply(lambda x: any([k in x for k in emotional_pain_keywords]))"
   ]
  },
  {
   "cell_type": "code",
   "execution_count": 45,
   "metadata": {},
   "outputs": [
    {
     "name": "stdout",
     "output_type": "stream",
     "text": [
      "Number of depressive tweets with emotional pain keywords: 7717\n",
      "Number of total depressive tweets: 48418\n",
      "Percentage of depressive tweets with emotional pain keywords: 15.938287413771738\n"
     ]
    }
   ],
   "source": [
    "print('Number of depressive tweets with emotional pain keywords:', len(depressive_tweets[depressive_tweets['emotional_pain_keywords'] == True]))\n",
    "print('Number of total depressive tweets:', len(depressive_tweets))\n",
    "print('Percentage of depressive tweets with emotional pain keywords:', (len(depressive_tweets[depressive_tweets['emotional_pain_keywords'] == True]) / len(depressive_tweets)) * 100)"
   ]
  },
  {
   "cell_type": "code",
   "execution_count": 49,
   "metadata": {},
   "outputs": [
    {
     "data": {
      "image/png": "[encoded data removed]",
      "text/plain": [
       "<Figure size 640x480 with 1 Axes>"
      ]
     },
     "metadata": {},
     "output_type": "display_data"
    }
   ],
   "source": [
    "import networkx as nx\n",
    "import matplotlib.pyplot as plt\n",
    "\n",
    "# Create a graph\n",
    "G = nx.Graph()\n",
    "\n",
    "# Add nodes for each topic\n",
    "G.add_node('Work Fatigue')\n",
    "G.add_node('Self-Harm Ideation')\n",
    "G.add_node('Emotional Pain')\n",
    "\n",
    "# Add edges based on co-occurrence in the same tweet\n",
    "for index, row in depressive_tweets.iterrows():\n",
    "    topics = []\n",
    "    if row['dominant_topic'] == 3:\n",
    "        topics.append('Work Fatigue')\n",
    "    if row['self_harm_keywords']:\n",
    "        topics.append('Self-Harm Ideation')\n",
    "    if row['emotional_pain_keywords']:\n",
    "        topics.append('Emotional Pain')\n",
    "    \n",
    "    for i in range(len(topics)):\n",
    "        for j in range(i + 1, len(topics)):\n",
    "            if G.has_edge(topics[i], topics[j]):\n",
    "                G[topics[i]][topics[j]]['weight'] += 1\n",
    "            else:\n",
    "                G.add_edge(topics[i], topics[j], weight=1)\n",
    "\n",
    "# Draw the graph\n",
    "pos = nx.spring_layout(G, k=1.5)  # Adjust layout for better spacing\n",
    "weights = [G[u][v]['weight'] * 2 for u, v in G.edges()]  # Scale up edge thickness for visibility\n",
    "\n",
    "# Draw nodes, edges, and labels\n",
    "# Draw the graph with adjustments for label and node size\n",
    "nx.draw(G, pos, with_labels=True, node_size=4000, node_color='skyblue', font_size=16, font_weight='bold', width=weights)\n",
    "nx.draw_networkx_edge_labels(G, pos, edge_labels={(u, v): G[u][v]['weight'] for u, v in G.edges()}, font_size=10)\n",
    "\n",
    "\n",
    "plt.title('Topic Network Graph')\n",
    "plt.show()\n"
   ]
  },
  {
   "cell_type": "code",
   "execution_count": 53,
   "metadata": {},
   "outputs": [
    {
     "name": "stdout",
     "output_type": "stream",
     "text": [
      "Sample tweets for depressive topic 3:\n",
      "                                                                                                                  Worky Worky Work. OVER. \n",
      "                                                                i am sittn here in my rainy hometown, while my sister traveled to tunesia \n",
      "I'm off to get things ready for the bbq +cocktails tonight...shall be on prob at around 9.30  kisskiss to you all!! Have a lovely eve xxxx\n",
      "               And oh fucksticks, it's fathers day tomorrow isn't it =\\ Titty-wanking-shit-potatoes. Can you tell I might have forgotten? \n",
      "                                                                              getting ready for work.. dont wanna go  just kill me now aha\n",
      "                                                     Not feeling well today...horrible headache...feels like tension...in bed, laying low \n",
      "                                                                        Had a dead good day. Hope the weather turns out the same tomorrow \n",
      "                                                                      has training tomorrow. I don't wanna go through the majorr traffic. \n",
      "                                                                                                                           is dead tired. \n",
      "                                                              Time to say Goobye..Last day in Finland.Tomorrow its home to rainy Ireland  \n"
     ]
    },
    {
     "name": "stderr",
     "output_type": "stream",
     "text": [
      "C:\\Users\\shaun\\AppData\\Local\\Temp\\ipykernel_18452\\1021579700.py:9: SettingWithCopyWarning: \n",
      "A value is trying to be set on a copy of a slice from a DataFrame.\n",
      "Try using .loc[row_indexer,col_indexer] = value instead\n",
      "\n",
      "See the caveats in the documentation: https://pandas.pydata.org/pandas-docs/stable/user_guide/indexing.html#returning-a-view-versus-a-copy\n",
      "  depressive_topic_3_tweets['self_harm_keywords'] = depressive_topic_3_tweets['cleaned_text'].apply(lambda x: any([k in x for k in self_harm_keywords]))\n",
      "C:\\Users\\shaun\\AppData\\Local\\Temp\\ipykernel_18452\\1021579700.py:12: SettingWithCopyWarning: \n",
      "A value is trying to be set on a copy of a slice from a DataFrame.\n",
      "Try using .loc[row_indexer,col_indexer] = value instead\n",
      "\n",
      "See the caveats in the documentation: https://pandas.pydata.org/pandas-docs/stable/user_guide/indexing.html#returning-a-view-versus-a-copy\n",
      "  depressive_topic_3_tweets['emotional_pain_keywords'] = depressive_topic_3_tweets['cleaned_text'].apply(lambda x: any([k in x for k in emotional_pain_keywords]))\n"
     ]
    },
    {
     "name": "stdout",
     "output_type": "stream",
     "text": [
      "Number of depressive tweets with self-harm keywords in topic 3: 1656\n",
      "Number of total depressive tweets in topic 3: 12135\n",
      "Percentage of depressive tweets with self-harm keywords in topic 3: 13.646477132262053\n",
      "Number of depressive tweets with emotional pain keywords in topic 3: 1185\n",
      "Number of total depressive tweets in topic 3: 12135\n",
      "Percentage of depressive tweets with emotional pain keywords in topic 3: 9.765142150803461\n"
     ]
    }
   ],
   "source": [
    "# Filter tweets that belong to topic 3 for depressive tweets\n",
    "depressive_topic_3_tweets = depressive_tweets[depressive_tweets['dominant_topic'] == 3]\n",
    "\n",
    "# Display some sample tweets\n",
    "print(\"Sample tweets for depressive topic 3:\")\n",
    "print(depressive_topic_3_tweets['text'].sample(10).to_string(index=False))\n",
    "\n",
    "# Calculate the number of depressive tweets with self-harm keywords in topic 3\n",
    "depressive_topic_3_tweets['self_harm_keywords'] = depressive_topic_3_tweets['cleaned_text'].apply(lambda x: any([k in x for k in self_harm_keywords]))\n",
    "\n",
    "# Calculate the number of depressive tweets with emotional pain keywords in topic 3\n",
    "depressive_topic_3_tweets['emotional_pain_keywords'] = depressive_topic_3_tweets['cleaned_text'].apply(lambda x: any([k in x for k in emotional_pain_keywords]))\n",
    "\n",
    "# Print the counts and percentages\n",
    "print('Number of depressive tweets with self-harm keywords in topic 3:', len(depressive_topic_3_tweets[depressive_topic_3_tweets['self_harm_keywords'] == True]))\n",
    "print('Number of total depressive tweets in topic 3:', len(depressive_topic_3_tweets))\n",
    "print('Percentage of depressive tweets with self-harm keywords in topic 3:', (len(depressive_topic_3_tweets[depressive_topic_3_tweets['self_harm_keywords'] == True]) / len(depressive_topic_3_tweets)) * 100)\n",
    "\n",
    "print('Number of depressive tweets with emotional pain keywords in topic 3:', len(depressive_topic_3_tweets[depressive_topic_3_tweets['emotional_pain_keywords'] == True]))\n",
    "print('Number of total depressive tweets in topic 3:', len(depressive_topic_3_tweets))\n",
    "print('Percentage of depressive tweets with emotional pain keywords in topic 3:', (len(depressive_topic_3_tweets[depressive_topic_3_tweets['emotional_pain_keywords'] == True]) / len(depressive_topic_3_tweets)) * 100)"
   ]
  },
  {
   "cell_type": "code",
   "execution_count": 56,
   "metadata": {},
   "outputs": [
    {
     "name": "stdout",
     "output_type": "stream",
     "text": [
      "Proportion of depressive tweets mentioning economic keywords that also mention work fatigue: 25.20%\n",
      "Proportion of depressive tweets mentioning economic keywords that also mention emotional pain: 19.13%\n",
      "Proportion of depressive tweets mentioning economic keywords that also mention self harm ideation: 23.87%\n"
     ]
    },
    {
     "name": "stderr",
     "output_type": "stream",
     "text": [
      "C:\\Users\\shaun\\AppData\\Local\\Temp\\ipykernel_18452\\2707824225.py:2: SettingWithCopyWarning: \n",
      "A value is trying to be set on a copy of a slice from a DataFrame.\n",
      "Try using .loc[row_indexer,col_indexer] = value instead\n",
      "\n",
      "See the caveats in the documentation: https://pandas.pydata.org/pandas-docs/stable/user_guide/indexing.html#returning-a-view-versus-a-copy\n",
      "  depressive_tweets['work_fatigue'] = depressive_tweets['dominant_topic'] == 3\n",
      "C:\\Users\\shaun\\AppData\\Local\\Temp\\ipykernel_18452\\2707824225.py:3: SettingWithCopyWarning: \n",
      "A value is trying to be set on a copy of a slice from a DataFrame.\n",
      "Try using .loc[row_indexer,col_indexer] = value instead\n",
      "\n",
      "See the caveats in the documentation: https://pandas.pydata.org/pandas-docs/stable/user_guide/indexing.html#returning-a-view-versus-a-copy\n",
      "  depressive_tweets['emotional_pain'] = depressive_tweets['emotional_pain_keywords']\n",
      "C:\\Users\\shaun\\AppData\\Local\\Temp\\ipykernel_18452\\2707824225.py:4: SettingWithCopyWarning: \n",
      "A value is trying to be set on a copy of a slice from a DataFrame.\n",
      "Try using .loc[row_indexer,col_indexer] = value instead\n",
      "\n",
      "See the caveats in the documentation: https://pandas.pydata.org/pandas-docs/stable/user_guide/indexing.html#returning-a-view-versus-a-copy\n",
      "  depressive_tweets['self_harm_ideation'] = depressive_tweets['self_harm_keywords']\n"
     ]
    }
   ],
   "source": [
    "# Create binary indicators for the presence of each stressor\n",
    "depressive_tweets['work_fatigue'] = depressive_tweets['dominant_topic'] == 3\n",
    "depressive_tweets['emotional_pain'] = depressive_tweets['emotional_pain_keywords']\n",
    "depressive_tweets['self_harm_ideation'] = depressive_tweets['self_harm_keywords']\n",
    "\n",
    "# Create contingency tables\n",
    "contingency_tables = {}\n",
    "stressors = ['work_fatigue', 'emotional_pain', 'self_harm_ideation']\n",
    "\n",
    "for stressor in stressors:\n",
    "    contingency_tables[stressor] = pd.crosstab(depressive_tweets['economic_keywords'], depressive_tweets[stressor])\n",
    "\n",
    "# Calculate co-occurrence rates\n",
    "co_occurrence_rates = {}\n",
    "\n",
    "for stressor in stressors:\n",
    "    economic_and_stressor = contingency_tables[stressor].loc[True, True]\n",
    "    total_economic = contingency_tables[stressor].loc[True].sum()\n",
    "    co_occurrence_rates[stressor] = economic_and_stressor / total_economic\n",
    "\n",
    "# Print the results\n",
    "for stressor, rate in co_occurrence_rates.items():\n",
    "    print(f\"Proportion of depressive tweets mentioning economic keywords that also mention {stressor.replace('_', ' ')}: {rate:.2%}\")"
   ]
  },
  {
   "cell_type": "code",
   "execution_count": 57,
   "metadata": {},
   "outputs": [
    {
     "name": "stdout",
     "output_type": "stream",
     "text": [
      "Chi-square test results for work fatigue:\n",
      "Chi-square statistic: 0.007960220488792597\n",
      "P-value: 0.9289070172211349\n",
      "Degrees of freedom: 1\n",
      "Expected frequencies: \n",
      "[[35272.09977694 11796.90022306]\n",
      " [ 1010.90022306   338.09977694]]\n",
      "\n",
      "Odds ratio for work fatigue: 1.0077307622663514\n",
      "\n",
      "Chi-square test results for emotional pain:\n",
      "Chi-square statistic: 10.276486597283535\n",
      "P-value: 0.0013473626924537443\n",
      "Degrees of freedom: 1\n",
      "Expected frequencies: \n",
      "[[39567.00749721  7501.99250279]\n",
      " [ 1133.99250279   215.00749721]]\n",
      "\n",
      "Odds ratio for emotional pain: 1.2557962753673642\n",
      "\n",
      "Chi-square test results for self harm ideation:\n",
      "Chi-square statistic: 37.29590244045821\n",
      "P-value: 1.0149763705962317e-09\n",
      "Degrees of freedom: 1\n",
      "Expected frequencies: \n",
      "[[38789.29672849  8279.70327151]\n",
      " [ 1111.70327151   237.29672849]]\n",
      "\n",
      "Odds ratio for self harm ideation: 1.487290145925776\n",
      "\n"
     ]
    }
   ],
   "source": [
    "from scipy.stats import chi2_contingency\n",
    "\n",
    "# Initialize a dictionary to store the results\n",
    "chi2_results = {}\n",
    "odds_ratios = {}\n",
    "\n",
    "# Perform chi-square tests and compute odds ratios for each stressor\n",
    "for stressor in stressors:\n",
    "    # Get the contingency table for the current stressor\n",
    "    table = contingency_tables[stressor]\n",
    "    \n",
    "    # Perform the chi-square test\n",
    "    chi2, p, dof, expected = chi2_contingency(table)\n",
    "    chi2_results[stressor] = {'chi2': chi2, 'p-value': p, 'dof': dof, 'expected': expected}\n",
    "    \n",
    "    # Calculate the odds of the stressor occurring in tweets with economic keywords\n",
    "    odds_with_economic = table.loc[True, True] / table.loc[True, False]\n",
    "    \n",
    "    # Calculate the odds of the stressor occurring in tweets without economic keywords\n",
    "    odds_without_economic = table.loc[False, True] / table.loc[False, False]\n",
    "    \n",
    "    # Calculate the odds ratio\n",
    "    odds_ratio = odds_with_economic / odds_without_economic\n",
    "    odds_ratios[stressor] = odds_ratio\n",
    "\n",
    "# Print the chi-square test results and odds ratios\n",
    "for stressor in stressors:\n",
    "    print(f\"Chi-square test results for {stressor.replace('_', ' ')}:\")\n",
    "    print(f\"Chi-square statistic: {chi2_results[stressor]['chi2']}\")\n",
    "    print(f\"P-value: {chi2_results[stressor]['p-value']}\")\n",
    "    print(f\"Degrees of freedom: {chi2_results[stressor]['dof']}\")\n",
    "    print(f\"Expected frequencies: \\n{chi2_results[stressor]['expected']}\\n\")\n",
    "    print(f\"Odds ratio for {stressor.replace('_', ' ')}: {odds_ratios[stressor]}\\n\")"
   ]
  },
  {
   "cell_type": "code",
   "execution_count": 58,
   "metadata": {},
   "outputs": [
    {
     "data": {
      "image/png": "[encoded data removed]",
      "text/plain": [
       "<Figure size 640x480 with 1 Axes>"
      ]
     },
     "metadata": {},
     "output_type": "display_data"
    }
   ],
   "source": [
    "# Add \"Economic Factors\" as a node\n",
    "G.add_node('Economic Factors')\n",
    "\n",
    "# Update edges based on co-occurrence in the same tweet\n",
    "for index, row in depressive_tweets.iterrows():\n",
    "    topics = []\n",
    "    if row['dominant_topic'] == 3:\n",
    "        topics.append('Work Fatigue')\n",
    "    if row['self_harm_keywords']:\n",
    "        topics.append('Self-Harm Ideation')\n",
    "    if row['emotional_pain_keywords']:\n",
    "        topics.append('Emotional Pain')\n",
    "    if row['economic_keywords']:\n",
    "        topics.append('Economic Factors')\n",
    "    \n",
    "    for i in range(len(topics)):\n",
    "        for j in range(i + 1, len(topics)):\n",
    "            if G.has_edge(topics[i], topics[j]):\n",
    "                G[topics[i]][topics[j]]['weight'] += 1\n",
    "            else:\n",
    "                G.add_edge(topics[i], topics[j], weight=1)\n",
    "\n",
    "# Draw the updated graph\n",
    "pos = nx.spring_layout(G, k=1.5)  # Adjust layout for better spacing\n",
    "weights = [G[u][v]['weight'] * 2 for u, v in G.edges()]  # Scale up edge thickness for visibility\n",
    "\n",
    "# Draw nodes, edges, and labels\n",
    "nx.draw(G, pos, with_labels=True, node_size=4000, node_color='skyblue', font_size=16, font_weight='bold', width=weights)\n",
    "nx.draw_networkx_edge_labels(G, pos, edge_labels={(u, v): G[u][v]['weight'] for u, v in G.edges()}, font_size=10)\n",
    "\n",
    "plt.title('Updated Topic Network Graph with Economic Factors')\n",
    "plt.show()"
   ]
  },
  {
   "cell_type": "code",
   "execution_count": 59,
   "metadata": {},
   "outputs": [
    {
     "name": "stdout",
     "output_type": "stream",
     "text": [
      "Pearson correlation coefficients:\n",
      "                    economic_keywords  work_fatigue  emotional_pain  \\\n",
      "economic_keywords            1.000000      0.000550        0.014740   \n",
      "work_fatigue                 0.000550      1.000000       -0.097534   \n",
      "emotional_pain               0.014740     -0.097534        1.000000   \n",
      "self_harm_ideation           0.027919     -0.059908        0.472093   \n",
      "\n",
      "                    self_harm_ideation  \n",
      "economic_keywords             0.027919  \n",
      "work_fatigue                 -0.059908  \n",
      "emotional_pain                0.472093  \n",
      "self_harm_ideation            1.000000  \n",
      "\n",
      "Spearman correlation coefficients:\n",
      "                    economic_keywords  work_fatigue  emotional_pain  \\\n",
      "economic_keywords            1.000000      0.000550        0.014740   \n",
      "work_fatigue                 0.000550      1.000000       -0.097534   \n",
      "emotional_pain               0.014740     -0.097534        1.000000   \n",
      "self_harm_ideation           0.027919     -0.059908        0.472093   \n",
      "\n",
      "                    self_harm_ideation  \n",
      "economic_keywords             0.027919  \n",
      "work_fatigue                 -0.059908  \n",
      "emotional_pain                0.472093  \n",
      "self_harm_ideation            1.000000  \n"
     ]
    }
   ],
   "source": [
    "# Calculate Pearson correlation coefficients\n",
    "pearson_corr = depressive_tweets[['economic_keywords', 'work_fatigue', 'emotional_pain', 'self_harm_ideation']].corr(method='pearson')\n",
    "print(\"Pearson correlation coefficients:\")\n",
    "print(pearson_corr)\n",
    "\n",
    "# Calculate Spearman correlation coefficients\n",
    "spearman_corr = depressive_tweets[['economic_keywords', 'work_fatigue', 'emotional_pain', 'self_harm_ideation']].corr(method='spearman')\n",
    "print(\"\\nSpearman correlation coefficients:\")\n",
    "print(spearman_corr)"
   ]
  }
 ],
 "metadata": {
  "kernelspec": {
   "display_name": "Python 3",
   "language": "python",
   "name": "python3"
  },
  "language_info": {
   "codemirror_mode": {
    "name": "ipython",
    "version": 3
   },
   "file_extension": ".py",
   "mimetype": "text/x-python",
   "name": "python",
   "nbconvert_exporter": "python",
   "pygments_lexer": "ipython3",
   "version": "3.12.7"
  }
 },
 "nbformat": 4,
 "nbformat_minor": 2
}
